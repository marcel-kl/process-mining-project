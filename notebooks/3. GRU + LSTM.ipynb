{
 "cells": [
  {
   "cell_type": "markdown",
   "metadata": {},
   "source": [
    "# Learning of Process Representations Using Recurrent Neural Networks"
   ]
  },
  {
   "cell_type": "code",
   "execution_count": 11,
   "metadata": {},
   "outputs": [],
   "source": [
    "# added more imports like tqdm, evaluation\n",
    "import numpy as np\n",
    "import pandas as pd\n",
    "\n",
    "from replearn.eventlog import EventLog\n",
    "\n",
    "from replearn.embedding_predict import EmbeddingPredict\n",
    "from replearn.autoencoder import AutoencoderRepresentation\n",
    "from replearn.doc2vec import Doc2VecRepresentation\n",
    "\n",
    "from replearn.clustering import Clustering\n",
    "from replearn.evaluation import Evaluation\n",
    "\n",
    "from tqdm import tqdm\n",
    "import os\n",
    "import re"
   ]
  },
  {
   "cell_type": "markdown",
   "metadata": {},
   "source": [
    "### General Parameters"
   ]
  },
  {
   "cell_type": "code",
   "execution_count": 12,
   "metadata": {},
   "outputs": [],
   "source": [
    "event_log_path = '../logs/'\n",
    "case_attributes = None # auto-detect attributes\n",
    "event_attributes = ['concept:name', 'user'] # use activity name and user\n",
    "true_cluster_label = 'cluster'\n",
    "\n",
    "n_epochs = 25         #[10, 25]\n",
    "n_batch_size = 64\n",
    "n_clusters = 5\n",
    "vector_size = 32      #[2, 3, 4, 8, 16, 32, 64, 128]\n",
    "\n",
    "clustering_method = \"agglomerative\" # [\"k_means\", \"agglomerative\"]"
   ]
  },
  {
   "cell_type": "markdown",
   "metadata": {},
   "source": [
    "## Load event log"
   ]
  },
  {
   "cell_type": "code",
   "execution_count": 13,
   "metadata": {},
   "outputs": [
    {
     "name": "stderr",
     "output_type": "stream",
     "text": [
      "100%|██████████████████████████████████████████████████████████████████████████| 11/11 [00:00<00:00, 3674.23eventlog/s]"
     ]
    },
    {
     "name": "stdout",
     "output_type": "stream",
     "text": [
      "dict_keys([0.0, 0.1, 0.2, 0.3, 0.4, 0.5, 0.6, 0.7, 0.8, 0.9, 1.0])\n",
      "First three: ['small_500_10_20_5_1_1-0.0-1.json.gz']\n"
     ]
    },
    {
     "name": "stderr",
     "output_type": "stream",
     "text": [
      "\n"
     ]
    }
   ],
   "source": [
    "# noise event logs\n",
    "event_logs = {}\n",
    "for i in range(11):\n",
    "    noise = i / 10.0\n",
    "    event_logs[noise] = []\n",
    "\n",
    "# prepare all event log files\n",
    "pattern = r'-(\\d+\\.\\d+)'\n",
    "for file in tqdm(os.listdir(event_log_path), unit='eventlog'):\n",
    "    if os.path.isfile(os.path.join(event_log_path, file)):\n",
    "        match = re.search(pattern, file)\n",
    "        if match:\n",
    "            noise = float(match.group(1))\n",
    "            event_logs[noise].append(file)\n",
    "            \n",
    "print(event_logs.keys())\n",
    "print(\"First three:\", event_logs[0.0][0:3])"
   ]
  },
  {
   "cell_type": "markdown",
   "metadata": {},
   "source": [
    "## Representation Learning"
   ]
  },
  {
   "cell_type": "code",
   "execution_count": 14,
   "metadata": {},
   "outputs": [],
   "source": [
    "# hyperparameters\n",
    "n_epochs = 10\n",
    "n_batch_size = 64\n",
    "n_clusters = 5\n",
    "\n",
    "vector_size = 32"
   ]
  },
  {
   "cell_type": "markdown",
   "metadata": {},
   "source": []
  },
  {
   "cell_type": "markdown",
   "metadata": {},
   "source": [
    "### GRU"
   ]
  },
  {
   "cell_type": "code",
   "execution_count": 15,
   "metadata": {},
   "outputs": [
    {
     "name": "stderr",
     "output_type": "stream",
     "text": [
      "  0%|                                                                                  | 0/11 [00:00<?, ?noise_level/s]\n",
      "  0%|                                                                                     | 0/1 [00:00<?, ?event_log/s]\u001b[A"
     ]
    },
    {
     "name": "stdout",
     "output_type": "stream",
     "text": [
      "Epoch 1/10\n",
      "8/8 [==============================] - 13s 33ms/step - loss: 21.0454 - dense_loss: 1.9218 - dense_1_loss: 1.9704 - dense_2_loss: 2.2668 - dense_3_loss: 1.9885 - dense_4_loss: 2.4064 - dense_5_loss: 2.0870 - dense_6_loss: 2.1081 - dense_7_loss: 1.9702 - dense_8_loss: 2.0483 - dense_9_loss: 2.2780 - dense_accuracy: 0.2500 - dense_1_accuracy: 0.2080 - dense_2_accuracy: 0.1560 - dense_3_accuracy: 0.2500 - dense_4_accuracy: 0.1720 - dense_5_accuracy: 0.2040 - dense_6_accuracy: 0.2700 - dense_7_accuracy: 0.1840 - dense_8_accuracy: 0.2060 - dense_9_accuracy: 0.1140\n",
      "Epoch 2/10\n",
      "8/8 [==============================] - 0s 24ms/step - loss: 16.3830 - dense_loss: 1.3598 - dense_1_loss: 1.5840 - dense_2_loss: 1.7275 - dense_3_loss: 1.7085 - dense_4_loss: 1.8213 - dense_5_loss: 1.5714 - dense_6_loss: 1.5275 - dense_7_loss: 1.6610 - dense_8_loss: 1.5327 - dense_9_loss: 1.8893 - dense_accuracy: 0.4660 - dense_1_accuracy: 0.3420 - dense_2_accuracy: 0.2600 - dense_3_accuracy: 0.2520 - dense_4_accuracy: 0.2020 - dense_5_accuracy: 0.3340 - dense_6_accuracy: 0.3600 - dense_7_accuracy: 0.2420 - dense_8_accuracy: 0.3620 - dense_9_accuracy: 0.2440\n",
      "Epoch 3/10\n",
      "8/8 [==============================] - 0s 21ms/step - loss: 13.6864 - dense_loss: 1.1016 - dense_1_loss: 1.3627 - dense_2_loss: 1.4486 - dense_3_loss: 1.4046 - dense_4_loss: 1.4690 - dense_5_loss: 1.3867 - dense_6_loss: 1.3029 - dense_7_loss: 1.3984 - dense_8_loss: 1.2899 - dense_9_loss: 1.5219 - dense_accuracy: 0.5140 - dense_1_accuracy: 0.3400 - dense_2_accuracy: 0.2480 - dense_3_accuracy: 0.2860 - dense_4_accuracy: 0.2680 - dense_5_accuracy: 0.2920 - dense_6_accuracy: 0.3900 - dense_7_accuracy: 0.3140 - dense_8_accuracy: 0.4120 - dense_9_accuracy: 0.2760\n",
      "Epoch 4/10\n",
      "8/8 [==============================] - 0s 21ms/step - loss: 13.1630 - dense_loss: 1.0604 - dense_1_loss: 1.3300 - dense_2_loss: 1.4303 - dense_3_loss: 1.3346 - dense_4_loss: 1.4172 - dense_5_loss: 1.3379 - dense_6_loss: 1.2524 - dense_7_loss: 1.3381 - dense_8_loss: 1.2084 - dense_9_loss: 1.4537 - dense_accuracy: 0.5040 - dense_1_accuracy: 0.3400 - dense_2_accuracy: 0.2520 - dense_3_accuracy: 0.3200 - dense_4_accuracy: 0.2620 - dense_5_accuracy: 0.3420 - dense_6_accuracy: 0.3700 - dense_7_accuracy: 0.3060 - dense_8_accuracy: 0.3540 - dense_9_accuracy: 0.2580\n",
      "Epoch 5/10\n",
      "8/8 [==============================] - 0s 28ms/step - loss: 13.0013 - dense_loss: 1.0617 - dense_1_loss: 1.3133 - dense_2_loss: 1.4120 - dense_3_loss: 1.3201 - dense_4_loss: 1.4079 - dense_5_loss: 1.3297 - dense_6_loss: 1.2409 - dense_7_loss: 1.3186 - dense_8_loss: 1.1740 - dense_9_loss: 1.4231 - dense_accuracy: 0.5080 - dense_1_accuracy: 0.3300 - dense_2_accuracy: 0.2320 - dense_3_accuracy: 0.3400 - dense_4_accuracy: 0.2440 - dense_5_accuracy: 0.3420 - dense_6_accuracy: 0.3860 - dense_7_accuracy: 0.3180 - dense_8_accuracy: 0.4100 - dense_9_accuracy: 0.2640\n",
      "Epoch 6/10\n",
      "8/8 [==============================] - 0s 25ms/step - loss: 12.8976 - dense_loss: 1.0554 - dense_1_loss: 1.3016 - dense_2_loss: 1.4042 - dense_3_loss: 1.3049 - dense_4_loss: 1.4038 - dense_5_loss: 1.3158 - dense_6_loss: 1.2346 - dense_7_loss: 1.3051 - dense_8_loss: 1.1660 - dense_9_loss: 1.4063 - dense_accuracy: 0.5140 - dense_1_accuracy: 0.3560 - dense_2_accuracy: 0.2820 - dense_3_accuracy: 0.3520 - dense_4_accuracy: 0.2760 - dense_5_accuracy: 0.3440 - dense_6_accuracy: 0.3880 - dense_7_accuracy: 0.3060 - dense_8_accuracy: 0.4240 - dense_9_accuracy: 0.2540\n",
      "Epoch 7/10\n",
      "8/8 [==============================] - 0s 21ms/step - loss: 12.8723 - dense_loss: 1.0408 - dense_1_loss: 1.3075 - dense_2_loss: 1.4011 - dense_3_loss: 1.3037 - dense_4_loss: 1.3979 - dense_5_loss: 1.3158 - dense_6_loss: 1.2340 - dense_7_loss: 1.3031 - dense_8_loss: 1.1600 - dense_9_loss: 1.4083 - dense_accuracy: 0.5160 - dense_1_accuracy: 0.3280 - dense_2_accuracy: 0.2440 - dense_3_accuracy: 0.3240 - dense_4_accuracy: 0.2560 - dense_5_accuracy: 0.3180 - dense_6_accuracy: 0.3780 - dense_7_accuracy: 0.3160 - dense_8_accuracy: 0.4100 - dense_9_accuracy: 0.2660\n",
      "Epoch 8/10\n",
      "8/8 [==============================] - 0s 19ms/step - loss: 12.9391 - dense_loss: 1.0499 - dense_1_loss: 1.3113 - dense_2_loss: 1.4068 - dense_3_loss: 1.2966 - dense_4_loss: 1.4057 - dense_5_loss: 1.3214 - dense_6_loss: 1.2411 - dense_7_loss: 1.3219 - dense_8_loss: 1.1704 - dense_9_loss: 1.4140 - dense_accuracy: 0.5020 - dense_1_accuracy: 0.3440 - dense_2_accuracy: 0.2660 - dense_3_accuracy: 0.3560 - dense_4_accuracy: 0.2500 - dense_5_accuracy: 0.3460 - dense_6_accuracy: 0.3680 - dense_7_accuracy: 0.3180 - dense_8_accuracy: 0.3620 - dense_9_accuracy: 0.2520\n",
      "Epoch 9/10\n",
      "8/8 [==============================] - 0s 21ms/step - loss: 12.8156 - dense_loss: 1.0445 - dense_1_loss: 1.3031 - dense_2_loss: 1.3950 - dense_3_loss: 1.2880 - dense_4_loss: 1.3931 - dense_5_loss: 1.3073 - dense_6_loss: 1.2247 - dense_7_loss: 1.3018 - dense_8_loss: 1.1556 - dense_9_loss: 1.4024 - dense_accuracy: 0.5060 - dense_1_accuracy: 0.3380 - dense_2_accuracy: 0.2840 - dense_3_accuracy: 0.3540 - dense_4_accuracy: 0.2540 - dense_5_accuracy: 0.3220 - dense_6_accuracy: 0.4120 - dense_7_accuracy: 0.3460 - dense_8_accuracy: 0.4240 - dense_9_accuracy: 0.2980\n",
      "Epoch 10/10\n",
      "8/8 [==============================] - 0s 22ms/step - loss: 12.7242 - dense_loss: 1.0365 - dense_1_loss: 1.2980 - dense_2_loss: 1.3821 - dense_3_loss: 1.2828 - dense_4_loss: 1.3837 - dense_5_loss: 1.2990 - dense_6_loss: 1.2118 - dense_7_loss: 1.2905 - dense_8_loss: 1.1495 - dense_9_loss: 1.3903 - dense_accuracy: 0.5140 - dense_1_accuracy: 0.3400 - dense_2_accuracy: 0.2940 - dense_3_accuracy: 0.3540 - dense_4_accuracy: 0.2980 - dense_5_accuracy: 0.3380 - dense_6_accuracy: 0.4460 - dense_7_accuracy: 0.3460 - dense_8_accuracy: 0.4300 - dense_9_accuracy: 0.2920\n",
      "16/16 [==============================] - 1s 7ms/step\n"
     ]
    },
    {
     "name": "stderr",
     "output_type": "stream",
     "text": [
      "\n",
      "100%|█████████████████████████████████████████████████████████████████████████████| 1/1 [00:19<00:00, 19.60s/event_log]\u001b[A\n",
      "  9%|██████▋                                                                   | 1/11 [00:19<03:16, 19.61s/noise_level]\n",
      "  0%|                                                                                     | 0/1 [00:00<?, ?event_log/s]\u001b[A"
     ]
    },
    {
     "name": "stdout",
     "output_type": "stream",
     "text": [
      "Epoch 1/10\n",
      "8/8 [==============================] - 14s 26ms/step - loss: 22.4676 - dense_10_loss: 2.2082 - dense_11_loss: 2.1416 - dense_12_loss: 2.4315 - dense_13_loss: 2.0254 - dense_14_loss: 2.6141 - dense_15_loss: 2.2236 - dense_16_loss: 2.2311 - dense_17_loss: 2.1939 - dense_18_loss: 2.1098 - dense_19_loss: 2.2883 - dense_10_accuracy: 0.1380 - dense_11_accuracy: 0.1680 - dense_12_accuracy: 0.1120 - dense_13_accuracy: 0.1740 - dense_14_accuracy: 0.1060 - dense_15_accuracy: 0.1800 - dense_16_accuracy: 0.2000 - dense_17_accuracy: 0.1240 - dense_18_accuracy: 0.2000 - dense_19_accuracy: 0.1440\n",
      "Epoch 2/10\n",
      "8/8 [==============================] - 0s 29ms/step - loss: 18.9534 - dense_10_loss: 1.7841 - dense_11_loss: 1.9165 - dense_12_loss: 2.0196 - dense_13_loss: 1.8186 - dense_14_loss: 2.1667 - dense_15_loss: 1.8779 - dense_16_loss: 1.7695 - dense_17_loss: 1.8387 - dense_18_loss: 1.7274 - dense_19_loss: 2.0345 - dense_10_accuracy: 0.2820 - dense_11_accuracy: 0.2520 - dense_12_accuracy: 0.1980 - dense_13_accuracy: 0.2460 - dense_14_accuracy: 0.1880 - dense_15_accuracy: 0.2840 - dense_16_accuracy: 0.3340 - dense_17_accuracy: 0.2700 - dense_18_accuracy: 0.3420 - dense_19_accuracy: 0.1820\n",
      "Epoch 3/10\n",
      "8/8 [==============================] - 0s 29ms/step - loss: 16.6859 - dense_10_loss: 1.5641 - dense_11_loss: 1.6842 - dense_12_loss: 1.7630 - dense_13_loss: 1.5870 - dense_14_loss: 1.8663 - dense_15_loss: 1.6836 - dense_16_loss: 1.5417 - dense_17_loss: 1.6714 - dense_18_loss: 1.4334 - dense_19_loss: 1.8911 - dense_10_accuracy: 0.4360 - dense_11_accuracy: 0.2880 - dense_12_accuracy: 0.2360 - dense_13_accuracy: 0.3120 - dense_14_accuracy: 0.2240 - dense_15_accuracy: 0.2780 - dense_16_accuracy: 0.3660 - dense_17_accuracy: 0.3160 - dense_18_accuracy: 0.3840 - dense_19_accuracy: 0.1920\n",
      "Epoch 4/10\n",
      "8/8 [==============================] - 0s 31ms/step - loss: 15.2114 - dense_10_loss: 1.3714 - dense_11_loss: 1.5384 - dense_12_loss: 1.5921 - dense_13_loss: 1.5144 - dense_14_loss: 1.6609 - dense_15_loss: 1.5055 - dense_16_loss: 1.4039 - dense_17_loss: 1.5147 - dense_18_loss: 1.3320 - dense_19_loss: 1.7781 - dense_10_accuracy: 0.4220 - dense_11_accuracy: 0.3040 - dense_12_accuracy: 0.2760 - dense_13_accuracy: 0.3460 - dense_14_accuracy: 0.2560 - dense_15_accuracy: 0.3020 - dense_16_accuracy: 0.3980 - dense_17_accuracy: 0.3400 - dense_18_accuracy: 0.4060 - dense_19_accuracy: 0.2460\n",
      "Epoch 5/10\n",
      "8/8 [==============================] - 0s 27ms/step - loss: 14.1025 - dense_10_loss: 1.2434 - dense_11_loss: 1.4457 - dense_12_loss: 1.4673 - dense_13_loss: 1.4310 - dense_14_loss: 1.5181 - dense_15_loss: 1.4061 - dense_16_loss: 1.3051 - dense_17_loss: 1.4005 - dense_18_loss: 1.2474 - dense_19_loss: 1.6378 - dense_10_accuracy: 0.4560 - dense_11_accuracy: 0.3400 - dense_12_accuracy: 0.2800 - dense_13_accuracy: 0.3300 - dense_14_accuracy: 0.2700 - dense_15_accuracy: 0.3200 - dense_16_accuracy: 0.3760 - dense_17_accuracy: 0.3440 - dense_18_accuracy: 0.4240 - dense_19_accuracy: 0.2680\n",
      "Epoch 6/10\n",
      "8/8 [==============================] - 0s 26ms/step - loss: 13.8110 - dense_10_loss: 1.1664 - dense_11_loss: 1.4044 - dense_12_loss: 1.4659 - dense_13_loss: 1.3887 - dense_14_loss: 1.5054 - dense_15_loss: 1.4138 - dense_16_loss: 1.2859 - dense_17_loss: 1.3876 - dense_18_loss: 1.2678 - dense_19_loss: 1.5250 - dense_10_accuracy: 0.4580 - dense_11_accuracy: 0.3420 - dense_12_accuracy: 0.2800 - dense_13_accuracy: 0.3360 - dense_14_accuracy: 0.2760 - dense_15_accuracy: 0.2840 - dense_16_accuracy: 0.3680 - dense_17_accuracy: 0.3280 - dense_18_accuracy: 0.4120 - dense_19_accuracy: 0.2820\n",
      "Epoch 7/10\n",
      "8/8 [==============================] - 0s 26ms/step - loss: 13.5150 - dense_10_loss: 1.1433 - dense_11_loss: 1.3895 - dense_12_loss: 1.4470 - dense_13_loss: 1.3666 - dense_14_loss: 1.4796 - dense_15_loss: 1.3746 - dense_16_loss: 1.2600 - dense_17_loss: 1.3569 - dense_18_loss: 1.2273 - dense_19_loss: 1.4703 - dense_10_accuracy: 0.4680 - dense_11_accuracy: 0.3460 - dense_12_accuracy: 0.2460 - dense_13_accuracy: 0.3580 - dense_14_accuracy: 0.2820 - dense_15_accuracy: 0.3300 - dense_16_accuracy: 0.3920 - dense_17_accuracy: 0.3480 - dense_18_accuracy: 0.4340 - dense_19_accuracy: 0.2900\n",
      "Epoch 8/10\n",
      "8/8 [==============================] - 0s 24ms/step - loss: 13.3762 - dense_10_loss: 1.1218 - dense_11_loss: 1.3718 - dense_12_loss: 1.4395 - dense_13_loss: 1.3472 - dense_14_loss: 1.4698 - dense_15_loss: 1.3712 - dense_16_loss: 1.2468 - dense_17_loss: 1.3545 - dense_18_loss: 1.2104 - dense_19_loss: 1.4433 - dense_10_accuracy: 0.4440 - dense_11_accuracy: 0.3380 - dense_12_accuracy: 0.2520 - dense_13_accuracy: 0.3500 - dense_14_accuracy: 0.2680 - dense_15_accuracy: 0.3320 - dense_16_accuracy: 0.4080 - dense_17_accuracy: 0.3580 - dense_18_accuracy: 0.4160 - dense_19_accuracy: 0.2540\n",
      "Epoch 9/10\n",
      "8/8 [==============================] - 0s 24ms/step - loss: 13.2613 - dense_10_loss: 1.1094 - dense_11_loss: 1.3569 - dense_12_loss: 1.4271 - dense_13_loss: 1.3375 - dense_14_loss: 1.4612 - dense_15_loss: 1.3618 - dense_16_loss: 1.2355 - dense_17_loss: 1.3459 - dense_18_loss: 1.1974 - dense_19_loss: 1.4285 - dense_10_accuracy: 0.4520 - dense_11_accuracy: 0.3560 - dense_12_accuracy: 0.3060 - dense_13_accuracy: 0.3680 - dense_14_accuracy: 0.2760 - dense_15_accuracy: 0.3380 - dense_16_accuracy: 0.3940 - dense_17_accuracy: 0.3440 - dense_18_accuracy: 0.4240 - dense_19_accuracy: 0.2820\n",
      "Epoch 10/10\n",
      "8/8 [==============================] - 0s 26ms/step - loss: 13.2067 - dense_10_loss: 1.1019 - dense_11_loss: 1.3544 - dense_12_loss: 1.4181 - dense_13_loss: 1.3333 - dense_14_loss: 1.4528 - dense_15_loss: 1.3538 - dense_16_loss: 1.2397 - dense_17_loss: 1.3344 - dense_18_loss: 1.1976 - dense_19_loss: 1.4207 - dense_10_accuracy: 0.4540 - dense_11_accuracy: 0.3480 - dense_12_accuracy: 0.2820 - dense_13_accuracy: 0.3420 - dense_14_accuracy: 0.2820 - dense_15_accuracy: 0.3440 - dense_16_accuracy: 0.4020 - dense_17_accuracy: 0.3560 - dense_18_accuracy: 0.4380 - dense_19_accuracy: 0.2820\n",
      "16/16 [==============================] - 2s 6ms/step\n"
     ]
    },
    {
     "name": "stderr",
     "output_type": "stream",
     "text": [
      "\n",
      "100%|█████████████████████████████████████████████████████████████████████████████| 1/1 [00:19<00:00, 19.68s/event_log]\u001b[A\n",
      " 18%|█████████████▍                                                            | 2/11 [00:39<02:56, 19.66s/noise_level]\n",
      "  0%|                                                                                     | 0/1 [00:00<?, ?event_log/s]\u001b[A"
     ]
    },
    {
     "name": "stdout",
     "output_type": "stream",
     "text": [
      "Epoch 1/10\n",
      "8/8 [==============================] - 13s 21ms/step - loss: 23.1277 - dense_20_loss: 2.1451 - dense_21_loss: 2.0452 - dense_22_loss: 2.4927 - dense_23_loss: 2.1898 - dense_24_loss: 2.5553 - dense_25_loss: 2.3208 - dense_26_loss: 2.4807 - dense_27_loss: 2.2496 - dense_28_loss: 2.2308 - dense_29_loss: 2.4177 - dense_20_accuracy: 0.1840 - dense_21_accuracy: 0.1720 - dense_22_accuracy: 0.1160 - dense_23_accuracy: 0.1560 - dense_24_accuracy: 0.0740 - dense_25_accuracy: 0.1160 - dense_26_accuracy: 0.2020 - dense_27_accuracy: 0.2260 - dense_28_accuracy: 0.1520 - dense_29_accuracy: 0.1920\n",
      "Epoch 2/10\n",
      "8/8 [==============================] - 0s 22ms/step - loss: 18.9864 - dense_20_loss: 1.7114 - dense_21_loss: 1.7646 - dense_22_loss: 2.0290 - dense_23_loss: 1.8779 - dense_24_loss: 2.0981 - dense_25_loss: 1.9327 - dense_26_loss: 1.9368 - dense_27_loss: 1.8646 - dense_28_loss: 1.7124 - dense_29_loss: 2.0589 - dense_20_accuracy: 0.3680 - dense_21_accuracy: 0.3160 - dense_22_accuracy: 0.2180 - dense_23_accuracy: 0.2840 - dense_24_accuracy: 0.1820 - dense_25_accuracy: 0.2500 - dense_26_accuracy: 0.2880 - dense_27_accuracy: 0.3140 - dense_28_accuracy: 0.3900 - dense_29_accuracy: 0.2120\n",
      "Epoch 3/10\n",
      "8/8 [==============================] - 0s 21ms/step - loss: 15.4937 - dense_20_loss: 1.3465 - dense_21_loss: 1.5397 - dense_22_loss: 1.6238 - dense_23_loss: 1.5770 - dense_24_loss: 1.6908 - dense_25_loss: 1.5743 - dense_26_loss: 1.4707 - dense_27_loss: 1.6178 - dense_28_loss: 1.3223 - dense_29_loss: 1.7309 - dense_20_accuracy: 0.5120 - dense_21_accuracy: 0.3500 - dense_22_accuracy: 0.2640 - dense_23_accuracy: 0.3480 - dense_24_accuracy: 0.2700 - dense_25_accuracy: 0.2980 - dense_26_accuracy: 0.3780 - dense_27_accuracy: 0.3480 - dense_28_accuracy: 0.4580 - dense_29_accuracy: 0.2780\n",
      "Epoch 4/10\n",
      "8/8 [==============================] - 0s 22ms/step - loss: 14.1889 - dense_20_loss: 1.1777 - dense_21_loss: 1.4409 - dense_22_loss: 1.5400 - dense_23_loss: 1.4328 - dense_24_loss: 1.5292 - dense_25_loss: 1.4387 - dense_26_loss: 1.3750 - dense_27_loss: 1.4680 - dense_28_loss: 1.2470 - dense_29_loss: 1.5396 - dense_20_accuracy: 0.5120 - dense_21_accuracy: 0.3440 - dense_22_accuracy: 0.2480 - dense_23_accuracy: 0.3480 - dense_24_accuracy: 0.2480 - dense_25_accuracy: 0.3080 - dense_26_accuracy: 0.3480 - dense_27_accuracy: 0.3500 - dense_28_accuracy: 0.4460 - dense_29_accuracy: 0.2820\n",
      "Epoch 5/10\n",
      "8/8 [==============================] - 0s 21ms/step - loss: 13.9504 - dense_20_loss: 1.1160 - dense_21_loss: 1.4107 - dense_22_loss: 1.5056 - dense_23_loss: 1.4224 - dense_24_loss: 1.5233 - dense_25_loss: 1.4257 - dense_26_loss: 1.3522 - dense_27_loss: 1.4406 - dense_28_loss: 1.2459 - dense_29_loss: 1.5080 - dense_20_accuracy: 0.5120 - dense_21_accuracy: 0.3300 - dense_22_accuracy: 0.2480 - dense_23_accuracy: 0.3160 - dense_24_accuracy: 0.2180 - dense_25_accuracy: 0.3160 - dense_26_accuracy: 0.3460 - dense_27_accuracy: 0.3540 - dense_28_accuracy: 0.4520 - dense_29_accuracy: 0.2680\n",
      "Epoch 6/10\n",
      "8/8 [==============================] - 0s 22ms/step - loss: 13.8362 - dense_20_loss: 1.1051 - dense_21_loss: 1.3930 - dense_22_loss: 1.4843 - dense_23_loss: 1.4181 - dense_24_loss: 1.5043 - dense_25_loss: 1.4145 - dense_26_loss: 1.3438 - dense_27_loss: 1.4351 - dense_28_loss: 1.2423 - dense_29_loss: 1.4956 - dense_20_accuracy: 0.5100 - dense_21_accuracy: 0.3340 - dense_22_accuracy: 0.2360 - dense_23_accuracy: 0.3260 - dense_24_accuracy: 0.2640 - dense_25_accuracy: 0.3360 - dense_26_accuracy: 0.3300 - dense_27_accuracy: 0.3580 - dense_28_accuracy: 0.4420 - dense_29_accuracy: 0.2400\n",
      "Epoch 7/10\n",
      "8/8 [==============================] - 0s 23ms/step - loss: 13.7099 - dense_20_loss: 1.0871 - dense_21_loss: 1.3744 - dense_22_loss: 1.4764 - dense_23_loss: 1.3994 - dense_24_loss: 1.5010 - dense_25_loss: 1.4059 - dense_26_loss: 1.3328 - dense_27_loss: 1.4251 - dense_28_loss: 1.2254 - dense_29_loss: 1.4823 - dense_20_accuracy: 0.5120 - dense_21_accuracy: 0.3560 - dense_22_accuracy: 0.2860 - dense_23_accuracy: 0.3360 - dense_24_accuracy: 0.2780 - dense_25_accuracy: 0.3360 - dense_26_accuracy: 0.3760 - dense_27_accuracy: 0.3440 - dense_28_accuracy: 0.4640 - dense_29_accuracy: 0.2820\n",
      "Epoch 8/10\n",
      "8/8 [==============================] - 0s 20ms/step - loss: 13.6566 - dense_20_loss: 1.0866 - dense_21_loss: 1.3685 - dense_22_loss: 1.4696 - dense_23_loss: 1.3924 - dense_24_loss: 1.4984 - dense_25_loss: 1.4000 - dense_26_loss: 1.3206 - dense_27_loss: 1.4176 - dense_28_loss: 1.2288 - dense_29_loss: 1.4739 - dense_20_accuracy: 0.5140 - dense_21_accuracy: 0.3520 - dense_22_accuracy: 0.2640 - dense_23_accuracy: 0.3060 - dense_24_accuracy: 0.2400 - dense_25_accuracy: 0.3180 - dense_26_accuracy: 0.3380 - dense_27_accuracy: 0.3420 - dense_28_accuracy: 0.4380 - dense_29_accuracy: 0.2480\n",
      "Epoch 9/10\n",
      "8/8 [==============================] - 0s 24ms/step - loss: 13.5608 - dense_20_loss: 1.0808 - dense_21_loss: 1.3707 - dense_22_loss: 1.4532 - dense_23_loss: 1.3837 - dense_24_loss: 1.4810 - dense_25_loss: 1.3906 - dense_26_loss: 1.3097 - dense_27_loss: 1.4193 - dense_28_loss: 1.2135 - dense_29_loss: 1.4583 - dense_20_accuracy: 0.5120 - dense_21_accuracy: 0.3580 - dense_22_accuracy: 0.2840 - dense_23_accuracy: 0.3460 - dense_24_accuracy: 0.2720 - dense_25_accuracy: 0.3340 - dense_26_accuracy: 0.3800 - dense_27_accuracy: 0.3240 - dense_28_accuracy: 0.4540 - dense_29_accuracy: 0.2860\n",
      "Epoch 10/10\n",
      "8/8 [==============================] - 0s 17ms/step - loss: 13.5096 - dense_20_loss: 1.0761 - dense_21_loss: 1.3651 - dense_22_loss: 1.4513 - dense_23_loss: 1.3809 - dense_24_loss: 1.4818 - dense_25_loss: 1.3869 - dense_26_loss: 1.3013 - dense_27_loss: 1.4181 - dense_28_loss: 1.2002 - dense_29_loss: 1.4478 - dense_20_accuracy: 0.5120 - dense_21_accuracy: 0.3580 - dense_22_accuracy: 0.2940 - dense_23_accuracy: 0.3340 - dense_24_accuracy: 0.2720 - dense_25_accuracy: 0.3560 - dense_26_accuracy: 0.3880 - dense_27_accuracy: 0.3560 - dense_28_accuracy: 0.4580 - dense_29_accuracy: 0.2920\n",
      "16/16 [==============================] - 2s 6ms/step\n"
     ]
    },
    {
     "name": "stderr",
     "output_type": "stream",
     "text": [
      "\n",
      "100%|█████████████████████████████████████████████████████████████████████████████| 1/1 [00:18<00:00, 18.78s/event_log]\u001b[A\n",
      " 27%|████████████████████▏                                                     | 3/11 [00:58<02:34, 19.27s/noise_level]\n",
      "  0%|                                                                                     | 0/1 [00:00<?, ?event_log/s]\u001b[A"
     ]
    },
    {
     "name": "stdout",
     "output_type": "stream",
     "text": [
      "Epoch 1/10\n",
      "8/8 [==============================] - 13s 27ms/step - loss: 23.6796 - dense_30_loss: 2.2770 - dense_31_loss: 2.3161 - dense_32_loss: 2.5059 - dense_33_loss: 2.1688 - dense_34_loss: 2.7503 - dense_35_loss: 2.3825 - dense_36_loss: 2.5149 - dense_37_loss: 2.1934 - dense_38_loss: 2.2383 - dense_39_loss: 2.3325 - dense_30_accuracy: 0.1840 - dense_31_accuracy: 0.1500 - dense_32_accuracy: 0.0820 - dense_33_accuracy: 0.2460 - dense_34_accuracy: 0.0700 - dense_35_accuracy: 0.1220 - dense_36_accuracy: 0.1260 - dense_37_accuracy: 0.1920 - dense_38_accuracy: 0.1400 - dense_39_accuracy: 0.1120\n",
      "Epoch 2/10\n",
      "8/8 [==============================] - 0s 27ms/step - loss: 19.7707 - dense_30_loss: 1.7743 - dense_31_loss: 1.9853 - dense_32_loss: 2.0918 - dense_33_loss: 1.8727 - dense_34_loss: 2.3132 - dense_35_loss: 2.0552 - dense_36_loss: 1.9450 - dense_37_loss: 1.9320 - dense_38_loss: 1.8094 - dense_39_loss: 1.9918 - dense_30_accuracy: 0.3880 - dense_31_accuracy: 0.2440 - dense_32_accuracy: 0.2280 - dense_33_accuracy: 0.2800 - dense_34_accuracy: 0.1720 - dense_35_accuracy: 0.2120 - dense_36_accuracy: 0.3440 - dense_37_accuracy: 0.2760 - dense_38_accuracy: 0.3340 - dense_39_accuracy: 0.2200\n",
      "Epoch 3/10\n",
      "8/8 [==============================] - 0s 24ms/step - loss: 16.0231 - dense_30_loss: 1.3187 - dense_31_loss: 1.5999 - dense_32_loss: 1.6792 - dense_33_loss: 1.6694 - dense_34_loss: 1.8567 - dense_35_loss: 1.6731 - dense_36_loss: 1.5435 - dense_37_loss: 1.6353 - dense_38_loss: 1.4491 - dense_39_loss: 1.5983 - dense_30_accuracy: 0.4480 - dense_31_accuracy: 0.3020 - dense_32_accuracy: 0.2240 - dense_33_accuracy: 0.2940 - dense_34_accuracy: 0.2160 - dense_35_accuracy: 0.2500 - dense_36_accuracy: 0.3780 - dense_37_accuracy: 0.3240 - dense_38_accuracy: 0.4020 - dense_39_accuracy: 0.2560\n",
      "Epoch 4/10\n",
      "8/8 [==============================] - 0s 27ms/step - loss: 14.8693 - dense_30_loss: 1.2409 - dense_31_loss: 1.4981 - dense_32_loss: 1.6038 - dense_33_loss: 1.5186 - dense_34_loss: 1.6730 - dense_35_loss: 1.5216 - dense_36_loss: 1.4358 - dense_37_loss: 1.4760 - dense_38_loss: 1.3823 - dense_39_loss: 1.5192 - dense_30_accuracy: 0.4640 - dense_31_accuracy: 0.2920 - dense_32_accuracy: 0.2360 - dense_33_accuracy: 0.3440 - dense_34_accuracy: 0.2420 - dense_35_accuracy: 0.3040 - dense_36_accuracy: 0.3500 - dense_37_accuracy: 0.3220 - dense_38_accuracy: 0.4080 - dense_39_accuracy: 0.2580\n",
      "Epoch 5/10\n",
      "8/8 [==============================] - 0s 23ms/step - loss: 14.5552 - dense_30_loss: 1.2116 - dense_31_loss: 1.4663 - dense_32_loss: 1.5833 - dense_33_loss: 1.4536 - dense_34_loss: 1.6184 - dense_35_loss: 1.4816 - dense_36_loss: 1.4144 - dense_37_loss: 1.4418 - dense_38_loss: 1.3668 - dense_39_loss: 1.5174 - dense_30_accuracy: 0.4760 - dense_31_accuracy: 0.2940 - dense_32_accuracy: 0.2420 - dense_33_accuracy: 0.3160 - dense_34_accuracy: 0.2500 - dense_35_accuracy: 0.2960 - dense_36_accuracy: 0.3800 - dense_37_accuracy: 0.3320 - dense_38_accuracy: 0.3920 - dense_39_accuracy: 0.2120\n",
      "Epoch 6/10\n",
      "8/8 [==============================] - 0s 27ms/step - loss: 14.3870 - dense_30_loss: 1.1882 - dense_31_loss: 1.4810 - dense_32_loss: 1.5751 - dense_33_loss: 1.4232 - dense_34_loss: 1.5998 - dense_35_loss: 1.4620 - dense_36_loss: 1.3940 - dense_37_loss: 1.4203 - dense_38_loss: 1.3453 - dense_39_loss: 1.4981 - dense_30_accuracy: 0.4720 - dense_31_accuracy: 0.2660 - dense_32_accuracy: 0.2520 - dense_33_accuracy: 0.3320 - dense_34_accuracy: 0.2600 - dense_35_accuracy: 0.2960 - dense_36_accuracy: 0.3940 - dense_37_accuracy: 0.3340 - dense_38_accuracy: 0.4120 - dense_39_accuracy: 0.2700\n",
      "Epoch 7/10\n",
      "8/8 [==============================] - 0s 23ms/step - loss: 14.2810 - dense_30_loss: 1.1899 - dense_31_loss: 1.4458 - dense_32_loss: 1.5634 - dense_33_loss: 1.4156 - dense_34_loss: 1.5786 - dense_35_loss: 1.4566 - dense_36_loss: 1.3853 - dense_37_loss: 1.4065 - dense_38_loss: 1.3559 - dense_39_loss: 1.4835 - dense_30_accuracy: 0.4760 - dense_31_accuracy: 0.3100 - dense_32_accuracy: 0.2500 - dense_33_accuracy: 0.3160 - dense_34_accuracy: 0.2800 - dense_35_accuracy: 0.3260 - dense_36_accuracy: 0.3660 - dense_37_accuracy: 0.3160 - dense_38_accuracy: 0.4040 - dense_39_accuracy: 0.2620\n",
      "Epoch 8/10\n",
      "8/8 [==============================] - 0s 26ms/step - loss: 14.2561 - dense_30_loss: 1.1905 - dense_31_loss: 1.4458 - dense_32_loss: 1.5559 - dense_33_loss: 1.4085 - dense_34_loss: 1.5871 - dense_35_loss: 1.4523 - dense_36_loss: 1.3824 - dense_37_loss: 1.4044 - dense_38_loss: 1.3489 - dense_39_loss: 1.4801 - dense_30_accuracy: 0.4640 - dense_31_accuracy: 0.3020 - dense_32_accuracy: 0.2700 - dense_33_accuracy: 0.3300 - dense_34_accuracy: 0.2380 - dense_35_accuracy: 0.3280 - dense_36_accuracy: 0.3940 - dense_37_accuracy: 0.3360 - dense_38_accuracy: 0.3900 - dense_39_accuracy: 0.2700\n",
      "Epoch 9/10\n",
      "8/8 [==============================] - 0s 25ms/step - loss: 14.2396 - dense_30_loss: 1.1876 - dense_31_loss: 1.4558 - dense_32_loss: 1.5542 - dense_33_loss: 1.3965 - dense_34_loss: 1.5757 - dense_35_loss: 1.4568 - dense_36_loss: 1.3860 - dense_37_loss: 1.4005 - dense_38_loss: 1.3556 - dense_39_loss: 1.4709 - dense_30_accuracy: 0.4660 - dense_31_accuracy: 0.2640 - dense_32_accuracy: 0.2720 - dense_33_accuracy: 0.3360 - dense_34_accuracy: 0.2760 - dense_35_accuracy: 0.3340 - dense_36_accuracy: 0.3860 - dense_37_accuracy: 0.3480 - dense_38_accuracy: 0.3960 - dense_39_accuracy: 0.2920\n",
      "Epoch 10/10\n",
      "8/8 [==============================] - 0s 26ms/step - loss: 14.2376 - dense_30_loss: 1.1793 - dense_31_loss: 1.4471 - dense_32_loss: 1.5513 - dense_33_loss: 1.3977 - dense_34_loss: 1.5819 - dense_35_loss: 1.4545 - dense_36_loss: 1.3762 - dense_37_loss: 1.4086 - dense_38_loss: 1.3584 - dense_39_loss: 1.4825 - dense_30_accuracy: 0.4780 - dense_31_accuracy: 0.3120 - dense_32_accuracy: 0.2600 - dense_33_accuracy: 0.3060 - dense_34_accuracy: 0.2100 - dense_35_accuracy: 0.2940 - dense_36_accuracy: 0.3840 - dense_37_accuracy: 0.3160 - dense_38_accuracy: 0.4000 - dense_39_accuracy: 0.2460\n",
      "16/16 [==============================] - 1s 7ms/step\n"
     ]
    },
    {
     "name": "stderr",
     "output_type": "stream",
     "text": [
      "\n",
      "100%|█████████████████████████████████████████████████████████████████████████████| 1/1 [00:18<00:00, 18.62s/event_log]\u001b[A\n",
      " 36%|██████████████████████████▉                                               | 4/11 [01:16<02:13, 19.02s/noise_level]\n",
      "  0%|                                                                                     | 0/1 [00:00<?, ?event_log/s]\u001b[A"
     ]
    },
    {
     "name": "stdout",
     "output_type": "stream",
     "text": [
      "Epoch 1/10\n",
      "8/8 [==============================] - 13s 25ms/step - loss: 24.1175 - dense_40_loss: 2.4179 - dense_41_loss: 2.3558 - dense_42_loss: 2.4639 - dense_43_loss: 2.2128 - dense_44_loss: 2.8831 - dense_45_loss: 2.4456 - dense_46_loss: 2.3507 - dense_47_loss: 2.2952 - dense_48_loss: 2.2724 - dense_49_loss: 2.4201 - dense_40_accuracy: 0.1660 - dense_41_accuracy: 0.1540 - dense_42_accuracy: 0.1720 - dense_43_accuracy: 0.1300 - dense_44_accuracy: 0.1200 - dense_45_accuracy: 0.1860 - dense_46_accuracy: 0.2240 - dense_47_accuracy: 0.2400 - dense_48_accuracy: 0.1140 - dense_49_accuracy: 0.1580\n",
      "Epoch 2/10\n",
      "8/8 [==============================] - 0s 23ms/step - loss: 20.4791 - dense_40_loss: 1.9430 - dense_41_loss: 2.0135 - dense_42_loss: 2.1198 - dense_43_loss: 1.9186 - dense_44_loss: 2.4375 - dense_45_loss: 2.1334 - dense_46_loss: 1.9276 - dense_47_loss: 1.9588 - dense_48_loss: 1.9009 - dense_49_loss: 2.1260 - dense_40_accuracy: 0.3280 - dense_41_accuracy: 0.2260 - dense_42_accuracy: 0.2120 - dense_43_accuracy: 0.2840 - dense_44_accuracy: 0.1440 - dense_45_accuracy: 0.2140 - dense_46_accuracy: 0.2900 - dense_47_accuracy: 0.2900 - dense_48_accuracy: 0.2920 - dense_49_accuracy: 0.1720\n",
      "Epoch 3/10\n",
      "8/8 [==============================] - 0s 24ms/step - loss: 17.1671 - dense_40_loss: 1.5411 - dense_41_loss: 1.7542 - dense_42_loss: 1.7840 - dense_43_loss: 1.6758 - dense_44_loss: 2.0204 - dense_45_loss: 1.7390 - dense_46_loss: 1.5506 - dense_47_loss: 1.7019 - dense_48_loss: 1.5977 - dense_49_loss: 1.8025 - dense_40_accuracy: 0.4600 - dense_41_accuracy: 0.3080 - dense_42_accuracy: 0.2640 - dense_43_accuracy: 0.2980 - dense_44_accuracy: 0.2040 - dense_45_accuracy: 0.2520 - dense_46_accuracy: 0.3660 - dense_47_accuracy: 0.3160 - dense_48_accuracy: 0.3780 - dense_49_accuracy: 0.2500\n",
      "Epoch 4/10\n",
      "8/8 [==============================] - 0s 27ms/step - loss: 15.3352 - dense_40_loss: 1.3232 - dense_41_loss: 1.5709 - dense_42_loss: 1.6046 - dense_43_loss: 1.5083 - dense_44_loss: 1.7380 - dense_45_loss: 1.5625 - dense_46_loss: 1.4296 - dense_47_loss: 1.5400 - dense_48_loss: 1.4050 - dense_49_loss: 1.6532 - dense_40_accuracy: 0.4720 - dense_41_accuracy: 0.3040 - dense_42_accuracy: 0.2380 - dense_43_accuracy: 0.3400 - dense_44_accuracy: 0.2580 - dense_45_accuracy: 0.2920 - dense_46_accuracy: 0.3800 - dense_47_accuracy: 0.3140 - dense_48_accuracy: 0.3560 - dense_49_accuracy: 0.2260\n",
      "Epoch 5/10\n",
      "8/8 [==============================] - 0s 23ms/step - loss: 14.9316 - dense_40_loss: 1.2968 - dense_41_loss: 1.5194 - dense_42_loss: 1.5683 - dense_43_loss: 1.4770 - dense_44_loss: 1.6687 - dense_45_loss: 1.5242 - dense_46_loss: 1.4074 - dense_47_loss: 1.5015 - dense_48_loss: 1.3563 - dense_49_loss: 1.6120 - dense_40_accuracy: 0.4700 - dense_41_accuracy: 0.2860 - dense_42_accuracy: 0.2720 - dense_43_accuracy: 0.3180 - dense_44_accuracy: 0.2560 - dense_45_accuracy: 0.2900 - dense_46_accuracy: 0.3600 - dense_47_accuracy: 0.3180 - dense_48_accuracy: 0.3720 - dense_49_accuracy: 0.2580\n",
      "Epoch 6/10\n",
      "8/8 [==============================] - 0s 25ms/step - loss: 14.7548 - dense_40_loss: 1.2735 - dense_41_loss: 1.5047 - dense_42_loss: 1.5492 - dense_43_loss: 1.4511 - dense_44_loss: 1.6423 - dense_45_loss: 1.4993 - dense_46_loss: 1.3957 - dense_47_loss: 1.4948 - dense_48_loss: 1.3457 - dense_49_loss: 1.5985 - dense_40_accuracy: 0.4720 - dense_41_accuracy: 0.3040 - dense_42_accuracy: 0.2340 - dense_43_accuracy: 0.3300 - dense_44_accuracy: 0.2380 - dense_45_accuracy: 0.3200 - dense_46_accuracy: 0.3620 - dense_47_accuracy: 0.3100 - dense_48_accuracy: 0.3940 - dense_49_accuracy: 0.2580\n",
      "Epoch 7/10\n",
      "8/8 [==============================] - 0s 27ms/step - loss: 14.6648 - dense_40_loss: 1.2627 - dense_41_loss: 1.4962 - dense_42_loss: 1.5444 - dense_43_loss: 1.4418 - dense_44_loss: 1.6287 - dense_45_loss: 1.4911 - dense_46_loss: 1.3834 - dense_47_loss: 1.4799 - dense_48_loss: 1.3437 - dense_49_loss: 1.5930 - dense_40_accuracy: 0.4740 - dense_41_accuracy: 0.3300 - dense_42_accuracy: 0.2560 - dense_43_accuracy: 0.3240 - dense_44_accuracy: 0.2500 - dense_45_accuracy: 0.2740 - dense_46_accuracy: 0.3920 - dense_47_accuracy: 0.3000 - dense_48_accuracy: 0.4040 - dense_49_accuracy: 0.2460\n",
      "Epoch 8/10\n",
      "8/8 [==============================] - 0s 30ms/step - loss: 14.5503 - dense_40_loss: 1.2539 - dense_41_loss: 1.4870 - dense_42_loss: 1.5285 - dense_43_loss: 1.4333 - dense_44_loss: 1.6124 - dense_45_loss: 1.4771 - dense_46_loss: 1.3811 - dense_47_loss: 1.4675 - dense_48_loss: 1.3266 - dense_49_loss: 1.5830 - dense_40_accuracy: 0.4760 - dense_41_accuracy: 0.3280 - dense_42_accuracy: 0.2880 - dense_43_accuracy: 0.3240 - dense_44_accuracy: 0.2760 - dense_45_accuracy: 0.3460 - dense_46_accuracy: 0.3920 - dense_47_accuracy: 0.3160 - dense_48_accuracy: 0.4120 - dense_49_accuracy: 0.2700\n",
      "Epoch 9/10\n",
      "8/8 [==============================] - 0s 25ms/step - loss: 14.5809 - dense_40_loss: 1.2590 - dense_41_loss: 1.4922 - dense_42_loss: 1.5318 - dense_43_loss: 1.4347 - dense_44_loss: 1.6185 - dense_45_loss: 1.4805 - dense_46_loss: 1.3879 - dense_47_loss: 1.4699 - dense_48_loss: 1.3202 - dense_49_loss: 1.5861 - dense_40_accuracy: 0.4680 - dense_41_accuracy: 0.3100 - dense_42_accuracy: 0.2540 - dense_43_accuracy: 0.3220 - dense_44_accuracy: 0.2580 - dense_45_accuracy: 0.3300 - dense_46_accuracy: 0.3880 - dense_47_accuracy: 0.3300 - dense_48_accuracy: 0.4040 - dense_49_accuracy: 0.2780\n",
      "Epoch 10/10\n",
      "8/8 [==============================] - 0s 30ms/step - loss: 14.5726 - dense_40_loss: 1.2634 - dense_41_loss: 1.4803 - dense_42_loss: 1.5346 - dense_43_loss: 1.4365 - dense_44_loss: 1.6012 - dense_45_loss: 1.4691 - dense_46_loss: 1.3883 - dense_47_loss: 1.4827 - dense_48_loss: 1.3291 - dense_49_loss: 1.5873 - dense_40_accuracy: 0.4560 - dense_41_accuracy: 0.3340 - dense_42_accuracy: 0.2580 - dense_43_accuracy: 0.3240 - dense_44_accuracy: 0.2640 - dense_45_accuracy: 0.3260 - dense_46_accuracy: 0.3960 - dense_47_accuracy: 0.3040 - dense_48_accuracy: 0.4000 - dense_49_accuracy: 0.2580\n",
      "16/16 [==============================] - 1s 7ms/step\n"
     ]
    },
    {
     "name": "stderr",
     "output_type": "stream",
     "text": [
      "\n",
      "100%|█████████████████████████████████████████████████████████████████████████████| 1/1 [00:19<00:00, 19.21s/event_log]\u001b[A\n",
      " 45%|█████████████████████████████████▋                                        | 5/11 [01:35<01:54, 19.09s/noise_level]\n",
      "  0%|                                                                                     | 0/1 [00:00<?, ?event_log/s]\u001b[A"
     ]
    },
    {
     "name": "stdout",
     "output_type": "stream",
     "text": [
      "Epoch 1/10\n",
      "8/8 [==============================] - 11s 11ms/step - loss: 24.2922 - dense_50_loss: 2.3421 - dense_51_loss: 2.3280 - dense_52_loss: 2.5360 - dense_53_loss: 2.2739 - dense_54_loss: 2.8443 - dense_55_loss: 2.4459 - dense_56_loss: 2.5099 - dense_57_loss: 2.2724 - dense_58_loss: 2.2579 - dense_59_loss: 2.4817 - dense_50_accuracy: 0.1820 - dense_51_accuracy: 0.1600 - dense_52_accuracy: 0.1100 - dense_53_accuracy: 0.2120 - dense_54_accuracy: 0.1000 - dense_55_accuracy: 0.0920 - dense_56_accuracy: 0.1080 - dense_57_accuracy: 0.2620 - dense_58_accuracy: 0.1360 - dense_59_accuracy: 0.1020  \n",
      "Epoch 2/10\n",
      "8/8 [==============================] - 0s 16ms/step - loss: 20.9344 - dense_50_loss: 1.9181 - dense_51_loss: 1.9827 - dense_52_loss: 2.2546 - dense_53_loss: 1.8890 - dense_54_loss: 2.4656 - dense_55_loss: 2.1528 - dense_56_loss: 2.1655 - dense_57_loss: 2.0015 - dense_58_loss: 1.9562 - dense_59_loss: 2.1483 - dense_50_accuracy: 0.3100 - dense_51_accuracy: 0.2540 - dense_52_accuracy: 0.1860 - dense_53_accuracy: 0.3020 - dense_54_accuracy: 0.1180 - dense_55_accuracy: 0.2280 - dense_56_accuracy: 0.2220 - dense_57_accuracy: 0.2780 - dense_58_accuracy: 0.2440 - dense_59_accuracy: 0.1920\n",
      "Epoch 3/10\n",
      "8/8 [==============================] - 0s 15ms/step - loss: 17.7177 - dense_50_loss: 1.5561 - dense_51_loss: 1.7461 - dense_52_loss: 1.8437 - dense_53_loss: 1.7198 - dense_54_loss: 2.0029 - dense_55_loss: 1.8715 - dense_56_loss: 1.7888 - dense_57_loss: 1.7847 - dense_58_loss: 1.5774 - dense_59_loss: 1.8266 - dense_50_accuracy: 0.4180 - dense_51_accuracy: 0.2880 - dense_52_accuracy: 0.2440 - dense_53_accuracy: 0.2920 - dense_54_accuracy: 0.2200 - dense_55_accuracy: 0.3080 - dense_56_accuracy: 0.3420 - dense_57_accuracy: 0.3140 - dense_58_accuracy: 0.3780 - dense_59_accuracy: 0.2440\n",
      "Epoch 4/10\n",
      "8/8 [==============================] - 0s 15ms/step - loss: 16.1881 - dense_50_loss: 1.3967 - dense_51_loss: 1.6365 - dense_52_loss: 1.7349 - dense_53_loss: 1.6441 - dense_54_loss: 1.7559 - dense_55_loss: 1.6246 - dense_56_loss: 1.6189 - dense_57_loss: 1.6496 - dense_58_loss: 1.4428 - dense_59_loss: 1.6841 - dense_50_accuracy: 0.4080 - dense_51_accuracy: 0.2940 - dense_52_accuracy: 0.2180 - dense_53_accuracy: 0.2840 - dense_54_accuracy: 0.2540 - dense_55_accuracy: 0.3020 - dense_56_accuracy: 0.3320 - dense_57_accuracy: 0.3140 - dense_58_accuracy: 0.3900 - dense_59_accuracy: 0.2380\n",
      "Epoch 5/10\n",
      "8/8 [==============================] - 0s 12ms/step - loss: 15.6257 - dense_50_loss: 1.3672 - dense_51_loss: 1.5746 - dense_52_loss: 1.6936 - dense_53_loss: 1.5794 - dense_54_loss: 1.6804 - dense_55_loss: 1.5534 - dense_56_loss: 1.5282 - dense_57_loss: 1.6023 - dense_58_loss: 1.4127 - dense_59_loss: 1.6339 - dense_50_accuracy: 0.3980 - dense_51_accuracy: 0.2660 - dense_52_accuracy: 0.2400 - dense_53_accuracy: 0.3100 - dense_54_accuracy: 0.2760 - dense_55_accuracy: 0.2920 - dense_56_accuracy: 0.3460 - dense_57_accuracy: 0.3180 - dense_58_accuracy: 0.3940 - dense_59_accuracy: 0.2360\n",
      "Epoch 6/10\n",
      "8/8 [==============================] - 0s 14ms/step - loss: 15.3838 - dense_50_loss: 1.3382 - dense_51_loss: 1.5517 - dense_52_loss: 1.6838 - dense_53_loss: 1.5392 - dense_54_loss: 1.6765 - dense_55_loss: 1.5207 - dense_56_loss: 1.4985 - dense_57_loss: 1.5729 - dense_58_loss: 1.3878 - dense_59_loss: 1.6145 - dense_50_accuracy: 0.4400 - dense_51_accuracy: 0.2620 - dense_52_accuracy: 0.2320 - dense_53_accuracy: 0.3160 - dense_54_accuracy: 0.2400 - dense_55_accuracy: 0.3140 - dense_56_accuracy: 0.3540 - dense_57_accuracy: 0.3360 - dense_58_accuracy: 0.4080 - dense_59_accuracy: 0.2760\n",
      "Epoch 7/10\n",
      "8/8 [==============================] - 0s 16ms/step - loss: 15.2737 - dense_50_loss: 1.3252 - dense_51_loss: 1.5313 - dense_52_loss: 1.6813 - dense_53_loss: 1.5299 - dense_54_loss: 1.6690 - dense_55_loss: 1.5140 - dense_56_loss: 1.4831 - dense_57_loss: 1.5550 - dense_58_loss: 1.3885 - dense_59_loss: 1.5965 - dense_50_accuracy: 0.4380 - dense_51_accuracy: 0.2880 - dense_52_accuracy: 0.2440 - dense_53_accuracy: 0.3080 - dense_54_accuracy: 0.2500 - dense_55_accuracy: 0.2740 - dense_56_accuracy: 0.3540 - dense_57_accuracy: 0.3260 - dense_58_accuracy: 0.4020 - dense_59_accuracy: 0.2520\n",
      "Epoch 8/10\n",
      "8/8 [==============================] - 0s 16ms/step - loss: 15.2230 - dense_50_loss: 1.3243 - dense_51_loss: 1.5208 - dense_52_loss: 1.6732 - dense_53_loss: 1.5254 - dense_54_loss: 1.6572 - dense_55_loss: 1.5038 - dense_56_loss: 1.4859 - dense_57_loss: 1.5558 - dense_58_loss: 1.3809 - dense_59_loss: 1.5958 - dense_50_accuracy: 0.3980 - dense_51_accuracy: 0.2580 - dense_52_accuracy: 0.2300 - dense_53_accuracy: 0.3120 - dense_54_accuracy: 0.2500 - dense_55_accuracy: 0.3220 - dense_56_accuracy: 0.3620 - dense_57_accuracy: 0.3540 - dense_58_accuracy: 0.3960 - dense_59_accuracy: 0.2660\n",
      "Epoch 9/10\n",
      "8/8 [==============================] - 0s 18ms/step - loss: 15.1739 - dense_50_loss: 1.3186 - dense_51_loss: 1.5171 - dense_52_loss: 1.6705 - dense_53_loss: 1.5310 - dense_54_loss: 1.6599 - dense_55_loss: 1.4935 - dense_56_loss: 1.4774 - dense_57_loss: 1.5455 - dense_58_loss: 1.3731 - dense_59_loss: 1.5874 - dense_50_accuracy: 0.4300 - dense_51_accuracy: 0.3140 - dense_52_accuracy: 0.2680 - dense_53_accuracy: 0.2800 - dense_54_accuracy: 0.2500 - dense_55_accuracy: 0.3120 - dense_56_accuracy: 0.3660 - dense_57_accuracy: 0.3040 - dense_58_accuracy: 0.4200 - dense_59_accuracy: 0.2560\n",
      "Epoch 10/10\n",
      "8/8 [==============================] - 0s 17ms/step - loss: 15.1426 - dense_50_loss: 1.3254 - dense_51_loss: 1.5198 - dense_52_loss: 1.6595 - dense_53_loss: 1.5244 - dense_54_loss: 1.6423 - dense_55_loss: 1.4872 - dense_56_loss: 1.4807 - dense_57_loss: 1.5407 - dense_58_loss: 1.3781 - dense_59_loss: 1.5846 - dense_50_accuracy: 0.3900 - dense_51_accuracy: 0.3200 - dense_52_accuracy: 0.2760 - dense_53_accuracy: 0.3180 - dense_54_accuracy: 0.2660 - dense_55_accuracy: 0.3320 - dense_56_accuracy: 0.3480 - dense_57_accuracy: 0.3460 - dense_58_accuracy: 0.4160 - dense_59_accuracy: 0.2820\n",
      "16/16 [==============================] - 1s 5ms/step\n"
     ]
    },
    {
     "name": "stderr",
     "output_type": "stream",
     "text": [
      "\n",
      "100%|█████████████████████████████████████████████████████████████████████████████| 1/1 [00:15<00:00, 15.17s/event_log]\u001b[A\n",
      " 55%|████████████████████████████████████████▎                                 | 6/11 [01:51<01:28, 17.77s/noise_level]\n",
      "  0%|                                                                                     | 0/1 [00:00<?, ?event_log/s]\u001b[A"
     ]
    },
    {
     "name": "stdout",
     "output_type": "stream",
     "text": [
      "Epoch 1/10\n",
      "8/8 [==============================] - 17s 31ms/step - loss: 25.0750 - dense_60_loss: 2.5062 - dense_61_loss: 2.4099 - dense_62_loss: 2.5429 - dense_63_loss: 2.4079 - dense_64_loss: 2.9229 - dense_65_loss: 2.5136 - dense_66_loss: 2.5803 - dense_67_loss: 2.4052 - dense_68_loss: 2.2890 - dense_69_loss: 2.4972 - dense_60_accuracy: 0.0960 - dense_61_accuracy: 0.1380 - dense_62_accuracy: 0.0800 - dense_63_accuracy: 0.1120 - dense_64_accuracy: 0.0760 - dense_65_accuracy: 0.1120 - dense_66_accuracy: 0.1360 - dense_67_accuracy: 0.1580 - dense_68_accuracy: 0.1420 - dense_69_accuracy: 0.0800\n",
      "Epoch 2/10\n",
      "8/8 [==============================] - 0s 29ms/step - loss: 23.4280 - dense_60_loss: 2.3124 - dense_61_loss: 2.2229 - dense_62_loss: 2.3811 - dense_63_loss: 2.1927 - dense_64_loss: 2.7813 - dense_65_loss: 2.3646 - dense_66_loss: 2.3971 - dense_67_loss: 2.2640 - dense_68_loss: 2.1521 - dense_69_loss: 2.3598 - dense_60_accuracy: 0.2140 - dense_61_accuracy: 0.1760 - dense_62_accuracy: 0.1940 - dense_63_accuracy: 0.2280 - dense_64_accuracy: 0.1120 - dense_65_accuracy: 0.1920 - dense_66_accuracy: 0.2120 - dense_67_accuracy: 0.2080 - dense_68_accuracy: 0.2340 - dense_69_accuracy: 0.1880\n",
      "Epoch 3/10\n",
      "8/8 [==============================] - 0s 28ms/step - loss: 21.9455 - dense_60_loss: 2.0981 - dense_61_loss: 2.0897 - dense_62_loss: 2.1998 - dense_63_loss: 2.0449 - dense_64_loss: 2.6110 - dense_65_loss: 2.2094 - dense_66_loss: 2.2626 - dense_67_loss: 2.1891 - dense_68_loss: 1.9866 - dense_69_loss: 2.2542 - dense_60_accuracy: 0.2900 - dense_61_accuracy: 0.1920 - dense_62_accuracy: 0.2440 - dense_63_accuracy: 0.2660 - dense_64_accuracy: 0.1840 - dense_65_accuracy: 0.2380 - dense_66_accuracy: 0.2620 - dense_67_accuracy: 0.2200 - dense_68_accuracy: 0.2740 - dense_69_accuracy: 0.2000\n",
      "Epoch 4/10\n",
      "8/8 [==============================] - 0s 36ms/step - loss: 20.9365 - dense_60_loss: 1.9659 - dense_61_loss: 2.0203 - dense_62_loss: 2.0971 - dense_63_loss: 1.9610 - dense_64_loss: 2.4443 - dense_65_loss: 2.1435 - dense_66_loss: 2.1465 - dense_67_loss: 2.1236 - dense_68_loss: 1.9260 - dense_69_loss: 2.1083 - dense_60_accuracy: 0.3300 - dense_61_accuracy: 0.2420 - dense_62_accuracy: 0.1980 - dense_63_accuracy: 0.2400 - dense_64_accuracy: 0.1980 - dense_65_accuracy: 0.2220 - dense_66_accuracy: 0.2660 - dense_67_accuracy: 0.2380 - dense_68_accuracy: 0.2740 - dense_69_accuracy: 0.2300\n",
      "Epoch 5/10\n",
      "8/8 [==============================] - 0s 31ms/step - loss: 20.5836 - dense_60_loss: 1.9418 - dense_61_loss: 1.9947 - dense_62_loss: 2.0579 - dense_63_loss: 1.9242 - dense_64_loss: 2.4117 - dense_65_loss: 2.1084 - dense_66_loss: 2.1081 - dense_67_loss: 2.0721 - dense_68_loss: 1.8888 - dense_69_loss: 2.0757 - dense_60_accuracy: 0.3240 - dense_61_accuracy: 0.2160 - dense_62_accuracy: 0.2100 - dense_63_accuracy: 0.2140 - dense_64_accuracy: 0.2060 - dense_65_accuracy: 0.2440 - dense_66_accuracy: 0.2760 - dense_67_accuracy: 0.2360 - dense_68_accuracy: 0.2960 - dense_69_accuracy: 0.2140\n",
      "Epoch 6/10\n",
      "8/8 [==============================] - 0s 29ms/step - loss: 20.4857 - dense_60_loss: 1.9336 - dense_61_loss: 1.9761 - dense_62_loss: 2.0402 - dense_63_loss: 1.9298 - dense_64_loss: 2.3892 - dense_65_loss: 2.0945 - dense_66_loss: 2.0993 - dense_67_loss: 2.0690 - dense_68_loss: 1.8980 - dense_69_loss: 2.0559 - dense_60_accuracy: 0.3400 - dense_61_accuracy: 0.2500 - dense_62_accuracy: 0.2440 - dense_63_accuracy: 0.2120 - dense_64_accuracy: 0.2160 - dense_65_accuracy: 0.2440 - dense_66_accuracy: 0.2880 - dense_67_accuracy: 0.2540 - dense_68_accuracy: 0.2900 - dense_69_accuracy: 0.2140\n",
      "Epoch 7/10\n",
      "8/8 [==============================] - 0s 26ms/step - loss: 20.3588 - dense_60_loss: 1.9272 - dense_61_loss: 1.9632 - dense_62_loss: 2.0285 - dense_63_loss: 1.9027 - dense_64_loss: 2.3672 - dense_65_loss: 2.0749 - dense_66_loss: 2.0911 - dense_67_loss: 2.0587 - dense_68_loss: 1.8909 - dense_69_loss: 2.0544 - dense_60_accuracy: 0.3380 - dense_61_accuracy: 0.2560 - dense_62_accuracy: 0.2560 - dense_63_accuracy: 0.2720 - dense_64_accuracy: 0.2060 - dense_65_accuracy: 0.2660 - dense_66_accuracy: 0.2860 - dense_67_accuracy: 0.2520 - dense_68_accuracy: 0.2720 - dense_69_accuracy: 0.2340\n",
      "Epoch 8/10\n",
      "8/8 [==============================] - 0s 25ms/step - loss: 20.4404 - dense_60_loss: 1.9373 - dense_61_loss: 1.9813 - dense_62_loss: 2.0457 - dense_63_loss: 1.9114 - dense_64_loss: 2.3721 - dense_65_loss: 2.0905 - dense_66_loss: 2.0971 - dense_67_loss: 2.0692 - dense_68_loss: 1.8913 - dense_69_loss: 2.0445 - dense_60_accuracy: 0.3380 - dense_61_accuracy: 0.2340 - dense_62_accuracy: 0.2220 - dense_63_accuracy: 0.2280 - dense_64_accuracy: 0.2220 - dense_65_accuracy: 0.2380 - dense_66_accuracy: 0.2960 - dense_67_accuracy: 0.2560 - dense_68_accuracy: 0.2840 - dense_69_accuracy: 0.2020\n",
      "Epoch 9/10\n",
      "8/8 [==============================] - 0s 26ms/step - loss: 20.2803 - dense_60_loss: 1.9132 - dense_61_loss: 1.9683 - dense_62_loss: 2.0232 - dense_63_loss: 1.8973 - dense_64_loss: 2.3553 - dense_65_loss: 2.0778 - dense_66_loss: 2.0803 - dense_67_loss: 2.0594 - dense_68_loss: 1.8746 - dense_69_loss: 2.0308 - dense_60_accuracy: 0.3280 - dense_61_accuracy: 0.2440 - dense_62_accuracy: 0.2640 - dense_63_accuracy: 0.2620 - dense_64_accuracy: 0.2100 - dense_65_accuracy: 0.2340 - dense_66_accuracy: 0.2920 - dense_67_accuracy: 0.2500 - dense_68_accuracy: 0.2880 - dense_69_accuracy: 0.2560\n",
      "Epoch 10/10\n",
      "8/8 [==============================] - 0s 28ms/step - loss: 20.1557 - dense_60_loss: 1.8949 - dense_61_loss: 1.9517 - dense_62_loss: 2.0075 - dense_63_loss: 1.8902 - dense_64_loss: 2.3403 - dense_65_loss: 2.0642 - dense_66_loss: 2.0700 - dense_67_loss: 2.0453 - dense_68_loss: 1.8694 - dense_69_loss: 2.0222 - dense_60_accuracy: 0.3400 - dense_61_accuracy: 0.2620 - dense_62_accuracy: 0.2680 - dense_63_accuracy: 0.2640 - dense_64_accuracy: 0.2300 - dense_65_accuracy: 0.2520 - dense_66_accuracy: 0.3140 - dense_67_accuracy: 0.2580 - dense_68_accuracy: 0.2900 - dense_69_accuracy: 0.2400\n",
      "16/16 [==============================] - 1s 6ms/step\n"
     ]
    },
    {
     "name": "stderr",
     "output_type": "stream",
     "text": [
      "\n",
      "100%|█████████████████████████████████████████████████████████████████████████████| 1/1 [00:23<00:00, 23.05s/event_log]\u001b[A\n",
      " 64%|███████████████████████████████████████████████                           | 7/11 [02:14<01:18, 19.50s/noise_level]\n",
      "  0%|                                                                                     | 0/1 [00:00<?, ?event_log/s]\u001b[A"
     ]
    },
    {
     "name": "stdout",
     "output_type": "stream",
     "text": [
      "Epoch 1/10\n",
      "8/8 [==============================] - 15s 21ms/step - loss: 24.3911 - dense_70_loss: 2.4319 - dense_71_loss: 2.2854 - dense_72_loss: 2.4565 - dense_73_loss: 2.3161 - dense_74_loss: 2.8804 - dense_75_loss: 2.4097 - dense_76_loss: 2.5353 - dense_77_loss: 2.3156 - dense_78_loss: 2.2802 - dense_79_loss: 2.4800 - dense_70_accuracy: 0.1580 - dense_71_accuracy: 0.1500 - dense_72_accuracy: 0.0960 - dense_73_accuracy: 0.1780 - dense_74_accuracy: 0.0940 - dense_75_accuracy: 0.1680 - dense_76_accuracy: 0.1680 - dense_77_accuracy: 0.1940 - dense_78_accuracy: 0.1320 - dense_79_accuracy: 0.1620    \n",
      "Epoch 2/10\n",
      "8/8 [==============================] - 0s 22ms/step - loss: 21.6249 - dense_70_loss: 2.0916 - dense_71_loss: 2.0253 - dense_72_loss: 2.2291 - dense_73_loss: 2.0167 - dense_74_loss: 2.5367 - dense_75_loss: 2.1224 - dense_76_loss: 2.1972 - dense_77_loss: 2.0612 - dense_78_loss: 2.0928 - dense_79_loss: 2.2519 - dense_70_accuracy: 0.2620 - dense_71_accuracy: 0.1880 - dense_72_accuracy: 0.1780 - dense_73_accuracy: 0.2920 - dense_74_accuracy: 0.1220 - dense_75_accuracy: 0.2280 - dense_76_accuracy: 0.2560 - dense_77_accuracy: 0.2420 - dense_78_accuracy: 0.2200 - dense_79_accuracy: 0.1580\n",
      "Epoch 3/10\n",
      "8/8 [==============================] - 0s 24ms/step - loss: 19.1304 - dense_70_loss: 1.8056 - dense_71_loss: 1.7984 - dense_72_loss: 1.9802 - dense_73_loss: 1.8165 - dense_74_loss: 2.2064 - dense_75_loss: 1.8723 - dense_76_loss: 1.9066 - dense_77_loss: 1.8902 - dense_78_loss: 1.7991 - dense_79_loss: 2.0551 - dense_70_accuracy: 0.4260 - dense_71_accuracy: 0.3000 - dense_72_accuracy: 0.2420 - dense_73_accuracy: 0.3160 - dense_74_accuracy: 0.2200 - dense_75_accuracy: 0.2440 - dense_76_accuracy: 0.3100 - dense_77_accuracy: 0.2620 - dense_78_accuracy: 0.2920 - dense_79_accuracy: 0.2260\n",
      "Epoch 4/10\n",
      "8/8 [==============================] - 0s 22ms/step - loss: 17.3567 - dense_70_loss: 1.5805 - dense_71_loss: 1.6824 - dense_72_loss: 1.8172 - dense_73_loss: 1.7353 - dense_74_loss: 1.9710 - dense_75_loss: 1.6815 - dense_76_loss: 1.7073 - dense_77_loss: 1.7274 - dense_78_loss: 1.5964 - dense_79_loss: 1.8576 - dense_70_accuracy: 0.4660 - dense_71_accuracy: 0.3100 - dense_72_accuracy: 0.2380 - dense_73_accuracy: 0.3100 - dense_74_accuracy: 0.2480 - dense_75_accuracy: 0.3080 - dense_76_accuracy: 0.3500 - dense_77_accuracy: 0.2740 - dense_78_accuracy: 0.3980 - dense_79_accuracy: 0.2360\n",
      "Epoch 5/10\n",
      "8/8 [==============================] - 0s 26ms/step - loss: 16.3827 - dense_70_loss: 1.4493 - dense_71_loss: 1.5700 - dense_72_loss: 1.7143 - dense_73_loss: 1.6351 - dense_74_loss: 1.8793 - dense_75_loss: 1.6152 - dense_76_loss: 1.6278 - dense_77_loss: 1.6592 - dense_78_loss: 1.5050 - dense_79_loss: 1.7275 - dense_70_accuracy: 0.4680 - dense_71_accuracy: 0.3080 - dense_72_accuracy: 0.2380 - dense_73_accuracy: 0.3220 - dense_74_accuracy: 0.2340 - dense_75_accuracy: 0.2940 - dense_76_accuracy: 0.3200 - dense_77_accuracy: 0.3120 - dense_78_accuracy: 0.4080 - dense_79_accuracy: 0.2140\n",
      "Epoch 6/10\n",
      "8/8 [==============================] - 0s 24ms/step - loss: 16.1114 - dense_70_loss: 1.4048 - dense_71_loss: 1.5441 - dense_72_loss: 1.6804 - dense_73_loss: 1.6222 - dense_74_loss: 1.8429 - dense_75_loss: 1.5988 - dense_76_loss: 1.5912 - dense_77_loss: 1.6322 - dense_78_loss: 1.4966 - dense_79_loss: 1.6982 - dense_70_accuracy: 0.4680 - dense_71_accuracy: 0.3180 - dense_72_accuracy: 0.2380 - dense_73_accuracy: 0.3320 - dense_74_accuracy: 0.2320 - dense_75_accuracy: 0.2720 - dense_76_accuracy: 0.3240 - dense_77_accuracy: 0.3020 - dense_78_accuracy: 0.4060 - dense_79_accuracy: 0.2460\n",
      "Epoch 7/10\n",
      "8/8 [==============================] - 0s 27ms/step - loss: 15.9555 - dense_70_loss: 1.3888 - dense_71_loss: 1.5317 - dense_72_loss: 1.6649 - dense_73_loss: 1.5988 - dense_74_loss: 1.8314 - dense_75_loss: 1.5718 - dense_76_loss: 1.5699 - dense_77_loss: 1.6153 - dense_78_loss: 1.4999 - dense_79_loss: 1.6828 - dense_70_accuracy: 0.4680 - dense_71_accuracy: 0.3340 - dense_72_accuracy: 0.2360 - dense_73_accuracy: 0.3300 - dense_74_accuracy: 0.2420 - dense_75_accuracy: 0.3180 - dense_76_accuracy: 0.3740 - dense_77_accuracy: 0.2980 - dense_78_accuracy: 0.4100 - dense_79_accuracy: 0.2560\n",
      "Epoch 8/10\n",
      "8/8 [==============================] - 0s 22ms/step - loss: 15.8905 - dense_70_loss: 1.3838 - dense_71_loss: 1.5325 - dense_72_loss: 1.6593 - dense_73_loss: 1.5914 - dense_74_loss: 1.8289 - dense_75_loss: 1.5702 - dense_76_loss: 1.5625 - dense_77_loss: 1.6028 - dense_78_loss: 1.4935 - dense_79_loss: 1.6656 - dense_70_accuracy: 0.4700 - dense_71_accuracy: 0.3380 - dense_72_accuracy: 0.2400 - dense_73_accuracy: 0.3320 - dense_74_accuracy: 0.2600 - dense_75_accuracy: 0.3260 - dense_76_accuracy: 0.3700 - dense_77_accuracy: 0.3240 - dense_78_accuracy: 0.4060 - dense_79_accuracy: 0.2580\n",
      "Epoch 9/10\n",
      "8/8 [==============================] - 0s 22ms/step - loss: 15.8013 - dense_70_loss: 1.3685 - dense_71_loss: 1.5150 - dense_72_loss: 1.6520 - dense_73_loss: 1.5848 - dense_74_loss: 1.8166 - dense_75_loss: 1.5503 - dense_76_loss: 1.5549 - dense_77_loss: 1.6069 - dense_78_loss: 1.4837 - dense_79_loss: 1.6686 - dense_70_accuracy: 0.4680 - dense_71_accuracy: 0.3600 - dense_72_accuracy: 0.2820 - dense_73_accuracy: 0.3440 - dense_74_accuracy: 0.2440 - dense_75_accuracy: 0.3160 - dense_76_accuracy: 0.3800 - dense_77_accuracy: 0.3140 - dense_78_accuracy: 0.4080 - dense_79_accuracy: 0.2760\n",
      "Epoch 10/10\n",
      "8/8 [==============================] - 0s 23ms/step - loss: 15.7157 - dense_70_loss: 1.3762 - dense_71_loss: 1.5170 - dense_72_loss: 1.6403 - dense_73_loss: 1.5709 - dense_74_loss: 1.8013 - dense_75_loss: 1.5416 - dense_76_loss: 1.5451 - dense_77_loss: 1.6006 - dense_78_loss: 1.4756 - dense_79_loss: 1.6471 - dense_70_accuracy: 0.4680 - dense_71_accuracy: 0.3620 - dense_72_accuracy: 0.2520 - dense_73_accuracy: 0.3560 - dense_74_accuracy: 0.2420 - dense_75_accuracy: 0.3140 - dense_76_accuracy: 0.3600 - dense_77_accuracy: 0.3400 - dense_78_accuracy: 0.4260 - dense_79_accuracy: 0.3060\n",
      "16/16 [==============================] - 1s 6ms/step\n"
     ]
    },
    {
     "name": "stderr",
     "output_type": "stream",
     "text": [
      "\n",
      "100%|█████████████████████████████████████████████████████████████████████████████| 1/1 [00:21<00:00, 21.12s/event_log]\u001b[A\n",
      " 73%|█████████████████████████████████████████████████████▊                    | 8/11 [02:35<01:00, 20.02s/noise_level]\n",
      "  0%|                                                                                     | 0/1 [00:00<?, ?event_log/s]\u001b[A"
     ]
    },
    {
     "name": "stdout",
     "output_type": "stream",
     "text": [
      "Epoch 1/10\n",
      "8/8 [==============================] - 14s 31ms/step - loss: 24.7902 - dense_80_loss: 2.4614 - dense_81_loss: 2.4396 - dense_82_loss: 2.5234 - dense_83_loss: 2.3767 - dense_84_loss: 2.8927 - dense_85_loss: 2.4692 - dense_86_loss: 2.5470 - dense_87_loss: 2.3539 - dense_88_loss: 2.2530 - dense_89_loss: 2.4733 - dense_80_accuracy: 0.1100 - dense_81_accuracy: 0.1060 - dense_82_accuracy: 0.1600 - dense_83_accuracy: 0.2220 - dense_84_accuracy: 0.0800 - dense_85_accuracy: 0.1080 - dense_86_accuracy: 0.1680 - dense_87_accuracy: 0.2300 - dense_88_accuracy: 0.1860 - dense_89_accuracy: 0.1620\n",
      "Epoch 2/10\n",
      "8/8 [==============================] - 0s 26ms/step - loss: 21.8599 - dense_80_loss: 2.0901 - dense_81_loss: 2.1452 - dense_82_loss: 2.2477 - dense_83_loss: 2.0949 - dense_84_loss: 2.5414 - dense_85_loss: 2.2106 - dense_86_loss: 2.2870 - dense_87_loss: 2.0579 - dense_88_loss: 1.9740 - dense_89_loss: 2.2110 - dense_80_accuracy: 0.2360 - dense_81_accuracy: 0.2040 - dense_82_accuracy: 0.1940 - dense_83_accuracy: 0.2700 - dense_84_accuracy: 0.1720 - dense_85_accuracy: 0.1940 - dense_86_accuracy: 0.2340 - dense_87_accuracy: 0.2580 - dense_88_accuracy: 0.3100 - dense_89_accuracy: 0.2000\n",
      "Epoch 3/10\n",
      "8/8 [==============================] - 0s 25ms/step - loss: 18.4419 - dense_80_loss: 1.7047 - dense_81_loss: 1.8469 - dense_82_loss: 1.8464 - dense_83_loss: 1.8584 - dense_84_loss: 2.0605 - dense_85_loss: 1.8991 - dense_86_loss: 1.8867 - dense_87_loss: 1.7883 - dense_88_loss: 1.6798 - dense_89_loss: 1.8712 - dense_80_accuracy: 0.3960 - dense_81_accuracy: 0.3020 - dense_82_accuracy: 0.2580 - dense_83_accuracy: 0.2880 - dense_84_accuracy: 0.2340 - dense_85_accuracy: 0.2240 - dense_86_accuracy: 0.2980 - dense_87_accuracy: 0.2960 - dense_88_accuracy: 0.3880 - dense_89_accuracy: 0.2620\n",
      "Epoch 4/10\n",
      "8/8 [==============================] - 0s 31ms/step - loss: 17.0207 - dense_80_loss: 1.5986 - dense_81_loss: 1.7284 - dense_82_loss: 1.7073 - dense_83_loss: 1.7087 - dense_84_loss: 1.8847 - dense_85_loss: 1.7123 - dense_86_loss: 1.6613 - dense_87_loss: 1.6818 - dense_88_loss: 1.5717 - dense_89_loss: 1.7658 - dense_80_accuracy: 0.4000 - dense_81_accuracy: 0.3120 - dense_82_accuracy: 0.2700 - dense_83_accuracy: 0.3080 - dense_84_accuracy: 0.2500 - dense_85_accuracy: 0.2440 - dense_86_accuracy: 0.3400 - dense_87_accuracy: 0.3100 - dense_88_accuracy: 0.3960 - dense_89_accuracy: 0.2460\n",
      "Epoch 5/10\n",
      "8/8 [==============================] - 0s 25ms/step - loss: 16.6125 - dense_80_loss: 1.5657 - dense_81_loss: 1.6759 - dense_82_loss: 1.6675 - dense_83_loss: 1.6387 - dense_84_loss: 1.8565 - dense_85_loss: 1.6717 - dense_86_loss: 1.6075 - dense_87_loss: 1.6423 - dense_88_loss: 1.5578 - dense_89_loss: 1.7289 - dense_80_accuracy: 0.4300 - dense_81_accuracy: 0.2520 - dense_82_accuracy: 0.2460 - dense_83_accuracy: 0.3380 - dense_84_accuracy: 0.2320 - dense_85_accuracy: 0.2720 - dense_86_accuracy: 0.3620 - dense_87_accuracy: 0.3220 - dense_88_accuracy: 0.4060 - dense_89_accuracy: 0.2580\n",
      "Epoch 6/10\n",
      "8/8 [==============================] - 0s 30ms/step - loss: 16.4691 - dense_80_loss: 1.5590 - dense_81_loss: 1.6607 - dense_82_loss: 1.6553 - dense_83_loss: 1.6200 - dense_84_loss: 1.8423 - dense_85_loss: 1.6593 - dense_86_loss: 1.5768 - dense_87_loss: 1.6374 - dense_88_loss: 1.5365 - dense_89_loss: 1.7220 - dense_80_accuracy: 0.4020 - dense_81_accuracy: 0.3220 - dense_82_accuracy: 0.2920 - dense_83_accuracy: 0.3340 - dense_84_accuracy: 0.2500 - dense_85_accuracy: 0.2540 - dense_86_accuracy: 0.3420 - dense_87_accuracy: 0.3260 - dense_88_accuracy: 0.3960 - dense_89_accuracy: 0.2380\n",
      "Epoch 7/10\n",
      "8/8 [==============================] - 0s 24ms/step - loss: 16.2633 - dense_80_loss: 1.5232 - dense_81_loss: 1.6443 - dense_82_loss: 1.6361 - dense_83_loss: 1.6034 - dense_84_loss: 1.8301 - dense_85_loss: 1.6396 - dense_86_loss: 1.5494 - dense_87_loss: 1.6131 - dense_88_loss: 1.5132 - dense_89_loss: 1.7108 - dense_80_accuracy: 0.4220 - dense_81_accuracy: 0.2680 - dense_82_accuracy: 0.2660 - dense_83_accuracy: 0.3140 - dense_84_accuracy: 0.2460 - dense_85_accuracy: 0.2820 - dense_86_accuracy: 0.3620 - dense_87_accuracy: 0.3220 - dense_88_accuracy: 0.4080 - dense_89_accuracy: 0.2300\n",
      "Epoch 8/10\n",
      "8/8 [==============================] - 0s 31ms/step - loss: 16.2117 - dense_80_loss: 1.5230 - dense_81_loss: 1.6356 - dense_82_loss: 1.6208 - dense_83_loss: 1.6012 - dense_84_loss: 1.8246 - dense_85_loss: 1.6387 - dense_86_loss: 1.5538 - dense_87_loss: 1.6074 - dense_88_loss: 1.5150 - dense_89_loss: 1.6916 - dense_80_accuracy: 0.4380 - dense_81_accuracy: 0.3100 - dense_82_accuracy: 0.2900 - dense_83_accuracy: 0.3160 - dense_84_accuracy: 0.2420 - dense_85_accuracy: 0.2560 - dense_86_accuracy: 0.3640 - dense_87_accuracy: 0.3240 - dense_88_accuracy: 0.4040 - dense_89_accuracy: 0.2600\n",
      "Epoch 9/10\n",
      "8/8 [==============================] - 0s 26ms/step - loss: 16.0582 - dense_80_loss: 1.5188 - dense_81_loss: 1.6137 - dense_82_loss: 1.6039 - dense_83_loss: 1.5875 - dense_84_loss: 1.8122 - dense_85_loss: 1.6199 - dense_86_loss: 1.5401 - dense_87_loss: 1.5857 - dense_88_loss: 1.4950 - dense_89_loss: 1.6815 - dense_80_accuracy: 0.4360 - dense_81_accuracy: 0.3240 - dense_82_accuracy: 0.2880 - dense_83_accuracy: 0.3000 - dense_84_accuracy: 0.2420 - dense_85_accuracy: 0.2940 - dense_86_accuracy: 0.3840 - dense_87_accuracy: 0.3640 - dense_88_accuracy: 0.4160 - dense_89_accuracy: 0.2900\n",
      "Epoch 10/10\n",
      "8/8 [==============================] - 0s 25ms/step - loss: 15.9457 - dense_80_loss: 1.5017 - dense_81_loss: 1.6068 - dense_82_loss: 1.5938 - dense_83_loss: 1.5766 - dense_84_loss: 1.8037 - dense_85_loss: 1.6101 - dense_86_loss: 1.5291 - dense_87_loss: 1.5749 - dense_88_loss: 1.4859 - dense_89_loss: 1.6630 - dense_80_accuracy: 0.4380 - dense_81_accuracy: 0.3540 - dense_82_accuracy: 0.3060 - dense_83_accuracy: 0.3160 - dense_84_accuracy: 0.2780 - dense_85_accuracy: 0.3040 - dense_86_accuracy: 0.3740 - dense_87_accuracy: 0.3640 - dense_88_accuracy: 0.4100 - dense_89_accuracy: 0.3140\n",
      "16/16 [==============================] - 2s 8ms/step\n"
     ]
    },
    {
     "name": "stderr",
     "output_type": "stream",
     "text": [
      "\n",
      "100%|█████████████████████████████████████████████████████████████████████████████| 1/1 [00:21<00:00, 21.09s/event_log]\u001b[A\n",
      " 82%|████████████████████████████████████████████████████████████▌             | 9/11 [02:56<00:40, 20.36s/noise_level]\n",
      "  0%|                                                                                     | 0/1 [00:00<?, ?event_log/s]\u001b[A"
     ]
    },
    {
     "name": "stdout",
     "output_type": "stream",
     "text": [
      "Epoch 1/10\n",
      "8/8 [==============================] - 14s 35ms/step - loss: 24.6597 - dense_90_loss: 2.3960 - dense_91_loss: 2.3927 - dense_92_loss: 2.5225 - dense_93_loss: 2.3198 - dense_94_loss: 2.8960 - dense_95_loss: 2.4869 - dense_96_loss: 2.5158 - dense_97_loss: 2.4105 - dense_98_loss: 2.2232 - dense_99_loss: 2.4963 - dense_90_accuracy: 0.2160 - dense_91_accuracy: 0.1260 - dense_92_accuracy: 0.1480 - dense_93_accuracy: 0.1180 - dense_94_accuracy: 0.0940 - dense_95_accuracy: 0.1340 - dense_96_accuracy: 0.1840 - dense_97_accuracy: 0.1700 - dense_98_accuracy: 0.1920 - dense_99_accuracy: 0.1700\n",
      "Epoch 2/10\n",
      "8/8 [==============================] - 0s 30ms/step - loss: 22.0030 - dense_90_loss: 2.0799 - dense_91_loss: 2.1430 - dense_92_loss: 2.3351 - dense_93_loss: 2.0691 - dense_94_loss: 2.5397 - dense_95_loss: 2.2379 - dense_96_loss: 2.2162 - dense_97_loss: 2.1098 - dense_98_loss: 2.0316 - dense_99_loss: 2.2406 - dense_90_accuracy: 0.3040 - dense_91_accuracy: 0.2300 - dense_92_accuracy: 0.1780 - dense_93_accuracy: 0.2620 - dense_94_accuracy: 0.1360 - dense_95_accuracy: 0.1920 - dense_96_accuracy: 0.2300 - dense_97_accuracy: 0.2200 - dense_98_accuracy: 0.2620 - dense_99_accuracy: 0.1780\n",
      "Epoch 3/10\n",
      "8/8 [==============================] - 0s 31ms/step - loss: 19.1069 - dense_90_loss: 1.7485 - dense_91_loss: 1.9244 - dense_92_loss: 1.9754 - dense_93_loss: 1.8709 - dense_94_loss: 2.1049 - dense_95_loss: 1.9714 - dense_96_loss: 1.9035 - dense_97_loss: 1.9319 - dense_98_loss: 1.6812 - dense_99_loss: 1.9947 - dense_90_accuracy: 0.3960 - dense_91_accuracy: 0.2840 - dense_92_accuracy: 0.2520 - dense_93_accuracy: 0.2700 - dense_94_accuracy: 0.2480 - dense_95_accuracy: 0.2240 - dense_96_accuracy: 0.3200 - dense_97_accuracy: 0.2260 - dense_98_accuracy: 0.4020 - dense_99_accuracy: 0.2100\n",
      "Epoch 4/10\n",
      "8/8 [==============================] - 0s 31ms/step - loss: 17.4069 - dense_90_loss: 1.5612 - dense_91_loss: 1.7942 - dense_92_loss: 1.7846 - dense_93_loss: 1.7161 - dense_94_loss: 1.9110 - dense_95_loss: 1.8103 - dense_96_loss: 1.7115 - dense_97_loss: 1.7064 - dense_98_loss: 1.5682 - dense_99_loss: 1.8433 - dense_90_accuracy: 0.4400 - dense_91_accuracy: 0.2740 - dense_92_accuracy: 0.2380 - dense_93_accuracy: 0.2880 - dense_94_accuracy: 0.2480 - dense_95_accuracy: 0.2900 - dense_96_accuracy: 0.3320 - dense_97_accuracy: 0.2540 - dense_98_accuracy: 0.3960 - dense_99_accuracy: 0.2260\n",
      "Epoch 5/10\n",
      "8/8 [==============================] - 0s 34ms/step - loss: 16.8080 - dense_90_loss: 1.4975 - dense_91_loss: 1.7764 - dense_92_loss: 1.7209 - dense_93_loss: 1.6607 - dense_94_loss: 1.8531 - dense_95_loss: 1.7010 - dense_96_loss: 1.6355 - dense_97_loss: 1.6690 - dense_98_loss: 1.5249 - dense_99_loss: 1.7691 - dense_90_accuracy: 0.4280 - dense_91_accuracy: 0.2600 - dense_92_accuracy: 0.2640 - dense_93_accuracy: 0.2900 - dense_94_accuracy: 0.2060 - dense_95_accuracy: 0.3140 - dense_96_accuracy: 0.3540 - dense_97_accuracy: 0.2920 - dense_98_accuracy: 0.3960 - dense_99_accuracy: 0.2240\n",
      "Epoch 6/10\n",
      "8/8 [==============================] - 0s 29ms/step - loss: 16.6207 - dense_90_loss: 1.4787 - dense_91_loss: 1.7479 - dense_92_loss: 1.7019 - dense_93_loss: 1.6446 - dense_94_loss: 1.8393 - dense_95_loss: 1.6891 - dense_96_loss: 1.6130 - dense_97_loss: 1.6500 - dense_98_loss: 1.5121 - dense_99_loss: 1.7441 - dense_90_accuracy: 0.4280 - dense_91_accuracy: 0.2720 - dense_92_accuracy: 0.2340 - dense_93_accuracy: 0.2800 - dense_94_accuracy: 0.2640 - dense_95_accuracy: 0.2560 - dense_96_accuracy: 0.3620 - dense_97_accuracy: 0.3100 - dense_98_accuracy: 0.3980 - dense_99_accuracy: 0.2360\n",
      "Epoch 7/10\n",
      "8/8 [==============================] - 0s 34ms/step - loss: 16.5396 - dense_90_loss: 1.4740 - dense_91_loss: 1.7468 - dense_92_loss: 1.6907 - dense_93_loss: 1.6354 - dense_94_loss: 1.8354 - dense_95_loss: 1.6801 - dense_96_loss: 1.6070 - dense_97_loss: 1.6393 - dense_98_loss: 1.4936 - dense_99_loss: 1.7372 - dense_90_accuracy: 0.4500 - dense_91_accuracy: 0.2600 - dense_92_accuracy: 0.2480 - dense_93_accuracy: 0.3140 - dense_94_accuracy: 0.2660 - dense_95_accuracy: 0.3060 - dense_96_accuracy: 0.3540 - dense_97_accuracy: 0.2920 - dense_98_accuracy: 0.4200 - dense_99_accuracy: 0.2360\n",
      "Epoch 8/10\n",
      "8/8 [==============================] - 0s 28ms/step - loss: 16.4553 - dense_90_loss: 1.4522 - dense_91_loss: 1.7384 - dense_92_loss: 1.6925 - dense_93_loss: 1.6422 - dense_94_loss: 1.8246 - dense_95_loss: 1.6652 - dense_96_loss: 1.5965 - dense_97_loss: 1.6274 - dense_98_loss: 1.4921 - dense_99_loss: 1.7242 - dense_90_accuracy: 0.4460 - dense_91_accuracy: 0.2720 - dense_92_accuracy: 0.2540 - dense_93_accuracy: 0.2940 - dense_94_accuracy: 0.2860 - dense_95_accuracy: 0.3240 - dense_96_accuracy: 0.3740 - dense_97_accuracy: 0.3060 - dense_98_accuracy: 0.4020 - dense_99_accuracy: 0.2560\n",
      "Epoch 9/10\n",
      "8/8 [==============================] - 0s 26ms/step - loss: 16.3508 - dense_90_loss: 1.4466 - dense_91_loss: 1.7235 - dense_92_loss: 1.6739 - dense_93_loss: 1.6290 - dense_94_loss: 1.8117 - dense_95_loss: 1.6622 - dense_96_loss: 1.5819 - dense_97_loss: 1.6249 - dense_98_loss: 1.4810 - dense_99_loss: 1.7161 - dense_90_accuracy: 0.4400 - dense_91_accuracy: 0.2860 - dense_92_accuracy: 0.2640 - dense_93_accuracy: 0.2820 - dense_94_accuracy: 0.2600 - dense_95_accuracy: 0.3080 - dense_96_accuracy: 0.3740 - dense_97_accuracy: 0.3080 - dense_98_accuracy: 0.4260 - dense_99_accuracy: 0.2460\n",
      "Epoch 10/10\n",
      "8/8 [==============================] - 0s 33ms/step - loss: 16.1554 - dense_90_loss: 1.4418 - dense_91_loss: 1.7012 - dense_92_loss: 1.6405 - dense_93_loss: 1.6277 - dense_94_loss: 1.7863 - dense_95_loss: 1.6368 - dense_96_loss: 1.5701 - dense_97_loss: 1.5954 - dense_98_loss: 1.4648 - dense_99_loss: 1.6907 - dense_90_accuracy: 0.4600 - dense_91_accuracy: 0.3200 - dense_92_accuracy: 0.3020 - dense_93_accuracy: 0.2820 - dense_94_accuracy: 0.3180 - dense_95_accuracy: 0.3480 - dense_96_accuracy: 0.3860 - dense_97_accuracy: 0.3440 - dense_98_accuracy: 0.4300 - dense_99_accuracy: 0.3060\n",
      "16/16 [==============================] - 1s 8ms/step\n"
     ]
    },
    {
     "name": "stderr",
     "output_type": "stream",
     "text": [
      "\n",
      "100%|█████████████████████████████████████████████████████████████████████████████| 1/1 [00:20<00:00, 20.75s/event_log]\u001b[A\n",
      " 91%|██████████████████████████████████████████████████████████████████▎      | 10/11 [03:17<00:20, 20.49s/noise_level]\n",
      "  0%|                                                                                     | 0/1 [00:00<?, ?event_log/s]\u001b[A"
     ]
    },
    {
     "name": "stdout",
     "output_type": "stream",
     "text": [
      "Epoch 1/10\n",
      "8/8 [==============================] - 13s 26ms/step - loss: 24.8316 - dense_100_loss: 2.4796 - dense_101_loss: 2.3872 - dense_102_loss: 2.5296 - dense_103_loss: 2.3732 - dense_104_loss: 2.8973 - dense_105_loss: 2.4711 - dense_106_loss: 2.5740 - dense_107_loss: 2.3165 - dense_108_loss: 2.3243 - dense_109_loss: 2.4786 - dense_100_accuracy: 0.1060 - dense_101_accuracy: 0.1300 - dense_102_accuracy: 0.0960 - dense_103_accuracy: 0.1540 - dense_104_accuracy: 0.0600 - dense_105_accuracy: 0.0860 - dense_106_accuracy: 0.0780 - dense_107_accuracy: 0.2280 - dense_108_accuracy: 0.1140 - dense_109_accuracy: 0.0980\n",
      "Epoch 2/10\n",
      "8/8 [==============================] - 0s 26ms/step - loss: 22.4358 - dense_100_loss: 2.1274 - dense_101_loss: 2.1403 - dense_102_loss: 2.3394 - dense_103_loss: 2.0994 - dense_104_loss: 2.6368 - dense_105_loss: 2.2235 - dense_106_loss: 2.3089 - dense_107_loss: 2.0934 - dense_108_loss: 2.1469 - dense_109_loss: 2.3198 - dense_100_accuracy: 0.2040 - dense_101_accuracy: 0.1520 - dense_102_accuracy: 0.1860 - dense_103_accuracy: 0.2460 - dense_104_accuracy: 0.1300 - dense_105_accuracy: 0.1840 - dense_106_accuracy: 0.1960 - dense_107_accuracy: 0.1980 - dense_108_accuracy: 0.1900 - dense_109_accuracy: 0.1260\n",
      "Epoch 3/10\n",
      "8/8 [==============================] - 0s 26ms/step - loss: 20.6339 - dense_100_loss: 1.9740 - dense_101_loss: 2.0503 - dense_102_loss: 2.0976 - dense_103_loss: 1.9907 - dense_104_loss: 2.3724 - dense_105_loss: 2.0375 - dense_106_loss: 2.0653 - dense_107_loss: 1.9610 - dense_108_loss: 1.9056 - dense_109_loss: 2.1796 - dense_100_accuracy: 0.3240 - dense_101_accuracy: 0.1980 - dense_102_accuracy: 0.2120 - dense_103_accuracy: 0.2480 - dense_104_accuracy: 0.1840 - dense_105_accuracy: 0.2220 - dense_106_accuracy: 0.2480 - dense_107_accuracy: 0.2600 - dense_108_accuracy: 0.2680 - dense_109_accuracy: 0.1580\n",
      "Epoch 4/10\n",
      "8/8 [==============================] - 0s 26ms/step - loss: 18.9424 - dense_100_loss: 1.7466 - dense_101_loss: 1.8796 - dense_102_loss: 1.9475 - dense_103_loss: 1.8291 - dense_104_loss: 2.1626 - dense_105_loss: 1.8887 - dense_106_loss: 1.8492 - dense_107_loss: 1.8416 - dense_108_loss: 1.6944 - dense_109_loss: 2.1031 - dense_100_accuracy: 0.4140 - dense_101_accuracy: 0.2300 - dense_102_accuracy: 0.2000 - dense_103_accuracy: 0.2840 - dense_104_accuracy: 0.2260 - dense_105_accuracy: 0.2600 - dense_106_accuracy: 0.3120 - dense_107_accuracy: 0.3060 - dense_108_accuracy: 0.3780 - dense_109_accuracy: 0.2000\n",
      "Epoch 5/10\n",
      "8/8 [==============================] - 0s 27ms/step - loss: 17.7629 - dense_100_loss: 1.5683 - dense_101_loss: 1.7577 - dense_102_loss: 1.8307 - dense_103_loss: 1.7250 - dense_104_loss: 2.0496 - dense_105_loss: 1.7934 - dense_106_loss: 1.7326 - dense_107_loss: 1.7519 - dense_108_loss: 1.5865 - dense_109_loss: 1.9672 - dense_100_accuracy: 0.4620 - dense_101_accuracy: 0.2960 - dense_102_accuracy: 0.2260 - dense_103_accuracy: 0.2940 - dense_104_accuracy: 0.2300 - dense_105_accuracy: 0.2660 - dense_106_accuracy: 0.3400 - dense_107_accuracy: 0.3000 - dense_108_accuracy: 0.3980 - dense_109_accuracy: 0.2540\n",
      "Epoch 6/10\n",
      "8/8 [==============================] - 0s 28ms/step - loss: 17.1856 - dense_100_loss: 1.4711 - dense_101_loss: 1.7142 - dense_102_loss: 1.7920 - dense_103_loss: 1.6735 - dense_104_loss: 2.0109 - dense_105_loss: 1.7506 - dense_106_loss: 1.7030 - dense_107_loss: 1.7200 - dense_108_loss: 1.5355 - dense_109_loss: 1.8149 - dense_100_accuracy: 0.4620 - dense_101_accuracy: 0.2840 - dense_102_accuracy: 0.2200 - dense_103_accuracy: 0.2860 - dense_104_accuracy: 0.2140 - dense_105_accuracy: 0.2680 - dense_106_accuracy: 0.3340 - dense_107_accuracy: 0.2740 - dense_108_accuracy: 0.3880 - dense_109_accuracy: 0.2400\n",
      "Epoch 7/10\n",
      "8/8 [==============================] - 0s 26ms/step - loss: 16.9439 - dense_100_loss: 1.4460 - dense_101_loss: 1.6890 - dense_102_loss: 1.7754 - dense_103_loss: 1.6554 - dense_104_loss: 1.9864 - dense_105_loss: 1.7204 - dense_106_loss: 1.6851 - dense_107_loss: 1.7053 - dense_108_loss: 1.5102 - dense_109_loss: 1.7705 - dense_100_accuracy: 0.4580 - dense_101_accuracy: 0.3100 - dense_102_accuracy: 0.2160 - dense_103_accuracy: 0.2800 - dense_104_accuracy: 0.2220 - dense_105_accuracy: 0.2840 - dense_106_accuracy: 0.3320 - dense_107_accuracy: 0.2980 - dense_108_accuracy: 0.4040 - dense_109_accuracy: 0.2380\n",
      "Epoch 8/10\n",
      "8/8 [==============================] - 0s 26ms/step - loss: 16.8196 - dense_100_loss: 1.4308 - dense_101_loss: 1.6876 - dense_102_loss: 1.7537 - dense_103_loss: 1.6426 - dense_104_loss: 1.9700 - dense_105_loss: 1.7083 - dense_106_loss: 1.6759 - dense_107_loss: 1.6954 - dense_108_loss: 1.5027 - dense_109_loss: 1.7525 - dense_100_accuracy: 0.4640 - dense_101_accuracy: 0.2900 - dense_102_accuracy: 0.2460 - dense_103_accuracy: 0.2760 - dense_104_accuracy: 0.2320 - dense_105_accuracy: 0.2540 - dense_106_accuracy: 0.3320 - dense_107_accuracy: 0.2980 - dense_108_accuracy: 0.3860 - dense_109_accuracy: 0.2320\n",
      "Epoch 9/10\n",
      "8/8 [==============================] - 0s 27ms/step - loss: 16.7327 - dense_100_loss: 1.4247 - dense_101_loss: 1.6689 - dense_102_loss: 1.7492 - dense_103_loss: 1.6426 - dense_104_loss: 1.9623 - dense_105_loss: 1.6973 - dense_106_loss: 1.6694 - dense_107_loss: 1.6822 - dense_108_loss: 1.4877 - dense_109_loss: 1.7484 - dense_100_accuracy: 0.4600 - dense_101_accuracy: 0.3040 - dense_102_accuracy: 0.2380 - dense_103_accuracy: 0.2780 - dense_104_accuracy: 0.2360 - dense_105_accuracy: 0.3020 - dense_106_accuracy: 0.3420 - dense_107_accuracy: 0.3060 - dense_108_accuracy: 0.3960 - dense_109_accuracy: 0.2280\n",
      "Epoch 10/10\n",
      "8/8 [==============================] - 0s 27ms/step - loss: 16.7162 - dense_100_loss: 1.4188 - dense_101_loss: 1.6774 - dense_102_loss: 1.7404 - dense_103_loss: 1.6429 - dense_104_loss: 1.9505 - dense_105_loss: 1.6956 - dense_106_loss: 1.6719 - dense_107_loss: 1.6934 - dense_108_loss: 1.4756 - dense_109_loss: 1.7497 - dense_100_accuracy: 0.4580 - dense_101_accuracy: 0.2940 - dense_102_accuracy: 0.2640 - dense_103_accuracy: 0.2800 - dense_104_accuracy: 0.2400 - dense_105_accuracy: 0.2600 - dense_106_accuracy: 0.3460 - dense_107_accuracy: 0.2960 - dense_108_accuracy: 0.4080 - dense_109_accuracy: 0.2680\n",
      "16/16 [==============================] - 1s 8ms/step\n"
     ]
    },
    {
     "name": "stderr",
     "output_type": "stream",
     "text": [
      "\n",
      "100%|█████████████████████████████████████████████████████████████████████████████| 1/1 [00:20<00:00, 20.17s/event_log]\u001b[A\n",
      "100%|█████████████████████████████████████████████████████████████████████████| 11/11 [03:37<00:00, 19.77s/noise_level]\n"
     ]
    }
   ],
   "source": [
    "# init and train GRU - added noise filtering, loop over all logs, metrics like f-score, statistics to create graph on\n",
    "# statistics saved in google docs excel file in README to utilize further for presentation\n",
    "\n",
    "#GRUClust\n",
    "results_gruclust = {}\n",
    "for i in range(11):\n",
    "    noise = i / 10.0\n",
    "    results_gruclust[noise] = []\n",
    "\n",
    "for noise in tqdm(event_logs.keys(), unit=\"noise_level\"):    \n",
    "    for file in tqdm(event_logs[noise], unit='event_log'):\n",
    "        # load file\n",
    "        event_log = EventLog(file, case_attributes=case_attributes, event_attributes=event_attributes, true_cluster_label=true_cluster_label)\n",
    "        event_log.load(event_log_path + file, False)\n",
    "        event_log.preprocess()\n",
    "        \n",
    "        # get sequences from event log as one-hot feature vector\n",
    "        sequences = event_log.event_attributes_flat_onehot_features_2d\n",
    "\n",
    "        predictor = EmbeddingPredict(event_log)\n",
    "        predictor.build_model(embedding_dim=vector_size, gru_dim=vector_size, rnn='gru')\n",
    "        predictor.fit(epochs=n_epochs, batch_size=n_batch_size, verbose=True)   \n",
    "        \n",
    "        # infer the vector from the model\n",
    "        pred_model, feature_vector, embedding_vector = predictor.predict()    \n",
    "        \n",
    "        cluster_analysis = Clustering(event_log)\n",
    "        cluster_analysis.cluster(feature_vector, clustering_method, n_clusters, 'cosine')\n",
    "\n",
    "        cluster_result = cluster_analysis.evaluate()\n",
    "        evaluation = Evaluation(event_log)\n",
    "        (fitness, precision, simplicity) = evaluation.evaluate_clusters(n_clusters, cluster_analysis.pred_labels) # Heuristics Miner + 2. Metric\n",
    "        f_score = 2 * (fitness * precision) / (fitness + precision) # idea: fitness <=> recall & precision <=> precision\n",
    "        \n",
    "        results_gruclust[noise].append({\"f1_bcubed\":cluster_result[2], \"f_score\":f_score, \"fitness\": fitness, \"precision\":precision, \"simplicity\":simplicity})"
   ]
  },
  {
   "cell_type": "code",
   "execution_count": 18,
   "metadata": {},
   "outputs": [
    {
     "name": "stdout",
     "output_type": "stream",
     "text": [
      "       f1_bcubed    f_score    fitness  precision  simplicity\n",
      "count  11.000000  11.000000  11.000000  11.000000   11.000000\n",
      "mean    0.924485   0.648969   0.707216   0.604185    0.644677\n",
      "std     0.037669   0.090937   0.084260   0.108425    0.084689\n",
      "min     0.854812   0.488746   0.532383   0.451721    0.484000\n",
      "25%     0.906433   0.580065   0.665202   0.488733    0.608873\n",
      "50%     0.919701   0.667821   0.723871   0.634864    0.636857\n",
      "75%     0.949292   0.720178   0.767371   0.699338    0.698663\n",
      "max     0.978967   0.762060   0.806000   0.725518    0.806000\n",
      "---\n",
      "noise: 0.0\n",
      "       f1_bcubed   f_score  fitness  precision  simplicity\n",
      "count   1.000000  1.000000    1.000    1.00000       1.000\n",
      "mean    0.854812  0.611144    0.806    0.49216       0.806\n",
      "std          NaN       NaN      NaN        NaN         NaN\n",
      "min     0.854812  0.611144    0.806    0.49216       0.806\n",
      "25%     0.854812  0.611144    0.806    0.49216       0.806\n",
      "50%     0.854812  0.611144    0.806    0.49216       0.806\n",
      "75%     0.854812  0.611144    0.806    0.49216       0.806\n",
      "max     0.854812  0.611144    0.806    0.49216       0.806\n",
      "---\n",
      "noise: 0.1\n",
      "       f1_bcubed   f_score   fitness  precision  simplicity\n",
      "count   1.000000  1.000000  1.000000   1.000000    1.000000\n",
      "mean    0.919701  0.743757  0.775581   0.714441    0.698639\n",
      "std          NaN       NaN       NaN        NaN         NaN\n",
      "min     0.919701  0.743757  0.775581   0.714441    0.698639\n",
      "25%     0.919701  0.743757  0.775581   0.714441    0.698639\n",
      "50%     0.919701  0.743757  0.775581   0.714441    0.698639\n",
      "75%     0.919701  0.743757  0.775581   0.714441    0.698639\n",
      "max     0.919701  0.743757  0.775581   0.714441    0.698639\n",
      "---\n",
      "noise: 0.2\n",
      "       f1_bcubed  f_score   fitness  precision  simplicity\n",
      "count   1.000000  1.00000  1.000000   1.000000       1.000\n",
      "mean    0.917212  0.76206  0.802477   0.725518       0.717\n",
      "std          NaN      NaN       NaN        NaN         NaN\n",
      "min     0.917212  0.76206  0.802477   0.725518       0.717\n",
      "25%     0.917212  0.76206  0.802477   0.725518       0.717\n",
      "50%     0.917212  0.76206  0.802477   0.725518       0.717\n",
      "75%     0.917212  0.76206  0.802477   0.725518       0.717\n",
      "max     0.917212  0.76206  0.802477   0.725518       0.717\n",
      "---\n",
      "noise: 0.3\n",
      "       f1_bcubed   f_score   fitness  precision  simplicity\n",
      "count   1.000000  1.000000  1.000000   1.000000    1.000000\n",
      "mean    0.915467  0.548986  0.631902   0.485306    0.644842\n",
      "std          NaN       NaN       NaN        NaN         NaN\n",
      "min     0.915467  0.548986  0.631902   0.485306    0.644842\n",
      "25%     0.915467  0.548986  0.631902   0.485306    0.644842\n",
      "50%     0.915467  0.548986  0.631902   0.485306    0.644842\n",
      "75%     0.915467  0.548986  0.631902   0.485306    0.644842\n",
      "max     0.915467  0.548986  0.631902   0.485306    0.644842\n",
      "---\n",
      "noise: 0.4\n",
      "       f1_bcubed   f_score   fitness  precision  simplicity\n",
      "count   1.000000  1.000000  1.000000   1.000000    1.000000\n",
      "mean    0.886756  0.723195  0.759162   0.690482    0.698688\n",
      "std          NaN       NaN       NaN        NaN         NaN\n",
      "min     0.886756  0.723195  0.759162   0.690482    0.698688\n",
      "25%     0.886756  0.723195  0.759162   0.690482    0.698688\n",
      "50%     0.886756  0.723195  0.759162   0.690482    0.698688\n",
      "75%     0.886756  0.723195  0.759162   0.690482    0.698688\n",
      "max     0.886756  0.723195  0.759162   0.690482    0.698688\n",
      "---\n",
      "noise: 0.5\n",
      "       f1_bcubed   f_score   fitness  precision  simplicity\n",
      "count   1.000000  1.000000  1.000000   1.000000    1.000000\n",
      "mean    0.977296  0.689242  0.698503   0.680223    0.571235\n",
      "std          NaN       NaN       NaN        NaN         NaN\n",
      "min     0.977296  0.689242  0.698503   0.680223    0.571235\n",
      "25%     0.977296  0.689242  0.698503   0.680223    0.571235\n",
      "50%     0.977296  0.689242  0.698503   0.680223    0.571235\n",
      "75%     0.977296  0.689242  0.698503   0.680223    0.571235\n",
      "max     0.977296  0.689242  0.698503   0.680223    0.571235\n",
      "---\n",
      "noise: 0.6\n",
      "       f1_bcubed   f_score   fitness  precision  simplicity\n",
      "count    1.00000  1.000000  1.000000   1.000000    1.000000\n",
      "mean     0.94534  0.717161  0.726358   0.708193    0.610412\n",
      "std          NaN       NaN       NaN        NaN         NaN\n",
      "min      0.94534  0.717161  0.726358   0.708193    0.610412\n",
      "25%      0.94534  0.717161  0.726358   0.708193    0.610412\n",
      "50%      0.94534  0.717161  0.726358   0.708193    0.610412\n",
      "75%      0.94534  0.717161  0.726358   0.708193    0.610412\n",
      "max      0.94534  0.717161  0.726358   0.708193    0.610412\n",
      "---\n",
      "noise: 0.7\n",
      "       f1_bcubed   f_score   fitness  precision  simplicity\n",
      "count   1.000000  1.000000  1.000000   1.000000       1.000\n",
      "mean    0.978967  0.488746  0.532383   0.451721       0.484\n",
      "std          NaN       NaN       NaN        NaN         NaN\n",
      "min     0.978967  0.488746  0.532383   0.451721       0.484\n",
      "25%     0.978967  0.488746  0.532383   0.451721       0.484\n",
      "50%     0.978967  0.488746  0.532383   0.451721       0.484\n",
      "75%     0.978967  0.488746  0.532383   0.451721       0.484\n",
      "max     0.978967  0.488746  0.532383   0.451721       0.484\n",
      "---\n",
      "noise: 0.8\n",
      "       f1_bcubed   f_score   fitness  precision  simplicity\n",
      "count   1.000000  1.000000  1.000000   1.000000    1.000000\n",
      "mean    0.923135  0.645625  0.723871   0.582646    0.607335\n",
      "std          NaN       NaN       NaN        NaN         NaN\n",
      "min     0.923135  0.645625  0.723871   0.582646    0.607335\n",
      "25%     0.923135  0.645625  0.723871   0.582646    0.607335\n",
      "50%     0.923135  0.645625  0.723871   0.582646    0.607335\n",
      "75%     0.923135  0.645625  0.723871   0.582646    0.607335\n",
      "max     0.923135  0.645625  0.723871   0.582646    0.607335\n",
      "---\n",
      "noise: 0.9\n",
      "       f1_bcubed  f_score   fitness  precision  simplicity\n",
      "count     1.0000  1.00000  1.000000   1.000000    1.000000\n",
      "mean      0.8974  0.54092  0.618749   0.480483    0.636857\n",
      "std          NaN      NaN       NaN        NaN         NaN\n",
      "min       0.8974  0.54092  0.618749   0.480483    0.636857\n",
      "25%       0.8974  0.54092  0.618749   0.480483    0.636857\n",
      "50%       0.8974  0.54092  0.618749   0.480483    0.636857\n",
      "75%       0.8974  0.54092  0.618749   0.480483    0.636857\n",
      "max       0.8974  0.54092  0.618749   0.480483    0.636857\n",
      "---\n",
      "noise: 1.0\n",
      "       f1_bcubed   f_score   fitness  precision  simplicity\n",
      "count   1.000000  1.000000  1.000000   1.000000     1.00000\n",
      "mean    0.953244  0.667821  0.704388   0.634864     0.61644\n",
      "std          NaN       NaN       NaN        NaN         NaN\n",
      "min     0.953244  0.667821  0.704388   0.634864     0.61644\n",
      "25%     0.953244  0.667821  0.704388   0.634864     0.61644\n",
      "50%     0.953244  0.667821  0.704388   0.634864     0.61644\n",
      "75%     0.953244  0.667821  0.704388   0.634864     0.61644\n",
      "max     0.953244  0.667821  0.704388   0.634864     0.61644\n",
      "---\n"
     ]
    }
   ],
   "source": [
    "# Statistics GRU\n",
    "\n",
    "# complete\n",
    "complete = []\n",
    "for i in range(11):\n",
    "    complete += results_gruclust[i/10]\n",
    "complete = pd.DataFrame.from_dict(complete)\n",
    "print(complete.describe())\n",
    "\n",
    "print(\"---\")\n",
    "\n",
    "# noise\n",
    "for i in range(11):\n",
    "    print(f\"noise: {i/10}\")\n",
    "    print(pd.DataFrame.from_dict(results_gruclust[i/10]).describe())\n",
    "    print(\"---\")"
   ]
  },
  {
   "cell_type": "markdown",
   "metadata": {},
   "source": [
    "### LSTM"
   ]
  },
  {
   "cell_type": "code",
   "execution_count": 19,
   "metadata": {},
   "outputs": [
    {
     "name": "stderr",
     "output_type": "stream",
     "text": [
      "  0%|                                                                                  | 0/11 [00:00<?, ?noise_level/s]\n",
      "  0%|                                                                                     | 0/1 [00:00<?, ?event_log/s]\u001b[A"
     ]
    },
    {
     "name": "stdout",
     "output_type": "stream",
     "text": [
      "Epoch 1/10\n",
      "8/8 [==============================] - 13s 22ms/step - loss: 21.3502 - dense_220_loss: 1.9601 - dense_221_loss: 1.9945 - dense_222_loss: 2.2975 - dense_223_loss: 2.0276 - dense_224_loss: 2.4123 - dense_225_loss: 2.1441 - dense_226_loss: 2.1594 - dense_227_loss: 1.9818 - dense_228_loss: 2.1256 - dense_229_loss: 2.2473 - dense_220_accuracy: 0.3160 - dense_221_accuracy: 0.2400 - dense_222_accuracy: 0.1460 - dense_223_accuracy: 0.1340 - dense_224_accuracy: 0.1200 - dense_225_accuracy: 0.1200 - dense_226_accuracy: 0.2140 - dense_227_accuracy: 0.2260 - dense_228_accuracy: 0.2620 - dense_229_accuracy: 0.1880\n",
      "Epoch 2/10\n",
      "8/8 [==============================] - 0s 23ms/step - loss: 17.2254 - dense_220_loss: 1.4912 - dense_221_loss: 1.6309 - dense_222_loss: 1.8318 - dense_223_loss: 1.7294 - dense_224_loss: 1.9318 - dense_225_loss: 1.7436 - dense_226_loss: 1.6152 - dense_227_loss: 1.6830 - dense_228_loss: 1.5907 - dense_229_loss: 1.9778 - dense_220_accuracy: 0.4640 - dense_221_accuracy: 0.3600 - dense_222_accuracy: 0.2300 - dense_223_accuracy: 0.2480 - dense_224_accuracy: 0.1860 - dense_225_accuracy: 0.2680 - dense_226_accuracy: 0.3920 - dense_227_accuracy: 0.3180 - dense_228_accuracy: 0.3620 - dense_229_accuracy: 0.2680\n",
      "Epoch 3/10\n",
      "8/8 [==============================] - 0s 25ms/step - loss: 14.4010 - dense_220_loss: 1.2218 - dense_221_loss: 1.4270 - dense_222_loss: 1.5230 - dense_223_loss: 1.4679 - dense_224_loss: 1.5791 - dense_225_loss: 1.4500 - dense_226_loss: 1.3600 - dense_227_loss: 1.4292 - dense_228_loss: 1.2807 - dense_229_loss: 1.6625 - dense_220_accuracy: 0.5140 - dense_221_accuracy: 0.3160 - dense_222_accuracy: 0.2480 - dense_223_accuracy: 0.3260 - dense_224_accuracy: 0.2720 - dense_225_accuracy: 0.2920 - dense_226_accuracy: 0.3900 - dense_227_accuracy: 0.3040 - dense_228_accuracy: 0.4140 - dense_229_accuracy: 0.2460\n",
      "Epoch 4/10\n",
      "8/8 [==============================] - 0s 22ms/step - loss: 13.3170 - dense_220_loss: 1.0898 - dense_221_loss: 1.3259 - dense_222_loss: 1.4311 - dense_223_loss: 1.3656 - dense_224_loss: 1.4435 - dense_225_loss: 1.3635 - dense_226_loss: 1.2801 - dense_227_loss: 1.3430 - dense_228_loss: 1.1883 - dense_229_loss: 1.4862 - dense_220_accuracy: 0.5140 - dense_221_accuracy: 0.3420 - dense_222_accuracy: 0.2500 - dense_223_accuracy: 0.3080 - dense_224_accuracy: 0.2120 - dense_225_accuracy: 0.2940 - dense_226_accuracy: 0.3660 - dense_227_accuracy: 0.3120 - dense_228_accuracy: 0.4080 - dense_229_accuracy: 0.2480\n",
      "Epoch 5/10\n",
      "8/8 [==============================] - 0s 22ms/step - loss: 12.9688 - dense_220_loss: 1.0585 - dense_221_loss: 1.3164 - dense_222_loss: 1.4142 - dense_223_loss: 1.3240 - dense_224_loss: 1.4038 - dense_225_loss: 1.3153 - dense_226_loss: 1.2360 - dense_227_loss: 1.3072 - dense_228_loss: 1.1640 - dense_229_loss: 1.4295 - dense_220_accuracy: 0.4880 - dense_221_accuracy: 0.3540 - dense_222_accuracy: 0.2680 - dense_223_accuracy: 0.2920 - dense_224_accuracy: 0.2840 - dense_225_accuracy: 0.3500 - dense_226_accuracy: 0.3740 - dense_227_accuracy: 0.3440 - dense_228_accuracy: 0.4200 - dense_229_accuracy: 0.2520\n",
      "Epoch 6/10\n",
      "8/8 [==============================] - 0s 25ms/step - loss: 12.8639 - dense_220_loss: 1.0429 - dense_221_loss: 1.3005 - dense_222_loss: 1.4032 - dense_223_loss: 1.3085 - dense_224_loss: 1.4002 - dense_225_loss: 1.3118 - dense_226_loss: 1.2304 - dense_227_loss: 1.3025 - dense_228_loss: 1.1553 - dense_229_loss: 1.4087 - dense_220_accuracy: 0.5140 - dense_221_accuracy: 0.3400 - dense_222_accuracy: 0.2640 - dense_223_accuracy: 0.3380 - dense_224_accuracy: 0.2880 - dense_225_accuracy: 0.3360 - dense_226_accuracy: 0.4040 - dense_227_accuracy: 0.3540 - dense_228_accuracy: 0.4140 - dense_229_accuracy: 0.2640\n",
      "Epoch 7/10\n",
      "8/8 [==============================] - 0s 19ms/step - loss: 12.8540 - dense_220_loss: 1.0486 - dense_221_loss: 1.2993 - dense_222_loss: 1.4010 - dense_223_loss: 1.3025 - dense_224_loss: 1.3999 - dense_225_loss: 1.3111 - dense_226_loss: 1.2285 - dense_227_loss: 1.3016 - dense_228_loss: 1.1592 - dense_229_loss: 1.4023 - dense_220_accuracy: 0.5140 - dense_221_accuracy: 0.3440 - dense_222_accuracy: 0.2700 - dense_223_accuracy: 0.3320 - dense_224_accuracy: 0.2540 - dense_225_accuracy: 0.3380 - dense_226_accuracy: 0.3840 - dense_227_accuracy: 0.3220 - dense_228_accuracy: 0.4100 - dense_229_accuracy: 0.2620\n",
      "Epoch 8/10\n",
      "8/8 [==============================] - 0s 23ms/step - loss: 12.8542 - dense_220_loss: 1.0466 - dense_221_loss: 1.2964 - dense_222_loss: 1.3991 - dense_223_loss: 1.3046 - dense_224_loss: 1.4016 - dense_225_loss: 1.3117 - dense_226_loss: 1.2299 - dense_227_loss: 1.3021 - dense_228_loss: 1.1561 - dense_229_loss: 1.4061 - dense_220_accuracy: 0.5100 - dense_221_accuracy: 0.3380 - dense_222_accuracy: 0.2600 - dense_223_accuracy: 0.3440 - dense_224_accuracy: 0.2880 - dense_225_accuracy: 0.3120 - dense_226_accuracy: 0.4080 - dense_227_accuracy: 0.3200 - dense_228_accuracy: 0.4220 - dense_229_accuracy: 0.2680\n",
      "Epoch 9/10\n",
      "8/8 [==============================] - 0s 25ms/step - loss: 12.7656 - dense_220_loss: 1.0338 - dense_221_loss: 1.2862 - dense_222_loss: 1.3955 - dense_223_loss: 1.2937 - dense_224_loss: 1.3932 - dense_225_loss: 1.3032 - dense_226_loss: 1.2177 - dense_227_loss: 1.2941 - dense_228_loss: 1.1505 - dense_229_loss: 1.3977 - dense_220_accuracy: 0.5140 - dense_221_accuracy: 0.3480 - dense_222_accuracy: 0.2840 - dense_223_accuracy: 0.3360 - dense_224_accuracy: 0.2740 - dense_225_accuracy: 0.3540 - dense_226_accuracy: 0.4000 - dense_227_accuracy: 0.3300 - dense_228_accuracy: 0.4200 - dense_229_accuracy: 0.2720\n",
      "Epoch 10/10\n",
      "8/8 [==============================] - 0s 25ms/step - loss: 12.7380 - dense_220_loss: 1.0372 - dense_221_loss: 1.2890 - dense_222_loss: 1.3876 - dense_223_loss: 1.2946 - dense_224_loss: 1.3896 - dense_225_loss: 1.2995 - dense_226_loss: 1.2122 - dense_227_loss: 1.2866 - dense_228_loss: 1.1525 - dense_229_loss: 1.3892 - dense_220_accuracy: 0.5140 - dense_221_accuracy: 0.3580 - dense_222_accuracy: 0.3040 - dense_223_accuracy: 0.3380 - dense_224_accuracy: 0.2960 - dense_225_accuracy: 0.3380 - dense_226_accuracy: 0.4220 - dense_227_accuracy: 0.3600 - dense_228_accuracy: 0.4200 - dense_229_accuracy: 0.2680\n",
      "16/16 [==============================] - 1s 7ms/step\n"
     ]
    },
    {
     "name": "stderr",
     "output_type": "stream",
     "text": [
      "\n",
      "100%|█████████████████████████████████████████████████████████████████████████████| 1/1 [00:18<00:00, 18.16s/event_log]\u001b[A\n",
      "  9%|██████▋                                                                   | 1/11 [00:18<03:01, 18.18s/noise_level]\n",
      "  0%|                                                                                     | 0/1 [00:00<?, ?event_log/s]\u001b[A"
     ]
    },
    {
     "name": "stdout",
     "output_type": "stream",
     "text": [
      "Epoch 1/10\n",
      "8/8 [==============================] - 15s 32ms/step - loss: 22.3458 - dense_230_loss: 2.1732 - dense_231_loss: 2.1166 - dense_232_loss: 2.4130 - dense_233_loss: 2.0102 - dense_234_loss: 2.6334 - dense_235_loss: 2.2679 - dense_236_loss: 2.2006 - dense_237_loss: 2.0856 - dense_238_loss: 2.1582 - dense_239_loss: 2.2871 - dense_230_accuracy: 0.1860 - dense_231_accuracy: 0.1640 - dense_232_accuracy: 0.1760 - dense_233_accuracy: 0.2600 - dense_234_accuracy: 0.1040 - dense_235_accuracy: 0.1220 - dense_236_accuracy: 0.2280 - dense_237_accuracy: 0.1820 - dense_238_accuracy: 0.1140 - dense_239_accuracy: 0.1320\n",
      "Epoch 2/10\n",
      "8/8 [==============================] - 0s 28ms/step - loss: 18.9918 - dense_230_loss: 1.8185 - dense_231_loss: 1.7916 - dense_232_loss: 2.0479 - dense_233_loss: 1.7980 - dense_234_loss: 2.2116 - dense_235_loss: 1.9497 - dense_236_loss: 1.7786 - dense_237_loss: 1.7824 - dense_238_loss: 1.7776 - dense_239_loss: 2.0359 - dense_230_accuracy: 0.3200 - dense_231_accuracy: 0.2280 - dense_232_accuracy: 0.1920 - dense_233_accuracy: 0.2620 - dense_234_accuracy: 0.1980 - dense_235_accuracy: 0.2940 - dense_236_accuracy: 0.3320 - dense_237_accuracy: 0.2420 - dense_238_accuracy: 0.3640 - dense_239_accuracy: 0.1400\n",
      "Epoch 3/10\n",
      "8/8 [==============================] - 0s 28ms/step - loss: 16.3006 - dense_230_loss: 1.5558 - dense_231_loss: 1.5959 - dense_232_loss: 1.7743 - dense_233_loss: 1.5671 - dense_234_loss: 1.8109 - dense_235_loss: 1.6545 - dense_236_loss: 1.5091 - dense_237_loss: 1.5765 - dense_238_loss: 1.4871 - dense_239_loss: 1.7695 - dense_230_accuracy: 0.3760 - dense_231_accuracy: 0.2960 - dense_232_accuracy: 0.2420 - dense_233_accuracy: 0.3400 - dense_234_accuracy: 0.2340 - dense_235_accuracy: 0.3080 - dense_236_accuracy: 0.3820 - dense_237_accuracy: 0.2600 - dense_238_accuracy: 0.4200 - dense_239_accuracy: 0.2140\n",
      "Epoch 4/10\n",
      "8/8 [==============================] - 0s 30ms/step - loss: 14.4058 - dense_230_loss: 1.3144 - dense_231_loss: 1.4647 - dense_232_loss: 1.5866 - dense_233_loss: 1.4309 - dense_234_loss: 1.5696 - dense_235_loss: 1.4919 - dense_236_loss: 1.3319 - dense_237_loss: 1.4075 - dense_238_loss: 1.2816 - dense_239_loss: 1.5266 - dense_230_accuracy: 0.4440 - dense_231_accuracy: 0.3440 - dense_232_accuracy: 0.2680 - dense_233_accuracy: 0.3500 - dense_234_accuracy: 0.2840 - dense_235_accuracy: 0.3160 - dense_236_accuracy: 0.4040 - dense_237_accuracy: 0.3300 - dense_238_accuracy: 0.4340 - dense_239_accuracy: 0.2660\n",
      "Epoch 5/10\n",
      "8/8 [==============================] - 0s 29ms/step - loss: 13.5748 - dense_230_loss: 1.1428 - dense_231_loss: 1.3724 - dense_232_loss: 1.4832 - dense_233_loss: 1.3517 - dense_234_loss: 1.4986 - dense_235_loss: 1.3939 - dense_236_loss: 1.2665 - dense_237_loss: 1.3780 - dense_238_loss: 1.2324 - dense_239_loss: 1.4553 - dense_230_accuracy: 0.4460 - dense_231_accuracy: 0.3200 - dense_232_accuracy: 0.2780 - dense_233_accuracy: 0.3400 - dense_234_accuracy: 0.2840 - dense_235_accuracy: 0.3320 - dense_236_accuracy: 0.3680 - dense_237_accuracy: 0.3520 - dense_238_accuracy: 0.4320 - dense_239_accuracy: 0.2860\n",
      "Epoch 6/10\n",
      "8/8 [==============================] - 0s 30ms/step - loss: 13.3815 - dense_230_loss: 1.1108 - dense_231_loss: 1.3571 - dense_232_loss: 1.4401 - dense_233_loss: 1.3537 - dense_234_loss: 1.4706 - dense_235_loss: 1.3873 - dense_236_loss: 1.2584 - dense_237_loss: 1.3499 - dense_238_loss: 1.2217 - dense_239_loss: 1.4320 - dense_230_accuracy: 0.4660 - dense_231_accuracy: 0.3460 - dense_232_accuracy: 0.3040 - dense_233_accuracy: 0.3460 - dense_234_accuracy: 0.2800 - dense_235_accuracy: 0.3120 - dense_236_accuracy: 0.3980 - dense_237_accuracy: 0.3420 - dense_238_accuracy: 0.4360 - dense_239_accuracy: 0.2880\n",
      "Epoch 7/10\n",
      "8/8 [==============================] - 0s 27ms/step - loss: 13.3541 - dense_230_loss: 1.1112 - dense_231_loss: 1.3592 - dense_232_loss: 1.4467 - dense_233_loss: 1.3442 - dense_234_loss: 1.4658 - dense_235_loss: 1.3791 - dense_236_loss: 1.2516 - dense_237_loss: 1.3417 - dense_238_loss: 1.2217 - dense_239_loss: 1.4330 - dense_230_accuracy: 0.4240 - dense_231_accuracy: 0.3240 - dense_232_accuracy: 0.2680 - dense_233_accuracy: 0.3280 - dense_234_accuracy: 0.2820 - dense_235_accuracy: 0.3220 - dense_236_accuracy: 0.3980 - dense_237_accuracy: 0.3480 - dense_238_accuracy: 0.3820 - dense_239_accuracy: 0.2880\n",
      "Epoch 8/10\n",
      "8/8 [==============================] - 0s 29ms/step - loss: 13.3475 - dense_230_loss: 1.1128 - dense_231_loss: 1.3596 - dense_232_loss: 1.4465 - dense_233_loss: 1.3428 - dense_234_loss: 1.4678 - dense_235_loss: 1.3702 - dense_236_loss: 1.2529 - dense_237_loss: 1.3415 - dense_238_loss: 1.2239 - dense_239_loss: 1.4295 - dense_230_accuracy: 0.4500 - dense_231_accuracy: 0.3340 - dense_232_accuracy: 0.2720 - dense_233_accuracy: 0.3580 - dense_234_accuracy: 0.2580 - dense_235_accuracy: 0.3260 - dense_236_accuracy: 0.3700 - dense_237_accuracy: 0.3400 - dense_238_accuracy: 0.4140 - dense_239_accuracy: 0.2840\n",
      "Epoch 9/10\n",
      "8/8 [==============================] - 0s 28ms/step - loss: 13.3055 - dense_230_loss: 1.1076 - dense_231_loss: 1.3624 - dense_232_loss: 1.4379 - dense_233_loss: 1.3339 - dense_234_loss: 1.4611 - dense_235_loss: 1.3701 - dense_236_loss: 1.2484 - dense_237_loss: 1.3366 - dense_238_loss: 1.2234 - dense_239_loss: 1.4241 - dense_230_accuracy: 0.4600 - dense_231_accuracy: 0.2920 - dense_232_accuracy: 0.2580 - dense_233_accuracy: 0.3380 - dense_234_accuracy: 0.2720 - dense_235_accuracy: 0.2960 - dense_236_accuracy: 0.3880 - dense_237_accuracy: 0.3420 - dense_238_accuracy: 0.3700 - dense_239_accuracy: 0.2700\n",
      "Epoch 10/10\n",
      "8/8 [==============================] - 0s 27ms/step - loss: 13.1793 - dense_230_loss: 1.0905 - dense_231_loss: 1.3421 - dense_232_loss: 1.4258 - dense_233_loss: 1.3319 - dense_234_loss: 1.4501 - dense_235_loss: 1.3577 - dense_236_loss: 1.2379 - dense_237_loss: 1.3360 - dense_238_loss: 1.1975 - dense_239_loss: 1.4096 - dense_230_accuracy: 0.4660 - dense_231_accuracy: 0.3420 - dense_232_accuracy: 0.2800 - dense_233_accuracy: 0.3340 - dense_234_accuracy: 0.2820 - dense_235_accuracy: 0.3420 - dense_236_accuracy: 0.3920 - dense_237_accuracy: 0.3560 - dense_238_accuracy: 0.4280 - dense_239_accuracy: 0.2760\n",
      "16/16 [==============================] - 1s 6ms/step\n"
     ]
    },
    {
     "name": "stderr",
     "output_type": "stream",
     "text": [
      "\n",
      "100%|█████████████████████████████████████████████████████████████████████████████| 1/1 [00:20<00:00, 20.78s/event_log]\u001b[A\n",
      " 18%|█████████████▍                                                            | 2/11 [00:38<02:57, 19.71s/noise_level]\n",
      "  0%|                                                                                     | 0/1 [00:00<?, ?event_log/s]\u001b[A"
     ]
    },
    {
     "name": "stdout",
     "output_type": "stream",
     "text": [
      "Epoch 1/10\n",
      "8/8 [==============================] - 14s 27ms/step - loss: 22.9697 - dense_240_loss: 2.1270 - dense_241_loss: 2.0434 - dense_242_loss: 2.4679 - dense_243_loss: 2.2212 - dense_244_loss: 2.5303 - dense_245_loss: 2.3017 - dense_246_loss: 2.4233 - dense_247_loss: 2.2304 - dense_248_loss: 2.1693 - dense_249_loss: 2.4551 - dense_240_accuracy: 0.2120 - dense_241_accuracy: 0.1440 - dense_242_accuracy: 0.1400 - dense_243_accuracy: 0.2120 - dense_244_accuracy: 0.0580 - dense_245_accuracy: 0.1600 - dense_246_accuracy: 0.1820 - dense_247_accuracy: 0.2500 - dense_248_accuracy: 0.1960 - dense_249_accuracy: 0.0880\n",
      "Epoch 2/10\n",
      "8/8 [==============================] - 0s 24ms/step - loss: 19.0586 - dense_240_loss: 1.6515 - dense_241_loss: 1.7274 - dense_242_loss: 2.1215 - dense_243_loss: 1.8278 - dense_244_loss: 2.1317 - dense_245_loss: 1.9347 - dense_246_loss: 1.8837 - dense_247_loss: 1.8990 - dense_248_loss: 1.7539 - dense_249_loss: 2.1273 - dense_240_accuracy: 0.4240 - dense_241_accuracy: 0.3140 - dense_242_accuracy: 0.1760 - dense_243_accuracy: 0.2980 - dense_244_accuracy: 0.1860 - dense_245_accuracy: 0.2480 - dense_246_accuracy: 0.3260 - dense_247_accuracy: 0.2680 - dense_248_accuracy: 0.3040 - dense_249_accuracy: 0.1960\n",
      "Epoch 3/10\n",
      "8/8 [==============================] - 0s 24ms/step - loss: 15.5411 - dense_240_loss: 1.2545 - dense_241_loss: 1.5341 - dense_242_loss: 1.6897 - dense_243_loss: 1.5211 - dense_244_loss: 1.7425 - dense_245_loss: 1.5605 - dense_246_loss: 1.5101 - dense_247_loss: 1.5639 - dense_248_loss: 1.4196 - dense_249_loss: 1.7451 - dense_240_accuracy: 0.4460 - dense_241_accuracy: 0.3320 - dense_242_accuracy: 0.2240 - dense_243_accuracy: 0.3400 - dense_244_accuracy: 0.2580 - dense_245_accuracy: 0.3100 - dense_246_accuracy: 0.3040 - dense_247_accuracy: 0.3400 - dense_248_accuracy: 0.4560 - dense_249_accuracy: 0.2520\n",
      "Epoch 4/10\n",
      "8/8 [==============================] - 0s 26ms/step - loss: 14.1482 - dense_240_loss: 1.1226 - dense_241_loss: 1.4149 - dense_242_loss: 1.5125 - dense_243_loss: 1.4278 - dense_244_loss: 1.5690 - dense_245_loss: 1.4708 - dense_246_loss: 1.3633 - dense_247_loss: 1.4612 - dense_248_loss: 1.2675 - dense_249_loss: 1.5388 - dense_240_accuracy: 0.5140 - dense_241_accuracy: 0.3520 - dense_242_accuracy: 0.2680 - dense_243_accuracy: 0.3440 - dense_244_accuracy: 0.2820 - dense_245_accuracy: 0.3300 - dense_246_accuracy: 0.3360 - dense_247_accuracy: 0.3600 - dense_248_accuracy: 0.4720 - dense_249_accuracy: 0.2620\n",
      "Epoch 5/10\n",
      "8/8 [==============================] - 0s 27ms/step - loss: 13.8170 - dense_240_loss: 1.0976 - dense_241_loss: 1.3905 - dense_242_loss: 1.4866 - dense_243_loss: 1.4102 - dense_244_loss: 1.5176 - dense_245_loss: 1.4199 - dense_246_loss: 1.3387 - dense_247_loss: 1.4288 - dense_248_loss: 1.2349 - dense_249_loss: 1.4923 - dense_240_accuracy: 0.5160 - dense_241_accuracy: 0.3340 - dense_242_accuracy: 0.2400 - dense_243_accuracy: 0.3140 - dense_244_accuracy: 0.2400 - dense_245_accuracy: 0.2960 - dense_246_accuracy: 0.3500 - dense_247_accuracy: 0.3140 - dense_248_accuracy: 0.4520 - dense_249_accuracy: 0.2640\n",
      "Epoch 6/10\n",
      "8/8 [==============================] - 0s 36ms/step - loss: 13.6896 - dense_240_loss: 1.0872 - dense_241_loss: 1.3691 - dense_242_loss: 1.4731 - dense_243_loss: 1.4051 - dense_244_loss: 1.4928 - dense_245_loss: 1.4015 - dense_246_loss: 1.3292 - dense_247_loss: 1.4276 - dense_248_loss: 1.2265 - dense_249_loss: 1.4775 - dense_240_accuracy: 0.5140 - dense_241_accuracy: 0.3740 - dense_242_accuracy: 0.2760 - dense_243_accuracy: 0.3400 - dense_244_accuracy: 0.2700 - dense_245_accuracy: 0.3300 - dense_246_accuracy: 0.3680 - dense_247_accuracy: 0.3660 - dense_248_accuracy: 0.4580 - dense_249_accuracy: 0.2760\n",
      "Epoch 7/10\n",
      "8/8 [==============================] - 0s 28ms/step - loss: 13.6525 - dense_240_loss: 1.0918 - dense_241_loss: 1.3639 - dense_242_loss: 1.4692 - dense_243_loss: 1.3925 - dense_244_loss: 1.4885 - dense_245_loss: 1.4063 - dense_246_loss: 1.3235 - dense_247_loss: 1.4210 - dense_248_loss: 1.2248 - dense_249_loss: 1.4712 - dense_240_accuracy: 0.5120 - dense_241_accuracy: 0.3620 - dense_242_accuracy: 0.2860 - dense_243_accuracy: 0.3500 - dense_244_accuracy: 0.2900 - dense_245_accuracy: 0.3400 - dense_246_accuracy: 0.3640 - dense_247_accuracy: 0.3560 - dense_248_accuracy: 0.4600 - dense_249_accuracy: 0.2820\n",
      "Epoch 8/10\n",
      "8/8 [==============================] - 0s 30ms/step - loss: 13.6041 - dense_240_loss: 1.0839 - dense_241_loss: 1.3599 - dense_242_loss: 1.4687 - dense_243_loss: 1.3817 - dense_244_loss: 1.4902 - dense_245_loss: 1.4006 - dense_246_loss: 1.3192 - dense_247_loss: 1.4180 - dense_248_loss: 1.2150 - dense_249_loss: 1.4671 - dense_240_accuracy: 0.5100 - dense_241_accuracy: 0.3440 - dense_242_accuracy: 0.2520 - dense_243_accuracy: 0.3320 - dense_244_accuracy: 0.2540 - dense_245_accuracy: 0.2940 - dense_246_accuracy: 0.3640 - dense_247_accuracy: 0.3340 - dense_248_accuracy: 0.4660 - dense_249_accuracy: 0.2460\n",
      "Epoch 9/10\n",
      "8/8 [==============================] - 0s 33ms/step - loss: 13.6002 - dense_240_loss: 1.0871 - dense_241_loss: 1.3650 - dense_242_loss: 1.4608 - dense_243_loss: 1.3858 - dense_244_loss: 1.4859 - dense_245_loss: 1.3946 - dense_246_loss: 1.3167 - dense_247_loss: 1.4182 - dense_248_loss: 1.2207 - dense_249_loss: 1.4653 - dense_240_accuracy: 0.5140 - dense_241_accuracy: 0.3520 - dense_242_accuracy: 0.2580 - dense_243_accuracy: 0.3320 - dense_244_accuracy: 0.2840 - dense_245_accuracy: 0.3340 - dense_246_accuracy: 0.3620 - dense_247_accuracy: 0.3440 - dense_248_accuracy: 0.4560 - dense_249_accuracy: 0.2540\n",
      "Epoch 10/10\n",
      "8/8 [==============================] - 0s 27ms/step - loss: 13.6191 - dense_240_loss: 1.0807 - dense_241_loss: 1.3675 - dense_242_loss: 1.4683 - dense_243_loss: 1.3903 - dense_244_loss: 1.4894 - dense_245_loss: 1.3944 - dense_246_loss: 1.3135 - dense_247_loss: 1.4218 - dense_248_loss: 1.2251 - dense_249_loss: 1.4683 - dense_240_accuracy: 0.5120 - dense_241_accuracy: 0.3360 - dense_242_accuracy: 0.2800 - dense_243_accuracy: 0.3340 - dense_244_accuracy: 0.2780 - dense_245_accuracy: 0.3220 - dense_246_accuracy: 0.3740 - dense_247_accuracy: 0.3420 - dense_248_accuracy: 0.4520 - dense_249_accuracy: 0.2800\n",
      "16/16 [==============================] - 2s 10ms/step\n"
     ]
    },
    {
     "name": "stderr",
     "output_type": "stream",
     "text": [
      "\n",
      "100%|█████████████████████████████████████████████████████████████████████████████| 1/1 [00:19<00:00, 19.58s/event_log]\u001b[A\n",
      " 27%|████████████████████▏                                                     | 3/11 [00:58<02:37, 19.66s/noise_level]\n",
      "  0%|                                                                                     | 0/1 [00:00<?, ?event_log/s]\u001b[A"
     ]
    },
    {
     "name": "stdout",
     "output_type": "stream",
     "text": [
      "Epoch 1/10\n",
      "8/8 [==============================] - 14s 36ms/step - loss: 23.8629 - dense_250_loss: 2.3231 - dense_251_loss: 2.2287 - dense_252_loss: 2.4728 - dense_253_loss: 2.2463 - dense_254_loss: 2.8324 - dense_255_loss: 2.3510 - dense_256_loss: 2.5350 - dense_257_loss: 2.2631 - dense_258_loss: 2.2511 - dense_259_loss: 2.3596 - dense_250_accuracy: 0.1940 - dense_251_accuracy: 0.1980 - dense_252_accuracy: 0.1980 - dense_253_accuracy: 0.1380 - dense_254_accuracy: 0.0640 - dense_255_accuracy: 0.1780 - dense_256_accuracy: 0.1120 - dense_257_accuracy: 0.1660 - dense_258_accuracy: 0.2280 - dense_259_accuracy: 0.1600\n",
      "Epoch 2/10\n",
      "8/8 [==============================] - 0s 31ms/step - loss: 19.6228 - dense_250_loss: 1.7994 - dense_251_loss: 1.8296 - dense_252_loss: 2.1410 - dense_253_loss: 1.8498 - dense_254_loss: 2.3705 - dense_255_loss: 1.9502 - dense_256_loss: 2.0173 - dense_257_loss: 1.8478 - dense_258_loss: 1.8320 - dense_259_loss: 1.9853 - dense_250_accuracy: 0.4160 - dense_251_accuracy: 0.2580 - dense_252_accuracy: 0.2060 - dense_253_accuracy: 0.2500 - dense_254_accuracy: 0.1600 - dense_255_accuracy: 0.2480 - dense_256_accuracy: 0.2800 - dense_257_accuracy: 0.3100 - dense_258_accuracy: 0.3500 - dense_259_accuracy: 0.2260\n",
      "Epoch 3/10\n",
      "8/8 [==============================] - 0s 27ms/step - loss: 16.2266 - dense_250_loss: 1.3878 - dense_251_loss: 1.5540 - dense_252_loss: 1.8130 - dense_253_loss: 1.5739 - dense_254_loss: 1.9191 - dense_255_loss: 1.6012 - dense_256_loss: 1.5741 - dense_257_loss: 1.6069 - dense_258_loss: 1.5184 - dense_259_loss: 1.6781 - dense_250_accuracy: 0.4580 - dense_251_accuracy: 0.2920 - dense_252_accuracy: 0.2440 - dense_253_accuracy: 0.3160 - dense_254_accuracy: 0.2060 - dense_255_accuracy: 0.2880 - dense_256_accuracy: 0.3760 - dense_257_accuracy: 0.3140 - dense_258_accuracy: 0.3940 - dense_259_accuracy: 0.2460\n",
      "Epoch 4/10\n",
      "8/8 [==============================] - 0s 29ms/step - loss: 14.8528 - dense_250_loss: 1.2582 - dense_251_loss: 1.4784 - dense_252_loss: 1.6315 - dense_253_loss: 1.4527 - dense_254_loss: 1.6741 - dense_255_loss: 1.5062 - dense_256_loss: 1.4489 - dense_257_loss: 1.4718 - dense_258_loss: 1.3919 - dense_259_loss: 1.5392 - dense_250_accuracy: 0.4640 - dense_251_accuracy: 0.3160 - dense_252_accuracy: 0.2280 - dense_253_accuracy: 0.3420 - dense_254_accuracy: 0.2580 - dense_255_accuracy: 0.2680 - dense_256_accuracy: 0.3720 - dense_257_accuracy: 0.3400 - dense_258_accuracy: 0.4040 - dense_259_accuracy: 0.2580\n",
      "Epoch 5/10\n",
      "8/8 [==============================] - 0s 31ms/step - loss: 14.5171 - dense_250_loss: 1.1990 - dense_251_loss: 1.4632 - dense_252_loss: 1.5942 - dense_253_loss: 1.4382 - dense_254_loss: 1.6118 - dense_255_loss: 1.4714 - dense_256_loss: 1.4168 - dense_257_loss: 1.4289 - dense_258_loss: 1.3806 - dense_259_loss: 1.5131 - dense_250_accuracy: 0.4680 - dense_251_accuracy: 0.2860 - dense_252_accuracy: 0.2800 - dense_253_accuracy: 0.3500 - dense_254_accuracy: 0.2560 - dense_255_accuracy: 0.3320 - dense_256_accuracy: 0.3520 - dense_257_accuracy: 0.3440 - dense_258_accuracy: 0.3760 - dense_259_accuracy: 0.2540\n",
      "Epoch 6/10\n",
      "8/8 [==============================] - 0s 32ms/step - loss: 14.3842 - dense_250_loss: 1.1894 - dense_251_loss: 1.4563 - dense_252_loss: 1.5829 - dense_253_loss: 1.4209 - dense_254_loss: 1.6012 - dense_255_loss: 1.4604 - dense_256_loss: 1.4002 - dense_257_loss: 1.4099 - dense_258_loss: 1.3649 - dense_259_loss: 1.4981 - dense_250_accuracy: 0.4760 - dense_251_accuracy: 0.2880 - dense_252_accuracy: 0.2520 - dense_253_accuracy: 0.3200 - dense_254_accuracy: 0.2340 - dense_255_accuracy: 0.2960 - dense_256_accuracy: 0.3720 - dense_257_accuracy: 0.3240 - dense_258_accuracy: 0.4120 - dense_259_accuracy: 0.2380\n",
      "Epoch 7/10\n",
      "8/8 [==============================] - 0s 29ms/step - loss: 14.3283 - dense_250_loss: 1.1744 - dense_251_loss: 1.4560 - dense_252_loss: 1.5760 - dense_253_loss: 1.4170 - dense_254_loss: 1.5935 - dense_255_loss: 1.4555 - dense_256_loss: 1.3870 - dense_257_loss: 1.4112 - dense_258_loss: 1.3603 - dense_259_loss: 1.4974 - dense_250_accuracy: 0.4820 - dense_251_accuracy: 0.2820 - dense_252_accuracy: 0.2340 - dense_253_accuracy: 0.3120 - dense_254_accuracy: 0.2380 - dense_255_accuracy: 0.3140 - dense_256_accuracy: 0.3640 - dense_257_accuracy: 0.2920 - dense_258_accuracy: 0.4060 - dense_259_accuracy: 0.2460\n",
      "Epoch 8/10\n",
      "8/8 [==============================] - 0s 27ms/step - loss: 14.2885 - dense_250_loss: 1.1817 - dense_251_loss: 1.4456 - dense_252_loss: 1.5743 - dense_253_loss: 1.4111 - dense_254_loss: 1.5819 - dense_255_loss: 1.4501 - dense_256_loss: 1.3840 - dense_257_loss: 1.4176 - dense_258_loss: 1.3555 - dense_259_loss: 1.4868 - dense_250_accuracy: 0.4720 - dense_251_accuracy: 0.3340 - dense_252_accuracy: 0.2620 - dense_253_accuracy: 0.3420 - dense_254_accuracy: 0.2840 - dense_255_accuracy: 0.3200 - dense_256_accuracy: 0.3700 - dense_257_accuracy: 0.3460 - dense_258_accuracy: 0.4120 - dense_259_accuracy: 0.2860\n",
      "Epoch 9/10\n",
      "8/8 [==============================] - 0s 28ms/step - loss: 14.3248 - dense_250_loss: 1.1920 - dense_251_loss: 1.4434 - dense_252_loss: 1.5745 - dense_253_loss: 1.4155 - dense_254_loss: 1.5773 - dense_255_loss: 1.4623 - dense_256_loss: 1.3993 - dense_257_loss: 1.4178 - dense_258_loss: 1.3601 - dense_259_loss: 1.4826 - dense_250_accuracy: 0.4740 - dense_251_accuracy: 0.2940 - dense_252_accuracy: 0.2380 - dense_253_accuracy: 0.3000 - dense_254_accuracy: 0.2320 - dense_255_accuracy: 0.3080 - dense_256_accuracy: 0.3800 - dense_257_accuracy: 0.3260 - dense_258_accuracy: 0.3960 - dense_259_accuracy: 0.2480\n",
      "Epoch 10/10\n",
      "8/8 [==============================] - 0s 30ms/step - loss: 14.2851 - dense_250_loss: 1.1843 - dense_251_loss: 1.4498 - dense_252_loss: 1.5642 - dense_253_loss: 1.4039 - dense_254_loss: 1.5858 - dense_255_loss: 1.4543 - dense_256_loss: 1.3845 - dense_257_loss: 1.4133 - dense_258_loss: 1.3576 - dense_259_loss: 1.4875 - dense_250_accuracy: 0.4800 - dense_251_accuracy: 0.3060 - dense_252_accuracy: 0.2480 - dense_253_accuracy: 0.3340 - dense_254_accuracy: 0.2320 - dense_255_accuracy: 0.2920 - dense_256_accuracy: 0.3720 - dense_257_accuracy: 0.3420 - dense_258_accuracy: 0.3860 - dense_259_accuracy: 0.2360\n",
      "16/16 [==============================] - 1s 12ms/step\n"
     ]
    },
    {
     "name": "stderr",
     "output_type": "stream",
     "text": [
      "\n",
      "100%|█████████████████████████████████████████████████████████████████████████████| 1/1 [00:20<00:00, 20.69s/event_log]\u001b[A\n",
      " 36%|██████████████████████████▉                                               | 4/11 [01:19<02:20, 20.07s/noise_level]\n",
      "  0%|                                                                                     | 0/1 [00:00<?, ?event_log/s]\u001b[A"
     ]
    },
    {
     "name": "stdout",
     "output_type": "stream",
     "text": [
      "Epoch 1/10\n",
      "8/8 [==============================] - 14s 24ms/step - loss: 24.0531 - dense_260_loss: 2.3608 - dense_261_loss: 2.3821 - dense_262_loss: 2.5140 - dense_263_loss: 2.2372 - dense_264_loss: 2.8291 - dense_265_loss: 2.3876 - dense_266_loss: 2.3672 - dense_267_loss: 2.3500 - dense_268_loss: 2.2404 - dense_269_loss: 2.3847 - dense_260_accuracy: 0.2140 - dense_261_accuracy: 0.1620 - dense_262_accuracy: 0.0960 - dense_263_accuracy: 0.1400 - dense_264_accuracy: 0.1060 - dense_265_accuracy: 0.1600 - dense_266_accuracy: 0.2260 - dense_267_accuracy: 0.2280 - dense_268_accuracy: 0.1620 - dense_269_accuracy: 0.1400\n",
      "Epoch 2/10\n",
      "8/8 [==============================] - 0s 24ms/step - loss: 19.2179 - dense_260_loss: 1.6864 - dense_261_loss: 1.9285 - dense_262_loss: 2.0570 - dense_263_loss: 1.8151 - dense_264_loss: 2.2585 - dense_265_loss: 1.9502 - dense_266_loss: 1.8805 - dense_267_loss: 1.8826 - dense_268_loss: 1.7252 - dense_269_loss: 2.0339 - dense_260_accuracy: 0.3900 - dense_261_accuracy: 0.2900 - dense_262_accuracy: 0.1580 - dense_263_accuracy: 0.3260 - dense_264_accuracy: 0.1640 - dense_265_accuracy: 0.2420 - dense_266_accuracy: 0.3020 - dense_267_accuracy: 0.2860 - dense_268_accuracy: 0.4020 - dense_269_accuracy: 0.1800\n",
      "Epoch 3/10\n",
      "8/8 [==============================] - 0s 26ms/step - loss: 16.2668 - dense_260_loss: 1.4051 - dense_261_loss: 1.6680 - dense_262_loss: 1.6922 - dense_263_loss: 1.5773 - dense_264_loss: 1.8766 - dense_265_loss: 1.6945 - dense_266_loss: 1.5749 - dense_267_loss: 1.5666 - dense_268_loss: 1.4826 - dense_269_loss: 1.7289 - dense_260_accuracy: 0.4680 - dense_261_accuracy: 0.3140 - dense_262_accuracy: 0.2560 - dense_263_accuracy: 0.3460 - dense_264_accuracy: 0.1900 - dense_265_accuracy: 0.2980 - dense_266_accuracy: 0.3620 - dense_267_accuracy: 0.3080 - dense_268_accuracy: 0.3580 - dense_269_accuracy: 0.2460\n",
      "Epoch 4/10\n",
      "8/8 [==============================] - 0s 29ms/step - loss: 15.3685 - dense_260_loss: 1.3201 - dense_261_loss: 1.5717 - dense_262_loss: 1.6066 - dense_263_loss: 1.5140 - dense_264_loss: 1.7065 - dense_265_loss: 1.5801 - dense_266_loss: 1.4886 - dense_267_loss: 1.5046 - dense_268_loss: 1.3999 - dense_269_loss: 1.6765 - dense_260_accuracy: 0.4780 - dense_261_accuracy: 0.3340 - dense_262_accuracy: 0.2680 - dense_263_accuracy: 0.3220 - dense_264_accuracy: 0.2400 - dense_265_accuracy: 0.2820 - dense_266_accuracy: 0.3560 - dense_267_accuracy: 0.3260 - dense_268_accuracy: 0.4060 - dense_269_accuracy: 0.2520\n",
      "Epoch 5/10\n",
      "8/8 [==============================] - 0s 26ms/step - loss: 15.1084 - dense_260_loss: 1.3029 - dense_261_loss: 1.5426 - dense_262_loss: 1.6047 - dense_263_loss: 1.4794 - dense_264_loss: 1.6796 - dense_265_loss: 1.5485 - dense_266_loss: 1.4472 - dense_267_loss: 1.4888 - dense_268_loss: 1.3773 - dense_269_loss: 1.6375 - dense_260_accuracy: 0.4700 - dense_261_accuracy: 0.2900 - dense_262_accuracy: 0.2260 - dense_263_accuracy: 0.3340 - dense_264_accuracy: 0.2440 - dense_265_accuracy: 0.2760 - dense_266_accuracy: 0.3540 - dense_267_accuracy: 0.3100 - dense_268_accuracy: 0.4120 - dense_269_accuracy: 0.2420\n",
      "Epoch 6/10\n",
      "8/8 [==============================] - 0s 28ms/step - loss: 14.8553 - dense_260_loss: 1.2749 - dense_261_loss: 1.5087 - dense_262_loss: 1.5752 - dense_263_loss: 1.4628 - dense_264_loss: 1.6528 - dense_265_loss: 1.5136 - dense_266_loss: 1.4141 - dense_267_loss: 1.4845 - dense_268_loss: 1.3572 - dense_269_loss: 1.6115 - dense_260_accuracy: 0.4780 - dense_261_accuracy: 0.3280 - dense_262_accuracy: 0.2380 - dense_263_accuracy: 0.3300 - dense_264_accuracy: 0.2260 - dense_265_accuracy: 0.2780 - dense_266_accuracy: 0.3520 - dense_267_accuracy: 0.3340 - dense_268_accuracy: 0.4100 - dense_269_accuracy: 0.2240\n",
      "Epoch 7/10\n",
      "8/8 [==============================] - 0s 24ms/step - loss: 14.8365 - dense_260_loss: 1.2838 - dense_261_loss: 1.5037 - dense_262_loss: 1.5766 - dense_263_loss: 1.4381 - dense_264_loss: 1.6521 - dense_265_loss: 1.5058 - dense_266_loss: 1.4164 - dense_267_loss: 1.4920 - dense_268_loss: 1.3535 - dense_269_loss: 1.6144 - dense_260_accuracy: 0.4680 - dense_261_accuracy: 0.3240 - dense_262_accuracy: 0.2620 - dense_263_accuracy: 0.3440 - dense_264_accuracy: 0.2640 - dense_265_accuracy: 0.3000 - dense_266_accuracy: 0.3600 - dense_267_accuracy: 0.3220 - dense_268_accuracy: 0.4220 - dense_269_accuracy: 0.2640\n",
      "Epoch 8/10\n",
      "8/8 [==============================] - 0s 28ms/step - loss: 14.6962 - dense_260_loss: 1.2637 - dense_261_loss: 1.4910 - dense_262_loss: 1.5570 - dense_263_loss: 1.4421 - dense_264_loss: 1.6261 - dense_265_loss: 1.4972 - dense_266_loss: 1.3946 - dense_267_loss: 1.4779 - dense_268_loss: 1.3432 - dense_269_loss: 1.6035 - dense_260_accuracy: 0.4700 - dense_261_accuracy: 0.3260 - dense_262_accuracy: 0.2440 - dense_263_accuracy: 0.3420 - dense_264_accuracy: 0.2540 - dense_265_accuracy: 0.3140 - dense_266_accuracy: 0.3780 - dense_267_accuracy: 0.3400 - dense_268_accuracy: 0.4160 - dense_269_accuracy: 0.2540\n",
      "Epoch 9/10\n",
      "8/8 [==============================] - 0s 25ms/step - loss: 14.6406 - dense_260_loss: 1.2640 - dense_261_loss: 1.4799 - dense_262_loss: 1.5475 - dense_263_loss: 1.4358 - dense_264_loss: 1.6212 - dense_265_loss: 1.4894 - dense_266_loss: 1.3912 - dense_267_loss: 1.4751 - dense_268_loss: 1.3384 - dense_269_loss: 1.5981 - dense_260_accuracy: 0.4700 - dense_261_accuracy: 0.3140 - dense_262_accuracy: 0.2220 - dense_263_accuracy: 0.3200 - dense_264_accuracy: 0.2600 - dense_265_accuracy: 0.2940 - dense_266_accuracy: 0.3580 - dense_267_accuracy: 0.3340 - dense_268_accuracy: 0.4020 - dense_269_accuracy: 0.2480\n",
      "Epoch 10/10\n",
      "8/8 [==============================] - 0s 26ms/step - loss: 14.6363 - dense_260_loss: 1.2635 - dense_261_loss: 1.4851 - dense_262_loss: 1.5433 - dense_263_loss: 1.4332 - dense_264_loss: 1.6209 - dense_265_loss: 1.4939 - dense_266_loss: 1.3905 - dense_267_loss: 1.4775 - dense_268_loss: 1.3311 - dense_269_loss: 1.5972 - dense_260_accuracy: 0.4720 - dense_261_accuracy: 0.3100 - dense_262_accuracy: 0.2480 - dense_263_accuracy: 0.3100 - dense_264_accuracy: 0.2480 - dense_265_accuracy: 0.2980 - dense_266_accuracy: 0.3540 - dense_267_accuracy: 0.3100 - dense_268_accuracy: 0.4120 - dense_269_accuracy: 0.2260\n",
      "16/16 [==============================] - 2s 10ms/step\n"
     ]
    },
    {
     "name": "stderr",
     "output_type": "stream",
     "text": [
      "\n",
      "100%|█████████████████████████████████████████████████████████████████████████████| 1/1 [00:20<00:00, 20.89s/event_log]\u001b[A\n",
      " 45%|█████████████████████████████████▋                                        | 5/11 [01:40<02:02, 20.38s/noise_level]\n",
      "  0%|                                                                                     | 0/1 [00:00<?, ?event_log/s]\u001b[A"
     ]
    },
    {
     "name": "stdout",
     "output_type": "stream",
     "text": [
      "Epoch 1/10\n",
      "8/8 [==============================] - 15s 26ms/step - loss: 24.2678 - dense_270_loss: 2.3608 - dense_271_loss: 2.3908 - dense_272_loss: 2.4531 - dense_273_loss: 2.2275 - dense_274_loss: 2.8600 - dense_275_loss: 2.3879 - dense_276_loss: 2.5529 - dense_277_loss: 2.2809 - dense_278_loss: 2.2589 - dense_279_loss: 2.4951 - dense_270_accuracy: 0.1840 - dense_271_accuracy: 0.1340 - dense_272_accuracy: 0.1740 - dense_273_accuracy: 0.2100 - dense_274_accuracy: 0.1080 - dense_275_accuracy: 0.2160 - dense_276_accuracy: 0.1080 - dense_277_accuracy: 0.2200 - dense_278_accuracy: 0.1460 - dense_279_accuracy: 0.1120\n",
      "Epoch 2/10\n",
      "8/8 [==============================] - 0s 27ms/step - loss: 20.1977 - dense_270_loss: 1.8919 - dense_271_loss: 2.0629 - dense_272_loss: 2.1053 - dense_273_loss: 1.8625 - dense_274_loss: 2.3411 - dense_275_loss: 2.0480 - dense_276_loss: 2.0548 - dense_277_loss: 1.8462 - dense_278_loss: 1.8796 - dense_279_loss: 2.1055 - dense_270_accuracy: 0.3500 - dense_271_accuracy: 0.2340 - dense_272_accuracy: 0.1920 - dense_273_accuracy: 0.2780 - dense_274_accuracy: 0.2100 - dense_275_accuracy: 0.2640 - dense_276_accuracy: 0.2800 - dense_277_accuracy: 0.3060 - dense_278_accuracy: 0.3040 - dense_279_accuracy: 0.2060\n",
      "Epoch 3/10\n",
      "8/8 [==============================] - 0s 24ms/step - loss: 17.0843 - dense_270_loss: 1.4832 - dense_271_loss: 1.7550 - dense_272_loss: 1.8614 - dense_273_loss: 1.6682 - dense_274_loss: 1.9714 - dense_275_loss: 1.7142 - dense_276_loss: 1.6680 - dense_277_loss: 1.6548 - dense_278_loss: 1.5357 - dense_279_loss: 1.7724 - dense_270_accuracy: 0.4360 - dense_271_accuracy: 0.2760 - dense_272_accuracy: 0.2440 - dense_273_accuracy: 0.2300 - dense_274_accuracy: 0.2440 - dense_275_accuracy: 0.2920 - dense_276_accuracy: 0.3340 - dense_277_accuracy: 0.3100 - dense_278_accuracy: 0.3840 - dense_279_accuracy: 0.2440\n",
      "Epoch 4/10\n",
      "8/8 [==============================] - 0s 27ms/step - loss: 15.8094 - dense_270_loss: 1.3498 - dense_271_loss: 1.6108 - dense_272_loss: 1.7501 - dense_273_loss: 1.5712 - dense_274_loss: 1.7578 - dense_275_loss: 1.5448 - dense_276_loss: 1.5548 - dense_277_loss: 1.6036 - dense_278_loss: 1.4221 - dense_279_loss: 1.6445 - dense_270_accuracy: 0.4300 - dense_271_accuracy: 0.2680 - dense_272_accuracy: 0.2180 - dense_273_accuracy: 0.3020 - dense_274_accuracy: 0.2460 - dense_275_accuracy: 0.2940 - dense_276_accuracy: 0.3360 - dense_277_accuracy: 0.3120 - dense_278_accuracy: 0.4040 - dense_279_accuracy: 0.2240\n",
      "Epoch 5/10\n",
      "8/8 [==============================] - 0s 27ms/step - loss: 15.7096 - dense_270_loss: 1.3729 - dense_271_loss: 1.5580 - dense_272_loss: 1.7126 - dense_273_loss: 1.5588 - dense_274_loss: 1.7211 - dense_275_loss: 1.5637 - dense_276_loss: 1.5482 - dense_277_loss: 1.5941 - dense_278_loss: 1.4318 - dense_279_loss: 1.6483 - dense_270_accuracy: 0.4160 - dense_271_accuracy: 0.2620 - dense_272_accuracy: 0.2340 - dense_273_accuracy: 0.2860 - dense_274_accuracy: 0.2360 - dense_275_accuracy: 0.2400 - dense_276_accuracy: 0.3360 - dense_277_accuracy: 0.2860 - dense_278_accuracy: 0.3960 - dense_279_accuracy: 0.2160\n",
      "Epoch 6/10\n",
      "8/8 [==============================] - 0s 24ms/step - loss: 15.3957 - dense_270_loss: 1.3291 - dense_271_loss: 1.5444 - dense_272_loss: 1.6994 - dense_273_loss: 1.5349 - dense_274_loss: 1.6748 - dense_275_loss: 1.5319 - dense_276_loss: 1.5004 - dense_277_loss: 1.5779 - dense_278_loss: 1.3926 - dense_279_loss: 1.6104 - dense_270_accuracy: 0.4180 - dense_271_accuracy: 0.2680 - dense_272_accuracy: 0.2440 - dense_273_accuracy: 0.2980 - dense_274_accuracy: 0.2320 - dense_275_accuracy: 0.2980 - dense_276_accuracy: 0.3240 - dense_277_accuracy: 0.3180 - dense_278_accuracy: 0.3920 - dense_279_accuracy: 0.2620\n",
      "Epoch 7/10\n",
      "8/8 [==============================] - 0s 28ms/step - loss: 15.2572 - dense_270_loss: 1.3155 - dense_271_loss: 1.5267 - dense_272_loss: 1.6829 - dense_273_loss: 1.5330 - dense_274_loss: 1.6520 - dense_275_loss: 1.5120 - dense_276_loss: 1.4908 - dense_277_loss: 1.5611 - dense_278_loss: 1.3804 - dense_279_loss: 1.6028 - dense_270_accuracy: 0.4260 - dense_271_accuracy: 0.2880 - dense_272_accuracy: 0.2200 - dense_273_accuracy: 0.3080 - dense_274_accuracy: 0.2620 - dense_275_accuracy: 0.3060 - dense_276_accuracy: 0.3520 - dense_277_accuracy: 0.3400 - dense_278_accuracy: 0.4100 - dense_279_accuracy: 0.2620\n",
      "Epoch 8/10\n",
      "8/8 [==============================] - 0s 24ms/step - loss: 15.1884 - dense_270_loss: 1.3114 - dense_271_loss: 1.5211 - dense_272_loss: 1.6643 - dense_273_loss: 1.5209 - dense_274_loss: 1.6500 - dense_275_loss: 1.5035 - dense_276_loss: 1.4853 - dense_277_loss: 1.5571 - dense_278_loss: 1.3760 - dense_279_loss: 1.5987 - dense_270_accuracy: 0.4340 - dense_271_accuracy: 0.2880 - dense_272_accuracy: 0.2340 - dense_273_accuracy: 0.3200 - dense_274_accuracy: 0.2660 - dense_275_accuracy: 0.3120 - dense_276_accuracy: 0.3540 - dense_277_accuracy: 0.3200 - dense_278_accuracy: 0.4000 - dense_279_accuracy: 0.2680\n",
      "Epoch 9/10\n",
      "8/8 [==============================] - 0s 25ms/step - loss: 15.1554 - dense_270_loss: 1.3129 - dense_271_loss: 1.5212 - dense_272_loss: 1.6642 - dense_273_loss: 1.5311 - dense_274_loss: 1.6413 - dense_275_loss: 1.4939 - dense_276_loss: 1.4847 - dense_277_loss: 1.5475 - dense_278_loss: 1.3697 - dense_279_loss: 1.5890 - dense_270_accuracy: 0.4320 - dense_271_accuracy: 0.2880 - dense_272_accuracy: 0.2420 - dense_273_accuracy: 0.2840 - dense_274_accuracy: 0.2480 - dense_275_accuracy: 0.3100 - dense_276_accuracy: 0.3260 - dense_277_accuracy: 0.3660 - dense_278_accuracy: 0.4020 - dense_279_accuracy: 0.2760\n",
      "Epoch 10/10\n",
      "8/8 [==============================] - 0s 25ms/step - loss: 15.1090 - dense_270_loss: 1.2994 - dense_271_loss: 1.5171 - dense_272_loss: 1.6650 - dense_273_loss: 1.5229 - dense_274_loss: 1.6397 - dense_275_loss: 1.4929 - dense_276_loss: 1.4705 - dense_277_loss: 1.5460 - dense_278_loss: 1.3702 - dense_279_loss: 1.5853 - dense_270_accuracy: 0.4280 - dense_271_accuracy: 0.2980 - dense_272_accuracy: 0.2680 - dense_273_accuracy: 0.3020 - dense_274_accuracy: 0.2540 - dense_275_accuracy: 0.3240 - dense_276_accuracy: 0.3440 - dense_277_accuracy: 0.3300 - dense_278_accuracy: 0.4080 - dense_279_accuracy: 0.2620\n",
      "16/16 [==============================] - 1s 9ms/step\n"
     ]
    },
    {
     "name": "stderr",
     "output_type": "stream",
     "text": [
      "\n",
      "100%|█████████████████████████████████████████████████████████████████████████████| 1/1 [00:20<00:00, 20.72s/event_log]\u001b[A\n",
      " 55%|████████████████████████████████████████▎                                 | 6/11 [02:00<01:42, 20.50s/noise_level]\n",
      "  0%|                                                                                     | 0/1 [00:00<?, ?event_log/s]\u001b[A"
     ]
    },
    {
     "name": "stdout",
     "output_type": "stream",
     "text": [
      "Epoch 1/10\n",
      "8/8 [==============================] - 14s 30ms/step - loss: 24.9589 - dense_280_loss: 2.4589 - dense_281_loss: 2.3969 - dense_282_loss: 2.5126 - dense_283_loss: 2.3797 - dense_284_loss: 2.9215 - dense_285_loss: 2.4986 - dense_286_loss: 2.5715 - dense_287_loss: 2.4472 - dense_288_loss: 2.2665 - dense_289_loss: 2.5054 - dense_280_accuracy: 0.1640 - dense_281_accuracy: 0.1600 - dense_282_accuracy: 0.1660 - dense_283_accuracy: 0.1520 - dense_284_accuracy: 0.0660 - dense_285_accuracy: 0.1300 - dense_286_accuracy: 0.1320 - dense_287_accuracy: 0.0960 - dense_288_accuracy: 0.1680 - dense_289_accuracy: 0.0860\n",
      "Epoch 2/10\n",
      "8/8 [==============================] - 0s 34ms/step - loss: 23.2031 - dense_280_loss: 2.2464 - dense_281_loss: 2.1958 - dense_282_loss: 2.3482 - dense_283_loss: 2.1989 - dense_284_loss: 2.7522 - dense_285_loss: 2.3516 - dense_286_loss: 2.3519 - dense_287_loss: 2.2515 - dense_288_loss: 2.1454 - dense_289_loss: 2.3612 - dense_280_accuracy: 0.2620 - dense_281_accuracy: 0.2140 - dense_282_accuracy: 0.2240 - dense_283_accuracy: 0.1600 - dense_284_accuracy: 0.1280 - dense_285_accuracy: 0.1860 - dense_286_accuracy: 0.2340 - dense_287_accuracy: 0.2280 - dense_288_accuracy: 0.2240 - dense_289_accuracy: 0.1500\n",
      "Epoch 3/10\n",
      "8/8 [==============================] - 0s 25ms/step - loss: 21.9444 - dense_280_loss: 2.0947 - dense_281_loss: 2.0723 - dense_282_loss: 2.1858 - dense_283_loss: 2.0669 - dense_284_loss: 2.5622 - dense_285_loss: 2.2375 - dense_286_loss: 2.2233 - dense_287_loss: 2.1959 - dense_288_loss: 2.0341 - dense_289_loss: 2.2716 - dense_280_accuracy: 0.2880 - dense_281_accuracy: 0.2140 - dense_282_accuracy: 0.2220 - dense_283_accuracy: 0.2380 - dense_284_accuracy: 0.1900 - dense_285_accuracy: 0.2040 - dense_286_accuracy: 0.2760 - dense_287_accuracy: 0.1960 - dense_288_accuracy: 0.2840 - dense_289_accuracy: 0.1900\n",
      "Epoch 4/10\n",
      "8/8 [==============================] - 0s 26ms/step - loss: 21.0468 - dense_280_loss: 1.9831 - dense_281_loss: 2.0240 - dense_282_loss: 2.1036 - dense_283_loss: 1.9857 - dense_284_loss: 2.4431 - dense_285_loss: 2.1740 - dense_286_loss: 2.1240 - dense_287_loss: 2.1081 - dense_288_loss: 1.9580 - dense_289_loss: 2.1432 - dense_280_accuracy: 0.3340 - dense_281_accuracy: 0.2580 - dense_282_accuracy: 0.2040 - dense_283_accuracy: 0.2440 - dense_284_accuracy: 0.2140 - dense_285_accuracy: 0.2240 - dense_286_accuracy: 0.2840 - dense_287_accuracy: 0.2100 - dense_288_accuracy: 0.2840 - dense_289_accuracy: 0.1920\n",
      "Epoch 5/10\n",
      "8/8 [==============================] - 0s 26ms/step - loss: 20.6800 - dense_280_loss: 1.9463 - dense_281_loss: 1.9936 - dense_282_loss: 2.0708 - dense_283_loss: 1.9363 - dense_284_loss: 2.4111 - dense_285_loss: 2.1272 - dense_286_loss: 2.1156 - dense_287_loss: 2.0743 - dense_288_loss: 1.9237 - dense_289_loss: 2.0810 - dense_280_accuracy: 0.3260 - dense_281_accuracy: 0.2480 - dense_282_accuracy: 0.2460 - dense_283_accuracy: 0.2480 - dense_284_accuracy: 0.1900 - dense_285_accuracy: 0.2140 - dense_286_accuracy: 0.2820 - dense_287_accuracy: 0.2560 - dense_288_accuracy: 0.2580 - dense_289_accuracy: 0.2300\n",
      "Epoch 6/10\n",
      "8/8 [==============================] - 0s 24ms/step - loss: 20.4719 - dense_280_loss: 1.9281 - dense_281_loss: 1.9711 - dense_282_loss: 2.0566 - dense_283_loss: 1.9167 - dense_284_loss: 2.3733 - dense_285_loss: 2.1060 - dense_286_loss: 2.0959 - dense_287_loss: 2.0625 - dense_288_loss: 1.8994 - dense_289_loss: 2.0623 - dense_280_accuracy: 0.3320 - dense_281_accuracy: 0.2620 - dense_282_accuracy: 0.2440 - dense_283_accuracy: 0.2240 - dense_284_accuracy: 0.2180 - dense_285_accuracy: 0.2380 - dense_286_accuracy: 0.2740 - dense_287_accuracy: 0.2480 - dense_288_accuracy: 0.2780 - dense_289_accuracy: 0.2300\n",
      "Epoch 7/10\n",
      "8/8 [==============================] - 0s 24ms/step - loss: 20.3845 - dense_280_loss: 1.9177 - dense_281_loss: 1.9692 - dense_282_loss: 2.0509 - dense_283_loss: 1.9144 - dense_284_loss: 2.3604 - dense_285_loss: 2.0958 - dense_286_loss: 2.0810 - dense_287_loss: 2.0585 - dense_288_loss: 1.8859 - dense_289_loss: 2.0506 - dense_280_accuracy: 0.3380 - dense_281_accuracy: 0.2340 - dense_282_accuracy: 0.2380 - dense_283_accuracy: 0.2240 - dense_284_accuracy: 0.2140 - dense_285_accuracy: 0.2520 - dense_286_accuracy: 0.2880 - dense_287_accuracy: 0.2500 - dense_288_accuracy: 0.2720 - dense_289_accuracy: 0.2260\n",
      "Epoch 8/10\n",
      "8/8 [==============================] - 0s 36ms/step - loss: 20.3070 - dense_280_loss: 1.9111 - dense_281_loss: 1.9567 - dense_282_loss: 2.0456 - dense_283_loss: 1.9073 - dense_284_loss: 2.3541 - dense_285_loss: 2.0900 - dense_286_loss: 2.0724 - dense_287_loss: 2.0502 - dense_288_loss: 1.8807 - dense_289_loss: 2.0390 - dense_280_accuracy: 0.3420 - dense_281_accuracy: 0.2480 - dense_282_accuracy: 0.2500 - dense_283_accuracy: 0.2360 - dense_284_accuracy: 0.2280 - dense_285_accuracy: 0.2540 - dense_286_accuracy: 0.2860 - dense_287_accuracy: 0.2400 - dense_288_accuracy: 0.2780 - dense_289_accuracy: 0.2320\n",
      "Epoch 9/10\n",
      "8/8 [==============================] - 0s 30ms/step - loss: 20.2275 - dense_280_loss: 1.9062 - dense_281_loss: 1.9533 - dense_282_loss: 2.0365 - dense_283_loss: 1.8993 - dense_284_loss: 2.3455 - dense_285_loss: 2.0782 - dense_286_loss: 2.0585 - dense_287_loss: 2.0488 - dense_288_loss: 1.8678 - dense_289_loss: 2.0334 - dense_280_accuracy: 0.3400 - dense_281_accuracy: 0.2680 - dense_282_accuracy: 0.2500 - dense_283_accuracy: 0.2640 - dense_284_accuracy: 0.2140 - dense_285_accuracy: 0.2600 - dense_286_accuracy: 0.3000 - dense_287_accuracy: 0.2580 - dense_288_accuracy: 0.2860 - dense_289_accuracy: 0.2340\n",
      "Epoch 10/10\n",
      "8/8 [==============================] - 0s 29ms/step - loss: 20.1335 - dense_280_loss: 1.8965 - dense_281_loss: 1.9469 - dense_282_loss: 2.0225 - dense_283_loss: 1.8946 - dense_284_loss: 2.3280 - dense_285_loss: 2.0705 - dense_286_loss: 2.0532 - dense_287_loss: 2.0375 - dense_288_loss: 1.8533 - dense_289_loss: 2.0307 - dense_280_accuracy: 0.3400 - dense_281_accuracy: 0.2520 - dense_282_accuracy: 0.2660 - dense_283_accuracy: 0.2640 - dense_284_accuracy: 0.2300 - dense_285_accuracy: 0.2400 - dense_286_accuracy: 0.3100 - dense_287_accuracy: 0.2580 - dense_288_accuracy: 0.3080 - dense_289_accuracy: 0.2320\n",
      "16/16 [==============================] - 1s 9ms/step\n"
     ]
    },
    {
     "name": "stderr",
     "output_type": "stream",
     "text": [
      "\n",
      "100%|█████████████████████████████████████████████████████████████████████████████| 1/1 [00:20<00:00, 20.25s/event_log]\u001b[A\n",
      " 64%|███████████████████████████████████████████████                           | 7/11 [02:21<01:21, 20.43s/noise_level]\n",
      "  0%|                                                                                     | 0/1 [00:00<?, ?event_log/s]\u001b[A"
     ]
    },
    {
     "name": "stdout",
     "output_type": "stream",
     "text": [
      "Epoch 1/10\n",
      "8/8 [==============================] - 15s 28ms/step - loss: 24.3547 - dense_290_loss: 2.4184 - dense_291_loss: 2.2728 - dense_292_loss: 2.4511 - dense_293_loss: 2.3488 - dense_294_loss: 2.8414 - dense_295_loss: 2.4473 - dense_296_loss: 2.5091 - dense_297_loss: 2.3673 - dense_298_loss: 2.2407 - dense_299_loss: 2.4580 - dense_290_accuracy: 0.1520 - dense_291_accuracy: 0.1760 - dense_292_accuracy: 0.1620 - dense_293_accuracy: 0.2300 - dense_294_accuracy: 0.0920 - dense_295_accuracy: 0.1640 - dense_296_accuracy: 0.2200 - dense_297_accuracy: 0.2160 - dense_298_accuracy: 0.1640 - dense_299_accuracy: 0.1680\n",
      "Epoch 2/10\n",
      "8/8 [==============================] - 0s 29ms/step - loss: 20.8762 - dense_290_loss: 1.9799 - dense_291_loss: 1.9731 - dense_292_loss: 2.1559 - dense_293_loss: 1.9673 - dense_294_loss: 2.4454 - dense_295_loss: 2.1097 - dense_296_loss: 2.1142 - dense_297_loss: 2.0582 - dense_298_loss: 1.8700 - dense_299_loss: 2.2024 - dense_290_accuracy: 0.2640 - dense_291_accuracy: 0.2820 - dense_292_accuracy: 0.1960 - dense_293_accuracy: 0.2920 - dense_294_accuracy: 0.1580 - dense_295_accuracy: 0.2300 - dense_296_accuracy: 0.3060 - dense_297_accuracy: 0.2920 - dense_298_accuracy: 0.3480 - dense_299_accuracy: 0.1660\n",
      "Epoch 3/10\n",
      "8/8 [==============================] - 0s 25ms/step - loss: 17.8841 - dense_290_loss: 1.6372 - dense_291_loss: 1.7573 - dense_292_loss: 1.8480 - dense_293_loss: 1.7320 - dense_294_loss: 2.0767 - dense_295_loss: 1.7417 - dense_296_loss: 1.7670 - dense_297_loss: 1.7709 - dense_298_loss: 1.6331 - dense_299_loss: 1.9203 - dense_290_accuracy: 0.3860 - dense_291_accuracy: 0.3080 - dense_292_accuracy: 0.2500 - dense_293_accuracy: 0.2940 - dense_294_accuracy: 0.2320 - dense_295_accuracy: 0.2880 - dense_296_accuracy: 0.3460 - dense_297_accuracy: 0.3060 - dense_298_accuracy: 0.4020 - dense_299_accuracy: 0.2460\n",
      "Epoch 4/10\n",
      "8/8 [==============================] - 0s 25ms/step - loss: 16.7153 - dense_290_loss: 1.4854 - dense_291_loss: 1.6348 - dense_292_loss: 1.7058 - dense_293_loss: 1.6617 - dense_294_loss: 1.9196 - dense_295_loss: 1.6416 - dense_296_loss: 1.6588 - dense_297_loss: 1.6721 - dense_298_loss: 1.5811 - dense_299_loss: 1.7544 - dense_290_accuracy: 0.4680 - dense_291_accuracy: 0.3020 - dense_292_accuracy: 0.2300 - dense_293_accuracy: 0.3160 - dense_294_accuracy: 0.2040 - dense_295_accuracy: 0.2940 - dense_296_accuracy: 0.3120 - dense_297_accuracy: 0.2920 - dense_298_accuracy: 0.3960 - dense_299_accuracy: 0.2320\n",
      "Epoch 5/10\n",
      "8/8 [==============================] - 0s 30ms/step - loss: 16.1360 - dense_290_loss: 1.4123 - dense_291_loss: 1.5588 - dense_292_loss: 1.6780 - dense_293_loss: 1.6094 - dense_294_loss: 1.8502 - dense_295_loss: 1.5822 - dense_296_loss: 1.5951 - dense_297_loss: 1.6388 - dense_298_loss: 1.5108 - dense_299_loss: 1.7004 - dense_290_accuracy: 0.4680 - dense_291_accuracy: 0.3300 - dense_292_accuracy: 0.2180 - dense_293_accuracy: 0.3280 - dense_294_accuracy: 0.2480 - dense_295_accuracy: 0.3300 - dense_296_accuracy: 0.3340 - dense_297_accuracy: 0.2960 - dense_298_accuracy: 0.4060 - dense_299_accuracy: 0.2100\n",
      "Epoch 6/10\n",
      "8/8 [==============================] - 0s 28ms/step - loss: 15.9856 - dense_290_loss: 1.3858 - dense_291_loss: 1.5307 - dense_292_loss: 1.6558 - dense_293_loss: 1.6081 - dense_294_loss: 1.8386 - dense_295_loss: 1.5742 - dense_296_loss: 1.5863 - dense_297_loss: 1.6199 - dense_298_loss: 1.5017 - dense_299_loss: 1.6845 - dense_290_accuracy: 0.4680 - dense_291_accuracy: 0.3200 - dense_292_accuracy: 0.2420 - dense_293_accuracy: 0.3160 - dense_294_accuracy: 0.2140 - dense_295_accuracy: 0.3020 - dense_296_accuracy: 0.3380 - dense_297_accuracy: 0.3040 - dense_298_accuracy: 0.3980 - dense_299_accuracy: 0.2400\n",
      "Epoch 7/10\n",
      "8/8 [==============================] - 0s 25ms/step - loss: 15.8951 - dense_290_loss: 1.3766 - dense_291_loss: 1.5259 - dense_292_loss: 1.6491 - dense_293_loss: 1.6048 - dense_294_loss: 1.8235 - dense_295_loss: 1.5630 - dense_296_loss: 1.5660 - dense_297_loss: 1.6137 - dense_298_loss: 1.4954 - dense_299_loss: 1.6771 - dense_290_accuracy: 0.4680 - dense_291_accuracy: 0.3080 - dense_292_accuracy: 0.2300 - dense_293_accuracy: 0.2940 - dense_294_accuracy: 0.2080 - dense_295_accuracy: 0.3060 - dense_296_accuracy: 0.3340 - dense_297_accuracy: 0.3080 - dense_298_accuracy: 0.3980 - dense_299_accuracy: 0.2560\n",
      "Epoch 8/10\n",
      "8/8 [==============================] - 0s 25ms/step - loss: 15.8538 - dense_290_loss: 1.3743 - dense_291_loss: 1.5211 - dense_292_loss: 1.6474 - dense_293_loss: 1.6043 - dense_294_loss: 1.8152 - dense_295_loss: 1.5631 - dense_296_loss: 1.5642 - dense_297_loss: 1.6091 - dense_298_loss: 1.4893 - dense_299_loss: 1.6657 - dense_290_accuracy: 0.4700 - dense_291_accuracy: 0.3260 - dense_292_accuracy: 0.2580 - dense_293_accuracy: 0.3440 - dense_294_accuracy: 0.2380 - dense_295_accuracy: 0.3020 - dense_296_accuracy: 0.3520 - dense_297_accuracy: 0.3200 - dense_298_accuracy: 0.4040 - dense_299_accuracy: 0.2620\n",
      "Epoch 9/10\n",
      "8/8 [==============================] - 0s 26ms/step - loss: 15.8173 - dense_290_loss: 1.3689 - dense_291_loss: 1.5183 - dense_292_loss: 1.6378 - dense_293_loss: 1.5966 - dense_294_loss: 1.8117 - dense_295_loss: 1.5592 - dense_296_loss: 1.5566 - dense_297_loss: 1.6153 - dense_298_loss: 1.4783 - dense_299_loss: 1.6744 - dense_290_accuracy: 0.4680 - dense_291_accuracy: 0.3460 - dense_292_accuracy: 0.2500 - dense_293_accuracy: 0.3200 - dense_294_accuracy: 0.2480 - dense_295_accuracy: 0.3080 - dense_296_accuracy: 0.3560 - dense_297_accuracy: 0.3080 - dense_298_accuracy: 0.4100 - dense_299_accuracy: 0.2500\n",
      "Epoch 10/10\n",
      "8/8 [==============================] - 0s 25ms/step - loss: 15.8112 - dense_290_loss: 1.3688 - dense_291_loss: 1.5152 - dense_292_loss: 1.6411 - dense_293_loss: 1.5966 - dense_294_loss: 1.8126 - dense_295_loss: 1.5631 - dense_296_loss: 1.5538 - dense_297_loss: 1.6086 - dense_298_loss: 1.4822 - dense_299_loss: 1.6691 - dense_290_accuracy: 0.4680 - dense_291_accuracy: 0.3220 - dense_292_accuracy: 0.2260 - dense_293_accuracy: 0.3360 - dense_294_accuracy: 0.2380 - dense_295_accuracy: 0.3100 - dense_296_accuracy: 0.3520 - dense_297_accuracy: 0.2840 - dense_298_accuracy: 0.4000 - dense_299_accuracy: 0.2380\n",
      "16/16 [==============================] - 2s 8ms/step\n"
     ]
    },
    {
     "name": "stderr",
     "output_type": "stream",
     "text": [
      "\n",
      "100%|█████████████████████████████████████████████████████████████████████████████| 1/1 [00:21<00:00, 21.56s/event_log]\u001b[A\n",
      " 73%|█████████████████████████████████████████████████████▊                    | 8/11 [02:42<01:02, 20.79s/noise_level]\n",
      "  0%|                                                                                     | 0/1 [00:00<?, ?event_log/s]\u001b[A"
     ]
    },
    {
     "name": "stdout",
     "output_type": "stream",
     "text": [
      "Epoch 1/10\n",
      "8/8 [==============================] - 13s 25ms/step - loss: 24.5816 - dense_300_loss: 2.3966 - dense_301_loss: 2.3858 - dense_302_loss: 2.5136 - dense_303_loss: 2.3539 - dense_304_loss: 2.9015 - dense_305_loss: 2.4972 - dense_306_loss: 2.5016 - dense_307_loss: 2.3342 - dense_308_loss: 2.2137 - dense_309_loss: 2.4835 - dense_300_accuracy: 0.1920 - dense_301_accuracy: 0.1440 - dense_302_accuracy: 0.1780 - dense_303_accuracy: 0.2120 - dense_304_accuracy: 0.1020 - dense_305_accuracy: 0.1640 - dense_306_accuracy: 0.1620 - dense_307_accuracy: 0.1580 - dense_308_accuracy: 0.1720 - dense_309_accuracy: 0.1440\n",
      "Epoch 2/10\n",
      "8/8 [==============================] - 0s 25ms/step - loss: 21.0819 - dense_300_loss: 2.0335 - dense_301_loss: 2.0499 - dense_302_loss: 2.1807 - dense_303_loss: 2.0176 - dense_304_loss: 2.4834 - dense_305_loss: 2.1873 - dense_306_loss: 2.0604 - dense_307_loss: 1.9324 - dense_308_loss: 1.9213 - dense_309_loss: 2.2153 - dense_300_accuracy: 0.3340 - dense_301_accuracy: 0.2060 - dense_302_accuracy: 0.2160 - dense_303_accuracy: 0.3080 - dense_304_accuracy: 0.1940 - dense_305_accuracy: 0.2100 - dense_306_accuracy: 0.2480 - dense_307_accuracy: 0.2900 - dense_308_accuracy: 0.3120 - dense_309_accuracy: 0.2120\n",
      "Epoch 3/10\n",
      "8/8 [==============================] - 0s 26ms/step - loss: 18.3115 - dense_300_loss: 1.7354 - dense_301_loss: 1.7743 - dense_302_loss: 1.8830 - dense_303_loss: 1.7837 - dense_304_loss: 2.1426 - dense_305_loss: 1.8459 - dense_306_loss: 1.7408 - dense_307_loss: 1.7520 - dense_308_loss: 1.6920 - dense_309_loss: 1.9617 - dense_300_accuracy: 0.4200 - dense_301_accuracy: 0.2460 - dense_302_accuracy: 0.2400 - dense_303_accuracy: 0.2980 - dense_304_accuracy: 0.2380 - dense_305_accuracy: 0.2420 - dense_306_accuracy: 0.3580 - dense_307_accuracy: 0.3180 - dense_308_accuracy: 0.3720 - dense_309_accuracy: 0.2240\n",
      "Epoch 4/10\n",
      "8/8 [==============================] - 0s 26ms/step - loss: 16.9267 - dense_300_loss: 1.5864 - dense_301_loss: 1.6892 - dense_302_loss: 1.6964 - dense_303_loss: 1.6668 - dense_304_loss: 1.9215 - dense_305_loss: 1.6824 - dense_306_loss: 1.6297 - dense_307_loss: 1.6851 - dense_308_loss: 1.5618 - dense_309_loss: 1.8073 - dense_300_accuracy: 0.4400 - dense_301_accuracy: 0.2720 - dense_302_accuracy: 0.2640 - dense_303_accuracy: 0.3340 - dense_304_accuracy: 0.2240 - dense_305_accuracy: 0.2680 - dense_306_accuracy: 0.3600 - dense_307_accuracy: 0.3380 - dense_308_accuracy: 0.4040 - dense_309_accuracy: 0.2500\n",
      "Epoch 5/10\n",
      "8/8 [==============================] - 0s 29ms/step - loss: 16.5888 - dense_300_loss: 1.5538 - dense_301_loss: 1.6564 - dense_302_loss: 1.6752 - dense_303_loss: 1.6291 - dense_304_loss: 1.8702 - dense_305_loss: 1.6793 - dense_306_loss: 1.5858 - dense_307_loss: 1.6546 - dense_308_loss: 1.5421 - dense_309_loss: 1.7424 - dense_300_accuracy: 0.4240 - dense_301_accuracy: 0.2900 - dense_302_accuracy: 0.2500 - dense_303_accuracy: 0.3380 - dense_304_accuracy: 0.2620 - dense_305_accuracy: 0.2340 - dense_306_accuracy: 0.3520 - dense_307_accuracy: 0.3160 - dense_308_accuracy: 0.4020 - dense_309_accuracy: 0.2280\n",
      "Epoch 6/10\n",
      "8/8 [==============================] - 0s 25ms/step - loss: 16.3660 - dense_300_loss: 1.5275 - dense_301_loss: 1.6420 - dense_302_loss: 1.6488 - dense_303_loss: 1.6124 - dense_304_loss: 1.8427 - dense_305_loss: 1.6509 - dense_306_loss: 1.5735 - dense_307_loss: 1.6271 - dense_308_loss: 1.5219 - dense_309_loss: 1.7193 - dense_300_accuracy: 0.4280 - dense_301_accuracy: 0.2760 - dense_302_accuracy: 0.2620 - dense_303_accuracy: 0.3300 - dense_304_accuracy: 0.2340 - dense_305_accuracy: 0.2440 - dense_306_accuracy: 0.3500 - dense_307_accuracy: 0.3040 - dense_308_accuracy: 0.3920 - dense_309_accuracy: 0.2340\n",
      "Epoch 7/10\n",
      "8/8 [==============================] - 0s 26ms/step - loss: 16.4443 - dense_300_loss: 1.5319 - dense_301_loss: 1.6607 - dense_302_loss: 1.6551 - dense_303_loss: 1.6216 - dense_304_loss: 1.8472 - dense_305_loss: 1.6519 - dense_306_loss: 1.5743 - dense_307_loss: 1.6432 - dense_308_loss: 1.5287 - dense_309_loss: 1.7296 - dense_300_accuracy: 0.4280 - dense_301_accuracy: 0.3060 - dense_302_accuracy: 0.2760 - dense_303_accuracy: 0.3360 - dense_304_accuracy: 0.2280 - dense_305_accuracy: 0.2320 - dense_306_accuracy: 0.3480 - dense_307_accuracy: 0.3160 - dense_308_accuracy: 0.4060 - dense_309_accuracy: 0.2360\n",
      "Epoch 8/10\n",
      "8/8 [==============================] - 0s 25ms/step - loss: 16.2672 - dense_300_loss: 1.5200 - dense_301_loss: 1.6484 - dense_302_loss: 1.6362 - dense_303_loss: 1.6006 - dense_304_loss: 1.8212 - dense_305_loss: 1.6354 - dense_306_loss: 1.5531 - dense_307_loss: 1.6277 - dense_308_loss: 1.5068 - dense_309_loss: 1.7178 - dense_300_accuracy: 0.3940 - dense_301_accuracy: 0.3060 - dense_302_accuracy: 0.2900 - dense_303_accuracy: 0.3220 - dense_304_accuracy: 0.2820 - dense_305_accuracy: 0.2580 - dense_306_accuracy: 0.3660 - dense_307_accuracy: 0.3200 - dense_308_accuracy: 0.4080 - dense_309_accuracy: 0.2780\n",
      "Epoch 9/10\n",
      "8/8 [==============================] - 0s 28ms/step - loss: 16.2167 - dense_300_loss: 1.5069 - dense_301_loss: 1.6380 - dense_302_loss: 1.6298 - dense_303_loss: 1.6047 - dense_304_loss: 1.8193 - dense_305_loss: 1.6361 - dense_306_loss: 1.5489 - dense_307_loss: 1.6172 - dense_308_loss: 1.5072 - dense_309_loss: 1.7087 - dense_300_accuracy: 0.4420 - dense_301_accuracy: 0.3120 - dense_302_accuracy: 0.3060 - dense_303_accuracy: 0.3280 - dense_304_accuracy: 0.2860 - dense_305_accuracy: 0.2760 - dense_306_accuracy: 0.3560 - dense_307_accuracy: 0.3220 - dense_308_accuracy: 0.4100 - dense_309_accuracy: 0.2600\n",
      "Epoch 10/10\n",
      "8/8 [==============================] - 0s 25ms/step - loss: 16.1338 - dense_300_loss: 1.5059 - dense_301_loss: 1.6256 - dense_302_loss: 1.6232 - dense_303_loss: 1.5984 - dense_304_loss: 1.8073 - dense_305_loss: 1.6221 - dense_306_loss: 1.5401 - dense_307_loss: 1.6075 - dense_308_loss: 1.5069 - dense_309_loss: 1.6968 - dense_300_accuracy: 0.4420 - dense_301_accuracy: 0.3280 - dense_302_accuracy: 0.2940 - dense_303_accuracy: 0.3300 - dense_304_accuracy: 0.2860 - dense_305_accuracy: 0.2920 - dense_306_accuracy: 0.3540 - dense_307_accuracy: 0.3360 - dense_308_accuracy: 0.4120 - dense_309_accuracy: 0.2700\n",
      "16/16 [==============================] - 2s 11ms/step\n"
     ]
    },
    {
     "name": "stderr",
     "output_type": "stream",
     "text": [
      "\n",
      "100%|█████████████████████████████████████████████████████████████████████████████| 1/1 [00:20<00:00, 20.63s/event_log]\u001b[A\n",
      " 82%|████████████████████████████████████████████████████████████▌             | 9/11 [03:03<00:41, 20.75s/noise_level]\n",
      "  0%|                                                                                     | 0/1 [00:00<?, ?event_log/s]\u001b[A"
     ]
    },
    {
     "name": "stdout",
     "output_type": "stream",
     "text": [
      "Epoch 1/10\n",
      "8/8 [==============================] - 13s 31ms/step - loss: 24.5062 - dense_310_loss: 2.3943 - dense_311_loss: 2.3461 - dense_312_loss: 2.5243 - dense_313_loss: 2.3122 - dense_314_loss: 2.8709 - dense_315_loss: 2.4590 - dense_316_loss: 2.5210 - dense_317_loss: 2.3581 - dense_318_loss: 2.2378 - dense_319_loss: 2.4825 - dense_310_accuracy: 0.1720 - dense_311_accuracy: 0.0980 - dense_312_accuracy: 0.1020 - dense_313_accuracy: 0.2400 - dense_314_accuracy: 0.0820 - dense_315_accuracy: 0.1520 - dense_316_accuracy: 0.1740 - dense_317_accuracy: 0.2020 - dense_318_accuracy: 0.2100 - dense_319_accuracy: 0.1640\n",
      "Epoch 2/10\n",
      "8/8 [==============================] - 0s 26ms/step - loss: 21.7147 - dense_310_loss: 2.0477 - dense_311_loss: 2.1220 - dense_312_loss: 2.3165 - dense_313_loss: 2.0040 - dense_314_loss: 2.4420 - dense_315_loss: 2.2225 - dense_316_loss: 2.1916 - dense_317_loss: 2.0803 - dense_318_loss: 2.0121 - dense_319_loss: 2.2761 - dense_310_accuracy: 0.2960 - dense_311_accuracy: 0.1900 - dense_312_accuracy: 0.1800 - dense_313_accuracy: 0.2560 - dense_314_accuracy: 0.2020 - dense_315_accuracy: 0.2100 - dense_316_accuracy: 0.2300 - dense_317_accuracy: 0.2120 - dense_318_accuracy: 0.3000 - dense_319_accuracy: 0.1840\n",
      "Epoch 3/10\n",
      "8/8 [==============================] - 0s 26ms/step - loss: 19.5944 - dense_310_loss: 1.7883 - dense_311_loss: 1.9366 - dense_312_loss: 2.0730 - dense_313_loss: 1.8451 - dense_314_loss: 2.1717 - dense_315_loss: 1.9398 - dense_316_loss: 1.9538 - dense_317_loss: 1.9787 - dense_318_loss: 1.7620 - dense_319_loss: 2.1455 - dense_310_accuracy: 0.4120 - dense_311_accuracy: 0.2240 - dense_312_accuracy: 0.2160 - dense_313_accuracy: 0.2660 - dense_314_accuracy: 0.2440 - dense_315_accuracy: 0.2580 - dense_316_accuracy: 0.2840 - dense_317_accuracy: 0.2620 - dense_318_accuracy: 0.3340 - dense_319_accuracy: 0.1840\n",
      "Epoch 4/10\n",
      "8/8 [==============================] - 0s 30ms/step - loss: 18.0487 - dense_310_loss: 1.6275 - dense_311_loss: 1.8270 - dense_312_loss: 1.8553 - dense_313_loss: 1.7091 - dense_314_loss: 2.0193 - dense_315_loss: 1.7967 - dense_316_loss: 1.7659 - dense_317_loss: 1.8165 - dense_318_loss: 1.6487 - dense_319_loss: 1.9826 - dense_310_accuracy: 0.4300 - dense_311_accuracy: 0.2900 - dense_312_accuracy: 0.2320 - dense_313_accuracy: 0.3020 - dense_314_accuracy: 0.2440 - dense_315_accuracy: 0.2780 - dense_316_accuracy: 0.3440 - dense_317_accuracy: 0.2700 - dense_318_accuracy: 0.3920 - dense_319_accuracy: 0.2260\n",
      "Epoch 5/10\n",
      "8/8 [==============================] - 0s 27ms/step - loss: 17.0632 - dense_310_loss: 1.5122 - dense_311_loss: 1.7592 - dense_312_loss: 1.7538 - dense_313_loss: 1.6562 - dense_314_loss: 1.9021 - dense_315_loss: 1.7083 - dense_316_loss: 1.6686 - dense_317_loss: 1.7212 - dense_318_loss: 1.5597 - dense_319_loss: 1.8220 - dense_310_accuracy: 0.4460 - dense_311_accuracy: 0.2600 - dense_312_accuracy: 0.2140 - dense_313_accuracy: 0.2780 - dense_314_accuracy: 0.2580 - dense_315_accuracy: 0.3080 - dense_316_accuracy: 0.3440 - dense_317_accuracy: 0.2820 - dense_318_accuracy: 0.3900 - dense_319_accuracy: 0.2100\n",
      "Epoch 6/10\n",
      "8/8 [==============================] - 0s 29ms/step - loss: 16.8140 - dense_310_loss: 1.5006 - dense_311_loss: 1.7433 - dense_312_loss: 1.7253 - dense_313_loss: 1.6509 - dense_314_loss: 1.8731 - dense_315_loss: 1.6984 - dense_316_loss: 1.6469 - dense_317_loss: 1.6918 - dense_318_loss: 1.5293 - dense_319_loss: 1.7544 - dense_310_accuracy: 0.4340 - dense_311_accuracy: 0.2520 - dense_312_accuracy: 0.2040 - dense_313_accuracy: 0.3020 - dense_314_accuracy: 0.2360 - dense_315_accuracy: 0.2900 - dense_316_accuracy: 0.3360 - dense_317_accuracy: 0.2640 - dense_318_accuracy: 0.3780 - dense_319_accuracy: 0.2060\n",
      "Epoch 7/10\n",
      "8/8 [==============================] - 0s 26ms/step - loss: 16.6322 - dense_310_loss: 1.4848 - dense_311_loss: 1.7316 - dense_312_loss: 1.6955 - dense_313_loss: 1.6384 - dense_314_loss: 1.8421 - dense_315_loss: 1.6761 - dense_316_loss: 1.6358 - dense_317_loss: 1.6743 - dense_318_loss: 1.5159 - dense_319_loss: 1.7377 - dense_310_accuracy: 0.4460 - dense_311_accuracy: 0.2820 - dense_312_accuracy: 0.2440 - dense_313_accuracy: 0.2940 - dense_314_accuracy: 0.2520 - dense_315_accuracy: 0.3020 - dense_316_accuracy: 0.3460 - dense_317_accuracy: 0.2900 - dense_318_accuracy: 0.4040 - dense_319_accuracy: 0.2520\n",
      "Epoch 8/10\n",
      "8/8 [==============================] - 0s 30ms/step - loss: 16.5430 - dense_310_loss: 1.4724 - dense_311_loss: 1.7275 - dense_312_loss: 1.6921 - dense_313_loss: 1.6243 - dense_314_loss: 1.8370 - dense_315_loss: 1.6713 - dense_316_loss: 1.6169 - dense_317_loss: 1.6579 - dense_318_loss: 1.5154 - dense_319_loss: 1.7280 - dense_310_accuracy: 0.4460 - dense_311_accuracy: 0.2740 - dense_312_accuracy: 0.2300 - dense_313_accuracy: 0.2980 - dense_314_accuracy: 0.2500 - dense_315_accuracy: 0.2880 - dense_316_accuracy: 0.3480 - dense_317_accuracy: 0.2940 - dense_318_accuracy: 0.3880 - dense_319_accuracy: 0.2260\n",
      "Epoch 9/10\n",
      "8/8 [==============================] - 0s 27ms/step - loss: 16.4793 - dense_310_loss: 1.4700 - dense_311_loss: 1.7184 - dense_312_loss: 1.6838 - dense_313_loss: 1.6189 - dense_314_loss: 1.8257 - dense_315_loss: 1.6662 - dense_316_loss: 1.6128 - dense_317_loss: 1.6559 - dense_318_loss: 1.4996 - dense_319_loss: 1.7282 - dense_310_accuracy: 0.4460 - dense_311_accuracy: 0.2760 - dense_312_accuracy: 0.2500 - dense_313_accuracy: 0.3140 - dense_314_accuracy: 0.2460 - dense_315_accuracy: 0.3060 - dense_316_accuracy: 0.3580 - dense_317_accuracy: 0.3000 - dense_318_accuracy: 0.3940 - dense_319_accuracy: 0.2200\n",
      "Epoch 10/10\n",
      "8/8 [==============================] - 0s 25ms/step - loss: 16.4498 - dense_310_loss: 1.4711 - dense_311_loss: 1.7138 - dense_312_loss: 1.6822 - dense_313_loss: 1.6112 - dense_314_loss: 1.8252 - dense_315_loss: 1.6620 - dense_316_loss: 1.6085 - dense_317_loss: 1.6496 - dense_318_loss: 1.4985 - dense_319_loss: 1.7278 - dense_310_accuracy: 0.4460 - dense_311_accuracy: 0.2840 - dense_312_accuracy: 0.2680 - dense_313_accuracy: 0.3280 - dense_314_accuracy: 0.2400 - dense_315_accuracy: 0.3100 - dense_316_accuracy: 0.3680 - dense_317_accuracy: 0.3020 - dense_318_accuracy: 0.3860 - dense_319_accuracy: 0.2580\n",
      "16/16 [==============================] - 1s 9ms/step\n"
     ]
    },
    {
     "name": "stderr",
     "output_type": "stream",
     "text": [
      "\n",
      "100%|█████████████████████████████████████████████████████████████████████████████| 1/1 [00:20<00:00, 20.37s/event_log]\u001b[A\n",
      " 91%|██████████████████████████████████████████████████████████████████▎      | 10/11 [03:23<00:20, 20.64s/noise_level]\n",
      "  0%|                                                                                     | 0/1 [00:00<?, ?event_log/s]\u001b[A"
     ]
    },
    {
     "name": "stdout",
     "output_type": "stream",
     "text": [
      "Epoch 1/10\n",
      "8/8 [==============================] - 14s 34ms/step - loss: 24.6677 - dense_320_loss: 2.4377 - dense_321_loss: 2.3988 - dense_322_loss: 2.5210 - dense_323_loss: 2.3348 - dense_324_loss: 2.9082 - dense_325_loss: 2.4580 - dense_326_loss: 2.5414 - dense_327_loss: 2.3712 - dense_328_loss: 2.2374 - dense_329_loss: 2.4590 - dense_320_accuracy: 0.1300 - dense_321_accuracy: 0.1320 - dense_322_accuracy: 0.1040 - dense_323_accuracy: 0.1480 - dense_324_accuracy: 0.0960 - dense_325_accuracy: 0.1320 - dense_326_accuracy: 0.0840 - dense_327_accuracy: 0.2440 - dense_328_accuracy: 0.1980 - dense_329_accuracy: 0.1360\n",
      "Epoch 2/10\n",
      "8/8 [==============================] - 0s 34ms/step - loss: 21.7745 - dense_320_loss: 1.9834 - dense_321_loss: 2.0894 - dense_322_loss: 2.2709 - dense_323_loss: 2.0973 - dense_324_loss: 2.6242 - dense_325_loss: 2.1760 - dense_326_loss: 2.2163 - dense_327_loss: 2.0759 - dense_328_loss: 2.0240 - dense_329_loss: 2.2170 - dense_320_accuracy: 0.3120 - dense_321_accuracy: 0.2300 - dense_322_accuracy: 0.1480 - dense_323_accuracy: 0.2480 - dense_324_accuracy: 0.1000 - dense_325_accuracy: 0.1520 - dense_326_accuracy: 0.1980 - dense_327_accuracy: 0.2520 - dense_328_accuracy: 0.3080 - dense_329_accuracy: 0.1900\n",
      "Epoch 3/10\n",
      "8/8 [==============================] - 0s 31ms/step - loss: 19.0614 - dense_320_loss: 1.6287 - dense_321_loss: 1.8367 - dense_322_loss: 1.9828 - dense_323_loss: 1.8436 - dense_324_loss: 2.2876 - dense_325_loss: 1.8966 - dense_326_loss: 1.9170 - dense_327_loss: 1.9035 - dense_328_loss: 1.7204 - dense_329_loss: 2.0444 - dense_320_accuracy: 0.4160 - dense_321_accuracy: 0.2920 - dense_322_accuracy: 0.2300 - dense_323_accuracy: 0.3040 - dense_324_accuracy: 0.1920 - dense_325_accuracy: 0.2300 - dense_326_accuracy: 0.3120 - dense_327_accuracy: 0.3000 - dense_328_accuracy: 0.3860 - dense_329_accuracy: 0.2460\n",
      "Epoch 4/10\n",
      "8/8 [==============================] - 0s 34ms/step - loss: 17.6462 - dense_320_loss: 1.5113 - dense_321_loss: 1.7606 - dense_322_loss: 1.8244 - dense_323_loss: 1.7106 - dense_324_loss: 2.0871 - dense_325_loss: 1.7705 - dense_326_loss: 1.7781 - dense_327_loss: 1.7862 - dense_328_loss: 1.5615 - dense_329_loss: 1.8557 - dense_320_accuracy: 0.4540 - dense_321_accuracy: 0.2880 - dense_322_accuracy: 0.2140 - dense_323_accuracy: 0.2840 - dense_324_accuracy: 0.2300 - dense_325_accuracy: 0.2760 - dense_326_accuracy: 0.3200 - dense_327_accuracy: 0.2840 - dense_328_accuracy: 0.4080 - dense_329_accuracy: 0.2520\n",
      "Epoch 5/10\n",
      "8/8 [==============================] - 0s 28ms/step - loss: 17.1448 - dense_320_loss: 1.4601 - dense_321_loss: 1.7261 - dense_322_loss: 1.7834 - dense_323_loss: 1.6648 - dense_324_loss: 2.0116 - dense_325_loss: 1.7384 - dense_326_loss: 1.7244 - dense_327_loss: 1.7330 - dense_328_loss: 1.5118 - dense_329_loss: 1.7911 - dense_320_accuracy: 0.4620 - dense_321_accuracy: 0.2680 - dense_322_accuracy: 0.2280 - dense_323_accuracy: 0.2900 - dense_324_accuracy: 0.1880 - dense_325_accuracy: 0.2680 - dense_326_accuracy: 0.3400 - dense_327_accuracy: 0.2720 - dense_328_accuracy: 0.3920 - dense_329_accuracy: 0.2400\n",
      "Epoch 6/10\n",
      "8/8 [==============================] - 0s 28ms/step - loss: 16.8493 - dense_320_loss: 1.4390 - dense_321_loss: 1.6863 - dense_322_loss: 1.7634 - dense_323_loss: 1.6581 - dense_324_loss: 1.9649 - dense_325_loss: 1.7053 - dense_326_loss: 1.6833 - dense_327_loss: 1.6964 - dense_328_loss: 1.4870 - dense_329_loss: 1.7656 - dense_320_accuracy: 0.4620 - dense_321_accuracy: 0.2900 - dense_322_accuracy: 0.2280 - dense_323_accuracy: 0.2860 - dense_324_accuracy: 0.1940 - dense_325_accuracy: 0.2640 - dense_326_accuracy: 0.3220 - dense_327_accuracy: 0.2960 - dense_328_accuracy: 0.3900 - dense_329_accuracy: 0.2300\n",
      "Epoch 7/10\n",
      "8/8 [==============================] - 0s 29ms/step - loss: 16.8019 - dense_320_loss: 1.4377 - dense_321_loss: 1.6858 - dense_322_loss: 1.7606 - dense_323_loss: 1.6444 - dense_324_loss: 1.9682 - dense_325_loss: 1.6966 - dense_326_loss: 1.6795 - dense_327_loss: 1.6877 - dense_328_loss: 1.4856 - dense_329_loss: 1.7559 - dense_320_accuracy: 0.4620 - dense_321_accuracy: 0.3000 - dense_322_accuracy: 0.2340 - dense_323_accuracy: 0.3060 - dense_324_accuracy: 0.2080 - dense_325_accuracy: 0.2700 - dense_326_accuracy: 0.3000 - dense_327_accuracy: 0.2860 - dense_328_accuracy: 0.3960 - dense_329_accuracy: 0.2420\n",
      "Epoch 8/10\n",
      "8/8 [==============================] - 0s 27ms/step - loss: 16.7418 - dense_320_loss: 1.4305 - dense_321_loss: 1.6760 - dense_322_loss: 1.7507 - dense_323_loss: 1.6471 - dense_324_loss: 1.9607 - dense_325_loss: 1.6973 - dense_326_loss: 1.6663 - dense_327_loss: 1.6842 - dense_328_loss: 1.4826 - dense_329_loss: 1.7465 - dense_320_accuracy: 0.4620 - dense_321_accuracy: 0.2820 - dense_322_accuracy: 0.2620 - dense_323_accuracy: 0.2660 - dense_324_accuracy: 0.2160 - dense_325_accuracy: 0.2560 - dense_326_accuracy: 0.3440 - dense_327_accuracy: 0.2600 - dense_328_accuracy: 0.3940 - dense_329_accuracy: 0.2540\n",
      "Epoch 9/10\n",
      "8/8 [==============================] - 0s 25ms/step - loss: 16.6767 - dense_320_loss: 1.4228 - dense_321_loss: 1.6759 - dense_322_loss: 1.7493 - dense_323_loss: 1.6351 - dense_324_loss: 1.9473 - dense_325_loss: 1.6887 - dense_326_loss: 1.6627 - dense_327_loss: 1.6816 - dense_328_loss: 1.4751 - dense_329_loss: 1.7381 - dense_320_accuracy: 0.4640 - dense_321_accuracy: 0.2920 - dense_322_accuracy: 0.2460 - dense_323_accuracy: 0.2940 - dense_324_accuracy: 0.2400 - dense_325_accuracy: 0.2780 - dense_326_accuracy: 0.3520 - dense_327_accuracy: 0.2880 - dense_328_accuracy: 0.4040 - dense_329_accuracy: 0.2820\n",
      "Epoch 10/10\n",
      "8/8 [==============================] - 0s 27ms/step - loss: 16.6987 - dense_320_loss: 1.4224 - dense_321_loss: 1.6846 - dense_322_loss: 1.7536 - dense_323_loss: 1.6356 - dense_324_loss: 1.9553 - dense_325_loss: 1.6846 - dense_326_loss: 1.6549 - dense_327_loss: 1.6883 - dense_328_loss: 1.4766 - dense_329_loss: 1.7429 - dense_320_accuracy: 0.4560 - dense_321_accuracy: 0.2920 - dense_322_accuracy: 0.2480 - dense_323_accuracy: 0.2960 - dense_324_accuracy: 0.2320 - dense_325_accuracy: 0.2840 - dense_326_accuracy: 0.3640 - dense_327_accuracy: 0.2540 - dense_328_accuracy: 0.3960 - dense_329_accuracy: 0.2700\n",
      "16/16 [==============================] - 1s 9ms/step\n"
     ]
    },
    {
     "name": "stderr",
     "output_type": "stream",
     "text": [
      "\n",
      "100%|█████████████████████████████████████████████████████████████████████████████| 1/1 [00:20<00:00, 20.89s/event_log]\u001b[A\n",
      "100%|█████████████████████████████████████████████████████████████████████████| 11/11 [03:44<00:00, 20.43s/noise_level]\n"
     ]
    }
   ],
   "source": [
    "# init and train LSTM - added noise filtering, loop over all logs, metrics like f-score, statistics to create graph on\n",
    "# statistics saved in google docs excel file in README to utilize further for presentation\n",
    "\n",
    "results_lstmclust= {}\n",
    "for i in range(11):\n",
    "    noise = i / 10.0\n",
    "    results_lstmclust[noise] = []\n",
    "\n",
    "for noise in tqdm(event_logs.keys(), unit=\"noise_level\"):    \n",
    "    for file in tqdm(event_logs[noise], unit='event_log'):\n",
    "        # load file\n",
    "        event_log = EventLog(file, case_attributes=case_attributes, event_attributes=event_attributes, true_cluster_label=true_cluster_label)\n",
    "        event_log.load(event_log_path + file, False)\n",
    "        event_log.preprocess()\n",
    "        \n",
    "        # get sequences from event log as one-hot feature vector\n",
    "        sequences = event_log.event_attributes_flat_onehot_features_2d\n",
    "\n",
    "        predictor = EmbeddingPredict(event_log)\n",
    "        predictor.build_model(embedding_dim=vector_size, gru_dim=vector_size, rnn='LSTM')\n",
    "        predictor.fit(epochs=n_epochs, batch_size=n_batch_size, verbose=True)   \n",
    "        \n",
    "        # infer the vector from the model\n",
    "        pred_model, feature_vector, embedding_vector = predictor.predict()    \n",
    "        \n",
    "        cluster_analysis = Clustering(event_log)\n",
    "        cluster_analysis.cluster(feature_vector, clustering_method, n_clusters, 'cosine')\n",
    "\n",
    "        cluster_result = cluster_analysis.evaluate()\n",
    "        evaluation = Evaluation(event_log)\n",
    "        (fitness, precision, simplicity) = evaluation.evaluate_clusters(n_clusters, cluster_analysis.pred_labels) # Heuristics Miner + 2. Metric\n",
    "        f_score = 2 * (fitness * precision) / (fitness + precision) # idea: fitness <=> recall & precision <=> precision\n",
    "        \n",
    "        results_lstmclust[noise].append({\"f1_bcubed\":cluster_result[2], \"f_score\":f_score, \"fitness\": fitness, \"precision\":precision, \"simplicity\":simplicity})"
   ]
  },
  {
   "cell_type": "code",
   "execution_count": null,
   "metadata": {},
   "outputs": [],
   "source": [
    "# Statistics LSTM\n",
    "\n",
    "# complete\n",
    "complete = []\n",
    "for i in range(11):\n",
    "    complete += results_lstmclust[i/10]\n",
    "complete = pd.DataFrame.from_dict(complete)\n",
    "print(complete.describe())\n",
    "\n",
    "print(\"---\")\n",
    "\n",
    "# noise\n",
    "for i in range(11):\n",
    "    print(f\"noise: {i/10}\")\n",
    "    print(pd.DataFrame.from_dict(results_lstmclust[i/10]).describe())\n",
    "    print(\"---\")"
   ]
  }
 ],
 "metadata": {
  "kernelspec": {
   "display_name": "Python 3 (ipykernel)",
   "language": "python",
   "name": "python3"
  },
  "language_info": {
   "codemirror_mode": {
    "name": "ipython",
    "version": 3
   },
   "file_extension": ".py",
   "mimetype": "text/x-python",
   "name": "python",
   "nbconvert_exporter": "python",
   "pygments_lexer": "ipython3",
   "version": "3.7.16"
  }
 },
 "nbformat": 4,
 "nbformat_minor": 4
}
