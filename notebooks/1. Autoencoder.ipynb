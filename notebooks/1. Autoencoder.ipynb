{
 "cells": [
  {
   "cell_type": "markdown",
   "metadata": {},
   "source": [
    "# Learning of Process Representations Using Recurrent Neural Networks"
   ]
  },
  {
   "cell_type": "code",
   "execution_count": null,
   "metadata": {},
   "outputs": [],
   "source": [
    "import numpy as np\n",
    "import pandas as pd\n",
    "\n",
    "from replearn.eventlog import EventLog\n",
    "\n",
    "from replearn.embedding_predict import EmbeddingPredict\n",
    "from replearn.autoencoder import AutoencoderRepresentation\n",
    "from replearn.doc2vec import Doc2VecRepresentation\n",
    "\n",
    "from replearn.clustering import Clustering\n",
    "\n",
    "from replearn.evaluation import Evaluation\n",
    "\n",
    "# !pip install levenshtein\n",
    "from Levenshtein import distance as led\n",
    "import os\n",
    "\n",
    "from tqdm import tqdm"
   ]
  },
  {
   "cell_type": "markdown",
   "metadata": {},
   "source": [
    "### General Parameters"
   ]
  },
  {
   "cell_type": "code",
   "execution_count": null,
   "metadata": {},
   "outputs": [],
   "source": [
    "event_log_path = '../logs/'\n",
    "case_attributes = None # auto-detect attributes\n",
    "event_attributes = ['concept:name', 'user'] # use activity name and user\n",
    "true_cluster_label = 'cluster'\n",
    "\n",
    "clustering_method = \"agglomerative\" # [\"k_means\", \"agglomerative\"]"
   ]
  },
  {
   "cell_type": "markdown",
   "metadata": {},
   "source": [
    "## Bag of Activities (BOA)"
   ]
  },
  {
   "cell_type": "code",
   "execution_count": null,
   "metadata": {
    "scrolled": true
   },
   "outputs": [],
   "source": [
    "# BOA\n",
    "boa_results = {}\n",
    "\n",
    "for file in tqdm(os.listdir(event_log_path), unit='eventlog'):\n",
    "    if os.path.isfile(os.path.join(event_log_path, file)):\n",
    "        \n",
    "        # load file\n",
    "        event_log = EventLog(file, case_attributes=case_attributes, event_attributes=event_attributes, true_cluster_label=true_cluster_label)\n",
    "        event_log.load(event_log_path + file, False)\n",
    "        event_log.preprocess()\n",
    "\n",
    "        # vector representation\n",
    "        activities = event_log._event_attribute_encodes[0]\n",
    "        feature_vector = []\n",
    "        \n",
    "        for i in range(len(event_log.case_lens)):\n",
    "            feature_vector.append(activities[i])\n",
    "        feature_vector = np.array(feature_vector)\n",
    "        \n",
    "        # clustering\n",
    "        cluster_analysis = Clustering(event_log)\n",
    "        cluster_analysis.cluster(feature_vector, clustering_method, n_clusters, 'cosine')\n",
    "        \n",
    "        # evaluation\n",
    "        cluster_result = cluster_analysis.evaluate() # 1. Metric (F1-BCubed)\n",
    "        evaluation = Evaluation(event_log)\n",
    "        (fitness, precision, simplicity) = evaluation.evaluate_clusters(n_clusters, cluster_analysis.pred_labels) # Heuristics Miner + 2. Metric\n",
    "        \n",
    "        boa_results[file] = {\"f1_bcubed\":cluster_result[2], \"fitness\": fitness, \"precision\":precision, \"simplicity\":simplicity}"
   ]
  },
  {
   "cell_type": "code",
   "execution_count": null,
   "metadata": {},
   "outputs": [],
   "source": []
  },
  {
   "cell_type": "markdown",
   "metadata": {},
   "source": [
    "## Levenshtein Distance (LED)"
   ]
  },
  {
   "cell_type": "code",
   "execution_count": null,
   "metadata": {},
   "outputs": [],
   "source": [
    "# LED\n",
    "led_results = {}\n",
    "\n",
    "for file in tqdm(os.listdir(event_log_path), unit='eventlog'):\n",
    "    if os.path.isfile(os.path.join(event_log_path, file)):\n",
    "        \n",
    "        # load file\n",
    "        event_log = EventLog(file, case_attributes=case_attributes, event_attributes=event_attributes, true_cluster_label=true_cluster_label)\n",
    "        event_log.load(event_log_path + file, False)\n",
    "        event_log.preprocess()\n",
    "\n",
    "        # vector representation\n",
    "        activities = event_log._event_attribute_encodes[0]\n",
    "        feature_vector = []\n",
    "        for i in range(len(event_log.case_lens)):\n",
    "            feature_vector.append(activities[i])\n",
    "        feature_vector = np.array(feature_vector)\n",
    "        \n",
    "        print(\"ok\")\n",
    "        \n",
    "        # clustering\n",
    "        cluster_analysis = Clustering(event_log)\n",
    "        cluster_analysis.cluster(feature_vector, clustering_method, n_clusters, metric=led)\n",
    "        \n",
    "        print(\"end\")\n",
    "        \n",
    "        # evaluation\n",
    "        cluster_result = cluster_analysis.evaluate() # 1. Metric (F1-BCubed)\n",
    "        evaluation = Evaluation(event_log)\n",
    "        (fitness, precision, simplicity) = evaluation.evaluate_clusters(n_clusters, cluster_analysis.pred_labels) # Heuristics Miner + 2. Metric\n",
    "        \n",
    "        led_results[file] = {\"f1_bcubed\":cluster_result[2], \"fitness\": fitness, \"precision\":precision, \"simplicity\":simplicity}"
   ]
  },
  {
   "cell_type": "markdown",
   "metadata": {},
   "source": [
    "## Autoencoder"
   ]
  },
  {
   "cell_type": "code",
   "execution_count": null,
   "metadata": {},
   "outputs": [],
   "source": [
    "# hyperparameters\n",
    "n_epochs = 10         #[10, 25]\n",
    "n_batch_size = 64\n",
    "n_clusters = 5\n",
    "vector_size = 32      #[2, 3, 4, 8, 16, 32, 64, 128]\n",
    "\n",
    "clustering_method = \"agglomerative\" # [\"k_means\", \"agglomerative\"]"
   ]
  },
  {
   "cell_type": "code",
   "execution_count": null,
   "metadata": {},
   "outputs": [],
   "source": [
    "# Autoencoder\n",
    "results_autoencoder = {}\n",
    "\n",
    "for file in tqdm(os.listdir(event_log_path), unit='eventlog'):\n",
    "    if os.path.isfile(os.path.join(event_log_path, file)):\n",
    "        \n",
    "        # load file\n",
    "        event_log = EventLog(file, case_attributes=case_attributes, event_attributes=event_attributes, true_cluster_label=true_cluster_label)\n",
    "        event_log.load(event_log_path + file, False)\n",
    "        event_log.preprocess()\n",
    "        \n",
    "        # get sequences from event log as one-hot feature vector\n",
    "        sequences = event_log.event_attributes_flat_onehot_features_2d\n",
    "        \n",
    "        # init and train autoencoder\n",
    "        autoencoder = AutoencoderRepresentation(event_log)\n",
    "        autoencoder.build_model(input_dim=sequences.shape[1], encoder_dim=vector_size)\n",
    "        autoencoder.fit(batch_size=n_batch_size, epochs=n_epochs, verbose=True)\n",
    "\n",
    "        # get feature vector (hidden representation)\n",
    "        feature_vector = autoencoder.predict()\n",
    "        \n",
    "        # cluster feature vector (cluster all case embeddings into n_clusters)\n",
    "        cluster_analysis = Clustering(event_log)\n",
    "        cluster_analysis.cluster(feature_vector, clustering_method, n_clusters, 'cosine')\n",
    "        \n",
    "        # evaluate clustered embeddings (by comparing it to event_log 'cluster' entry)\n",
    "        cluster_result = cluster_analysis.evaluate() # 1. Metric (F1-BCubed)\n",
    "        \n",
    "        evaluation = Evaluation(event_log)\n",
    "        (fitness, precision, simplicity) = evaluation.evaluate_clusters(n_clusters, cluster_analysis.pred_labels) # Heuristics Miner + 2. Metric\n",
    "        \n",
    "        results_autoencoder[file] = {\"f1_bcubed\":cluster_result[2], \"fitness\": fitness, \"precision\":precision, \"simplicity\":simplicity}"
   ]
  },
  {
   "cell_type": "code",
   "execution_count": null,
   "metadata": {},
   "outputs": [],
   "source": []
  },
  {
   "cell_type": "code",
   "execution_count": null,
   "metadata": {},
   "outputs": [],
   "source": [
    "# Statistics\n",
    "\n",
    "results = {\"autoencoder\":results_autoencoder, \"boa\": results_boa, \"led\": results_led} \n",
    "\n",
    "statistics = pd.DataFrame(results.autoencoder).transpose()\n",
    "print(statistics.describe())\n",
    "\n",
    "\n",
    "f1_bcubed_mean, f1_bcubed_std = statistics.f1_bcubed.mean(), statistics.f1_bcubed.std()\n",
    "fitness_mean, fitness_std = statistics.fitness.mean(), statistics.fitness.std()\n",
    "precision_mean, precision_std = statistics.precision.mean(), statistics.precision.std()\n",
    "simplicity_mean, simplicity_std = statistics.simplicity.mean(), statistics.simplicity.std()\n",
    "count = statistics.count()"
   ]
  },
  {
   "cell_type": "code",
   "execution_count": null,
   "metadata": {},
   "outputs": [],
   "source": [
    "#plot\n",
    "from matplotlib import pyplot as plt\n",
    "\n",
    "# plt.plot()\n",
    "# <<< USE TO PLOT HERE..."
   ]
  },
  {
   "cell_type": "markdown",
   "metadata": {},
   "source": [
    "## Load event log"
   ]
  },
  {
   "cell_type": "code",
   "execution_count": null,
   "metadata": {},
   "outputs": [],
   "source": [
    "# event log configuration\n",
    "event_log_path = '../logs/'\n",
    "file_name = 'huge_500_10_20_5_1_1-0.0-1.json.gz'\n",
    "\n",
    "case_attributes = None # auto-detect attributes\n",
    "event_attributes = ['concept:name', 'user'] # use activity name and user\n",
    "true_cluster_label = 'cluster'\n",
    "\n",
    "print(file_name)\n",
    "\n",
    "# load file\n",
    "event_log = EventLog(file_name, case_attributes=case_attributes, event_attributes=event_attributes, true_cluster_label=true_cluster_label)\n",
    "event_log.load(event_log_path + '/' + file_name, False)\n",
    "event_log.preprocess()"
   ]
  },
  {
   "cell_type": "markdown",
   "metadata": {},
   "source": [
    "## Representation Learning"
   ]
  },
  {
   "cell_type": "code",
   "execution_count": null,
   "metadata": {},
   "outputs": [],
   "source": [
    "# hyperparameters\n",
    "n_epochs = 10\n",
    "n_batch_size = 64\n",
    "n_clusters = 5\n",
    "\n",
    "vector_size = 32"
   ]
  },
  {
   "cell_type": "markdown",
   "metadata": {},
   "source": [
    "### Autoencoder"
   ]
  },
  {
   "cell_type": "code",
   "execution_count": null,
   "metadata": {},
   "outputs": [],
   "source": [
    "# get sequences from event log as one-hot feature vector\n",
    "sequences = event_log.event_attributes_flat_onehot_features_2d\n",
    "\n",
    "# init and train autoencoder\n",
    "autoencoder = AutoencoderRepresentation(event_log)\n",
    "autoencoder.build_model(sequences.shape[1], encoder_dim=vector_size)\n",
    "autoencoder.fit(batch_size=n_batch_size, epochs=n_epochs, verbose=True)"
   ]
  },
  {
   "cell_type": "code",
   "execution_count": null,
   "metadata": {},
   "outputs": [],
   "source": [
    "# get feature vector\n",
    "feature_vector = autoencoder.predict()"
   ]
  },
  {
   "cell_type": "markdown",
   "metadata": {},
   "source": [
    "### Clustering"
   ]
  },
  {
   "cell_type": "code",
   "execution_count": null,
   "metadata": {},
   "outputs": [],
   "source": [
    "# cluster feature vector\n",
    "cluster_analysis = Clustering(event_log)\n",
    "cluster_analysis.cluster(feature_vector, 'agglomerative', n_clusters, 'cosine')\n",
    "\n",
    "cluster_result = cluster_analysis.evaluate()"
   ]
  },
  {
   "cell_type": "code",
   "execution_count": null,
   "metadata": {},
   "outputs": [],
   "source": [
    "print('Adjusted Rand Index: ' + str(cluster_result[0]))\n",
    "print('Normalized Mutual Information: ' + str(cluster_result[1]))\n",
    "print('F1-BCubed: ' + str(cluster_result[2]))"
   ]
  }
 ],
 "metadata": {
  "kernelspec": {
   "display_name": "replearn",
   "language": "python",
   "name": "replearn"
  },
  "language_info": {
   "codemirror_mode": {
    "name": "ipython",
    "version": 3
   },
   "file_extension": ".py",
   "mimetype": "text/x-python",
   "name": "python",
   "nbconvert_exporter": "python",
   "pygments_lexer": "ipython3",
   "version": "3.11.3"
  }
 },
 "nbformat": 4,
 "nbformat_minor": 4
}
