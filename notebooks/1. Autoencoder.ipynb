{
 "cells": [
  {
   "attachments": {},
   "cell_type": "markdown",
   "metadata": {},
   "source": [
    "# Learning of Process Representations Using Recurrent Neural Networks"
   ]
  },
  {
   "cell_type": "code",
   "execution_count": null,
   "metadata": {},
   "outputs": [],
   "source": [
    "import numpy as np\n",
    "import pandas as pd\n",
    "\n",
    "from replearn.eventlog import EventLog\n",
    "\n",
    "from replearn.embedding_predict import EmbeddingPredict\n",
    "from replearn.autoencoder import AutoencoderRepresentation\n",
    "from replearn.doc2vec import Doc2VecRepresentation\n",
    "\n",
    "from replearn.clustering import Clustering\n",
    "\n",
    "from replearn.evaluation import Evaluation"
   ]
  },
  {
   "cell_type": "code",
   "execution_count": null,
   "metadata": {},
   "outputs": [],
   "source": [
    "# hyperparameters\n",
    "n_epochs = 10\n",
    "n_batch_size = 64\n",
    "n_clusters = 5\n",
    "\n",
    "vector_size = 32"
   ]
  },
  {
   "attachments": {},
   "cell_type": "markdown",
   "metadata": {},
   "source": [
    "## Load event log"
   ]
  },
  {
   "cell_type": "code",
   "execution_count": 2,
   "metadata": {},
   "outputs": [],
   "source": [
    "import os\n",
    "\n",
    "event_log_path = '../logs/'\n",
    "case_attributes = None # auto-detect attributes\n",
    "event_attributes = ['concept:name', 'user'] # use activity name and user\n",
    "true_cluster_label = 'cluster'\n",
    "\n",
    "results = {}\n",
    "\n",
    "for file in os.listdir(event_log_path):\n",
    "    if os.path.isfile(os.path.join(event_log_path, file)):\n",
    "        \n",
    "        # load file\n",
    "        event_log = EventLog(file, case_attributes=case_attributes, event_attributes=event_attributes, true_cluster_label=true_cluster_label)\n",
    "        event_log.load(event_log_path + file, False)\n",
    "        event_log.preprocess()\n",
    "        \n",
    "        # get sequences from event log as one-hot feature vector\n",
    "        sequences = event_log.event_attributes_flat_onehot_features_2d\n",
    "        \n",
    "        # init and train autoencoder\n",
    "        autoencoder = AutoencoderRepresentation(event_log)\n",
    "        autoencoder.build_model(sequences.shape[1], encoder_dim=vector_size)\n",
    "        autoencoder.fit(batch_size=n_batch_size, epochs=n_epochs, verbose=True)\n",
    "\n",
    "        # get feature vector\n",
    "        feature_vector = autoencoder.predict()\n",
    "        \n",
    "        # cluster feature vector\n",
    "        cluster_analysis = Clustering(event_log)\n",
    "        cluster_analysis.cluster(feature_vector, 'agglomerative', n_clusters, 'cosine')\n",
    "        \n",
    "        cluster_result = cluster_analysis.evaluate() # 1. Metric (F1-BCubed)\n",
    "        \n",
    "        evaluation = Evaluation(event_log)\n",
    "        (fitness, precision, simplicity) = evaluation.evaluate_clusters(n_clusters, cluster_analysis.pred_labels) # Heuristics Miner + 2. Metric\n",
    "        \n",
    "        results[file] = {\"f1_bcubed\":cluster_result[2], \"fitness\": fitness, \"precision\":precision, \"simplicity\":simplicity}"
   ]
  },
  {
   "cell_type": "code",
   "execution_count": null,
   "metadata": {},
   "outputs": [],
   "source": [
    "# Statistics\n",
    "statistics = pd.DataFrame(results).transpose()\n",
    "print(statistics.describe())\n",
    "\n",
    "\n",
    "f1_bcubed_mean, f1_bcubed_std = statistics.f1_bcubed.mean(), statistics.f1_bcubed.std()\n",
    "fitness_mean, fitness_std = statistics.fitness.mean(), statistics.fitness.std()\n",
    "precision_mean, precision_std = statistics.precision.mean(), statistics.precision.std()\n",
    "simplicity_mean, simplicity_std = statistics.simplicity.mean(), statistics.simplicity.std()\n",
    "count = statistics.count()"
   ]
  },
  {
   "cell_type": "code",
   "execution_count": null,
   "metadata": {},
   "outputs": [],
   "source": [
    "#plot\n",
    "from matplotlib import pyplot as plt\n",
    "\n",
    "# plt.plot()"
   ]
  },
  {
   "attachments": {},
   "cell_type": "markdown",
   "metadata": {},
   "source": [
    "## Representation Learning"
   ]
  },
  {
   "cell_type": "code",
   "execution_count": 3,
   "metadata": {},
   "outputs": [],
   "source": [
    "# hyperparameters\n",
    "n_epochs = 10\n",
    "n_batch_size = 64\n",
    "n_clusters = 5\n",
    "\n",
    "vector_size = 32"
   ]
  },
  {
   "attachments": {},
   "cell_type": "markdown",
   "metadata": {},
   "source": [
    "### Autoencoder"
   ]
  },
  {
   "cell_type": "code",
   "execution_count": 4,
   "metadata": {},
   "outputs": [
    {
     "name": "stdout",
     "output_type": "stream",
     "text": [
      "Epoch 1/10\n",
      "8/8 [==============================] - 0s 16ms/step - loss: 0.2497\n",
      "Epoch 2/10\n",
      "8/8 [==============================] - 0s 16ms/step - loss: 0.2477\n",
      "Epoch 3/10\n",
      "8/8 [==============================] - 0s 20ms/step - loss: 0.2451\n",
      "Epoch 4/10\n",
      "8/8 [==============================] - 0s 24ms/step - loss: 0.2418\n",
      "Epoch 5/10\n",
      "8/8 [==============================] - 0s 17ms/step - loss: 0.2370\n",
      "Epoch 6/10\n",
      "8/8 [==============================] - 0s 20ms/step - loss: 0.2304\n",
      "Epoch 7/10\n",
      "8/8 [==============================] - 0s 18ms/step - loss: 0.2210\n",
      "Epoch 8/10\n",
      "8/8 [==============================] - 0s 53ms/step - loss: 0.2095\n",
      "Epoch 9/10\n",
      "8/8 [==============================] - 0s 33ms/step - loss: 0.1946\n",
      "Epoch 10/10\n",
      "8/8 [==============================] - 0s 41ms/step - loss: 0.1756\n"
     ]
    }
   ],
   "source": [
    "# get sequences from event log as one-hot feature vector\n",
    "sequences = event_log.event_attributes_flat_onehot_features_2d\n",
    "\n",
    "# init and train autoencoder\n",
    "autoencoder = AutoencoderRepresentation(event_log)\n",
    "autoencoder.build_model(sequences.shape[1], encoder_dim=vector_size)\n",
    "autoencoder.fit(batch_size=n_batch_size, epochs=n_epochs, verbose=True)"
   ]
  },
  {
   "cell_type": "code",
   "execution_count": 5,
   "metadata": {},
   "outputs": [],
   "source": [
    "# get feature vector\n",
    "feature_vector = autoencoder.predict()"
   ]
  },
  {
   "attachments": {},
   "cell_type": "markdown",
   "metadata": {},
   "source": [
    "### Clustering"
   ]
  },
  {
   "cell_type": "code",
   "execution_count": 6,
   "metadata": {},
   "outputs": [],
   "source": [
    "# cluster feature vector\n",
    "cluster_analysis = Clustering(event_log)\n",
    "cluster_analysis.cluster(feature_vector, 'agglomerative', n_clusters, 'cosine')\n",
    "\n",
    "cluster_result = cluster_analysis.evaluate()"
   ]
  },
  {
   "cell_type": "code",
   "execution_count": 7,
   "metadata": {},
   "outputs": [
    {
     "name": "stdout",
     "output_type": "stream",
     "text": [
      "Adjusted Rand Index: 0.561019904750317\n",
      "Normalized Mutual Information: 0.6772203995233733\n",
      "F1-BCubed: 0.69852544657527\n"
     ]
    }
   ],
   "source": [
    "print('Adjusted Rand Index: ' + str(cluster_result[0]))\n",
    "print('Normalized Mutual Information: ' + str(cluster_result[1]))\n",
    "print('F1-BCubed: ' + str(cluster_result[2]))"
   ]
  }
 ],
 "metadata": {
  "kernelspec": {
   "display_name": "Python 3 (ipykernel)",
   "language": "python",
   "name": "python3"
  },
  "language_info": {
   "codemirror_mode": {
    "name": "ipython",
    "version": 3
   },
   "file_extension": ".py",
   "mimetype": "text/x-python",
   "name": "python",
   "nbconvert_exporter": "python",
   "pygments_lexer": "ipython3",
   "version": "3.7.16"
  }
 },
 "nbformat": 4,
 "nbformat_minor": 4
}
