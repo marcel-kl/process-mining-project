{
 "cells": [
  {
   "cell_type": "markdown",
   "metadata": {},
   "source": [
    "# Learning of Process Representations Using Recurrent Neural Networks"
   ]
  },
  {
   "cell_type": "code",
   "execution_count": 1,
   "metadata": {},
   "outputs": [],
   "source": [
    "import numpy as np\n",
    "import pandas as pd\n",
    "\n",
    "from replearn.eventlog import EventLog\n",
    "\n",
    "from replearn.embedding_predict import EmbeddingPredict\n",
    "from replearn.autoencoder import AutoencoderRepresentation\n",
    "from replearn.doc2vec import Doc2VecRepresentation\n",
    "\n",
    "from replearn.clustering import Clustering\n",
    "\n",
    "from replearn.evaluation import Evaluation\n",
    "\n",
    "# !pip install levenshtein\n",
    "from Levenshtein import distance as led\n",
    "import os\n",
    "\n",
    "from tqdm import tqdm"
   ]
  },
  {
   "cell_type": "markdown",
   "metadata": {},
   "source": [
    "### General Parameters"
   ]
  },
  {
   "cell_type": "code",
   "execution_count": 2,
   "metadata": {},
   "outputs": [],
   "source": [
    "event_log_path = '../logs/'\n",
    "case_attributes = None # auto-detect attributes\n",
    "event_attributes = ['concept:name', 'user'] # use activity name and user\n",
    "true_cluster_label = 'cluster'\n",
    "\n",
    "n_epochs = 10         #[10, 25]\n",
    "n_batch_size = 64\n",
    "n_clusters = 5\n",
    "vector_size = 32      #[2, 3, 4, 8, 16, 32, 64, 128]\n",
    "\n",
    "clustering_method = \"agglomerative\" # [\"k_means\", \"agglomerative\"]"
   ]
  },
  {
   "cell_type": "markdown",
   "metadata": {},
   "source": [
    "## Bag of Activities (BOA)"
   ]
  },
  {
   "cell_type": "code",
   "execution_count": 3,
   "metadata": {
    "scrolled": true
   },
   "outputs": [
    {
     "name": "stderr",
     "output_type": "stream",
     "text": [
      "100%|██████████████████████████████████████████████████████████████████████████████| 9/9 [00:12<00:00,  1.42s/eventlog]\n"
     ]
    }
   ],
   "source": [
    "# BOA\n",
    "boa_results = {}\n",
    "\n",
    "for file in tqdm(os.listdir(event_log_path), unit='eventlog'):\n",
    "    if os.path.isfile(os.path.join(event_log_path, file)):\n",
    "        \n",
    "        # load file\n",
    "        event_log = EventLog(file, case_attributes=case_attributes, event_attributes=event_attributes, true_cluster_label=true_cluster_label)\n",
    "        event_log.load(event_log_path + file, False)\n",
    "        event_log.preprocess()\n",
    "\n",
    "        # vector representation\n",
    "        activities = event_log._event_attribute_encodes[0]\n",
    "        feature_vector = []\n",
    "        \n",
    "        for i in range(len(event_log.case_lens)):\n",
    "            feature_vector.append(activities[i])\n",
    "        feature_vector = np.array(feature_vector)\n",
    "        \n",
    "        # clustering\n",
    "        cluster_analysis = Clustering(event_log)\n",
    "        cluster_analysis.cluster(feature_vector, clustering_method, n_clusters, 'cosine')\n",
    "        \n",
    "        # evaluation\n",
    "        cluster_result = cluster_analysis.evaluate() # 1. Metric (F1-BCubed)\n",
    "        evaluation = Evaluation(event_log)\n",
    "        (fitness, precision, simplicity) = evaluation.evaluate_clusters(n_clusters, cluster_analysis.pred_labels) # Heuristics Miner + 2. Metric\n",
    "        \n",
    "        boa_results[file] = {\"f1_bcubed\":cluster_result[2], \"fitness\": fitness, \"precision\":precision, \"simplicity\":simplicity}"
   ]
  },
  {
   "cell_type": "code",
   "execution_count": null,
   "metadata": {},
   "outputs": [],
   "source": []
  },
  {
   "cell_type": "markdown",
   "metadata": {},
   "source": [
    "## Levenshtein Distance (LED)"
   ]
  },
  {
   "cell_type": "code",
   "execution_count": 4,
   "metadata": {},
   "outputs": [
    {
     "name": "stderr",
     "output_type": "stream",
     "text": [
      "\r",
      "  0%|                                                                                      | 0/9 [00:00<?, ?eventlog/s]"
     ]
    },
    {
     "name": "stdout",
     "output_type": "stream",
     "text": [
      "ok\n",
      "end\n"
     ]
    },
    {
     "name": "stderr",
     "output_type": "stream",
     "text": [
      "\r",
      " 11%|████████▋                                                                     | 1/9 [00:01<00:15,  1.97s/eventlog]"
     ]
    },
    {
     "name": "stdout",
     "output_type": "stream",
     "text": [
      "ok\n",
      "end\n"
     ]
    },
    {
     "name": "stderr",
     "output_type": "stream",
     "text": [
      "\r",
      " 22%|█████████████████▎                                                            | 2/9 [00:04<00:16,  2.37s/eventlog]"
     ]
    },
    {
     "name": "stdout",
     "output_type": "stream",
     "text": [
      "ok\n",
      "end\n"
     ]
    },
    {
     "name": "stderr",
     "output_type": "stream",
     "text": [
      "\r",
      " 33%|██████████████████████████                                                    | 3/9 [00:07<00:14,  2.46s/eventlog]"
     ]
    },
    {
     "name": "stdout",
     "output_type": "stream",
     "text": [
      "ok\n",
      "end\n"
     ]
    },
    {
     "name": "stderr",
     "output_type": "stream",
     "text": [
      "\r",
      " 44%|██████████████████████████████████▋                                           | 4/9 [00:09<00:12,  2.43s/eventlog]"
     ]
    },
    {
     "name": "stdout",
     "output_type": "stream",
     "text": [
      "ok\n",
      "end\n"
     ]
    },
    {
     "name": "stderr",
     "output_type": "stream",
     "text": [
      "\r",
      " 56%|███████████████████████████████████████████▎                                  | 5/9 [00:12<00:10,  2.58s/eventlog]"
     ]
    },
    {
     "name": "stdout",
     "output_type": "stream",
     "text": [
      "ok\n",
      "end\n"
     ]
    },
    {
     "name": "stderr",
     "output_type": "stream",
     "text": [
      "\r",
      " 67%|████████████████████████████████████████████████████                          | 6/9 [00:15<00:07,  2.62s/eventlog]"
     ]
    },
    {
     "name": "stdout",
     "output_type": "stream",
     "text": [
      "ok\n",
      "end\n"
     ]
    },
    {
     "name": "stderr",
     "output_type": "stream",
     "text": [
      "\r",
      " 78%|████████████████████████████████████████████████████████████▋                 | 7/9 [00:17<00:05,  2.59s/eventlog]"
     ]
    },
    {
     "name": "stdout",
     "output_type": "stream",
     "text": [
      "ok\n",
      "end\n"
     ]
    },
    {
     "name": "stderr",
     "output_type": "stream",
     "text": [
      "\r",
      " 89%|█████████████████████████████████████████████████████████████████████▎        | 8/9 [00:20<00:02,  2.64s/eventlog]"
     ]
    },
    {
     "name": "stdout",
     "output_type": "stream",
     "text": [
      "ok\n",
      "end\n"
     ]
    },
    {
     "name": "stderr",
     "output_type": "stream",
     "text": [
      "100%|██████████████████████████████████████████████████████████████████████████████| 9/9 [00:23<00:00,  2.59s/eventlog]\n"
     ]
    }
   ],
   "source": [
    "# LED\n",
    "led_results = {}\n",
    "\n",
    "for file in tqdm(os.listdir(event_log_path), unit='eventlog'):\n",
    "    if os.path.isfile(os.path.join(event_log_path, file)):\n",
    "        \n",
    "        # load file\n",
    "        event_log = EventLog(file, case_attributes=case_attributes, event_attributes=event_attributes, true_cluster_label=true_cluster_label)\n",
    "        event_log.load(event_log_path + file, False)\n",
    "        event_log.preprocess()\n",
    "\n",
    "        # vector representation\n",
    "        activities = event_log._event_attribute_encodes[0]\n",
    "        feature_vector = []\n",
    "        for i in range(len(event_log.case_lens)):\n",
    "            feature_vector.append(activities[i])\n",
    "        feature_vector = np.array(feature_vector)\n",
    "        \n",
    "        print(\"ok\")\n",
    "        \n",
    "        # clustering\n",
    "        cluster_analysis = Clustering(event_log)\n",
    "        cluster_analysis.cluster(feature_vector, clustering_method, n_clusters, metric=led)\n",
    "        \n",
    "        print(\"end\")\n",
    "        \n",
    "        # evaluation\n",
    "        cluster_result = cluster_analysis.evaluate() # 1. Metric (F1-BCubed)\n",
    "        evaluation = Evaluation(event_log)\n",
    "        (fitness, precision, simplicity) = evaluation.evaluate_clusters(n_clusters, cluster_analysis.pred_labels) # Heuristics Miner + 2. Metric\n",
    "        \n",
    "        led_results[file] = {\"f1_bcubed\":cluster_result[2], \"fitness\": fitness, \"precision\":precision, \"simplicity\":simplicity}"
   ]
  },
  {
   "cell_type": "markdown",
   "metadata": {},
   "source": [
    "## Autoencoder"
   ]
  },
  {
   "cell_type": "code",
   "execution_count": 5,
   "metadata": {},
   "outputs": [],
   "source": [
    "# hyperparameters\n",
    "n_epochs = 10         #[10, 25]\n",
    "n_batch_size = 64\n",
    "n_clusters = 5\n",
    "vector_size = 32      #[2, 3, 4, 8, 16, 32, 64, 128]\n",
    "\n",
    "clustering_method = \"agglomerative\" # [\"k_means\", \"agglomerative\"]"
   ]
  },
  {
   "cell_type": "code",
   "execution_count": 6,
   "metadata": {},
   "outputs": [
    {
     "name": "stderr",
     "output_type": "stream",
     "text": [
      "  0%|                                                                                      | 0/9 [00:00<?, ?eventlog/s]WARNING:absl:`lr` is deprecated, please use `learning_rate` instead, or use the legacy optimizer, e.g.,tf.keras.optimizers.legacy.Adam.\n"
     ]
    },
    {
     "name": "stdout",
     "output_type": "stream",
     "text": [
      "Epoch 1/10\n",
      "8/8 [==============================] - 2s 29ms/step - loss: 0.2381\n",
      "Epoch 2/10\n",
      "8/8 [==============================] - 0s 26ms/step - loss: 0.1508\n",
      "Epoch 3/10\n",
      "8/8 [==============================] - 0s 28ms/step - loss: 0.0300\n",
      "Epoch 4/10\n",
      "8/8 [==============================] - 0s 25ms/step - loss: 0.0097\n",
      "Epoch 5/10\n",
      "8/8 [==============================] - 0s 26ms/step - loss: 0.0093\n",
      "Epoch 6/10\n",
      "8/8 [==============================] - 0s 27ms/step - loss: 0.0093\n",
      "Epoch 7/10\n",
      "8/8 [==============================] - 0s 27ms/step - loss: 0.0093\n",
      "Epoch 8/10\n",
      "8/8 [==============================] - 0s 27ms/step - loss: 0.0092\n",
      "Epoch 9/10\n",
      "8/8 [==============================] - 0s 26ms/step - loss: 0.0089\n",
      "Epoch 10/10\n",
      "8/8 [==============================] - 0s 27ms/step - loss: 0.0088\n"
     ]
    },
    {
     "name": "stderr",
     "output_type": "stream",
     "text": [
      " 11%|████████▋                                                                     | 1/9 [00:05<00:43,  5.46s/eventlog]WARNING:absl:`lr` is deprecated, please use `learning_rate` instead, or use the legacy optimizer, e.g.,tf.keras.optimizers.legacy.Adam.\n"
     ]
    },
    {
     "name": "stdout",
     "output_type": "stream",
     "text": [
      "Epoch 1/10\n",
      "8/8 [==============================] - 3s 43ms/step - loss: 0.2372\n",
      "Epoch 2/10\n",
      "8/8 [==============================] - 0s 41ms/step - loss: 0.1283\n",
      "Epoch 3/10\n",
      "8/8 [==============================] - 0s 42ms/step - loss: 0.0151\n",
      "Epoch 4/10\n",
      "8/8 [==============================] - 0s 42ms/step - loss: 0.0070\n",
      "Epoch 5/10\n",
      "8/8 [==============================] - 0s 43ms/step - loss: 0.0070\n",
      "Epoch 6/10\n",
      "8/8 [==============================] - 0s 43ms/step - loss: 0.0070\n",
      "Epoch 7/10\n",
      "8/8 [==============================] - 0s 54ms/step - loss: 0.0070\n",
      "Epoch 8/10\n",
      "8/8 [==============================] - 0s 59ms/step - loss: 0.0069\n",
      "Epoch 9/10\n",
      "8/8 [==============================] - 0s 49ms/step - loss: 0.0069\n",
      "Epoch 10/10\n",
      "8/8 [==============================] - 0s 61ms/step - loss: 0.0068\n"
     ]
    },
    {
     "name": "stderr",
     "output_type": "stream",
     "text": [
      " 22%|█████████████████▎                                                            | 2/9 [00:13<00:48,  6.92s/eventlog]WARNING:absl:`lr` is deprecated, please use `learning_rate` instead, or use the legacy optimizer, e.g.,tf.keras.optimizers.legacy.Adam.\n"
     ]
    },
    {
     "name": "stdout",
     "output_type": "stream",
     "text": [
      "Epoch 1/10\n",
      "8/8 [==============================] - 3s 58ms/step - loss: 0.2340\n",
      "Epoch 2/10\n",
      "8/8 [==============================] - 0s 45ms/step - loss: 0.1156\n",
      "Epoch 3/10\n",
      "8/8 [==============================] - 0s 43ms/step - loss: 0.0134\n",
      "Epoch 4/10\n",
      "8/8 [==============================] - 0s 46ms/step - loss: 0.0066\n",
      "Epoch 5/10\n",
      "8/8 [==============================] - 0s 47ms/step - loss: 0.0067\n",
      "Epoch 6/10\n",
      "8/8 [==============================] - 0s 45ms/step - loss: 0.0067\n",
      "Epoch 7/10\n",
      "8/8 [==============================] - 0s 44ms/step - loss: 0.0066\n",
      "Epoch 8/10\n",
      "8/8 [==============================] - 0s 44ms/step - loss: 0.0065\n",
      "Epoch 9/10\n",
      "8/8 [==============================] - 0s 43ms/step - loss: 0.0066\n",
      "Epoch 10/10\n",
      "8/8 [==============================] - 0s 49ms/step - loss: 0.0065\n"
     ]
    },
    {
     "name": "stderr",
     "output_type": "stream",
     "text": [
      " 33%|██████████████████████████                                                    | 3/9 [00:21<00:43,  7.30s/eventlog]WARNING:absl:`lr` is deprecated, please use `learning_rate` instead, or use the legacy optimizer, e.g.,tf.keras.optimizers.legacy.Adam.\n"
     ]
    },
    {
     "name": "stdout",
     "output_type": "stream",
     "text": [
      "Epoch 1/10\n",
      "8/8 [==============================] - 2s 52ms/step - loss: 0.2351\n",
      "Epoch 2/10\n",
      "8/8 [==============================] - 0s 56ms/step - loss: 0.1160\n",
      "Epoch 3/10\n",
      "8/8 [==============================] - 0s 55ms/step - loss: 0.0120\n",
      "Epoch 4/10\n",
      "8/8 [==============================] - 0s 55ms/step - loss: 0.0065\n",
      "Epoch 5/10\n",
      "8/8 [==============================] - 0s 54ms/step - loss: 0.0065\n",
      "Epoch 6/10\n",
      "8/8 [==============================] - 0s 54ms/step - loss: 0.0065\n",
      "Epoch 7/10\n",
      "8/8 [==============================] - 0s 52ms/step - loss: 0.0064\n",
      "Epoch 8/10\n",
      "8/8 [==============================] - 0s 54ms/step - loss: 0.0064\n",
      "Epoch 9/10\n",
      "8/8 [==============================] - 0s 52ms/step - loss: 0.0064\n",
      "Epoch 10/10\n",
      "8/8 [==============================] - 0s 53ms/step - loss: 0.0064\n"
     ]
    },
    {
     "name": "stderr",
     "output_type": "stream",
     "text": [
      " 44%|██████████████████████████████████▋                                           | 4/9 [00:29<00:38,  7.72s/eventlog]WARNING:absl:`lr` is deprecated, please use `learning_rate` instead, or use the legacy optimizer, e.g.,tf.keras.optimizers.legacy.Adam.\n"
     ]
    },
    {
     "name": "stdout",
     "output_type": "stream",
     "text": [
      "Epoch 1/10\n",
      "8/8 [==============================] - 3s 65ms/step - loss: 0.2359\n",
      "Epoch 2/10\n",
      "8/8 [==============================] - 1s 63ms/step - loss: 0.1160\n",
      "Epoch 3/10\n",
      "8/8 [==============================] - 1s 63ms/step - loss: 0.0105\n",
      "Epoch 4/10\n",
      "8/8 [==============================] - 1s 63ms/step - loss: 0.0058\n",
      "Epoch 5/10\n",
      "8/8 [==============================] - 1s 63ms/step - loss: 0.0058\n",
      "Epoch 6/10\n",
      "8/8 [==============================] - 1s 63ms/step - loss: 0.0058\n",
      "Epoch 7/10\n",
      "8/8 [==============================] - 1s 65ms/step - loss: 0.0059\n",
      "Epoch 8/10\n",
      "8/8 [==============================] - 1s 64ms/step - loss: 0.0058\n",
      "Epoch 9/10\n",
      "8/8 [==============================] - 1s 66ms/step - loss: 0.0058\n",
      "Epoch 10/10\n",
      "8/8 [==============================] - 1s 62ms/step - loss: 0.0058\n"
     ]
    },
    {
     "name": "stderr",
     "output_type": "stream",
     "text": [
      " 56%|███████████████████████████████████████████▎                                  | 5/9 [00:38<00:33,  8.25s/eventlog]WARNING:absl:`lr` is deprecated, please use `learning_rate` instead, or use the legacy optimizer, e.g.,tf.keras.optimizers.legacy.Adam.\n"
     ]
    },
    {
     "name": "stdout",
     "output_type": "stream",
     "text": [
      "Epoch 1/10\n",
      "8/8 [==============================] - 3s 58ms/step - loss: 0.2367\n",
      "Epoch 2/10\n",
      "8/8 [==============================] - 0s 58ms/step - loss: 0.1236\n",
      "Epoch 3/10\n",
      "8/8 [==============================] - 0s 57ms/step - loss: 0.0121\n",
      "Epoch 4/10\n",
      "8/8 [==============================] - 0s 56ms/step - loss: 0.0063\n",
      "Epoch 5/10\n",
      "8/8 [==============================] - 0s 57ms/step - loss: 0.0063\n",
      "Epoch 6/10\n",
      "8/8 [==============================] - 0s 57ms/step - loss: 0.0063\n",
      "Epoch 7/10\n",
      "8/8 [==============================] - 0s 57ms/step - loss: 0.0062\n",
      "Epoch 8/10\n",
      "8/8 [==============================] - 0s 59ms/step - loss: 0.0063\n",
      "Epoch 9/10\n",
      "8/8 [==============================] - 0s 57ms/step - loss: 0.0062\n",
      "Epoch 10/10\n",
      "8/8 [==============================] - 1s 69ms/step - loss: 0.0063\n"
     ]
    },
    {
     "name": "stderr",
     "output_type": "stream",
     "text": [
      " 67%|████████████████████████████████████████████████████                          | 6/9 [00:47<00:24,  8.30s/eventlog]WARNING:absl:`lr` is deprecated, please use `learning_rate` instead, or use the legacy optimizer, e.g.,tf.keras.optimizers.legacy.Adam.\n"
     ]
    },
    {
     "name": "stdout",
     "output_type": "stream",
     "text": [
      "Epoch 1/10\n",
      "8/8 [==============================] - 3s 64ms/step - loss: 0.2340\n",
      "Epoch 2/10\n",
      "8/8 [==============================] - 1s 69ms/step - loss: 0.1055\n",
      "Epoch 3/10\n",
      "8/8 [==============================] - 1s 67ms/step - loss: 0.0094\n",
      "Epoch 4/10\n",
      "8/8 [==============================] - 1s 67ms/step - loss: 0.0058\n",
      "Epoch 5/10\n",
      "8/8 [==============================] - 1s 68ms/step - loss: 0.0058\n",
      "Epoch 6/10\n",
      "8/8 [==============================] - 1s 69ms/step - loss: 0.0058\n",
      "Epoch 7/10\n",
      "8/8 [==============================] - 1s 66ms/step - loss: 0.0058\n",
      "Epoch 8/10\n",
      "8/8 [==============================] - 1s 71ms/step - loss: 0.0058\n",
      "Epoch 9/10\n",
      "8/8 [==============================] - 1s 66ms/step - loss: 0.0058\n",
      "Epoch 10/10\n",
      "8/8 [==============================] - 1s 66ms/step - loss: 0.0058\n"
     ]
    },
    {
     "name": "stderr",
     "output_type": "stream",
     "text": [
      " 78%|████████████████████████████████████████████████████████████▋                 | 7/9 [00:56<00:17,  8.63s/eventlog]WARNING:absl:`lr` is deprecated, please use `learning_rate` instead, or use the legacy optimizer, e.g.,tf.keras.optimizers.legacy.Adam.\n"
     ]
    },
    {
     "name": "stdout",
     "output_type": "stream",
     "text": [
      "Epoch 1/10\n",
      "8/8 [==============================] - 3s 77ms/step - loss: 0.2322\n",
      "Epoch 2/10\n",
      "8/8 [==============================] - 1s 81ms/step - loss: 0.0933\n",
      "Epoch 3/10\n",
      "8/8 [==============================] - 1s 87ms/step - loss: 0.0066\n",
      "Epoch 4/10\n",
      "8/8 [==============================] - 1s 82ms/step - loss: 0.0052\n",
      "Epoch 5/10\n",
      "8/8 [==============================] - 1s 83ms/step - loss: 0.0052\n",
      "Epoch 6/10\n",
      "8/8 [==============================] - 1s 82ms/step - loss: 0.0052\n",
      "Epoch 7/10\n",
      "8/8 [==============================] - 1s 81ms/step - loss: 0.0052\n",
      "Epoch 8/10\n",
      "8/8 [==============================] - 1s 82ms/step - loss: 0.0052\n",
      "Epoch 9/10\n",
      "8/8 [==============================] - 1s 84ms/step - loss: 0.0052\n",
      "Epoch 10/10\n",
      "8/8 [==============================] - 1s 81ms/step - loss: 0.0052\n"
     ]
    },
    {
     "name": "stderr",
     "output_type": "stream",
     "text": [
      " 89%|█████████████████████████████████████████████████████████████████████▎        | 8/9 [01:07<00:09,  9.37s/eventlog]WARNING:absl:`lr` is deprecated, please use `learning_rate` instead, or use the legacy optimizer, e.g.,tf.keras.optimizers.legacy.Adam.\n"
     ]
    },
    {
     "name": "stdout",
     "output_type": "stream",
     "text": [
      "Epoch 1/10\n",
      "8/8 [==============================] - 3s 85ms/step - loss: 0.2354\n",
      "Epoch 2/10\n",
      "8/8 [==============================] - 1s 81ms/step - loss: 0.1033\n",
      "Epoch 3/10\n",
      "8/8 [==============================] - 1s 86ms/step - loss: 0.0071\n",
      "Epoch 4/10\n",
      "8/8 [==============================] - 1s 87ms/step - loss: 0.0052\n",
      "Epoch 5/10\n",
      "8/8 [==============================] - 1s 86ms/step - loss: 0.0052\n",
      "Epoch 6/10\n",
      "8/8 [==============================] - 1s 83ms/step - loss: 0.0052\n",
      "Epoch 7/10\n",
      "8/8 [==============================] - 1s 87ms/step - loss: 0.0052\n",
      "Epoch 8/10\n",
      "8/8 [==============================] - 1s 82ms/step - loss: 0.0052\n",
      "Epoch 9/10\n",
      "8/8 [==============================] - 1s 82ms/step - loss: 0.0052\n",
      "Epoch 10/10\n",
      "8/8 [==============================] - 1s 87ms/step - loss: 0.0052\n"
     ]
    },
    {
     "name": "stderr",
     "output_type": "stream",
     "text": [
      "100%|██████████████████████████████████████████████████████████████████████████████| 9/9 [01:18<00:00,  8.71s/eventlog]\n"
     ]
    }
   ],
   "source": [
    "# Autoencoder\n",
    "results_autoencoder = {}\n",
    "\n",
    "for file in tqdm(os.listdir(event_log_path), unit='eventlog'):\n",
    "    if os.path.isfile(os.path.join(event_log_path, file)):\n",
    "        \n",
    "        # load file\n",
    "        event_log = EventLog(file, case_attributes=case_attributes, event_attributes=event_attributes, true_cluster_label=true_cluster_label)\n",
    "        event_log.load(event_log_path + file, False)\n",
    "        event_log.preprocess()\n",
    "        \n",
    "        # get sequences from event log as one-hot feature vector\n",
    "        sequences = event_log.event_attributes_flat_onehot_features_2d\n",
    "        \n",
    "        # init and train autoencoder\n",
    "        autoencoder = AutoencoderRepresentation(event_log)\n",
    "        autoencoder.build_model(input_dim=sequences.shape[1], encoder_dim=vector_size)\n",
    "        autoencoder.fit(batch_size=n_batch_size, epochs=n_epochs, verbose=True)\n",
    "\n",
    "        # get feature vector (hidden representation)\n",
    "        feature_vector = autoencoder.predict()\n",
    "        \n",
    "        # cluster feature vector (cluster all case embeddings into n_clusters)\n",
    "        cluster_analysis = Clustering(event_log)\n",
    "        cluster_analysis.cluster(feature_vector, clustering_method, n_clusters, 'cosine')\n",
    "        \n",
    "        # evaluate clustered embeddings (by comparing it to event_log 'cluster' entry)\n",
    "        cluster_result = cluster_analysis.evaluate() # 1. Metric (F1-BCubed)\n",
    "        \n",
    "        evaluation = Evaluation(event_log)\n",
    "        (fitness, precision, simplicity) = evaluation.evaluate_clusters(n_clusters, cluster_analysis.pred_labels) # Heuristics Miner + 2. Metric\n",
    "        \n",
    "        results_autoencoder[file] = {\"f1_bcubed\":cluster_result[2], \"fitness\": fitness, \"precision\":precision, \"simplicity\":simplicity}"
   ]
  },
  {
   "cell_type": "markdown",
   "metadata": {},
   "source": [
    "## Trace2Vec"
   ]
  },
  {
   "cell_type": "code",
   "execution_count": 7,
   "metadata": {},
   "outputs": [
    {
     "name": "stderr",
     "output_type": "stream",
     "text": [
      "100%|██████████████████████████████████████████████████████████████████████████████| 9/9 [00:17<00:00,  1.95s/eventlog]\n"
     ]
    }
   ],
   "source": [
    "#Trace2vec\n",
    "results_trace2vec = {}\n",
    "\n",
    "for file in tqdm(os.listdir(event_log_path), unit='eventlog'):\n",
    "    if os.path.isfile(os.path.join(event_log_path, file)):\n",
    "        # load file\n",
    "        event_log = EventLog(file, case_attributes=case_attributes, event_attributes=event_attributes, true_cluster_label=true_cluster_label)\n",
    "        event_log.load(event_log_path + file, False)\n",
    "        event_log.preprocess()\n",
    "        \n",
    "        # get sequences from event log as one-hot feature vector\n",
    "        sequences = event_log.event_attributes_flat_onehot_features_2d\n",
    "\n",
    "        doc2vec = Doc2VecRepresentation(event_log)\n",
    "        doc2vec.build_model(append_case_attr=False, append_event_attr=False, vector_size=vector_size, concat=True, epochs=n_epochs)\n",
    "        doc2vec.fit()\n",
    "        \n",
    "        # infer the vector from the model\n",
    "        feature_vector = doc2vec.predict(epochs=50) \n",
    "        \n",
    "        cluster_analysis = Clustering(event_log)\n",
    "        cluster_analysis.cluster(feature_vector, clustering_method, n_clusters, 'cosine')\n",
    "\n",
    "        cluster_result = cluster_analysis.evaluate()\n",
    "        evaluation = Evaluation(event_log)\n",
    "        (fitness, precision, simplicity) = evaluation.evaluate_clusters(n_clusters, cluster_analysis.pred_labels) # Heuristics Miner + 2. Metric\n",
    "        \n",
    "        results_trace2vec[file] = {\"f1_bcubed\":cluster_result[2], \"fitness\": fitness, \"precision\":precision, \"simplicity\":simplicity}"
   ]
  },
  {
   "cell_type": "markdown",
   "metadata": {},
   "source": [
    "   ## Case2vec (event)\n",
    "   "
   ]
  },
  {
   "cell_type": "code",
   "execution_count": 8,
   "metadata": {},
   "outputs": [
    {
     "name": "stderr",
     "output_type": "stream",
     "text": [
      "100%|██████████████████████████████████████████████████████████████████████████████| 9/9 [00:18<00:00,  2.06s/eventlog]\n"
     ]
    }
   ],
   "source": [
    "#Case2vec (event)\n",
    "results_case2vec_event = {}\n",
    "\n",
    "for file in tqdm(os.listdir(event_log_path), unit='eventlog'):\n",
    "    if os.path.isfile(os.path.join(event_log_path, file)):\n",
    "        # load file\n",
    "        event_log = EventLog(file, case_attributes=case_attributes, event_attributes=event_attributes, true_cluster_label=true_cluster_label)\n",
    "        event_log.load(event_log_path + file, False)\n",
    "        event_log.preprocess()\n",
    "        \n",
    "        # get sequences from event log as one-hot feature vector\n",
    "        sequences = event_log.event_attributes_flat_onehot_features_2d\n",
    "\n",
    "        doc2vec = Doc2VecRepresentation(event_log)\n",
    "        doc2vec.build_model(append_case_attr=False, append_event_attr=True, vector_size=vector_size, concat=True, epochs=n_epochs)\n",
    "        doc2vec.fit()\n",
    "        \n",
    "        # infer the vector from the model\n",
    "        feature_vector = doc2vec.predict(epochs=50) \n",
    "        \n",
    "        cluster_analysis = Clustering(event_log)\n",
    "        cluster_analysis.cluster(feature_vector, clustering_method, n_clusters, 'cosine')\n",
    "\n",
    "        cluster_result = cluster_analysis.evaluate()\n",
    "        evaluation = Evaluation(event_log)\n",
    "        (fitness, precision, simplicity) = evaluation.evaluate_clusters(n_clusters, cluster_analysis.pred_labels) # Heuristics Miner + 2. Metric\n",
    "        \n",
    "        results_case2vec_event[file] = {\"f1_bcubed\":cluster_result[2], \"fitness\": fitness, \"precision\":precision, \"simplicity\":simplicity}"
   ]
  },
  {
   "cell_type": "code",
   "execution_count": null,
   "metadata": {},
   "outputs": [],
   "source": []
  },
  {
   "cell_type": "markdown",
   "metadata": {},
   "source": [
    "## Case2vec (event + case)"
   ]
  },
  {
   "cell_type": "code",
   "execution_count": 9,
   "metadata": {},
   "outputs": [
    {
     "name": "stderr",
     "output_type": "stream",
     "text": [
      "100%|██████████████████████████████████████████████████████████████████████████████| 9/9 [00:20<00:00,  2.29s/eventlog]\n"
     ]
    }
   ],
   "source": [
    "#Case2vec (event+case)\n",
    "results_case2vec_event_case = {}\n",
    "\n",
    "for file in tqdm(os.listdir(event_log_path), unit='eventlog'):\n",
    "    if os.path.isfile(os.path.join(event_log_path, file)):\n",
    "        # load file\n",
    "        event_log = EventLog(file, case_attributes=case_attributes, event_attributes=event_attributes, true_cluster_label=true_cluster_label)\n",
    "        event_log.load(event_log_path + file, False)\n",
    "        event_log.preprocess()\n",
    "        \n",
    "        # get sequences from event log as one-hot feature vector\n",
    "        sequences = event_log.event_attributes_flat_onehot_features_2d\n",
    "\n",
    "        doc2vec = Doc2VecRepresentation(event_log)\n",
    "        doc2vec.build_model(append_case_attr=True, append_event_attr=True, vector_size=vector_size, concat=True, epochs=n_epochs)\n",
    "        doc2vec.fit()\n",
    "        \n",
    "        # infer the vector from the model\n",
    "        feature_vector = doc2vec.predict(epochs=50) \n",
    "        \n",
    "        cluster_analysis = Clustering(event_log)\n",
    "        cluster_analysis.cluster(feature_vector, 'agglomerative', n_clusters, 'cosine')\n",
    "\n",
    "        cluster_result = cluster_analysis.evaluate()\n",
    "        evaluation = Evaluation(event_log)\n",
    "        (fitness, precision, simplicity) = evaluation.evaluate_clusters(n_clusters, cluster_analysis.pred_labels) # Heuristics Miner + 2. Metric\n",
    "        \n",
    "        results_case2vec_event_case[file] = {\"f1_bcubed\":cluster_result[2], \"fitness\": fitness, \"precision\":precision, \"simplicity\":simplicity}"
   ]
  },
  {
   "cell_type": "markdown",
   "metadata": {},
   "source": [
    "## GRUClust"
   ]
  },
  {
   "cell_type": "code",
   "execution_count": 10,
   "metadata": {},
   "outputs": [
    {
     "name": "stderr",
     "output_type": "stream",
     "text": [
      "\r",
      "  0%|                                                                                      | 0/9 [00:00<?, ?eventlog/s]"
     ]
    },
    {
     "name": "stdout",
     "output_type": "stream",
     "text": [
      "Epoch 1/10\n",
      "8/8 [==============================] - 13s 22ms/step - loss: 24.8815 - dense_27_loss: 2.5169 - dense_28_loss: 2.3750 - dense_29_loss: 2.5430 - dense_30_loss: 2.3474 - dense_31_loss: 2.9157 - dense_32_loss: 2.4439 - dense_33_loss: 2.5207 - dense_34_loss: 2.4198 - dense_35_loss: 2.2652 - dense_36_loss: 2.5340 - dense_27_accuracy: 0.0600 - dense_28_accuracy: 0.1060 - dense_29_accuracy: 0.1020 - dense_30_accuracy: 0.1720 - dense_31_accuracy: 0.0980 - dense_32_accuracy: 0.1300 - dense_33_accuracy: 0.1580 - dense_34_accuracy: 0.1200 - dense_35_accuracy: 0.1880 - dense_36_accuracy: 0.0700\n",
      "Epoch 2/10\n",
      "8/8 [==============================] - 0s 25ms/step - loss: 21.5436 - dense_27_loss: 2.1630 - dense_28_loss: 2.0586 - dense_29_loss: 2.2229 - dense_30_loss: 2.0223 - dense_31_loss: 2.5750 - dense_32_loss: 2.0544 - dense_33_loss: 2.1709 - dense_34_loss: 2.1160 - dense_35_loss: 2.0455 - dense_36_loss: 2.1149 - dense_27_accuracy: 0.2860 - dense_28_accuracy: 0.2260 - dense_29_accuracy: 0.1600 - dense_30_accuracy: 0.2700 - dense_31_accuracy: 0.1620 - dense_32_accuracy: 0.2820 - dense_33_accuracy: 0.1540 - dense_34_accuracy: 0.2680 - dense_35_accuracy: 0.2460 - dense_36_accuracy: 0.2440\n",
      "Epoch 3/10\n",
      "8/8 [==============================] - 0s 26ms/step - loss: 19.1522 - dense_27_loss: 1.8797 - dense_28_loss: 1.8374 - dense_29_loss: 1.9950 - dense_30_loss: 1.8171 - dense_31_loss: 2.2296 - dense_32_loss: 1.8383 - dense_33_loss: 1.9806 - dense_34_loss: 1.8645 - dense_35_loss: 1.8206 - dense_36_loss: 1.8894 - dense_27_accuracy: 0.2800 - dense_28_accuracy: 0.2640 - dense_29_accuracy: 0.1980 - dense_30_accuracy: 0.2740 - dense_31_accuracy: 0.1480 - dense_32_accuracy: 0.2940 - dense_33_accuracy: 0.2140 - dense_34_accuracy: 0.2620 - dense_35_accuracy: 0.2420 - dense_36_accuracy: 0.2620\n",
      "Epoch 4/10\n",
      "8/8 [==============================] - 0s 24ms/step - loss: 17.6389 - dense_27_loss: 1.6886 - dense_28_loss: 1.7143 - dense_29_loss: 1.8570 - dense_30_loss: 1.6784 - dense_31_loss: 2.0169 - dense_32_loss: 1.6852 - dense_33_loss: 1.8107 - dense_34_loss: 1.7361 - dense_35_loss: 1.6674 - dense_36_loss: 1.7842 - dense_27_accuracy: 0.3480 - dense_28_accuracy: 0.2400 - dense_29_accuracy: 0.2120 - dense_30_accuracy: 0.2920 - dense_31_accuracy: 0.1760 - dense_32_accuracy: 0.3260 - dense_33_accuracy: 0.2600 - dense_34_accuracy: 0.2500 - dense_35_accuracy: 0.2940 - dense_36_accuracy: 0.2660\n",
      "Epoch 5/10\n",
      "8/8 [==============================] - 0s 24ms/step - loss: 16.1720 - dense_27_loss: 1.4986 - dense_28_loss: 1.5971 - dense_29_loss: 1.7150 - dense_30_loss: 1.5882 - dense_31_loss: 1.7957 - dense_32_loss: 1.5751 - dense_33_loss: 1.6348 - dense_34_loss: 1.6196 - dense_35_loss: 1.4992 - dense_36_loss: 1.6486 - dense_27_accuracy: 0.4380 - dense_28_accuracy: 0.2940 - dense_29_accuracy: 0.2600 - dense_30_accuracy: 0.3100 - dense_31_accuracy: 0.2160 - dense_32_accuracy: 0.3180 - dense_33_accuracy: 0.2740 - dense_34_accuracy: 0.2980 - dense_35_accuracy: 0.3500 - dense_36_accuracy: 0.3080\n",
      "Epoch 6/10\n",
      "8/8 [==============================] - 0s 27ms/step - loss: 14.5681 - dense_27_loss: 1.2742 - dense_28_loss: 1.4898 - dense_29_loss: 1.5324 - dense_30_loss: 1.4573 - dense_31_loss: 1.5737 - dense_32_loss: 1.4369 - dense_33_loss: 1.4841 - dense_34_loss: 1.4453 - dense_35_loss: 1.3786 - dense_36_loss: 1.4957 - dense_27_accuracy: 0.4580 - dense_28_accuracy: 0.3360 - dense_29_accuracy: 0.2740 - dense_30_accuracy: 0.3240 - dense_31_accuracy: 0.2580 - dense_32_accuracy: 0.3640 - dense_33_accuracy: 0.3120 - dense_34_accuracy: 0.3220 - dense_35_accuracy: 0.3600 - dense_36_accuracy: 0.3280\n",
      "Epoch 7/10\n",
      "8/8 [==============================] - 0s 25ms/step - loss: 13.8711 - dense_27_loss: 1.1960 - dense_28_loss: 1.3990 - dense_29_loss: 1.4763 - dense_30_loss: 1.4116 - dense_31_loss: 1.4904 - dense_32_loss: 1.3666 - dense_33_loss: 1.4108 - dense_34_loss: 1.3887 - dense_35_loss: 1.3128 - dense_36_loss: 1.4190 - dense_27_accuracy: 0.4340 - dense_28_accuracy: 0.3300 - dense_29_accuracy: 0.3140 - dense_30_accuracy: 0.2940 - dense_31_accuracy: 0.2880 - dense_32_accuracy: 0.3520 - dense_33_accuracy: 0.3360 - dense_34_accuracy: 0.2980 - dense_35_accuracy: 0.3720 - dense_36_accuracy: 0.3320\n",
      "Epoch 8/10\n",
      "8/8 [==============================] - 0s 25ms/step - loss: 13.5142 - dense_27_loss: 1.1611 - dense_28_loss: 1.3559 - dense_29_loss: 1.4432 - dense_30_loss: 1.3835 - dense_31_loss: 1.4420 - dense_32_loss: 1.3371 - dense_33_loss: 1.3637 - dense_34_loss: 1.3513 - dense_35_loss: 1.2941 - dense_36_loss: 1.3821 - dense_27_accuracy: 0.4640 - dense_28_accuracy: 0.3120 - dense_29_accuracy: 0.2700 - dense_30_accuracy: 0.3100 - dense_31_accuracy: 0.2400 - dense_32_accuracy: 0.3480 - dense_33_accuracy: 0.3200 - dense_34_accuracy: 0.3160 - dense_35_accuracy: 0.3520 - dense_36_accuracy: 0.3200\n",
      "Epoch 9/10\n",
      "8/8 [==============================] - 0s 24ms/step - loss: 13.3622 - dense_27_loss: 1.1429 - dense_28_loss: 1.3388 - dense_29_loss: 1.4335 - dense_30_loss: 1.3724 - dense_31_loss: 1.4274 - dense_32_loss: 1.3207 - dense_33_loss: 1.3447 - dense_34_loss: 1.3348 - dense_35_loss: 1.2708 - dense_36_loss: 1.3762 - dense_27_accuracy: 0.4360 - dense_28_accuracy: 0.3480 - dense_29_accuracy: 0.2800 - dense_30_accuracy: 0.2940 - dense_31_accuracy: 0.2920 - dense_32_accuracy: 0.3540 - dense_33_accuracy: 0.3520 - dense_34_accuracy: 0.3260 - dense_35_accuracy: 0.3540 - dense_36_accuracy: 0.3200\n",
      "Epoch 10/10\n",
      "8/8 [==============================] - 0s 28ms/step - loss: 13.0734 - dense_27_loss: 1.1083 - dense_28_loss: 1.3070 - dense_29_loss: 1.4064 - dense_30_loss: 1.3416 - dense_31_loss: 1.3976 - dense_32_loss: 1.2880 - dense_33_loss: 1.3216 - dense_34_loss: 1.3124 - dense_35_loss: 1.2496 - dense_36_loss: 1.3408 - dense_27_accuracy: 0.4720 - dense_28_accuracy: 0.3340 - dense_29_accuracy: 0.2820 - dense_30_accuracy: 0.3160 - dense_31_accuracy: 0.2960 - dense_32_accuracy: 0.3760 - dense_33_accuracy: 0.3340 - dense_34_accuracy: 0.3460 - dense_35_accuracy: 0.3560 - dense_36_accuracy: 0.3460\n",
      "16/16 [==============================] - 1s 7ms/step\n"
     ]
    },
    {
     "name": "stderr",
     "output_type": "stream",
     "text": [
      "\r",
      " 11%|████████▋                                                                     | 1/9 [00:17<02:22, 17.77s/eventlog]"
     ]
    },
    {
     "name": "stdout",
     "output_type": "stream",
     "text": [
      "Epoch 1/10\n",
      "8/8 [==============================] - 13s 22ms/step - loss: 24.9177 - dense_37_loss: 2.4818 - dense_38_loss: 2.3792 - dense_39_loss: 2.5389 - dense_40_loss: 2.3865 - dense_41_loss: 2.9440 - dense_42_loss: 2.4561 - dense_43_loss: 2.6175 - dense_44_loss: 2.4053 - dense_45_loss: 2.2618 - dense_46_loss: 2.4465 - dense_37_accuracy: 0.1260 - dense_38_accuracy: 0.1800 - dense_39_accuracy: 0.0940 - dense_40_accuracy: 0.1340 - dense_41_accuracy: 0.0900 - dense_42_accuracy: 0.1780 - dense_43_accuracy: 0.1000 - dense_44_accuracy: 0.1720 - dense_45_accuracy: 0.1360 - dense_46_accuracy: 0.1600\n",
      "Epoch 2/10\n",
      "8/8 [==============================] - 0s 24ms/step - loss: 22.5856 - dense_37_loss: 2.2481 - dense_38_loss: 2.1006 - dense_39_loss: 2.3700 - dense_40_loss: 2.1531 - dense_41_loss: 2.6414 - dense_42_loss: 2.1710 - dense_43_loss: 2.3925 - dense_44_loss: 2.1920 - dense_45_loss: 2.1449 - dense_46_loss: 2.1719 - dense_37_accuracy: 0.1680 - dense_38_accuracy: 0.2560 - dense_39_accuracy: 0.1600 - dense_40_accuracy: 0.2260 - dense_41_accuracy: 0.1280 - dense_42_accuracy: 0.2740 - dense_43_accuracy: 0.1660 - dense_44_accuracy: 0.2620 - dense_45_accuracy: 0.1860 - dense_46_accuracy: 0.2260\n",
      "Epoch 3/10\n",
      "8/8 [==============================] - 0s 25ms/step - loss: 20.0758 - dense_37_loss: 1.9650 - dense_38_loss: 1.9539 - dense_39_loss: 2.0974 - dense_40_loss: 1.9116 - dense_41_loss: 2.3133 - dense_42_loss: 1.9059 - dense_43_loss: 2.0892 - dense_44_loss: 1.9166 - dense_45_loss: 1.9097 - dense_46_loss: 2.0132 - dense_37_accuracy: 0.2680 - dense_38_accuracy: 0.2060 - dense_39_accuracy: 0.1880 - dense_40_accuracy: 0.2760 - dense_41_accuracy: 0.1720 - dense_42_accuracy: 0.3160 - dense_43_accuracy: 0.1780 - dense_44_accuracy: 0.2840 - dense_45_accuracy: 0.2640 - dense_46_accuracy: 0.2620\n",
      "Epoch 4/10\n",
      "8/8 [==============================] - 0s 25ms/step - loss: 18.3913 - dense_37_loss: 1.7417 - dense_38_loss: 1.8058 - dense_39_loss: 1.9287 - dense_40_loss: 1.7458 - dense_41_loss: 2.0677 - dense_42_loss: 1.7545 - dense_43_loss: 1.9545 - dense_44_loss: 1.7539 - dense_45_loss: 1.7435 - dense_46_loss: 1.8951 - dense_37_accuracy: 0.3120 - dense_38_accuracy: 0.2660 - dense_39_accuracy: 0.2060 - dense_40_accuracy: 0.2920 - dense_41_accuracy: 0.2040 - dense_42_accuracy: 0.3380 - dense_43_accuracy: 0.2040 - dense_44_accuracy: 0.2660 - dense_45_accuracy: 0.2760 - dense_46_accuracy: 0.2160\n",
      "Epoch 5/10\n",
      "8/8 [==============================] - 0s 25ms/step - loss: 16.8725 - dense_37_loss: 1.5464 - dense_38_loss: 1.7202 - dense_39_loss: 1.7705 - dense_40_loss: 1.6482 - dense_41_loss: 1.8306 - dense_42_loss: 1.6152 - dense_43_loss: 1.7838 - dense_44_loss: 1.6051 - dense_45_loss: 1.6206 - dense_46_loss: 1.7318 - dense_37_accuracy: 0.4180 - dense_38_accuracy: 0.2780 - dense_39_accuracy: 0.2760 - dense_40_accuracy: 0.3180 - dense_41_accuracy: 0.2660 - dense_42_accuracy: 0.3800 - dense_43_accuracy: 0.3100 - dense_44_accuracy: 0.3560 - dense_45_accuracy: 0.3440 - dense_46_accuracy: 0.3220\n",
      "Epoch 6/10\n",
      "8/8 [==============================] - 0s 24ms/step - loss: 15.4404 - dense_37_loss: 1.3729 - dense_38_loss: 1.5786 - dense_39_loss: 1.6238 - dense_40_loss: 1.5378 - dense_41_loss: 1.6473 - dense_42_loss: 1.5118 - dense_43_loss: 1.6192 - dense_44_loss: 1.5220 - dense_45_loss: 1.4476 - dense_46_loss: 1.5794 - dense_37_accuracy: 0.4260 - dense_38_accuracy: 0.3120 - dense_39_accuracy: 0.2980 - dense_40_accuracy: 0.3360 - dense_41_accuracy: 0.2820 - dense_42_accuracy: 0.3840 - dense_43_accuracy: 0.3320 - dense_44_accuracy: 0.3540 - dense_45_accuracy: 0.3660 - dense_46_accuracy: 0.2900\n",
      "Epoch 7/10\n",
      "8/8 [==============================] - 0s 24ms/step - loss: 14.5888 - dense_37_loss: 1.3002 - dense_38_loss: 1.4728 - dense_39_loss: 1.5344 - dense_40_loss: 1.4579 - dense_41_loss: 1.5652 - dense_42_loss: 1.4512 - dense_43_loss: 1.5001 - dense_44_loss: 1.4428 - dense_45_loss: 1.3671 - dense_46_loss: 1.4973 - dense_37_accuracy: 0.4360 - dense_38_accuracy: 0.3500 - dense_39_accuracy: 0.3120 - dense_40_accuracy: 0.3500 - dense_41_accuracy: 0.2920 - dense_42_accuracy: 0.3760 - dense_43_accuracy: 0.3420 - dense_44_accuracy: 0.3640 - dense_45_accuracy: 0.3540 - dense_46_accuracy: 0.3300\n",
      "Epoch 8/10\n",
      "8/8 [==============================] - 0s 24ms/step - loss: 14.2017 - dense_37_loss: 1.2687 - dense_38_loss: 1.4408 - dense_39_loss: 1.5058 - dense_40_loss: 1.4052 - dense_41_loss: 1.5194 - dense_42_loss: 1.4080 - dense_43_loss: 1.4473 - dense_44_loss: 1.4058 - dense_45_loss: 1.3391 - dense_46_loss: 1.4615 - dense_37_accuracy: 0.4360 - dense_38_accuracy: 0.3120 - dense_39_accuracy: 0.2640 - dense_40_accuracy: 0.3620 - dense_41_accuracy: 0.2980 - dense_42_accuracy: 0.3660 - dense_43_accuracy: 0.3360 - dense_44_accuracy: 0.3520 - dense_45_accuracy: 0.3940 - dense_46_accuracy: 0.3120\n",
      "Epoch 9/10\n",
      "8/8 [==============================] - 0s 22ms/step - loss: 13.9384 - dense_37_loss: 1.2295 - dense_38_loss: 1.4015 - dense_39_loss: 1.4691 - dense_40_loss: 1.3961 - dense_41_loss: 1.4866 - dense_42_loss: 1.3823 - dense_43_loss: 1.4214 - dense_44_loss: 1.3938 - dense_45_loss: 1.3096 - dense_46_loss: 1.4484 - dense_37_accuracy: 0.4360 - dense_38_accuracy: 0.3420 - dense_39_accuracy: 0.3160 - dense_40_accuracy: 0.3560 - dense_41_accuracy: 0.3120 - dense_42_accuracy: 0.3940 - dense_43_accuracy: 0.3440 - dense_44_accuracy: 0.3740 - dense_45_accuracy: 0.3680 - dense_46_accuracy: 0.3260\n",
      "Epoch 10/10\n",
      "8/8 [==============================] - 0s 26ms/step - loss: 13.7334 - dense_37_loss: 1.2157 - dense_38_loss: 1.3815 - dense_39_loss: 1.4442 - dense_40_loss: 1.3767 - dense_41_loss: 1.4614 - dense_42_loss: 1.3653 - dense_43_loss: 1.3879 - dense_44_loss: 1.3749 - dense_45_loss: 1.3010 - dense_46_loss: 1.4249 - dense_37_accuracy: 0.4380 - dense_38_accuracy: 0.3560 - dense_39_accuracy: 0.3120 - dense_40_accuracy: 0.3660 - dense_41_accuracy: 0.2940 - dense_42_accuracy: 0.3740 - dense_43_accuracy: 0.3320 - dense_44_accuracy: 0.3620 - dense_45_accuracy: 0.3600 - dense_46_accuracy: 0.3460\n",
      "16/16 [==============================] - 1s 6ms/step\n"
     ]
    },
    {
     "name": "stderr",
     "output_type": "stream",
     "text": [
      "\r",
      " 22%|█████████████████▎                                                            | 2/9 [00:35<02:06, 18.01s/eventlog]"
     ]
    },
    {
     "name": "stdout",
     "output_type": "stream",
     "text": [
      "Epoch 1/10\n",
      "8/8 [==============================] - 14s 23ms/step - loss: 25.0179 - dense_47_loss: 2.4945 - dense_48_loss: 2.3712 - dense_49_loss: 2.5286 - dense_50_loss: 2.3864 - dense_51_loss: 2.9913 - dense_52_loss: 2.4905 - dense_53_loss: 2.5659 - dense_54_loss: 2.4426 - dense_55_loss: 2.2725 - dense_56_loss: 2.4743 - dense_47_accuracy: 0.1400 - dense_48_accuracy: 0.1480 - dense_49_accuracy: 0.1020 - dense_50_accuracy: 0.1960 - dense_51_accuracy: 0.0540 - dense_52_accuracy: 0.1560 - dense_53_accuracy: 0.1280 - dense_54_accuracy: 0.1160 - dense_55_accuracy: 0.1180 - dense_56_accuracy: 0.1360\n",
      "Epoch 2/10\n",
      "8/8 [==============================] - 0s 21ms/step - loss: 23.6165 - dense_47_loss: 2.3048 - dense_48_loss: 2.2085 - dense_49_loss: 2.4929 - dense_50_loss: 2.2361 - dense_51_loss: 2.8139 - dense_52_loss: 2.3611 - dense_53_loss: 2.4196 - dense_54_loss: 2.3264 - dense_55_loss: 2.2063 - dense_56_loss: 2.2468 - dense_47_accuracy: 0.2540 - dense_48_accuracy: 0.2240 - dense_49_accuracy: 0.1620 - dense_50_accuracy: 0.2560 - dense_51_accuracy: 0.1220 - dense_52_accuracy: 0.1740 - dense_53_accuracy: 0.1660 - dense_54_accuracy: 0.2020 - dense_55_accuracy: 0.1820 - dense_56_accuracy: 0.2700\n",
      "Epoch 3/10\n",
      "8/8 [==============================] - 0s 23ms/step - loss: 21.4813 - dense_47_loss: 2.0499 - dense_48_loss: 2.0146 - dense_49_loss: 2.3010 - dense_50_loss: 2.0567 - dense_51_loss: 2.4988 - dense_52_loss: 2.0844 - dense_53_loss: 2.2514 - dense_54_loss: 2.0721 - dense_55_loss: 2.0486 - dense_56_loss: 2.1039 - dense_47_accuracy: 0.2900 - dense_48_accuracy: 0.2340 - dense_49_accuracy: 0.2220 - dense_50_accuracy: 0.2480 - dense_51_accuracy: 0.1480 - dense_52_accuracy: 0.3000 - dense_53_accuracy: 0.1600 - dense_54_accuracy: 0.2080 - dense_55_accuracy: 0.2160 - dense_56_accuracy: 0.2700\n",
      "Epoch 4/10\n",
      "8/8 [==============================] - 0s 24ms/step - loss: 19.5666 - dense_47_loss: 1.8624 - dense_48_loss: 1.8743 - dense_49_loss: 1.9995 - dense_50_loss: 1.9202 - dense_51_loss: 2.2566 - dense_52_loss: 1.9002 - dense_53_loss: 2.0856 - dense_54_loss: 1.8676 - dense_55_loss: 1.8426 - dense_56_loss: 1.9575 - dense_47_accuracy: 0.3140 - dense_48_accuracy: 0.2180 - dense_49_accuracy: 0.2460 - dense_50_accuracy: 0.2480 - dense_51_accuracy: 0.1540 - dense_52_accuracy: 0.2760 - dense_53_accuracy: 0.1840 - dense_54_accuracy: 0.2420 - dense_55_accuracy: 0.2500 - dense_56_accuracy: 0.2500\n",
      "Epoch 5/10\n",
      "8/8 [==============================] - 0s 24ms/step - loss: 18.1663 - dense_47_loss: 1.7025 - dense_48_loss: 1.7683 - dense_49_loss: 1.8442 - dense_50_loss: 1.8044 - dense_51_loss: 2.0266 - dense_52_loss: 1.7798 - dense_53_loss: 1.8982 - dense_54_loss: 1.7294 - dense_55_loss: 1.7400 - dense_56_loss: 1.8728 - dense_47_accuracy: 0.3980 - dense_48_accuracy: 0.2460 - dense_49_accuracy: 0.2660 - dense_50_accuracy: 0.2480 - dense_51_accuracy: 0.2080 - dense_52_accuracy: 0.3320 - dense_53_accuracy: 0.2340 - dense_54_accuracy: 0.2840 - dense_55_accuracy: 0.3000 - dense_56_accuracy: 0.2560\n",
      "Epoch 6/10\n",
      "8/8 [==============================] - 0s 24ms/step - loss: 16.7046 - dense_47_loss: 1.5264 - dense_48_loss: 1.6427 - dense_49_loss: 1.6659 - dense_50_loss: 1.6879 - dense_51_loss: 1.8119 - dense_52_loss: 1.6613 - dense_53_loss: 1.7393 - dense_54_loss: 1.6293 - dense_55_loss: 1.5735 - dense_56_loss: 1.7664 - dense_47_accuracy: 0.4040 - dense_48_accuracy: 0.3180 - dense_49_accuracy: 0.2920 - dense_50_accuracy: 0.2620 - dense_51_accuracy: 0.2400 - dense_52_accuracy: 0.3320 - dense_53_accuracy: 0.3080 - dense_54_accuracy: 0.2820 - dense_55_accuracy: 0.3320 - dense_56_accuracy: 0.2740\n",
      "Epoch 7/10\n",
      "8/8 [==============================] - 0s 24ms/step - loss: 15.4375 - dense_47_loss: 1.3850 - dense_48_loss: 1.5282 - dense_49_loss: 1.5692 - dense_50_loss: 1.5736 - dense_51_loss: 1.6480 - dense_52_loss: 1.5245 - dense_53_loss: 1.6086 - dense_54_loss: 1.5435 - dense_55_loss: 1.4399 - dense_56_loss: 1.6171 - dense_47_accuracy: 0.4180 - dense_48_accuracy: 0.3040 - dense_49_accuracy: 0.2660 - dense_50_accuracy: 0.2960 - dense_51_accuracy: 0.2660 - dense_52_accuracy: 0.3500 - dense_53_accuracy: 0.2680 - dense_54_accuracy: 0.2480 - dense_55_accuracy: 0.3400 - dense_56_accuracy: 0.2960\n",
      "Epoch 8/10\n",
      "8/8 [==============================] - 0s 24ms/step - loss: 14.8741 - dense_47_loss: 1.3366 - dense_48_loss: 1.4826 - dense_49_loss: 1.5199 - dense_50_loss: 1.5157 - dense_51_loss: 1.5759 - dense_52_loss: 1.4555 - dense_53_loss: 1.5538 - dense_54_loss: 1.5004 - dense_55_loss: 1.3910 - dense_56_loss: 1.5428 - dense_47_accuracy: 0.4320 - dense_48_accuracy: 0.2860 - dense_49_accuracy: 0.2640 - dense_50_accuracy: 0.2880 - dense_51_accuracy: 0.2400 - dense_52_accuracy: 0.3580 - dense_53_accuracy: 0.2940 - dense_54_accuracy: 0.3000 - dense_55_accuracy: 0.3180 - dense_56_accuracy: 0.2760\n",
      "Epoch 9/10\n",
      "8/8 [==============================] - 0s 24ms/step - loss: 14.5849 - dense_47_loss: 1.3073 - dense_48_loss: 1.4411 - dense_49_loss: 1.5046 - dense_50_loss: 1.4948 - dense_51_loss: 1.5419 - dense_52_loss: 1.4112 - dense_53_loss: 1.5307 - dense_54_loss: 1.4853 - dense_55_loss: 1.3692 - dense_56_loss: 1.4987 - dense_47_accuracy: 0.4360 - dense_48_accuracy: 0.3200 - dense_49_accuracy: 0.2560 - dense_50_accuracy: 0.3060 - dense_51_accuracy: 0.2500 - dense_52_accuracy: 0.3620 - dense_53_accuracy: 0.3060 - dense_54_accuracy: 0.2540 - dense_55_accuracy: 0.3660 - dense_56_accuracy: 0.3060\n",
      "Epoch 10/10\n",
      "8/8 [==============================] - 0s 24ms/step - loss: 14.2424 - dense_47_loss: 1.2793 - dense_48_loss: 1.4156 - dense_49_loss: 1.4579 - dense_50_loss: 1.4689 - dense_51_loss: 1.4984 - dense_52_loss: 1.3818 - dense_53_loss: 1.4903 - dense_54_loss: 1.4412 - dense_55_loss: 1.3291 - dense_56_loss: 1.4799 - dense_47_accuracy: 0.4320 - dense_48_accuracy: 0.3140 - dense_49_accuracy: 0.3280 - dense_50_accuracy: 0.3120 - dense_51_accuracy: 0.2600 - dense_52_accuracy: 0.3880 - dense_53_accuracy: 0.3280 - dense_54_accuracy: 0.3220 - dense_55_accuracy: 0.3940 - dense_56_accuracy: 0.3140\n",
      "16/16 [==============================] - 1s 6ms/step\n"
     ]
    },
    {
     "name": "stderr",
     "output_type": "stream",
     "text": [
      "\r",
      " 33%|██████████████████████████                                                    | 3/9 [00:54<01:50, 18.41s/eventlog]"
     ]
    },
    {
     "name": "stdout",
     "output_type": "stream",
     "text": [
      "Epoch 1/10\n",
      "8/8 [==============================] - 16s 23ms/step - loss: 24.9715 - dense_57_loss: 2.4752 - dense_58_loss: 2.3834 - dense_59_loss: 2.5328 - dense_60_loss: 2.3885 - dense_61_loss: 2.9831 - dense_62_loss: 2.4610 - dense_63_loss: 2.5960 - dense_64_loss: 2.4123 - dense_65_loss: 2.2754 - dense_66_loss: 2.4638 - dense_57_accuracy: 0.1420 - dense_58_accuracy: 0.1460 - dense_59_accuracy: 0.1280 - dense_60_accuracy: 0.1420 - dense_61_accuracy: 0.0520 - dense_62_accuracy: 0.1400 - dense_63_accuracy: 0.1260 - dense_64_accuracy: 0.1600 - dense_65_accuracy: 0.1580 - dense_66_accuracy: 0.1420\n",
      "Epoch 2/10\n",
      "8/8 [==============================] - 0s 26ms/step - loss: 23.0528 - dense_57_loss: 2.2315 - dense_58_loss: 2.1794 - dense_59_loss: 2.3893 - dense_60_loss: 2.1569 - dense_61_loss: 2.7970 - dense_62_loss: 2.2848 - dense_63_loss: 2.3590 - dense_64_loss: 2.2612 - dense_65_loss: 2.1622 - dense_66_loss: 2.2313 - dense_57_accuracy: 0.2140 - dense_58_accuracy: 0.2180 - dense_59_accuracy: 0.1640 - dense_60_accuracy: 0.2160 - dense_61_accuracy: 0.0960 - dense_62_accuracy: 0.1960 - dense_63_accuracy: 0.1880 - dense_64_accuracy: 0.2120 - dense_65_accuracy: 0.1780 - dense_66_accuracy: 0.2360\n",
      "Epoch 3/10\n",
      "8/8 [==============================] - 0s 25ms/step - loss: 20.1506 - dense_57_loss: 1.8902 - dense_58_loss: 1.9865 - dense_59_loss: 2.0776 - dense_60_loss: 1.8937 - dense_61_loss: 2.3315 - dense_62_loss: 2.0000 - dense_63_loss: 2.0391 - dense_64_loss: 2.0250 - dense_65_loss: 1.8778 - dense_66_loss: 2.0291 - dense_57_accuracy: 0.3480 - dense_58_accuracy: 0.2460 - dense_59_accuracy: 0.2080 - dense_60_accuracy: 0.2780 - dense_61_accuracy: 0.1560 - dense_62_accuracy: 0.2540 - dense_63_accuracy: 0.2040 - dense_64_accuracy: 0.2520 - dense_65_accuracy: 0.2480 - dense_66_accuracy: 0.2380\n",
      "Epoch 4/10\n",
      "8/8 [==============================] - 0s 25ms/step - loss: 18.0284 - dense_57_loss: 1.6787 - dense_58_loss: 1.8157 - dense_59_loss: 1.8534 - dense_60_loss: 1.7301 - dense_61_loss: 1.9659 - dense_62_loss: 1.7887 - dense_63_loss: 1.7959 - dense_64_loss: 1.8621 - dense_65_loss: 1.6058 - dense_66_loss: 1.9321 - dense_57_accuracy: 0.4060 - dense_58_accuracy: 0.2500 - dense_59_accuracy: 0.2380 - dense_60_accuracy: 0.2940 - dense_61_accuracy: 0.2360 - dense_62_accuracy: 0.3080 - dense_63_accuracy: 0.2920 - dense_64_accuracy: 0.2720 - dense_65_accuracy: 0.3540 - dense_66_accuracy: 0.2800\n",
      "Epoch 5/10\n",
      "8/8 [==============================] - 0s 25ms/step - loss: 16.8275 - dense_57_loss: 1.5678 - dense_58_loss: 1.6983 - dense_59_loss: 1.7467 - dense_60_loss: 1.6342 - dense_61_loss: 1.7839 - dense_62_loss: 1.6398 - dense_63_loss: 1.6976 - dense_64_loss: 1.7496 - dense_65_loss: 1.5097 - dense_66_loss: 1.8000 - dense_57_accuracy: 0.4360 - dense_58_accuracy: 0.3000 - dense_59_accuracy: 0.2600 - dense_60_accuracy: 0.2720 - dense_61_accuracy: 0.2480 - dense_62_accuracy: 0.3260 - dense_63_accuracy: 0.2780 - dense_64_accuracy: 0.2680 - dense_65_accuracy: 0.3760 - dense_66_accuracy: 0.2580\n",
      "Epoch 6/10\n",
      "8/8 [==============================] - 0s 25ms/step - loss: 16.2951 - dense_57_loss: 1.5091 - dense_58_loss: 1.6436 - dense_59_loss: 1.6998 - dense_60_loss: 1.5896 - dense_61_loss: 1.7441 - dense_62_loss: 1.5863 - dense_63_loss: 1.6564 - dense_64_loss: 1.6902 - dense_65_loss: 1.4491 - dense_66_loss: 1.7269 - dense_57_accuracy: 0.4360 - dense_58_accuracy: 0.2400 - dense_59_accuracy: 0.2580 - dense_60_accuracy: 0.3060 - dense_61_accuracy: 0.2440 - dense_62_accuracy: 0.3320 - dense_63_accuracy: 0.2640 - dense_64_accuracy: 0.3040 - dense_65_accuracy: 0.3760 - dense_66_accuracy: 0.2520\n",
      "Epoch 7/10\n",
      "8/8 [==============================] - 0s 24ms/step - loss: 15.7823 - dense_57_loss: 1.3993 - dense_58_loss: 1.5737 - dense_59_loss: 1.6839 - dense_60_loss: 1.5853 - dense_61_loss: 1.6889 - dense_62_loss: 1.5503 - dense_63_loss: 1.6197 - dense_64_loss: 1.6118 - dense_65_loss: 1.4244 - dense_66_loss: 1.6449 - dense_57_accuracy: 0.4400 - dense_58_accuracy: 0.2900 - dense_59_accuracy: 0.2640 - dense_60_accuracy: 0.2860 - dense_61_accuracy: 0.2520 - dense_62_accuracy: 0.3340 - dense_63_accuracy: 0.2820 - dense_64_accuracy: 0.2900 - dense_65_accuracy: 0.3540 - dense_66_accuracy: 0.2840\n",
      "Epoch 8/10\n",
      "8/8 [==============================] - 0s 26ms/step - loss: 15.3992 - dense_57_loss: 1.3540 - dense_58_loss: 1.5334 - dense_59_loss: 1.6542 - dense_60_loss: 1.5554 - dense_61_loss: 1.6497 - dense_62_loss: 1.5240 - dense_63_loss: 1.5726 - dense_64_loss: 1.5684 - dense_65_loss: 1.4104 - dense_66_loss: 1.5772 - dense_57_accuracy: 0.4420 - dense_58_accuracy: 0.3180 - dense_59_accuracy: 0.2380 - dense_60_accuracy: 0.2960 - dense_61_accuracy: 0.2380 - dense_62_accuracy: 0.3340 - dense_63_accuracy: 0.2760 - dense_64_accuracy: 0.3020 - dense_65_accuracy: 0.3420 - dense_66_accuracy: 0.3000\n",
      "Epoch 9/10\n",
      "8/8 [==============================] - 0s 26ms/step - loss: 14.9753 - dense_57_loss: 1.3071 - dense_58_loss: 1.4815 - dense_59_loss: 1.6131 - dense_60_loss: 1.5200 - dense_61_loss: 1.6052 - dense_62_loss: 1.4888 - dense_63_loss: 1.5448 - dense_64_loss: 1.5098 - dense_65_loss: 1.3823 - dense_66_loss: 1.5227 - dense_57_accuracy: 0.4460 - dense_58_accuracy: 0.3240 - dense_59_accuracy: 0.2780 - dense_60_accuracy: 0.3160 - dense_61_accuracy: 0.2980 - dense_62_accuracy: 0.3620 - dense_63_accuracy: 0.3100 - dense_64_accuracy: 0.3140 - dense_65_accuracy: 0.3600 - dense_66_accuracy: 0.3240\n",
      "Epoch 10/10\n",
      "8/8 [==============================] - 0s 25ms/step - loss: 14.7795 - dense_57_loss: 1.2915 - dense_58_loss: 1.4570 - dense_59_loss: 1.6000 - dense_60_loss: 1.4996 - dense_61_loss: 1.5897 - dense_62_loss: 1.4742 - dense_63_loss: 1.5232 - dense_64_loss: 1.4824 - dense_65_loss: 1.3669 - dense_66_loss: 1.4950 - dense_57_accuracy: 0.4480 - dense_58_accuracy: 0.3440 - dense_59_accuracy: 0.2800 - dense_60_accuracy: 0.3080 - dense_61_accuracy: 0.2640 - dense_62_accuracy: 0.3520 - dense_63_accuracy: 0.3080 - dense_64_accuracy: 0.3320 - dense_65_accuracy: 0.3560 - dense_66_accuracy: 0.3100\n",
      "16/16 [==============================] - 1s 7ms/step\n"
     ]
    },
    {
     "name": "stderr",
     "output_type": "stream",
     "text": [
      "\r",
      " 44%|██████████████████████████████████▋                                           | 4/9 [01:16<01:38, 19.62s/eventlog]"
     ]
    },
    {
     "name": "stdout",
     "output_type": "stream",
     "text": [
      "Epoch 1/10\n",
      "8/8 [==============================] - 13s 25ms/step - loss: 25.0727 - dense_67_loss: 2.4617 - dense_68_loss: 2.4196 - dense_69_loss: 2.5593 - dense_70_loss: 2.3834 - dense_71_loss: 2.9647 - dense_72_loss: 2.4839 - dense_73_loss: 2.6082 - dense_74_loss: 2.4231 - dense_75_loss: 2.2741 - dense_76_loss: 2.4947 - dense_67_accuracy: 0.1400 - dense_68_accuracy: 0.1280 - dense_69_accuracy: 0.0720 - dense_70_accuracy: 0.1900 - dense_71_accuracy: 0.0740 - dense_72_accuracy: 0.1540 - dense_73_accuracy: 0.1220 - dense_74_accuracy: 0.1340 - dense_75_accuracy: 0.1100 - dense_76_accuracy: 0.1580\n",
      "Epoch 2/10\n",
      "8/8 [==============================] - 0s 26ms/step - loss: 23.4064 - dense_67_loss: 2.3028 - dense_68_loss: 2.2450 - dense_69_loss: 2.4131 - dense_70_loss: 2.2268 - dense_71_loss: 2.7853 - dense_72_loss: 2.2514 - dense_73_loss: 2.4436 - dense_74_loss: 2.3053 - dense_75_loss: 2.1740 - dense_76_loss: 2.2592 - dense_67_accuracy: 0.1680 - dense_68_accuracy: 0.2080 - dense_69_accuracy: 0.1820 - dense_70_accuracy: 0.2120 - dense_71_accuracy: 0.1140 - dense_72_accuracy: 0.2020 - dense_73_accuracy: 0.1100 - dense_74_accuracy: 0.2260 - dense_75_accuracy: 0.1880 - dense_76_accuracy: 0.2200\n",
      "Epoch 3/10\n",
      "8/8 [==============================] - 0s 25ms/step - loss: 20.9898 - dense_67_loss: 2.0343 - dense_68_loss: 2.0696 - dense_69_loss: 2.1338 - dense_70_loss: 1.9892 - dense_71_loss: 2.4151 - dense_72_loss: 2.0841 - dense_73_loss: 2.1568 - dense_74_loss: 2.0463 - dense_75_loss: 1.9594 - dense_76_loss: 2.1010 - dense_67_accuracy: 0.2680 - dense_68_accuracy: 0.2320 - dense_69_accuracy: 0.2180 - dense_70_accuracy: 0.2500 - dense_71_accuracy: 0.1600 - dense_72_accuracy: 0.2220 - dense_73_accuracy: 0.1960 - dense_74_accuracy: 0.2400 - dense_75_accuracy: 0.2280 - dense_76_accuracy: 0.2280\n",
      "Epoch 4/10\n",
      "8/8 [==============================] - 0s 25ms/step - loss: 19.4006 - dense_67_loss: 1.8327 - dense_68_loss: 1.8938 - dense_69_loss: 2.0065 - dense_70_loss: 1.8689 - dense_71_loss: 2.2500 - dense_72_loss: 1.9069 - dense_73_loss: 2.0537 - dense_74_loss: 1.8508 - dense_75_loss: 1.7793 - dense_76_loss: 1.9581 - dense_67_accuracy: 0.3260 - dense_68_accuracy: 0.2640 - dense_69_accuracy: 0.2120 - dense_70_accuracy: 0.2620 - dense_71_accuracy: 0.1780 - dense_72_accuracy: 0.2660 - dense_73_accuracy: 0.2540 - dense_74_accuracy: 0.2760 - dense_75_accuracy: 0.2880 - dense_76_accuracy: 0.2240\n",
      "Epoch 5/10\n",
      "8/8 [==============================] - 0s 25ms/step - loss: 18.0907 - dense_67_loss: 1.6477 - dense_68_loss: 1.7558 - dense_69_loss: 1.8868 - dense_70_loss: 1.7422 - dense_71_loss: 2.0384 - dense_72_loss: 1.8156 - dense_73_loss: 1.9355 - dense_74_loss: 1.7167 - dense_75_loss: 1.6743 - dense_76_loss: 1.8778 - dense_67_accuracy: 0.3960 - dense_68_accuracy: 0.3040 - dense_69_accuracy: 0.2340 - dense_70_accuracy: 0.2980 - dense_71_accuracy: 0.2240 - dense_72_accuracy: 0.2700 - dense_73_accuracy: 0.2540 - dense_74_accuracy: 0.3200 - dense_75_accuracy: 0.3100 - dense_76_accuracy: 0.2820\n",
      "Epoch 6/10\n",
      "8/8 [==============================] - 0s 26ms/step - loss: 16.8311 - dense_67_loss: 1.5134 - dense_68_loss: 1.6415 - dense_69_loss: 1.7708 - dense_70_loss: 1.6098 - dense_71_loss: 1.8979 - dense_72_loss: 1.7035 - dense_73_loss: 1.7960 - dense_74_loss: 1.6082 - dense_75_loss: 1.5393 - dense_76_loss: 1.7506 - dense_67_accuracy: 0.4060 - dense_68_accuracy: 0.3200 - dense_69_accuracy: 0.2440 - dense_70_accuracy: 0.2880 - dense_71_accuracy: 0.2300 - dense_72_accuracy: 0.3020 - dense_73_accuracy: 0.2640 - dense_74_accuracy: 0.3160 - dense_75_accuracy: 0.3400 - dense_76_accuracy: 0.2900\n",
      "Epoch 7/10\n",
      "8/8 [==============================] - 0s 25ms/step - loss: 15.8610 - dense_67_loss: 1.4085 - dense_68_loss: 1.5447 - dense_69_loss: 1.6951 - dense_70_loss: 1.5277 - dense_71_loss: 1.7637 - dense_72_loss: 1.6209 - dense_73_loss: 1.6556 - dense_74_loss: 1.5524 - dense_75_loss: 1.4433 - dense_76_loss: 1.6490 - dense_67_accuracy: 0.4260 - dense_68_accuracy: 0.3220 - dense_69_accuracy: 0.2780 - dense_70_accuracy: 0.3100 - dense_71_accuracy: 0.2660 - dense_72_accuracy: 0.3160 - dense_73_accuracy: 0.3060 - dense_74_accuracy: 0.2620 - dense_75_accuracy: 0.3680 - dense_76_accuracy: 0.3180\n",
      "Epoch 8/10\n",
      "8/8 [==============================] - 0s 25ms/step - loss: 15.2738 - dense_67_loss: 1.3492 - dense_68_loss: 1.5079 - dense_69_loss: 1.6409 - dense_70_loss: 1.4794 - dense_71_loss: 1.6725 - dense_72_loss: 1.5502 - dense_73_loss: 1.5971 - dense_74_loss: 1.5038 - dense_75_loss: 1.4167 - dense_76_loss: 1.5562 - dense_67_accuracy: 0.4300 - dense_68_accuracy: 0.3420 - dense_69_accuracy: 0.2680 - dense_70_accuracy: 0.3360 - dense_71_accuracy: 0.2400 - dense_72_accuracy: 0.3240 - dense_73_accuracy: 0.2780 - dense_74_accuracy: 0.3240 - dense_75_accuracy: 0.3820 - dense_76_accuracy: 0.3160\n",
      "Epoch 9/10\n",
      "8/8 [==============================] - 0s 25ms/step - loss: 14.9663 - dense_67_loss: 1.3373 - dense_68_loss: 1.4680 - dense_69_loss: 1.6076 - dense_70_loss: 1.4475 - dense_71_loss: 1.6395 - dense_72_loss: 1.5172 - dense_73_loss: 1.5618 - dense_74_loss: 1.4809 - dense_75_loss: 1.3877 - dense_76_loss: 1.5189 - dense_67_accuracy: 0.4260 - dense_68_accuracy: 0.3220 - dense_69_accuracy: 0.2620 - dense_70_accuracy: 0.3480 - dense_71_accuracy: 0.2380 - dense_72_accuracy: 0.3380 - dense_73_accuracy: 0.3240 - dense_74_accuracy: 0.3340 - dense_75_accuracy: 0.3740 - dense_76_accuracy: 0.3380\n",
      "Epoch 10/10\n",
      "8/8 [==============================] - 0s 26ms/step - loss: 14.7212 - dense_67_loss: 1.3073 - dense_68_loss: 1.4460 - dense_69_loss: 1.5747 - dense_70_loss: 1.4344 - dense_71_loss: 1.6194 - dense_72_loss: 1.4969 - dense_73_loss: 1.5337 - dense_74_loss: 1.4548 - dense_75_loss: 1.3658 - dense_76_loss: 1.4882 - dense_67_accuracy: 0.4360 - dense_68_accuracy: 0.3440 - dense_69_accuracy: 0.2780 - dense_70_accuracy: 0.3480 - dense_71_accuracy: 0.3020 - dense_72_accuracy: 0.3460 - dense_73_accuracy: 0.3380 - dense_74_accuracy: 0.3420 - dense_75_accuracy: 0.3980 - dense_76_accuracy: 0.3500\n",
      "16/16 [==============================] - 1s 7ms/step\n"
     ]
    },
    {
     "name": "stderr",
     "output_type": "stream",
     "text": [
      "\r",
      " 56%|███████████████████████████████████████████▎                                  | 5/9 [01:34<01:16, 19.09s/eventlog]"
     ]
    },
    {
     "name": "stdout",
     "output_type": "stream",
     "text": [
      "Epoch 1/10\n",
      "8/8 [==============================] - 12s 23ms/step - loss: 25.1992 - dense_77_loss: 2.5128 - dense_78_loss: 2.3815 - dense_79_loss: 2.5353 - dense_80_loss: 2.4129 - dense_81_loss: 2.9733 - dense_82_loss: 2.5111 - dense_83_loss: 2.5982 - dense_84_loss: 2.4611 - dense_85_loss: 2.2975 - dense_86_loss: 2.5154 - dense_77_accuracy: 0.1080 - dense_78_accuracy: 0.1680 - dense_79_accuracy: 0.1220 - dense_80_accuracy: 0.1540 - dense_81_accuracy: 0.0740 - dense_82_accuracy: 0.1000 - dense_83_accuracy: 0.1080 - dense_84_accuracy: 0.0820 - dense_85_accuracy: 0.1360 - dense_86_accuracy: 0.1340\n",
      "Epoch 2/10\n",
      "8/8 [==============================] - 0s 25ms/step - loss: 23.6065 - dense_77_loss: 2.3420 - dense_78_loss: 2.2156 - dense_79_loss: 2.4509 - dense_80_loss: 2.2497 - dense_81_loss: 2.8046 - dense_82_loss: 2.3090 - dense_83_loss: 2.4208 - dense_84_loss: 2.3298 - dense_85_loss: 2.1625 - dense_86_loss: 2.3215 - dense_77_accuracy: 0.1780 - dense_78_accuracy: 0.1600 - dense_79_accuracy: 0.1480 - dense_80_accuracy: 0.2340 - dense_81_accuracy: 0.1140 - dense_82_accuracy: 0.2080 - dense_83_accuracy: 0.1820 - dense_84_accuracy: 0.1920 - dense_85_accuracy: 0.1840 - dense_86_accuracy: 0.2040\n",
      "Epoch 3/10\n",
      "8/8 [==============================] - 0s 24ms/step - loss: 21.0754 - dense_77_loss: 2.0627 - dense_78_loss: 1.9924 - dense_79_loss: 2.1819 - dense_80_loss: 2.0097 - dense_81_loss: 2.4872 - dense_82_loss: 2.0676 - dense_83_loss: 2.1634 - dense_84_loss: 2.0559 - dense_85_loss: 1.9099 - dense_86_loss: 2.1448 - dense_77_accuracy: 0.2860 - dense_78_accuracy: 0.2860 - dense_79_accuracy: 0.1840 - dense_80_accuracy: 0.2580 - dense_81_accuracy: 0.1740 - dense_82_accuracy: 0.2520 - dense_83_accuracy: 0.2080 - dense_84_accuracy: 0.2540 - dense_85_accuracy: 0.2480 - dense_86_accuracy: 0.2500\n",
      "Epoch 4/10\n",
      "8/8 [==============================] - 0s 26ms/step - loss: 18.7939 - dense_77_loss: 1.7744 - dense_78_loss: 1.8120 - dense_79_loss: 1.9290 - dense_80_loss: 1.8480 - dense_81_loss: 2.1358 - dense_82_loss: 1.8584 - dense_83_loss: 1.9611 - dense_84_loss: 1.8672 - dense_85_loss: 1.6742 - dense_86_loss: 1.9337 - dense_77_accuracy: 0.4020 - dense_78_accuracy: 0.2920 - dense_79_accuracy: 0.1860 - dense_80_accuracy: 0.2300 - dense_81_accuracy: 0.2420 - dense_82_accuracy: 0.2920 - dense_83_accuracy: 0.2540 - dense_84_accuracy: 0.2640 - dense_85_accuracy: 0.3520 - dense_86_accuracy: 0.2360\n",
      "Epoch 5/10\n",
      "8/8 [==============================] - 0s 26ms/step - loss: 17.1788 - dense_77_loss: 1.5734 - dense_78_loss: 1.6834 - dense_79_loss: 1.7138 - dense_80_loss: 1.6877 - dense_81_loss: 1.9125 - dense_82_loss: 1.7443 - dense_83_loss: 1.7672 - dense_84_loss: 1.7632 - dense_85_loss: 1.5348 - dense_86_loss: 1.7985 - dense_77_accuracy: 0.4600 - dense_78_accuracy: 0.3140 - dense_79_accuracy: 0.2640 - dense_80_accuracy: 0.2840 - dense_81_accuracy: 0.2580 - dense_82_accuracy: 0.3040 - dense_83_accuracy: 0.2880 - dense_84_accuracy: 0.3160 - dense_85_accuracy: 0.3900 - dense_86_accuracy: 0.2780\n",
      "Epoch 6/10\n",
      "8/8 [==============================] - 0s 25ms/step - loss: 16.3868 - dense_77_loss: 1.4766 - dense_78_loss: 1.6064 - dense_79_loss: 1.6225 - dense_80_loss: 1.6103 - dense_81_loss: 1.8144 - dense_82_loss: 1.6882 - dense_83_loss: 1.7179 - dense_84_loss: 1.6629 - dense_85_loss: 1.4758 - dense_86_loss: 1.7118 - dense_77_accuracy: 0.4540 - dense_78_accuracy: 0.3020 - dense_79_accuracy: 0.2500 - dense_80_accuracy: 0.2820 - dense_81_accuracy: 0.2660 - dense_82_accuracy: 0.3020 - dense_83_accuracy: 0.2860 - dense_84_accuracy: 0.3280 - dense_85_accuracy: 0.3540 - dense_86_accuracy: 0.2620\n",
      "Epoch 7/10\n",
      "8/8 [==============================] - 0s 28ms/step - loss: 15.8889 - dense_77_loss: 1.4108 - dense_78_loss: 1.5477 - dense_79_loss: 1.5759 - dense_80_loss: 1.5759 - dense_81_loss: 1.7550 - dense_82_loss: 1.6562 - dense_83_loss: 1.6942 - dense_84_loss: 1.5989 - dense_85_loss: 1.4439 - dense_86_loss: 1.6302 - dense_77_accuracy: 0.4800 - dense_78_accuracy: 0.3260 - dense_79_accuracy: 0.2640 - dense_80_accuracy: 0.3120 - dense_81_accuracy: 0.2340 - dense_82_accuracy: 0.3320 - dense_83_accuracy: 0.2960 - dense_84_accuracy: 0.2980 - dense_85_accuracy: 0.3740 - dense_86_accuracy: 0.2860\n",
      "Epoch 8/10\n",
      "8/8 [==============================] - 0s 25ms/step - loss: 15.6366 - dense_77_loss: 1.3962 - dense_78_loss: 1.5231 - dense_79_loss: 1.5572 - dense_80_loss: 1.5539 - dense_81_loss: 1.7059 - dense_82_loss: 1.6264 - dense_83_loss: 1.6647 - dense_84_loss: 1.5672 - dense_85_loss: 1.4329 - dense_86_loss: 1.6091 - dense_77_accuracy: 0.4940 - dense_78_accuracy: 0.3320 - dense_79_accuracy: 0.3000 - dense_80_accuracy: 0.2940 - dense_81_accuracy: 0.2780 - dense_82_accuracy: 0.3260 - dense_83_accuracy: 0.3200 - dense_84_accuracy: 0.3280 - dense_85_accuracy: 0.4000 - dense_86_accuracy: 0.2680\n",
      "Epoch 9/10\n",
      "8/8 [==============================] - 0s 25ms/step - loss: 15.3619 - dense_77_loss: 1.3648 - dense_78_loss: 1.4957 - dense_79_loss: 1.5372 - dense_80_loss: 1.5284 - dense_81_loss: 1.6751 - dense_82_loss: 1.5973 - dense_83_loss: 1.6511 - dense_84_loss: 1.5426 - dense_85_loss: 1.4094 - dense_86_loss: 1.5603 - dense_77_accuracy: 0.4820 - dense_78_accuracy: 0.3680 - dense_79_accuracy: 0.2940 - dense_80_accuracy: 0.3360 - dense_81_accuracy: 0.2800 - dense_82_accuracy: 0.3200 - dense_83_accuracy: 0.3020 - dense_84_accuracy: 0.3220 - dense_85_accuracy: 0.3960 - dense_86_accuracy: 0.3100\n",
      "Epoch 10/10\n",
      "8/8 [==============================] - 0s 27ms/step - loss: 15.1121 - dense_77_loss: 1.3365 - dense_78_loss: 1.4674 - dense_79_loss: 1.5176 - dense_80_loss: 1.5100 - dense_81_loss: 1.6535 - dense_82_loss: 1.5654 - dense_83_loss: 1.6310 - dense_84_loss: 1.5294 - dense_85_loss: 1.3866 - dense_86_loss: 1.5147 - dense_77_accuracy: 0.4920 - dense_78_accuracy: 0.3680 - dense_79_accuracy: 0.2860 - dense_80_accuracy: 0.3240 - dense_81_accuracy: 0.2680 - dense_82_accuracy: 0.3680 - dense_83_accuracy: 0.3000 - dense_84_accuracy: 0.3340 - dense_85_accuracy: 0.4080 - dense_86_accuracy: 0.3160\n",
      "16/16 [==============================] - 1s 7ms/step\n"
     ]
    },
    {
     "name": "stderr",
     "output_type": "stream",
     "text": [
      "\r",
      " 67%|████████████████████████████████████████████████████                          | 6/9 [01:53<00:56, 18.97s/eventlog]"
     ]
    },
    {
     "name": "stdout",
     "output_type": "stream",
     "text": [
      "Epoch 1/10\n",
      "8/8 [==============================] - 13s 23ms/step - loss: 25.0687 - dense_87_loss: 2.4780 - dense_88_loss: 2.3692 - dense_89_loss: 2.5775 - dense_90_loss: 2.3771 - dense_91_loss: 2.9820 - dense_92_loss: 2.5028 - dense_93_loss: 2.5748 - dense_94_loss: 2.4481 - dense_95_loss: 2.2810 - dense_96_loss: 2.4781 - dense_87_accuracy: 0.1320 - dense_88_accuracy: 0.1320 - dense_89_accuracy: 0.1020 - dense_90_accuracy: 0.1600 - dense_91_accuracy: 0.0560 - dense_92_accuracy: 0.0860 - dense_93_accuracy: 0.1140 - dense_94_accuracy: 0.0940 - dense_95_accuracy: 0.1280 - dense_96_accuracy: 0.1760\n",
      "Epoch 2/10\n",
      "8/8 [==============================] - 0s 24ms/step - loss: 23.5814 - dense_87_loss: 2.2746 - dense_88_loss: 2.2107 - dense_89_loss: 2.5116 - dense_90_loss: 2.2699 - dense_91_loss: 2.8315 - dense_92_loss: 2.2783 - dense_93_loss: 2.4150 - dense_94_loss: 2.3334 - dense_95_loss: 2.1614 - dense_96_loss: 2.2951 - dense_87_accuracy: 0.2320 - dense_88_accuracy: 0.2100 - dense_89_accuracy: 0.1220 - dense_90_accuracy: 0.1920 - dense_91_accuracy: 0.1320 - dense_92_accuracy: 0.2480 - dense_93_accuracy: 0.1620 - dense_94_accuracy: 0.2300 - dense_95_accuracy: 0.2120 - dense_96_accuracy: 0.2220\n",
      "Epoch 3/10\n",
      "8/8 [==============================] - 0s 24ms/step - loss: 21.3462 - dense_87_loss: 2.0177 - dense_88_loss: 1.9926 - dense_89_loss: 2.3222 - dense_90_loss: 2.0550 - dense_91_loss: 2.5059 - dense_92_loss: 2.0341 - dense_93_loss: 2.2388 - dense_94_loss: 2.0743 - dense_95_loss: 2.0199 - dense_96_loss: 2.0857 - dense_87_accuracy: 0.2780 - dense_88_accuracy: 0.2500 - dense_89_accuracy: 0.2020 - dense_90_accuracy: 0.2360 - dense_91_accuracy: 0.1320 - dense_92_accuracy: 0.2720 - dense_93_accuracy: 0.1640 - dense_94_accuracy: 0.2640 - dense_95_accuracy: 0.2020 - dense_96_accuracy: 0.2300\n",
      "Epoch 4/10\n",
      "8/8 [==============================] - 0s 24ms/step - loss: 19.7099 - dense_87_loss: 1.8410 - dense_88_loss: 1.8918 - dense_89_loss: 2.1031 - dense_90_loss: 1.8629 - dense_91_loss: 2.2986 - dense_92_loss: 1.9089 - dense_93_loss: 2.0648 - dense_94_loss: 1.9301 - dense_95_loss: 1.8327 - dense_96_loss: 1.9760 - dense_87_accuracy: 0.3320 - dense_88_accuracy: 0.2260 - dense_89_accuracy: 0.2080 - dense_90_accuracy: 0.2600 - dense_91_accuracy: 0.1480 - dense_92_accuracy: 0.2760 - dense_93_accuracy: 0.2100 - dense_94_accuracy: 0.2460 - dense_95_accuracy: 0.2560 - dense_96_accuracy: 0.2260\n",
      "Epoch 5/10\n",
      "8/8 [==============================] - 0s 24ms/step - loss: 18.2521 - dense_87_loss: 1.6708 - dense_88_loss: 1.7607 - dense_89_loss: 1.9579 - dense_90_loss: 1.7519 - dense_91_loss: 2.0866 - dense_92_loss: 1.7998 - dense_93_loss: 1.8950 - dense_94_loss: 1.8164 - dense_95_loss: 1.6883 - dense_96_loss: 1.8248 - dense_87_accuracy: 0.3600 - dense_88_accuracy: 0.2740 - dense_89_accuracy: 0.2220 - dense_90_accuracy: 0.2840 - dense_91_accuracy: 0.2000 - dense_92_accuracy: 0.2840 - dense_93_accuracy: 0.2600 - dense_94_accuracy: 0.2540 - dense_95_accuracy: 0.2880 - dense_96_accuracy: 0.2780\n",
      "Epoch 6/10\n",
      "8/8 [==============================] - 0s 25ms/step - loss: 17.0674 - dense_87_loss: 1.5293 - dense_88_loss: 1.6441 - dense_89_loss: 1.8147 - dense_90_loss: 1.6939 - dense_91_loss: 1.9181 - dense_92_loss: 1.7114 - dense_93_loss: 1.7293 - dense_94_loss: 1.7073 - dense_95_loss: 1.6063 - dense_96_loss: 1.7131 - dense_87_accuracy: 0.3840 - dense_88_accuracy: 0.2940 - dense_89_accuracy: 0.2080 - dense_90_accuracy: 0.2640 - dense_91_accuracy: 0.2260 - dense_92_accuracy: 0.2960 - dense_93_accuracy: 0.2800 - dense_94_accuracy: 0.2600 - dense_95_accuracy: 0.3100 - dense_96_accuracy: 0.2800\n",
      "Epoch 7/10\n",
      "8/8 [==============================] - 0s 25ms/step - loss: 16.2054 - dense_87_loss: 1.4491 - dense_88_loss: 1.5729 - dense_89_loss: 1.7301 - dense_90_loss: 1.6121 - dense_91_loss: 1.7945 - dense_92_loss: 1.6399 - dense_93_loss: 1.6332 - dense_94_loss: 1.6093 - dense_95_loss: 1.5311 - dense_96_loss: 1.6331 - dense_87_accuracy: 0.3920 - dense_88_accuracy: 0.3040 - dense_89_accuracy: 0.2380 - dense_90_accuracy: 0.2940 - dense_91_accuracy: 0.2400 - dense_92_accuracy: 0.3260 - dense_93_accuracy: 0.2940 - dense_94_accuracy: 0.2940 - dense_95_accuracy: 0.3440 - dense_96_accuracy: 0.2820\n",
      "Epoch 8/10\n",
      "8/8 [==============================] - 0s 25ms/step - loss: 15.9546 - dense_87_loss: 1.4036 - dense_88_loss: 1.5503 - dense_89_loss: 1.7119 - dense_90_loss: 1.5969 - dense_91_loss: 1.7518 - dense_92_loss: 1.6158 - dense_93_loss: 1.6188 - dense_94_loss: 1.5963 - dense_95_loss: 1.5021 - dense_96_loss: 1.6071 - dense_87_accuracy: 0.4040 - dense_88_accuracy: 0.3120 - dense_89_accuracy: 0.2480 - dense_90_accuracy: 0.3240 - dense_91_accuracy: 0.2340 - dense_92_accuracy: 0.3300 - dense_93_accuracy: 0.3060 - dense_94_accuracy: 0.2980 - dense_95_accuracy: 0.3400 - dense_96_accuracy: 0.2620\n",
      "Epoch 9/10\n",
      "8/8 [==============================] - 0s 24ms/step - loss: 15.6211 - dense_87_loss: 1.3887 - dense_88_loss: 1.5091 - dense_89_loss: 1.6906 - dense_90_loss: 1.5679 - dense_91_loss: 1.7093 - dense_92_loss: 1.5770 - dense_93_loss: 1.5752 - dense_94_loss: 1.5677 - dense_95_loss: 1.4715 - dense_96_loss: 1.5641 - dense_87_accuracy: 0.4040 - dense_88_accuracy: 0.3300 - dense_89_accuracy: 0.2580 - dense_90_accuracy: 0.3100 - dense_91_accuracy: 0.2560 - dense_92_accuracy: 0.3440 - dense_93_accuracy: 0.3020 - dense_94_accuracy: 0.3120 - dense_95_accuracy: 0.3600 - dense_96_accuracy: 0.2840\n",
      "Epoch 10/10\n",
      "8/8 [==============================] - 0s 24ms/step - loss: 15.4427 - dense_87_loss: 1.3612 - dense_88_loss: 1.5027 - dense_89_loss: 1.6648 - dense_90_loss: 1.5599 - dense_91_loss: 1.6922 - dense_92_loss: 1.5727 - dense_93_loss: 1.5557 - dense_94_loss: 1.5413 - dense_95_loss: 1.4449 - dense_96_loss: 1.5471 - dense_87_accuracy: 0.4200 - dense_88_accuracy: 0.3260 - dense_89_accuracy: 0.2800 - dense_90_accuracy: 0.3360 - dense_91_accuracy: 0.2820 - dense_92_accuracy: 0.3560 - dense_93_accuracy: 0.3240 - dense_94_accuracy: 0.3240 - dense_95_accuracy: 0.3620 - dense_96_accuracy: 0.3040\n",
      "16/16 [==============================] - 1s 7ms/step\n"
     ]
    },
    {
     "name": "stderr",
     "output_type": "stream",
     "text": [
      "\r",
      " 78%|████████████████████████████████████████████████████████████▋                 | 7/9 [02:11<00:37, 18.86s/eventlog]"
     ]
    },
    {
     "name": "stdout",
     "output_type": "stream",
     "text": [
      "Epoch 1/10\n",
      "8/8 [==============================] - 13s 24ms/step - loss: 25.1164 - dense_97_loss: 2.4854 - dense_98_loss: 2.3866 - dense_99_loss: 2.5718 - dense_100_loss: 2.3826 - dense_101_loss: 2.9660 - dense_102_loss: 2.5250 - dense_103_loss: 2.6029 - dense_104_loss: 2.4358 - dense_105_loss: 2.2912 - dense_106_loss: 2.4691 - dense_97_accuracy: 0.1500 - dense_98_accuracy: 0.1200 - dense_99_accuracy: 0.1120 - dense_100_accuracy: 0.2000 - dense_101_accuracy: 0.0720 - dense_102_accuracy: 0.1440 - dense_103_accuracy: 0.0960 - dense_104_accuracy: 0.1080 - dense_105_accuracy: 0.1180 - dense_106_accuracy: 0.1260\n",
      "Epoch 2/10\n",
      "8/8 [==============================] - 0s 30ms/step - loss: 23.7546 - dense_97_loss: 2.3607 - dense_98_loss: 2.1885 - dense_99_loss: 2.4876 - dense_100_loss: 2.2043 - dense_101_loss: 2.8572 - dense_102_loss: 2.3722 - dense_103_loss: 2.4473 - dense_104_loss: 2.3164 - dense_105_loss: 2.2374 - dense_106_loss: 2.2829 - dense_97_accuracy: 0.1740 - dense_98_accuracy: 0.2100 - dense_99_accuracy: 0.1080 - dense_100_accuracy: 0.2780 - dense_101_accuracy: 0.1180 - dense_102_accuracy: 0.1400 - dense_103_accuracy: 0.1680 - dense_104_accuracy: 0.2080 - dense_105_accuracy: 0.1580 - dense_106_accuracy: 0.1920\n",
      "Epoch 3/10\n",
      "8/8 [==============================] - 0s 26ms/step - loss: 21.4777 - dense_97_loss: 2.0991 - dense_98_loss: 1.9929 - dense_99_loss: 2.2198 - dense_100_loss: 1.9997 - dense_101_loss: 2.6560 - dense_102_loss: 2.1591 - dense_103_loss: 2.1620 - dense_104_loss: 2.0626 - dense_105_loss: 2.0335 - dense_106_loss: 2.0929 - dense_97_accuracy: 0.2040 - dense_98_accuracy: 0.2580 - dense_99_accuracy: 0.1780 - dense_100_accuracy: 0.3140 - dense_101_accuracy: 0.1680 - dense_102_accuracy: 0.2000 - dense_103_accuracy: 0.2360 - dense_104_accuracy: 0.2260 - dense_105_accuracy: 0.2240 - dense_106_accuracy: 0.2240\n",
      "Epoch 4/10\n",
      "8/8 [==============================] - 0s 25ms/step - loss: 19.0695 - dense_97_loss: 1.8257 - dense_98_loss: 1.8307 - dense_99_loss: 1.9739 - dense_100_loss: 1.8142 - dense_101_loss: 2.2510 - dense_102_loss: 1.8972 - dense_103_loss: 1.9120 - dense_104_loss: 1.8896 - dense_105_loss: 1.7673 - dense_106_loss: 1.9080 - dense_97_accuracy: 0.3420 - dense_98_accuracy: 0.3020 - dense_99_accuracy: 0.2340 - dense_100_accuracy: 0.2900 - dense_101_accuracy: 0.1940 - dense_102_accuracy: 0.2900 - dense_103_accuracy: 0.2520 - dense_104_accuracy: 0.2720 - dense_105_accuracy: 0.2640 - dense_106_accuracy: 0.2720\n",
      "Epoch 5/10\n",
      "8/8 [==============================] - 0s 25ms/step - loss: 17.9204 - dense_97_loss: 1.7095 - dense_98_loss: 1.7519 - dense_99_loss: 1.8604 - dense_100_loss: 1.7413 - dense_101_loss: 2.0265 - dense_102_loss: 1.7899 - dense_103_loss: 1.8011 - dense_104_loss: 1.7814 - dense_105_loss: 1.6584 - dense_106_loss: 1.8002 - dense_97_accuracy: 0.3940 - dense_98_accuracy: 0.3140 - dense_99_accuracy: 0.2860 - dense_100_accuracy: 0.3280 - dense_101_accuracy: 0.2560 - dense_102_accuracy: 0.2780 - dense_103_accuracy: 0.2260 - dense_104_accuracy: 0.3100 - dense_105_accuracy: 0.3200 - dense_106_accuracy: 0.2400\n",
      "Epoch 6/10\n",
      "8/8 [==============================] - 0s 26ms/step - loss: 17.2632 - dense_97_loss: 1.6529 - dense_98_loss: 1.6922 - dense_99_loss: 1.8139 - dense_100_loss: 1.6779 - dense_101_loss: 1.9300 - dense_102_loss: 1.7474 - dense_103_loss: 1.7321 - dense_104_loss: 1.7053 - dense_105_loss: 1.5774 - dense_106_loss: 1.7341 - dense_97_accuracy: 0.3640 - dense_98_accuracy: 0.2880 - dense_99_accuracy: 0.2560 - dense_100_accuracy: 0.3260 - dense_101_accuracy: 0.2400 - dense_102_accuracy: 0.2900 - dense_103_accuracy: 0.2740 - dense_104_accuracy: 0.3340 - dense_105_accuracy: 0.3380 - dense_106_accuracy: 0.2620\n",
      "Epoch 7/10\n",
      "8/8 [==============================] - 0s 25ms/step - loss: 16.7167 - dense_97_loss: 1.5914 - dense_98_loss: 1.6486 - dense_99_loss: 1.7417 - dense_100_loss: 1.6216 - dense_101_loss: 1.8519 - dense_102_loss: 1.7020 - dense_103_loss: 1.6893 - dense_104_loss: 1.6382 - dense_105_loss: 1.5474 - dense_106_loss: 1.6846 - dense_97_accuracy: 0.3900 - dense_98_accuracy: 0.3280 - dense_99_accuracy: 0.2780 - dense_100_accuracy: 0.3260 - dense_101_accuracy: 0.2620 - dense_102_accuracy: 0.2920 - dense_103_accuracy: 0.2620 - dense_104_accuracy: 0.3800 - dense_105_accuracy: 0.3660 - dense_106_accuracy: 0.3180\n",
      "Epoch 8/10\n",
      "8/8 [==============================] - 0s 26ms/step - loss: 16.3914 - dense_97_loss: 1.5505 - dense_98_loss: 1.6124 - dense_99_loss: 1.7191 - dense_100_loss: 1.5926 - dense_101_loss: 1.8231 - dense_102_loss: 1.6581 - dense_103_loss: 1.6626 - dense_104_loss: 1.5997 - dense_105_loss: 1.5232 - dense_106_loss: 1.6499 - dense_97_accuracy: 0.4140 - dense_98_accuracy: 0.3420 - dense_99_accuracy: 0.2660 - dense_100_accuracy: 0.3180 - dense_101_accuracy: 0.2580 - dense_102_accuracy: 0.3420 - dense_103_accuracy: 0.2800 - dense_104_accuracy: 0.3740 - dense_105_accuracy: 0.3400 - dense_106_accuracy: 0.2900\n",
      "Epoch 9/10\n",
      "8/8 [==============================] - 0s 25ms/step - loss: 16.1686 - dense_97_loss: 1.5150 - dense_98_loss: 1.5716 - dense_99_loss: 1.6984 - dense_100_loss: 1.5835 - dense_101_loss: 1.7854 - dense_102_loss: 1.6350 - dense_103_loss: 1.6634 - dense_104_loss: 1.5835 - dense_105_loss: 1.5087 - dense_106_loss: 1.6241 - dense_97_accuracy: 0.3920 - dense_98_accuracy: 0.3280 - dense_99_accuracy: 0.2960 - dense_100_accuracy: 0.3260 - dense_101_accuracy: 0.2700 - dense_102_accuracy: 0.3620 - dense_103_accuracy: 0.2880 - dense_104_accuracy: 0.3360 - dense_105_accuracy: 0.3740 - dense_106_accuracy: 0.3140\n",
      "Epoch 10/10\n",
      "8/8 [==============================] - 0s 25ms/step - loss: 15.8385 - dense_97_loss: 1.4714 - dense_98_loss: 1.5458 - dense_99_loss: 1.6705 - dense_100_loss: 1.5557 - dense_101_loss: 1.7521 - dense_102_loss: 1.6094 - dense_103_loss: 1.6235 - dense_104_loss: 1.5496 - dense_105_loss: 1.4644 - dense_106_loss: 1.5960 - dense_97_accuracy: 0.4280 - dense_98_accuracy: 0.3580 - dense_99_accuracy: 0.3200 - dense_100_accuracy: 0.3540 - dense_101_accuracy: 0.2740 - dense_102_accuracy: 0.3620 - dense_103_accuracy: 0.3080 - dense_104_accuracy: 0.3780 - dense_105_accuracy: 0.3860 - dense_106_accuracy: 0.3300\n",
      "16/16 [==============================] - 1s 7ms/step\n"
     ]
    },
    {
     "name": "stderr",
     "output_type": "stream",
     "text": [
      "\r",
      " 89%|█████████████████████████████████████████████████████████████████████▎        | 8/9 [02:31<00:18, 18.99s/eventlog]"
     ]
    },
    {
     "name": "stdout",
     "output_type": "stream",
     "text": [
      "Epoch 1/10\n",
      "8/8 [==============================] - 14s 26ms/step - loss: 25.0983 - dense_107_loss: 2.5141 - dense_108_loss: 2.3715 - dense_109_loss: 2.5506 - dense_110_loss: 2.3911 - dense_111_loss: 2.9790 - dense_112_loss: 2.4688 - dense_113_loss: 2.5923 - dense_114_loss: 2.4483 - dense_115_loss: 2.2719 - dense_116_loss: 2.5107 - dense_107_accuracy: 0.1540 - dense_108_accuracy: 0.1660 - dense_109_accuracy: 0.1140 - dense_110_accuracy: 0.1720 - dense_111_accuracy: 0.0720 - dense_112_accuracy: 0.1600 - dense_113_accuracy: 0.1140 - dense_114_accuracy: 0.1260 - dense_115_accuracy: 0.1640 - dense_116_accuracy: 0.1140\n",
      "Epoch 2/10\n",
      "8/8 [==============================] - 0s 26ms/step - loss: 23.9276 - dense_107_loss: 2.3800 - dense_108_loss: 2.1880 - dense_109_loss: 2.4842 - dense_110_loss: 2.2942 - dense_111_loss: 2.8530 - dense_112_loss: 2.3561 - dense_113_loss: 2.4276 - dense_114_loss: 2.3878 - dense_115_loss: 2.2025 - dense_116_loss: 2.3542 - dense_107_accuracy: 0.1740 - dense_108_accuracy: 0.2360 - dense_109_accuracy: 0.1600 - dense_110_accuracy: 0.1960 - dense_111_accuracy: 0.1420 - dense_112_accuracy: 0.1300 - dense_113_accuracy: 0.1460 - dense_114_accuracy: 0.1540 - dense_115_accuracy: 0.1560 - dense_116_accuracy: 0.2000\n",
      "Epoch 3/10\n",
      "8/8 [==============================] - 0s 27ms/step - loss: 22.1306 - dense_107_loss: 2.1625 - dense_108_loss: 2.0242 - dense_109_loss: 2.3037 - dense_110_loss: 2.1786 - dense_111_loss: 2.6004 - dense_112_loss: 2.1972 - dense_113_loss: 2.1716 - dense_114_loss: 2.2033 - dense_115_loss: 2.0954 - dense_116_loss: 2.1938 - dense_107_accuracy: 0.2920 - dense_108_accuracy: 0.2260 - dense_109_accuracy: 0.2000 - dense_110_accuracy: 0.1820 - dense_111_accuracy: 0.1520 - dense_112_accuracy: 0.2060 - dense_113_accuracy: 0.1980 - dense_114_accuracy: 0.1900 - dense_115_accuracy: 0.2300 - dense_116_accuracy: 0.2340\n",
      "Epoch 4/10\n",
      "8/8 [==============================] - 0s 27ms/step - loss: 20.5906 - dense_107_loss: 1.9798 - dense_108_loss: 1.9241 - dense_109_loss: 2.1424 - dense_110_loss: 2.0126 - dense_111_loss: 2.3920 - dense_112_loss: 2.0392 - dense_113_loss: 2.0620 - dense_114_loss: 2.0034 - dense_115_loss: 1.9478 - dense_116_loss: 2.0873 - dense_107_accuracy: 0.3320 - dense_108_accuracy: 0.2340 - dense_109_accuracy: 0.1800 - dense_110_accuracy: 0.2140 - dense_111_accuracy: 0.1700 - dense_112_accuracy: 0.2240 - dense_113_accuracy: 0.1920 - dense_114_accuracy: 0.1840 - dense_115_accuracy: 0.2520 - dense_116_accuracy: 0.1680\n",
      "Epoch 5/10\n",
      "8/8 [==============================] - 0s 27ms/step - loss: 19.6045 - dense_107_loss: 1.8673 - dense_108_loss: 1.8746 - dense_109_loss: 2.0444 - dense_110_loss: 1.9232 - dense_111_loss: 2.2492 - dense_112_loss: 1.9325 - dense_113_loss: 1.9333 - dense_114_loss: 1.9127 - dense_115_loss: 1.8622 - dense_116_loss: 2.0050 - dense_107_accuracy: 0.3760 - dense_108_accuracy: 0.2640 - dense_109_accuracy: 0.1880 - dense_110_accuracy: 0.2540 - dense_111_accuracy: 0.2140 - dense_112_accuracy: 0.2440 - dense_113_accuracy: 0.2400 - dense_114_accuracy: 0.2360 - dense_115_accuracy: 0.2500 - dense_116_accuracy: 0.2420\n",
      "Epoch 6/10\n",
      "8/8 [==============================] - 0s 27ms/step - loss: 18.5653 - dense_107_loss: 1.7711 - dense_108_loss: 1.8065 - dense_109_loss: 1.9475 - dense_110_loss: 1.8440 - dense_111_loss: 2.1225 - dense_112_loss: 1.7997 - dense_113_loss: 1.8015 - dense_114_loss: 1.8386 - dense_115_loss: 1.7416 - dense_116_loss: 1.8924 - dense_107_accuracy: 0.4260 - dense_108_accuracy: 0.2900 - dense_109_accuracy: 0.2420 - dense_110_accuracy: 0.2380 - dense_111_accuracy: 0.1960 - dense_112_accuracy: 0.2880 - dense_113_accuracy: 0.2800 - dense_114_accuracy: 0.2480 - dense_115_accuracy: 0.3140 - dense_116_accuracy: 0.2700\n",
      "Epoch 7/10\n",
      "8/8 [==============================] - 0s 25ms/step - loss: 17.5119 - dense_107_loss: 1.6623 - dense_108_loss: 1.7130 - dense_109_loss: 1.8567 - dense_110_loss: 1.7631 - dense_111_loss: 1.9924 - dense_112_loss: 1.6767 - dense_113_loss: 1.6907 - dense_114_loss: 1.7462 - dense_115_loss: 1.6248 - dense_116_loss: 1.7859 - dense_107_accuracy: 0.4160 - dense_108_accuracy: 0.3160 - dense_109_accuracy: 0.2240 - dense_110_accuracy: 0.2520 - dense_111_accuracy: 0.2420 - dense_112_accuracy: 0.3180 - dense_113_accuracy: 0.2800 - dense_114_accuracy: 0.2780 - dense_115_accuracy: 0.3120 - dense_116_accuracy: 0.2660\n",
      "Epoch 8/10\n",
      "8/8 [==============================] - 0s 26ms/step - loss: 16.8015 - dense_107_loss: 1.5598 - dense_108_loss: 1.6296 - dense_109_loss: 1.7697 - dense_110_loss: 1.7000 - dense_111_loss: 1.9135 - dense_112_loss: 1.6278 - dense_113_loss: 1.6466 - dense_114_loss: 1.6753 - dense_115_loss: 1.5733 - dense_116_loss: 1.7060 - dense_107_accuracy: 0.4200 - dense_108_accuracy: 0.3220 - dense_109_accuracy: 0.2620 - dense_110_accuracy: 0.2700 - dense_111_accuracy: 0.2460 - dense_112_accuracy: 0.3120 - dense_113_accuracy: 0.2800 - dense_114_accuracy: 0.2880 - dense_115_accuracy: 0.3400 - dense_116_accuracy: 0.3040\n",
      "Epoch 9/10\n",
      "8/8 [==============================] - 0s 29ms/step - loss: 16.4361 - dense_107_loss: 1.5304 - dense_108_loss: 1.5864 - dense_109_loss: 1.7522 - dense_110_loss: 1.6592 - dense_111_loss: 1.8618 - dense_112_loss: 1.5855 - dense_113_loss: 1.5998 - dense_114_loss: 1.6528 - dense_115_loss: 1.5468 - dense_116_loss: 1.6611 - dense_107_accuracy: 0.4280 - dense_108_accuracy: 0.3580 - dense_109_accuracy: 0.2480 - dense_110_accuracy: 0.2940 - dense_111_accuracy: 0.2340 - dense_112_accuracy: 0.3400 - dense_113_accuracy: 0.3220 - dense_114_accuracy: 0.2780 - dense_115_accuracy: 0.3320 - dense_116_accuracy: 0.3120\n",
      "Epoch 10/10\n",
      "8/8 [==============================] - 0s 27ms/step - loss: 16.2083 - dense_107_loss: 1.5121 - dense_108_loss: 1.5634 - dense_109_loss: 1.7310 - dense_110_loss: 1.6467 - dense_111_loss: 1.8430 - dense_112_loss: 1.5548 - dense_113_loss: 1.5753 - dense_114_loss: 1.6213 - dense_115_loss: 1.5265 - dense_116_loss: 1.6343 - dense_107_accuracy: 0.4400 - dense_108_accuracy: 0.3600 - dense_109_accuracy: 0.2720 - dense_110_accuracy: 0.3020 - dense_111_accuracy: 0.2540 - dense_112_accuracy: 0.3320 - dense_113_accuracy: 0.3180 - dense_114_accuracy: 0.2920 - dense_115_accuracy: 0.3500 - dense_116_accuracy: 0.3020\n",
      "16/16 [==============================] - 1s 8ms/step\n"
     ]
    },
    {
     "name": "stderr",
     "output_type": "stream",
     "text": [
      "100%|██████████████████████████████████████████████████████████████████████████████| 9/9 [02:51<00:00, 19.05s/eventlog]\n"
     ]
    }
   ],
   "source": [
    "#GRUClust\n",
    "results_gruclust = {}\n",
    "\n",
    "for file in tqdm(os.listdir(event_log_path), unit='eventlog'):\n",
    "    if os.path.isfile(os.path.join(event_log_path, file)):\n",
    "        # load file\n",
    "        event_log = EventLog(file, case_attributes=case_attributes, event_attributes=event_attributes, true_cluster_label=true_cluster_label)\n",
    "        event_log.load(event_log_path + file, False)\n",
    "        event_log.preprocess()\n",
    "        \n",
    "        # get sequences from event log as one-hot feature vector\n",
    "        sequences = event_log.event_attributes_flat_onehot_features_2d\n",
    "\n",
    "        predictor = EmbeddingPredict(event_log)\n",
    "        predictor.build_model(embedding_dim=vector_size, gru_dim=vector_size, rnn='gru')\n",
    "        predictor.fit(epochs=n_epochs, batch_size=n_batch_size, verbose=True)   \n",
    "        \n",
    "        # infer the vector from the model\n",
    "        pred_model, feature_vector, embedding_vector = predictor.predict()    \n",
    "        \n",
    "        cluster_analysis = Clustering(event_log)\n",
    "        cluster_analysis.cluster(feature_vector, clustering_method, n_clusters, 'cosine')\n",
    "\n",
    "        cluster_result = cluster_analysis.evaluate()\n",
    "        evaluation = Evaluation(event_log)\n",
    "        (fitness, precision, simplicity) = evaluation.evaluate_clusters(n_clusters, cluster_analysis.pred_labels) # Heuristics Miner + 2. Metric\n",
    "        \n",
    "        results_gruclust[file] = {\"f1_bcubed\":cluster_result[2], \"fitness\": fitness, \"precision\":precision, \"simplicity\":simplicity}"
   ]
  },
  {
   "cell_type": "markdown",
   "metadata": {},
   "source": [
    "## LSTMClust"
   ]
  },
  {
   "cell_type": "code",
   "execution_count": 11,
   "metadata": {},
   "outputs": [
    {
     "name": "stderr",
     "output_type": "stream",
     "text": [
      "\r",
      "  0%|                                                                                      | 0/9 [00:00<?, ?eventlog/s]"
     ]
    },
    {
     "name": "stdout",
     "output_type": "stream",
     "text": [
      "Epoch 1/10\n",
      "8/8 [==============================] - 13s 24ms/step - loss: 24.5761 - dense_117_loss: 2.4423 - dense_118_loss: 2.3197 - dense_119_loss: 2.5001 - dense_120_loss: 2.3946 - dense_121_loss: 2.9090 - dense_122_loss: 2.4291 - dense_123_loss: 2.5248 - dense_124_loss: 2.4207 - dense_125_loss: 2.2382 - dense_126_loss: 2.3974 - dense_117_accuracy: 0.1420 - dense_118_accuracy: 0.1760 - dense_119_accuracy: 0.1300 - dense_120_accuracy: 0.1500 - dense_121_accuracy: 0.0940 - dense_122_accuracy: 0.1240 - dense_123_accuracy: 0.1260 - dense_124_accuracy: 0.1900 - dense_125_accuracy: 0.1620 - dense_126_accuracy: 0.2020\n",
      "Epoch 2/10\n",
      "8/8 [==============================] - 0s 25ms/step - loss: 20.9301 - dense_117_loss: 1.9909 - dense_118_loss: 1.9776 - dense_119_loss: 2.1019 - dense_120_loss: 2.1288 - dense_121_loss: 2.4635 - dense_122_loss: 1.9829 - dense_123_loss: 2.1984 - dense_124_loss: 2.1034 - dense_125_loss: 1.9615 - dense_126_loss: 2.0212 - dense_117_accuracy: 0.3120 - dense_118_accuracy: 0.2120 - dense_119_accuracy: 0.1980 - dense_120_accuracy: 0.1320 - dense_121_accuracy: 0.1600 - dense_122_accuracy: 0.2440 - dense_123_accuracy: 0.1860 - dense_124_accuracy: 0.2600 - dense_125_accuracy: 0.2560 - dense_126_accuracy: 0.2540\n",
      "Epoch 3/10\n",
      "8/8 [==============================] - 0s 26ms/step - loss: 18.1077 - dense_117_loss: 1.6655 - dense_118_loss: 1.7896 - dense_119_loss: 1.8435 - dense_120_loss: 1.7895 - dense_121_loss: 2.1075 - dense_122_loss: 1.7379 - dense_123_loss: 1.9041 - dense_124_loss: 1.7361 - dense_125_loss: 1.6990 - dense_126_loss: 1.8350 - dense_117_accuracy: 0.4340 - dense_118_accuracy: 0.2840 - dense_119_accuracy: 0.2060 - dense_120_accuracy: 0.2960 - dense_121_accuracy: 0.1880 - dense_122_accuracy: 0.3120 - dense_123_accuracy: 0.2780 - dense_124_accuracy: 0.2880 - dense_125_accuracy: 0.3260 - dense_126_accuracy: 0.3380\n",
      "Epoch 4/10\n",
      "8/8 [==============================] - 0s 25ms/step - loss: 16.0728 - dense_117_loss: 1.4604 - dense_118_loss: 1.6614 - dense_119_loss: 1.6543 - dense_120_loss: 1.6038 - dense_121_loss: 1.8115 - dense_122_loss: 1.5972 - dense_123_loss: 1.6323 - dense_124_loss: 1.5364 - dense_125_loss: 1.4847 - dense_126_loss: 1.6307 - dense_117_accuracy: 0.4660 - dense_118_accuracy: 0.3400 - dense_119_accuracy: 0.2760 - dense_120_accuracy: 0.3160 - dense_121_accuracy: 0.2560 - dense_122_accuracy: 0.3360 - dense_123_accuracy: 0.3000 - dense_124_accuracy: 0.3200 - dense_125_accuracy: 0.3580 - dense_126_accuracy: 0.3100\n",
      "Epoch 5/10\n",
      "8/8 [==============================] - 0s 25ms/step - loss: 14.6165 - dense_117_loss: 1.2790 - dense_118_loss: 1.5324 - dense_119_loss: 1.5368 - dense_120_loss: 1.4722 - dense_121_loss: 1.6023 - dense_122_loss: 1.4373 - dense_123_loss: 1.4810 - dense_124_loss: 1.4306 - dense_125_loss: 1.3551 - dense_126_loss: 1.4898 - dense_117_accuracy: 0.4480 - dense_118_accuracy: 0.3240 - dense_119_accuracy: 0.2940 - dense_120_accuracy: 0.3280 - dense_121_accuracy: 0.2740 - dense_122_accuracy: 0.3540 - dense_123_accuracy: 0.3020 - dense_124_accuracy: 0.3160 - dense_125_accuracy: 0.3520 - dense_126_accuracy: 0.3140\n",
      "Epoch 6/10\n",
      "8/8 [==============================] - 0s 26ms/step - loss: 13.9561 - dense_117_loss: 1.2091 - dense_118_loss: 1.4336 - dense_119_loss: 1.4853 - dense_120_loss: 1.3956 - dense_121_loss: 1.5149 - dense_122_loss: 1.3672 - dense_123_loss: 1.4214 - dense_124_loss: 1.3851 - dense_125_loss: 1.3120 - dense_126_loss: 1.4319 - dense_117_accuracy: 0.4760 - dense_118_accuracy: 0.3240 - dense_119_accuracy: 0.2660 - dense_120_accuracy: 0.3120 - dense_121_accuracy: 0.2580 - dense_122_accuracy: 0.3700 - dense_123_accuracy: 0.3520 - dense_124_accuracy: 0.3260 - dense_125_accuracy: 0.3400 - dense_126_accuracy: 0.3420\n",
      "Epoch 7/10\n",
      "8/8 [==============================] - 0s 25ms/step - loss: 13.6852 - dense_117_loss: 1.1770 - dense_118_loss: 1.3853 - dense_119_loss: 1.4684 - dense_120_loss: 1.3832 - dense_121_loss: 1.4704 - dense_122_loss: 1.3508 - dense_123_loss: 1.3749 - dense_124_loss: 1.3705 - dense_125_loss: 1.3052 - dense_126_loss: 1.3995 - dense_117_accuracy: 0.4740 - dense_118_accuracy: 0.3500 - dense_119_accuracy: 0.3080 - dense_120_accuracy: 0.3300 - dense_121_accuracy: 0.2940 - dense_122_accuracy: 0.3640 - dense_123_accuracy: 0.3340 - dense_124_accuracy: 0.3160 - dense_125_accuracy: 0.3420 - dense_126_accuracy: 0.3200\n",
      "Epoch 8/10\n",
      "8/8 [==============================] - 0s 25ms/step - loss: 13.3903 - dense_117_loss: 1.1485 - dense_118_loss: 1.3447 - dense_119_loss: 1.4293 - dense_120_loss: 1.3649 - dense_121_loss: 1.4423 - dense_122_loss: 1.3216 - dense_123_loss: 1.3505 - dense_124_loss: 1.3415 - dense_125_loss: 1.2693 - dense_126_loss: 1.3777 - dense_117_accuracy: 0.4700 - dense_118_accuracy: 0.3320 - dense_119_accuracy: 0.2720 - dense_120_accuracy: 0.3160 - dense_121_accuracy: 0.2520 - dense_122_accuracy: 0.3580 - dense_123_accuracy: 0.3300 - dense_124_accuracy: 0.3360 - dense_125_accuracy: 0.3580 - dense_126_accuracy: 0.3200\n",
      "Epoch 9/10\n",
      "8/8 [==============================] - 0s 26ms/step - loss: 13.2002 - dense_117_loss: 1.1256 - dense_118_loss: 1.3258 - dense_119_loss: 1.4182 - dense_120_loss: 1.3296 - dense_121_loss: 1.4198 - dense_122_loss: 1.3087 - dense_123_loss: 1.3362 - dense_124_loss: 1.3276 - dense_125_loss: 1.2471 - dense_126_loss: 1.3615 - dense_117_accuracy: 0.4720 - dense_118_accuracy: 0.3420 - dense_119_accuracy: 0.3000 - dense_120_accuracy: 0.3540 - dense_121_accuracy: 0.2540 - dense_122_accuracy: 0.3400 - dense_123_accuracy: 0.3400 - dense_124_accuracy: 0.3200 - dense_125_accuracy: 0.3700 - dense_126_accuracy: 0.3100\n",
      "Epoch 10/10\n",
      "8/8 [==============================] - 0s 25ms/step - loss: 13.0978 - dense_117_loss: 1.1084 - dense_118_loss: 1.3157 - dense_119_loss: 1.4061 - dense_120_loss: 1.3309 - dense_121_loss: 1.4088 - dense_122_loss: 1.2983 - dense_123_loss: 1.3230 - dense_124_loss: 1.3193 - dense_125_loss: 1.2424 - dense_126_loss: 1.3450 - dense_117_accuracy: 0.4740 - dense_118_accuracy: 0.3280 - dense_119_accuracy: 0.2960 - dense_120_accuracy: 0.3300 - dense_121_accuracy: 0.2980 - dense_122_accuracy: 0.3620 - dense_123_accuracy: 0.3340 - dense_124_accuracy: 0.3380 - dense_125_accuracy: 0.3580 - dense_126_accuracy: 0.3420\n",
      "16/16 [==============================] - 1s 8ms/step\n"
     ]
    },
    {
     "name": "stderr",
     "output_type": "stream",
     "text": [
      "\r",
      " 11%|████████▋                                                                     | 1/9 [00:18<02:28, 18.58s/eventlog]"
     ]
    },
    {
     "name": "stdout",
     "output_type": "stream",
     "text": [
      "Epoch 1/10\n",
      "8/8 [==============================] - 13s 22ms/step - loss: 24.8784 - dense_127_loss: 2.4641 - dense_128_loss: 2.4049 - dense_129_loss: 2.5361 - dense_130_loss: 2.3511 - dense_131_loss: 2.9493 - dense_132_loss: 2.4583 - dense_133_loss: 2.5851 - dense_134_loss: 2.3806 - dense_135_loss: 2.2528 - dense_136_loss: 2.4959 - dense_127_accuracy: 0.2220 - dense_128_accuracy: 0.1740 - dense_129_accuracy: 0.1240 - dense_130_accuracy: 0.2080 - dense_131_accuracy: 0.0720 - dense_132_accuracy: 0.1660 - dense_133_accuracy: 0.0900 - dense_134_accuracy: 0.1740 - dense_135_accuracy: 0.1400 - dense_136_accuracy: 0.1680\n",
      "Epoch 2/10\n",
      "8/8 [==============================] - 0s 24ms/step - loss: 21.5728 - dense_127_loss: 2.1655 - dense_128_loss: 2.0759 - dense_129_loss: 2.2704 - dense_130_loss: 1.9932 - dense_131_loss: 2.5938 - dense_132_loss: 2.0574 - dense_133_loss: 2.3264 - dense_134_loss: 2.0116 - dense_135_loss: 1.9460 - dense_136_loss: 2.1325 - dense_127_accuracy: 0.2800 - dense_128_accuracy: 0.2480 - dense_129_accuracy: 0.2240 - dense_130_accuracy: 0.2740 - dense_131_accuracy: 0.1680 - dense_132_accuracy: 0.2840 - dense_133_accuracy: 0.2080 - dense_134_accuracy: 0.2540 - dense_135_accuracy: 0.2140 - dense_136_accuracy: 0.2520\n",
      "Epoch 3/10\n",
      "8/8 [==============================] - 0s 25ms/step - loss: 19.0210 - dense_127_loss: 1.8384 - dense_128_loss: 1.8589 - dense_129_loss: 1.9696 - dense_130_loss: 1.8015 - dense_131_loss: 2.1934 - dense_132_loss: 1.8481 - dense_133_loss: 1.9895 - dense_134_loss: 1.8279 - dense_135_loss: 1.7520 - dense_136_loss: 1.9418 - dense_127_accuracy: 0.3360 - dense_128_accuracy: 0.2600 - dense_129_accuracy: 0.2380 - dense_130_accuracy: 0.2840 - dense_131_accuracy: 0.1740 - dense_132_accuracy: 0.3160 - dense_133_accuracy: 0.2000 - dense_134_accuracy: 0.3120 - dense_135_accuracy: 0.2920 - dense_136_accuracy: 0.2740\n",
      "Epoch 4/10\n",
      "8/8 [==============================] - 0s 27ms/step - loss: 17.3179 - dense_127_loss: 1.6199 - dense_128_loss: 1.6857 - dense_129_loss: 1.8098 - dense_130_loss: 1.6601 - dense_131_loss: 1.9117 - dense_132_loss: 1.7201 - dense_133_loss: 1.7868 - dense_134_loss: 1.6501 - dense_135_loss: 1.6778 - dense_136_loss: 1.7958 - dense_127_accuracy: 0.3760 - dense_128_accuracy: 0.3180 - dense_129_accuracy: 0.2660 - dense_130_accuracy: 0.3080 - dense_131_accuracy: 0.2420 - dense_132_accuracy: 0.3280 - dense_133_accuracy: 0.2780 - dense_134_accuracy: 0.3240 - dense_135_accuracy: 0.3400 - dense_136_accuracy: 0.2740\n",
      "Epoch 5/10\n",
      "8/8 [==============================] - 0s 26ms/step - loss: 15.7228 - dense_127_loss: 1.4251 - dense_128_loss: 1.5761 - dense_129_loss: 1.6344 - dense_130_loss: 1.5385 - dense_131_loss: 1.7031 - dense_132_loss: 1.5607 - dense_133_loss: 1.6181 - dense_134_loss: 1.5248 - dense_135_loss: 1.5400 - dense_136_loss: 1.6019 - dense_127_accuracy: 0.4200 - dense_128_accuracy: 0.2980 - dense_129_accuracy: 0.2740 - dense_130_accuracy: 0.3300 - dense_131_accuracy: 0.2840 - dense_132_accuracy: 0.3820 - dense_133_accuracy: 0.3180 - dense_134_accuracy: 0.3060 - dense_135_accuracy: 0.3100 - dense_136_accuracy: 0.3040\n",
      "Epoch 6/10\n",
      "8/8 [==============================] - 0s 26ms/step - loss: 14.6859 - dense_127_loss: 1.3074 - dense_128_loss: 1.4902 - dense_129_loss: 1.5311 - dense_130_loss: 1.4402 - dense_131_loss: 1.6005 - dense_132_loss: 1.4692 - dense_133_loss: 1.4944 - dense_134_loss: 1.4515 - dense_135_loss: 1.4016 - dense_136_loss: 1.4998 - dense_127_accuracy: 0.4480 - dense_128_accuracy: 0.3000 - dense_129_accuracy: 0.2740 - dense_130_accuracy: 0.3620 - dense_131_accuracy: 0.2960 - dense_132_accuracy: 0.3540 - dense_133_accuracy: 0.3400 - dense_134_accuracy: 0.3540 - dense_135_accuracy: 0.3560 - dense_136_accuracy: 0.3040\n",
      "Epoch 7/10\n",
      "8/8 [==============================] - 0s 30ms/step - loss: 14.1987 - dense_127_loss: 1.2599 - dense_128_loss: 1.4470 - dense_129_loss: 1.4876 - dense_130_loss: 1.4066 - dense_131_loss: 1.5373 - dense_132_loss: 1.4127 - dense_133_loss: 1.4422 - dense_134_loss: 1.4137 - dense_135_loss: 1.3429 - dense_136_loss: 1.4489 - dense_127_accuracy: 0.4380 - dense_128_accuracy: 0.3460 - dense_129_accuracy: 0.3120 - dense_130_accuracy: 0.3600 - dense_131_accuracy: 0.3120 - dense_132_accuracy: 0.3940 - dense_133_accuracy: 0.3400 - dense_134_accuracy: 0.3580 - dense_135_accuracy: 0.3720 - dense_136_accuracy: 0.3460\n",
      "Epoch 8/10\n",
      "8/8 [==============================] - 0s 24ms/step - loss: 13.9609 - dense_127_loss: 1.2359 - dense_128_loss: 1.4145 - dense_129_loss: 1.4699 - dense_130_loss: 1.3776 - dense_131_loss: 1.4999 - dense_132_loss: 1.3993 - dense_133_loss: 1.4153 - dense_134_loss: 1.3900 - dense_135_loss: 1.3240 - dense_136_loss: 1.4345 - dense_127_accuracy: 0.4540 - dense_128_accuracy: 0.3440 - dense_129_accuracy: 0.2920 - dense_130_accuracy: 0.3420 - dense_131_accuracy: 0.2840 - dense_132_accuracy: 0.3920 - dense_133_accuracy: 0.3140 - dense_134_accuracy: 0.3400 - dense_135_accuracy: 0.3620 - dense_136_accuracy: 0.3180\n",
      "Epoch 9/10\n",
      "8/8 [==============================] - 0s 25ms/step - loss: 13.8580 - dense_127_loss: 1.2293 - dense_128_loss: 1.4015 - dense_129_loss: 1.4516 - dense_130_loss: 1.3728 - dense_131_loss: 1.4916 - dense_132_loss: 1.3867 - dense_133_loss: 1.4110 - dense_134_loss: 1.3801 - dense_135_loss: 1.3133 - dense_136_loss: 1.4200 - dense_127_accuracy: 0.4300 - dense_128_accuracy: 0.2880 - dense_129_accuracy: 0.2860 - dense_130_accuracy: 0.3200 - dense_131_accuracy: 0.2760 - dense_132_accuracy: 0.3520 - dense_133_accuracy: 0.2900 - dense_134_accuracy: 0.3400 - dense_135_accuracy: 0.3380 - dense_136_accuracy: 0.2840\n",
      "Epoch 10/10\n",
      "8/8 [==============================] - 0s 27ms/step - loss: 13.6886 - dense_127_loss: 1.2068 - dense_128_loss: 1.3863 - dense_129_loss: 1.4379 - dense_130_loss: 1.3596 - dense_131_loss: 1.4726 - dense_132_loss: 1.3664 - dense_133_loss: 1.3960 - dense_134_loss: 1.3692 - dense_135_loss: 1.2940 - dense_136_loss: 1.3998 - dense_127_accuracy: 0.4540 - dense_128_accuracy: 0.3380 - dense_129_accuracy: 0.3200 - dense_130_accuracy: 0.3680 - dense_131_accuracy: 0.3120 - dense_132_accuracy: 0.3960 - dense_133_accuracy: 0.3480 - dense_134_accuracy: 0.3720 - dense_135_accuracy: 0.4000 - dense_136_accuracy: 0.3480\n",
      "16/16 [==============================] - 1s 7ms/step\n"
     ]
    },
    {
     "name": "stderr",
     "output_type": "stream",
     "text": [
      "\r",
      " 22%|█████████████████▎                                                            | 2/9 [00:36<02:08, 18.35s/eventlog]"
     ]
    },
    {
     "name": "stdout",
     "output_type": "stream",
     "text": [
      "Epoch 1/10\n",
      "8/8 [==============================] - 13s 28ms/step - loss: 24.9107 - dense_137_loss: 2.4330 - dense_138_loss: 2.4110 - dense_139_loss: 2.5225 - dense_140_loss: 2.4016 - dense_141_loss: 2.9362 - dense_142_loss: 2.4822 - dense_143_loss: 2.5706 - dense_144_loss: 2.4653 - dense_145_loss: 2.2459 - dense_146_loss: 2.4423 - dense_137_accuracy: 0.1420 - dense_138_accuracy: 0.1200 - dense_139_accuracy: 0.1060 - dense_140_accuracy: 0.1560 - dense_141_accuracy: 0.0740 - dense_142_accuracy: 0.1520 - dense_143_accuracy: 0.0880 - dense_144_accuracy: 0.1040 - dense_145_accuracy: 0.1540 - dense_146_accuracy: 0.1440\n",
      "Epoch 2/10\n",
      "8/8 [==============================] - 0s 27ms/step - loss: 21.6656 - dense_137_loss: 2.1071 - dense_138_loss: 2.0366 - dense_139_loss: 2.1962 - dense_140_loss: 2.1348 - dense_141_loss: 2.5151 - dense_142_loss: 2.1178 - dense_143_loss: 2.2360 - dense_144_loss: 2.1592 - dense_145_loss: 2.0170 - dense_146_loss: 2.1458 - dense_137_accuracy: 0.2800 - dense_138_accuracy: 0.2580 - dense_139_accuracy: 0.2400 - dense_140_accuracy: 0.2620 - dense_141_accuracy: 0.1260 - dense_142_accuracy: 0.2740 - dense_143_accuracy: 0.1640 - dense_144_accuracy: 0.2160 - dense_145_accuracy: 0.2520 - dense_146_accuracy: 0.2820\n",
      "Epoch 3/10\n",
      "8/8 [==============================] - 0s 26ms/step - loss: 19.0046 - dense_137_loss: 1.7973 - dense_138_loss: 1.7887 - dense_139_loss: 1.9328 - dense_140_loss: 1.9042 - dense_141_loss: 2.1217 - dense_142_loss: 1.8501 - dense_143_loss: 1.9555 - dense_144_loss: 1.9132 - dense_145_loss: 1.7756 - dense_146_loss: 1.9655 - dense_137_accuracy: 0.3700 - dense_138_accuracy: 0.3120 - dense_139_accuracy: 0.2080 - dense_140_accuracy: 0.2500 - dense_141_accuracy: 0.2200 - dense_142_accuracy: 0.2840 - dense_143_accuracy: 0.2320 - dense_144_accuracy: 0.2540 - dense_145_accuracy: 0.2520 - dense_146_accuracy: 0.2600\n",
      "Epoch 4/10\n",
      "8/8 [==============================] - 0s 26ms/step - loss: 16.9149 - dense_137_loss: 1.5542 - dense_138_loss: 1.6635 - dense_139_loss: 1.7298 - dense_140_loss: 1.7709 - dense_141_loss: 1.7928 - dense_142_loss: 1.6251 - dense_143_loss: 1.7012 - dense_144_loss: 1.7170 - dense_145_loss: 1.5484 - dense_146_loss: 1.8120 - dense_137_accuracy: 0.4180 - dense_138_accuracy: 0.2900 - dense_139_accuracy: 0.1980 - dense_140_accuracy: 0.2700 - dense_141_accuracy: 0.2540 - dense_142_accuracy: 0.3080 - dense_143_accuracy: 0.2800 - dense_144_accuracy: 0.2560 - dense_145_accuracy: 0.3260 - dense_146_accuracy: 0.2860\n",
      "Epoch 5/10\n",
      "8/8 [==============================] - 0s 26ms/step - loss: 15.8006 - dense_137_loss: 1.4419 - dense_138_loss: 1.5984 - dense_139_loss: 1.6376 - dense_140_loss: 1.6378 - dense_141_loss: 1.6507 - dense_142_loss: 1.5183 - dense_143_loss: 1.6127 - dense_144_loss: 1.5888 - dense_145_loss: 1.4383 - dense_146_loss: 1.6761 - dense_137_accuracy: 0.4320 - dense_138_accuracy: 0.3120 - dense_139_accuracy: 0.2680 - dense_140_accuracy: 0.2900 - dense_141_accuracy: 0.2580 - dense_142_accuracy: 0.3440 - dense_143_accuracy: 0.2920 - dense_144_accuracy: 0.2820 - dense_145_accuracy: 0.3520 - dense_146_accuracy: 0.2760\n",
      "Epoch 6/10\n",
      "8/8 [==============================] - 0s 26ms/step - loss: 15.1485 - dense_137_loss: 1.3596 - dense_138_loss: 1.5377 - dense_139_loss: 1.5689 - dense_140_loss: 1.5584 - dense_141_loss: 1.5918 - dense_142_loss: 1.4693 - dense_143_loss: 1.5683 - dense_144_loss: 1.5072 - dense_145_loss: 1.4130 - dense_146_loss: 1.5743 - dense_137_accuracy: 0.4340 - dense_138_accuracy: 0.2940 - dense_139_accuracy: 0.2300 - dense_140_accuracy: 0.2940 - dense_141_accuracy: 0.2140 - dense_142_accuracy: 0.3260 - dense_143_accuracy: 0.3040 - dense_144_accuracy: 0.2540 - dense_145_accuracy: 0.3260 - dense_146_accuracy: 0.2980\n",
      "Epoch 7/10\n",
      "8/8 [==============================] - 0s 25ms/step - loss: 14.6976 - dense_137_loss: 1.3143 - dense_138_loss: 1.4823 - dense_139_loss: 1.5321 - dense_140_loss: 1.5061 - dense_141_loss: 1.5382 - dense_142_loss: 1.4311 - dense_143_loss: 1.5197 - dense_144_loss: 1.4804 - dense_145_loss: 1.3757 - dense_146_loss: 1.5177 - dense_137_accuracy: 0.4420 - dense_138_accuracy: 0.2900 - dense_139_accuracy: 0.2560 - dense_140_accuracy: 0.2860 - dense_141_accuracy: 0.2360 - dense_142_accuracy: 0.3280 - dense_143_accuracy: 0.3180 - dense_144_accuracy: 0.2880 - dense_145_accuracy: 0.3620 - dense_146_accuracy: 0.2880\n",
      "Epoch 8/10\n",
      "8/8 [==============================] - 0s 25ms/step - loss: 14.5720 - dense_137_loss: 1.3174 - dense_138_loss: 1.4513 - dense_139_loss: 1.5152 - dense_140_loss: 1.4956 - dense_141_loss: 1.5371 - dense_142_loss: 1.4248 - dense_143_loss: 1.5007 - dense_144_loss: 1.4849 - dense_145_loss: 1.3536 - dense_146_loss: 1.4913 - dense_137_accuracy: 0.4440 - dense_138_accuracy: 0.3200 - dense_139_accuracy: 0.2840 - dense_140_accuracy: 0.2960 - dense_141_accuracy: 0.2840 - dense_142_accuracy: 0.3560 - dense_143_accuracy: 0.3340 - dense_144_accuracy: 0.3080 - dense_145_accuracy: 0.3660 - dense_146_accuracy: 0.3000\n",
      "Epoch 9/10\n",
      "8/8 [==============================] - 0s 26ms/step - loss: 14.5936 - dense_137_loss: 1.2979 - dense_138_loss: 1.4410 - dense_139_loss: 1.5066 - dense_140_loss: 1.5049 - dense_141_loss: 1.5442 - dense_142_loss: 1.4423 - dense_143_loss: 1.5172 - dense_144_loss: 1.4872 - dense_145_loss: 1.3592 - dense_146_loss: 1.4932 - dense_137_accuracy: 0.4280 - dense_138_accuracy: 0.3040 - dense_139_accuracy: 0.2440 - dense_140_accuracy: 0.3100 - dense_141_accuracy: 0.2380 - dense_142_accuracy: 0.3340 - dense_143_accuracy: 0.2940 - dense_144_accuracy: 0.2980 - dense_145_accuracy: 0.3440 - dense_146_accuracy: 0.2760\n",
      "Epoch 10/10\n",
      "8/8 [==============================] - 0s 26ms/step - loss: 14.3949 - dense_137_loss: 1.2883 - dense_138_loss: 1.4268 - dense_139_loss: 1.4934 - dense_140_loss: 1.4835 - dense_141_loss: 1.5123 - dense_142_loss: 1.3984 - dense_143_loss: 1.5015 - dense_144_loss: 1.4776 - dense_145_loss: 1.3401 - dense_146_loss: 1.4729 - dense_137_accuracy: 0.4620 - dense_138_accuracy: 0.3200 - dense_139_accuracy: 0.2860 - dense_140_accuracy: 0.3100 - dense_141_accuracy: 0.2740 - dense_142_accuracy: 0.3400 - dense_143_accuracy: 0.3280 - dense_144_accuracy: 0.3080 - dense_145_accuracy: 0.3740 - dense_146_accuracy: 0.3160\n",
      "16/16 [==============================] - 1s 7ms/step\n"
     ]
    },
    {
     "name": "stderr",
     "output_type": "stream",
     "text": [
      "\r",
      " 33%|██████████████████████████                                                    | 3/9 [00:55<01:50, 18.44s/eventlog]"
     ]
    },
    {
     "name": "stdout",
     "output_type": "stream",
     "text": [
      "Epoch 1/10\n",
      "8/8 [==============================] - 13s 25ms/step - loss: 24.9695 - dense_147_loss: 2.4607 - dense_148_loss: 2.3716 - dense_149_loss: 2.5568 - dense_150_loss: 2.3738 - dense_151_loss: 2.9360 - dense_152_loss: 2.4908 - dense_153_loss: 2.5857 - dense_154_loss: 2.4526 - dense_155_loss: 2.2501 - dense_156_loss: 2.4915 - dense_147_accuracy: 0.1480 - dense_148_accuracy: 0.1620 - dense_149_accuracy: 0.0840 - dense_150_accuracy: 0.2160 - dense_151_accuracy: 0.0660 - dense_152_accuracy: 0.1580 - dense_153_accuracy: 0.0840 - dense_154_accuracy: 0.1480 - dense_155_accuracy: 0.1740 - dense_156_accuracy: 0.1540\n",
      "Epoch 2/10\n",
      "8/8 [==============================] - 0s 26ms/step - loss: 22.0726 - dense_147_loss: 2.1372 - dense_148_loss: 2.0760 - dense_149_loss: 2.2959 - dense_150_loss: 2.0151 - dense_151_loss: 2.6330 - dense_152_loss: 2.1534 - dense_153_loss: 2.3137 - dense_154_loss: 2.2065 - dense_155_loss: 2.0474 - dense_156_loss: 2.1945 - dense_147_accuracy: 0.2820 - dense_148_accuracy: 0.2500 - dense_149_accuracy: 0.1900 - dense_150_accuracy: 0.2560 - dense_151_accuracy: 0.1540 - dense_152_accuracy: 0.2080 - dense_153_accuracy: 0.1520 - dense_154_accuracy: 0.2160 - dense_155_accuracy: 0.2340 - dense_156_accuracy: 0.2140\n",
      "Epoch 3/10\n",
      "8/8 [==============================] - 0s 26ms/step - loss: 19.1228 - dense_147_loss: 1.7560 - dense_148_loss: 1.8538 - dense_149_loss: 1.9929 - dense_150_loss: 1.8136 - dense_151_loss: 2.1716 - dense_152_loss: 1.8512 - dense_153_loss: 1.9831 - dense_154_loss: 1.9065 - dense_155_loss: 1.8054 - dense_156_loss: 1.9889 - dense_147_accuracy: 0.3600 - dense_148_accuracy: 0.2560 - dense_149_accuracy: 0.1940 - dense_150_accuracy: 0.2780 - dense_151_accuracy: 0.1900 - dense_152_accuracy: 0.3020 - dense_153_accuracy: 0.2140 - dense_154_accuracy: 0.2720 - dense_155_accuracy: 0.2740 - dense_156_accuracy: 0.1680\n",
      "Epoch 4/10\n",
      "8/8 [==============================] - 0s 25ms/step - loss: 17.3394 - dense_147_loss: 1.5936 - dense_148_loss: 1.7310 - dense_149_loss: 1.7854 - dense_150_loss: 1.6846 - dense_151_loss: 1.8555 - dense_152_loss: 1.7039 - dense_153_loss: 1.7584 - dense_154_loss: 1.7585 - dense_155_loss: 1.6311 - dense_156_loss: 1.8375 - dense_147_accuracy: 0.4440 - dense_148_accuracy: 0.2760 - dense_149_accuracy: 0.2540 - dense_150_accuracy: 0.2980 - dense_151_accuracy: 0.2220 - dense_152_accuracy: 0.3220 - dense_153_accuracy: 0.3060 - dense_154_accuracy: 0.2780 - dense_155_accuracy: 0.2960 - dense_156_accuracy: 0.2700\n",
      "Epoch 5/10\n",
      "8/8 [==============================] - 0s 26ms/step - loss: 16.3184 - dense_147_loss: 1.4754 - dense_148_loss: 1.6425 - dense_149_loss: 1.7145 - dense_150_loss: 1.6130 - dense_151_loss: 1.7459 - dense_152_loss: 1.6280 - dense_153_loss: 1.6615 - dense_154_loss: 1.6548 - dense_155_loss: 1.4917 - dense_156_loss: 1.6911 - dense_147_accuracy: 0.4440 - dense_148_accuracy: 0.3020 - dense_149_accuracy: 0.2720 - dense_150_accuracy: 0.2940 - dense_151_accuracy: 0.2340 - dense_152_accuracy: 0.3360 - dense_153_accuracy: 0.2880 - dense_154_accuracy: 0.2760 - dense_155_accuracy: 0.3380 - dense_156_accuracy: 0.2740\n",
      "Epoch 6/10\n",
      "8/8 [==============================] - 0s 27ms/step - loss: 15.6900 - dense_147_loss: 1.4002 - dense_148_loss: 1.5677 - dense_149_loss: 1.6615 - dense_150_loss: 1.5783 - dense_151_loss: 1.6685 - dense_152_loss: 1.5724 - dense_153_loss: 1.5959 - dense_154_loss: 1.6002 - dense_155_loss: 1.4354 - dense_156_loss: 1.6099 - dense_147_accuracy: 0.4440 - dense_148_accuracy: 0.2780 - dense_149_accuracy: 0.2520 - dense_150_accuracy: 0.2780 - dense_151_accuracy: 0.2820 - dense_152_accuracy: 0.3340 - dense_153_accuracy: 0.3060 - dense_154_accuracy: 0.3120 - dense_155_accuracy: 0.3640 - dense_156_accuracy: 0.2720\n",
      "Epoch 7/10\n",
      "8/8 [==============================] - 0s 26ms/step - loss: 15.2244 - dense_147_loss: 1.3362 - dense_148_loss: 1.5135 - dense_149_loss: 1.6297 - dense_150_loss: 1.5362 - dense_151_loss: 1.6332 - dense_152_loss: 1.5333 - dense_153_loss: 1.5569 - dense_154_loss: 1.5418 - dense_155_loss: 1.3915 - dense_156_loss: 1.5519 - dense_147_accuracy: 0.4460 - dense_148_accuracy: 0.3280 - dense_149_accuracy: 0.2400 - dense_150_accuracy: 0.2940 - dense_151_accuracy: 0.2600 - dense_152_accuracy: 0.3220 - dense_153_accuracy: 0.3080 - dense_154_accuracy: 0.3060 - dense_155_accuracy: 0.3840 - dense_156_accuracy: 0.2760\n",
      "Epoch 8/10\n",
      "8/8 [==============================] - 0s 24ms/step - loss: 14.9210 - dense_147_loss: 1.3002 - dense_148_loss: 1.4865 - dense_149_loss: 1.6096 - dense_150_loss: 1.5029 - dense_151_loss: 1.6065 - dense_152_loss: 1.4997 - dense_153_loss: 1.5312 - dense_154_loss: 1.5175 - dense_155_loss: 1.3629 - dense_156_loss: 1.5040 - dense_147_accuracy: 0.4500 - dense_148_accuracy: 0.3060 - dense_149_accuracy: 0.2480 - dense_150_accuracy: 0.2780 - dense_151_accuracy: 0.2300 - dense_152_accuracy: 0.3540 - dense_153_accuracy: 0.2980 - dense_154_accuracy: 0.2960 - dense_155_accuracy: 0.3580 - dense_156_accuracy: 0.2840\n",
      "Epoch 9/10\n",
      "8/8 [==============================] - 0s 26ms/step - loss: 14.7788 - dense_147_loss: 1.2870 - dense_148_loss: 1.4660 - dense_149_loss: 1.5959 - dense_150_loss: 1.4848 - dense_151_loss: 1.5956 - dense_152_loss: 1.4859 - dense_153_loss: 1.5254 - dense_154_loss: 1.4966 - dense_155_loss: 1.3573 - dense_156_loss: 1.4843 - dense_147_accuracy: 0.4540 - dense_148_accuracy: 0.3140 - dense_149_accuracy: 0.2500 - dense_150_accuracy: 0.2920 - dense_151_accuracy: 0.2920 - dense_152_accuracy: 0.3560 - dense_153_accuracy: 0.3000 - dense_154_accuracy: 0.3280 - dense_155_accuracy: 0.3760 - dense_156_accuracy: 0.2740\n",
      "Epoch 10/10\n",
      "8/8 [==============================] - 0s 25ms/step - loss: 14.7009 - dense_147_loss: 1.2840 - dense_148_loss: 1.4453 - dense_149_loss: 1.5866 - dense_150_loss: 1.4797 - dense_151_loss: 1.5914 - dense_152_loss: 1.4794 - dense_153_loss: 1.5174 - dense_154_loss: 1.4924 - dense_155_loss: 1.3445 - dense_156_loss: 1.4804 - dense_147_accuracy: 0.4500 - dense_148_accuracy: 0.3240 - dense_149_accuracy: 0.2660 - dense_150_accuracy: 0.3240 - dense_151_accuracy: 0.2760 - dense_152_accuracy: 0.3340 - dense_153_accuracy: 0.3260 - dense_154_accuracy: 0.3380 - dense_155_accuracy: 0.4000 - dense_156_accuracy: 0.2840\n",
      "16/16 [==============================] - 1s 8ms/step\n"
     ]
    },
    {
     "name": "stderr",
     "output_type": "stream",
     "text": [
      "\r",
      " 44%|██████████████████████████████████▋                                           | 4/9 [01:13<01:32, 18.49s/eventlog]"
     ]
    },
    {
     "name": "stdout",
     "output_type": "stream",
     "text": [
      "Epoch 1/10\n",
      "8/8 [==============================] - 13s 26ms/step - loss: 24.8394 - dense_157_loss: 2.4329 - dense_158_loss: 2.3339 - dense_159_loss: 2.5316 - dense_160_loss: 2.3819 - dense_161_loss: 2.9651 - dense_162_loss: 2.4715 - dense_163_loss: 2.5987 - dense_164_loss: 2.4649 - dense_165_loss: 2.2261 - dense_166_loss: 2.4327 - dense_157_accuracy: 0.1360 - dense_158_accuracy: 0.1620 - dense_159_accuracy: 0.0780 - dense_160_accuracy: 0.1880 - dense_161_accuracy: 0.0500 - dense_162_accuracy: 0.1160 - dense_163_accuracy: 0.1200 - dense_164_accuracy: 0.1100 - dense_165_accuracy: 0.2140 - dense_166_accuracy: 0.1560\n",
      "Epoch 2/10\n",
      "8/8 [==============================] - 0s 27ms/step - loss: 21.8406 - dense_157_loss: 2.1659 - dense_158_loss: 2.0352 - dense_159_loss: 2.2599 - dense_160_loss: 2.1151 - dense_161_loss: 2.5894 - dense_162_loss: 2.1277 - dense_163_loss: 2.2433 - dense_164_loss: 2.2229 - dense_165_loss: 1.9477 - dense_166_loss: 2.1335 - dense_157_accuracy: 0.2840 - dense_158_accuracy: 0.1980 - dense_159_accuracy: 0.1700 - dense_160_accuracy: 0.2300 - dense_161_accuracy: 0.1440 - dense_162_accuracy: 0.2440 - dense_163_accuracy: 0.2340 - dense_164_accuracy: 0.1780 - dense_165_accuracy: 0.2180 - dense_166_accuracy: 0.2420\n",
      "Epoch 3/10\n",
      "8/8 [==============================] - 0s 27ms/step - loss: 19.3415 - dense_157_loss: 1.8360 - dense_158_loss: 1.8707 - dense_159_loss: 1.9838 - dense_160_loss: 1.8864 - dense_161_loss: 2.2228 - dense_162_loss: 1.9119 - dense_163_loss: 1.9738 - dense_164_loss: 1.8562 - dense_165_loss: 1.7807 - dense_166_loss: 2.0193 - dense_157_accuracy: 0.3160 - dense_158_accuracy: 0.1840 - dense_159_accuracy: 0.2420 - dense_160_accuracy: 0.2640 - dense_161_accuracy: 0.1740 - dense_162_accuracy: 0.2800 - dense_163_accuracy: 0.2260 - dense_164_accuracy: 0.2760 - dense_165_accuracy: 0.3300 - dense_166_accuracy: 0.1680\n",
      "Epoch 4/10\n",
      "8/8 [==============================] - 0s 29ms/step - loss: 17.5314 - dense_157_loss: 1.6205 - dense_158_loss: 1.6988 - dense_159_loss: 1.8143 - dense_160_loss: 1.7440 - dense_161_loss: 1.9538 - dense_162_loss: 1.7639 - dense_163_loss: 1.7623 - dense_164_loss: 1.7204 - dense_165_loss: 1.6068 - dense_166_loss: 1.8466 - dense_157_accuracy: 0.4120 - dense_158_accuracy: 0.2640 - dense_159_accuracy: 0.2400 - dense_160_accuracy: 0.2900 - dense_161_accuracy: 0.2240 - dense_162_accuracy: 0.3180 - dense_163_accuracy: 0.2960 - dense_164_accuracy: 0.2800 - dense_165_accuracy: 0.3460 - dense_166_accuracy: 0.2580\n",
      "Epoch 5/10\n",
      "8/8 [==============================] - 0s 28ms/step - loss: 16.1495 - dense_157_loss: 1.4586 - dense_158_loss: 1.5652 - dense_159_loss: 1.6960 - dense_160_loss: 1.5906 - dense_161_loss: 1.8078 - dense_162_loss: 1.6560 - dense_163_loss: 1.6408 - dense_164_loss: 1.6009 - dense_165_loss: 1.4678 - dense_166_loss: 1.6656 - dense_157_accuracy: 0.4240 - dense_158_accuracy: 0.3080 - dense_159_accuracy: 0.2640 - dense_160_accuracy: 0.3160 - dense_161_accuracy: 0.2500 - dense_162_accuracy: 0.3020 - dense_163_accuracy: 0.2980 - dense_164_accuracy: 0.3000 - dense_165_accuracy: 0.3680 - dense_166_accuracy: 0.3200\n",
      "Epoch 6/10\n",
      "8/8 [==============================] - 0s 30ms/step - loss: 15.5153 - dense_157_loss: 1.3944 - dense_158_loss: 1.5190 - dense_159_loss: 1.6480 - dense_160_loss: 1.5172 - dense_161_loss: 1.7252 - dense_162_loss: 1.5775 - dense_163_loss: 1.5878 - dense_164_loss: 1.5432 - dense_165_loss: 1.4062 - dense_166_loss: 1.5968 - dense_157_accuracy: 0.4240 - dense_158_accuracy: 0.3140 - dense_159_accuracy: 0.2560 - dense_160_accuracy: 0.3080 - dense_161_accuracy: 0.2560 - dense_162_accuracy: 0.3060 - dense_163_accuracy: 0.2920 - dense_164_accuracy: 0.3140 - dense_165_accuracy: 0.3380 - dense_166_accuracy: 0.3120\n",
      "Epoch 7/10\n",
      "8/8 [==============================] - 0s 26ms/step - loss: 15.2524 - dense_157_loss: 1.3624 - dense_158_loss: 1.4863 - dense_159_loss: 1.6400 - dense_160_loss: 1.4943 - dense_161_loss: 1.6859 - dense_162_loss: 1.5412 - dense_163_loss: 1.5797 - dense_164_loss: 1.5254 - dense_165_loss: 1.3950 - dense_166_loss: 1.5421 - dense_157_accuracy: 0.4160 - dense_158_accuracy: 0.2940 - dense_159_accuracy: 0.2540 - dense_160_accuracy: 0.3060 - dense_161_accuracy: 0.2660 - dense_162_accuracy: 0.3240 - dense_163_accuracy: 0.2820 - dense_164_accuracy: 0.2820 - dense_165_accuracy: 0.3700 - dense_166_accuracy: 0.2980\n",
      "Epoch 8/10\n",
      "8/8 [==============================] - 0s 28ms/step - loss: 15.1267 - dense_157_loss: 1.3644 - dense_158_loss: 1.4851 - dense_159_loss: 1.6194 - dense_160_loss: 1.4837 - dense_161_loss: 1.6518 - dense_162_loss: 1.5503 - dense_163_loss: 1.5553 - dense_164_loss: 1.5006 - dense_165_loss: 1.3848 - dense_166_loss: 1.5312 - dense_157_accuracy: 0.4160 - dense_158_accuracy: 0.2860 - dense_159_accuracy: 0.2640 - dense_160_accuracy: 0.2760 - dense_161_accuracy: 0.2480 - dense_162_accuracy: 0.3200 - dense_163_accuracy: 0.3180 - dense_164_accuracy: 0.3060 - dense_165_accuracy: 0.3740 - dense_166_accuracy: 0.3180\n",
      "Epoch 9/10\n",
      "8/8 [==============================] - 0s 29ms/step - loss: 14.8675 - dense_157_loss: 1.3310 - dense_158_loss: 1.4565 - dense_159_loss: 1.5787 - dense_160_loss: 1.4470 - dense_161_loss: 1.6393 - dense_162_loss: 1.5216 - dense_163_loss: 1.5412 - dense_164_loss: 1.4936 - dense_165_loss: 1.3559 - dense_166_loss: 1.5028 - dense_157_accuracy: 0.4220 - dense_158_accuracy: 0.2820 - dense_159_accuracy: 0.2380 - dense_160_accuracy: 0.3020 - dense_161_accuracy: 0.2660 - dense_162_accuracy: 0.3040 - dense_163_accuracy: 0.2800 - dense_164_accuracy: 0.2860 - dense_165_accuracy: 0.3740 - dense_166_accuracy: 0.2880\n",
      "Epoch 10/10\n",
      "8/8 [==============================] - 0s 26ms/step - loss: 14.7766 - dense_157_loss: 1.3190 - dense_158_loss: 1.4371 - dense_159_loss: 1.5727 - dense_160_loss: 1.4423 - dense_161_loss: 1.6196 - dense_162_loss: 1.5115 - dense_163_loss: 1.5398 - dense_164_loss: 1.4829 - dense_165_loss: 1.3509 - dense_166_loss: 1.5008 - dense_157_accuracy: 0.3820 - dense_158_accuracy: 0.3320 - dense_159_accuracy: 0.2640 - dense_160_accuracy: 0.3320 - dense_161_accuracy: 0.2600 - dense_162_accuracy: 0.3180 - dense_163_accuracy: 0.3100 - dense_164_accuracy: 0.3200 - dense_165_accuracy: 0.3860 - dense_166_accuracy: 0.2860\n",
      "16/16 [==============================] - 2s 9ms/step\n"
     ]
    },
    {
     "name": "stderr",
     "output_type": "stream",
     "text": [
      "\r",
      " 56%|███████████████████████████████████████████▎                                  | 5/9 [01:32<01:14, 18.65s/eventlog]"
     ]
    },
    {
     "name": "stdout",
     "output_type": "stream",
     "text": [
      "Epoch 1/10\n",
      "8/8 [==============================] - 12s 23ms/step - loss: 24.9498 - dense_167_loss: 2.4407 - dense_168_loss: 2.3840 - dense_169_loss: 2.5190 - dense_170_loss: 2.4538 - dense_171_loss: 2.9323 - dense_172_loss: 2.4853 - dense_173_loss: 2.5819 - dense_174_loss: 2.4167 - dense_175_loss: 2.2338 - dense_176_loss: 2.5022 - dense_167_accuracy: 0.2160 - dense_168_accuracy: 0.2000 - dense_169_accuracy: 0.1080 - dense_170_accuracy: 0.1240 - dense_171_accuracy: 0.1040 - dense_172_accuracy: 0.1420 - dense_173_accuracy: 0.1320 - dense_174_accuracy: 0.1620 - dense_175_accuracy: 0.1760 - dense_176_accuracy: 0.1200\n",
      "Epoch 2/10\n",
      "8/8 [==============================] - 0s 25ms/step - loss: 21.2803 - dense_167_loss: 1.9914 - dense_168_loss: 2.0444 - dense_169_loss: 2.1852 - dense_170_loss: 2.1032 - dense_171_loss: 2.4556 - dense_172_loss: 2.0771 - dense_173_loss: 2.2080 - dense_174_loss: 2.0167 - dense_175_loss: 1.9487 - dense_176_loss: 2.2500 - dense_167_accuracy: 0.3320 - dense_168_accuracy: 0.2160 - dense_169_accuracy: 0.2180 - dense_170_accuracy: 0.2400 - dense_171_accuracy: 0.1440 - dense_172_accuracy: 0.2440 - dense_173_accuracy: 0.2260 - dense_174_accuracy: 0.2120 - dense_175_accuracy: 0.2820 - dense_176_accuracy: 0.2060\n",
      "Epoch 3/10\n",
      "8/8 [==============================] - 0s 30ms/step - loss: 18.9236 - dense_167_loss: 1.7306 - dense_168_loss: 1.8485 - dense_169_loss: 1.9148 - dense_170_loss: 1.8833 - dense_171_loss: 2.1461 - dense_172_loss: 1.8662 - dense_173_loss: 1.9454 - dense_174_loss: 1.8024 - dense_175_loss: 1.7470 - dense_176_loss: 2.0393 - dense_167_accuracy: 0.4280 - dense_168_accuracy: 0.3000 - dense_169_accuracy: 0.2200 - dense_170_accuracy: 0.2760 - dense_171_accuracy: 0.1880 - dense_172_accuracy: 0.3000 - dense_173_accuracy: 0.2380 - dense_174_accuracy: 0.3000 - dense_175_accuracy: 0.2960 - dense_176_accuracy: 0.2220\n",
      "Epoch 4/10\n",
      "8/8 [==============================] - 0s 25ms/step - loss: 17.5200 - dense_167_loss: 1.5615 - dense_168_loss: 1.7260 - dense_169_loss: 1.7742 - dense_170_loss: 1.7979 - dense_171_loss: 1.9512 - dense_172_loss: 1.7649 - dense_173_loss: 1.7873 - dense_174_loss: 1.6780 - dense_175_loss: 1.6085 - dense_176_loss: 1.8705 - dense_167_accuracy: 0.4620 - dense_168_accuracy: 0.3260 - dense_169_accuracy: 0.2840 - dense_170_accuracy: 0.2640 - dense_171_accuracy: 0.2400 - dense_172_accuracy: 0.3180 - dense_173_accuracy: 0.2680 - dense_174_accuracy: 0.3000 - dense_175_accuracy: 0.3720 - dense_176_accuracy: 0.2420\n",
      "Epoch 5/10\n",
      "8/8 [==============================] - 0s 25ms/step - loss: 16.4982 - dense_167_loss: 1.4777 - dense_168_loss: 1.6088 - dense_169_loss: 1.6798 - dense_170_loss: 1.6871 - dense_171_loss: 1.8297 - dense_172_loss: 1.6788 - dense_173_loss: 1.7002 - dense_174_loss: 1.6128 - dense_175_loss: 1.5181 - dense_176_loss: 1.7051 - dense_167_accuracy: 0.4680 - dense_168_accuracy: 0.3120 - dense_169_accuracy: 0.2560 - dense_170_accuracy: 0.2680 - dense_171_accuracy: 0.2480 - dense_172_accuracy: 0.3100 - dense_173_accuracy: 0.3020 - dense_174_accuracy: 0.2840 - dense_175_accuracy: 0.3660 - dense_176_accuracy: 0.2980\n",
      "Epoch 6/10\n",
      "8/8 [==============================] - 0s 25ms/step - loss: 15.9597 - dense_167_loss: 1.4275 - dense_168_loss: 1.5457 - dense_169_loss: 1.6185 - dense_170_loss: 1.6123 - dense_171_loss: 1.7711 - dense_172_loss: 1.6342 - dense_173_loss: 1.6766 - dense_174_loss: 1.5736 - dense_175_loss: 1.4739 - dense_176_loss: 1.6263 - dense_167_accuracy: 0.4720 - dense_168_accuracy: 0.3280 - dense_169_accuracy: 0.2660 - dense_170_accuracy: 0.2760 - dense_171_accuracy: 0.2560 - dense_172_accuracy: 0.2980 - dense_173_accuracy: 0.2760 - dense_174_accuracy: 0.3180 - dense_175_accuracy: 0.3820 - dense_176_accuracy: 0.2600\n",
      "Epoch 7/10\n",
      "8/8 [==============================] - 0s 25ms/step - loss: 15.7046 - dense_167_loss: 1.4033 - dense_168_loss: 1.5171 - dense_169_loss: 1.5952 - dense_170_loss: 1.5868 - dense_171_loss: 1.7343 - dense_172_loss: 1.6067 - dense_173_loss: 1.6693 - dense_174_loss: 1.5598 - dense_175_loss: 1.4414 - dense_176_loss: 1.5907 - dense_167_accuracy: 0.4860 - dense_168_accuracy: 0.3240 - dense_169_accuracy: 0.2720 - dense_170_accuracy: 0.2760 - dense_171_accuracy: 0.2400 - dense_172_accuracy: 0.3360 - dense_173_accuracy: 0.2880 - dense_174_accuracy: 0.3000 - dense_175_accuracy: 0.3780 - dense_176_accuracy: 0.2680\n",
      "Epoch 8/10\n",
      "8/8 [==============================] - 0s 25ms/step - loss: 15.4426 - dense_167_loss: 1.3724 - dense_168_loss: 1.4932 - dense_169_loss: 1.5753 - dense_170_loss: 1.5525 - dense_171_loss: 1.6965 - dense_172_loss: 1.5905 - dense_173_loss: 1.6479 - dense_174_loss: 1.5462 - dense_175_loss: 1.4137 - dense_176_loss: 1.5545 - dense_167_accuracy: 0.4860 - dense_168_accuracy: 0.3480 - dense_169_accuracy: 0.2660 - dense_170_accuracy: 0.3000 - dense_171_accuracy: 0.2520 - dense_172_accuracy: 0.3260 - dense_173_accuracy: 0.3060 - dense_174_accuracy: 0.3180 - dense_175_accuracy: 0.3840 - dense_176_accuracy: 0.2740\n",
      "Epoch 9/10\n",
      "8/8 [==============================] - 0s 25ms/step - loss: 15.3167 - dense_167_loss: 1.3574 - dense_168_loss: 1.4728 - dense_169_loss: 1.5626 - dense_170_loss: 1.5492 - dense_171_loss: 1.6774 - dense_172_loss: 1.5819 - dense_173_loss: 1.6291 - dense_174_loss: 1.5392 - dense_175_loss: 1.4019 - dense_176_loss: 1.5451 - dense_167_accuracy: 0.4880 - dense_168_accuracy: 0.3460 - dense_169_accuracy: 0.2480 - dense_170_accuracy: 0.2920 - dense_171_accuracy: 0.2680 - dense_172_accuracy: 0.3240 - dense_173_accuracy: 0.3140 - dense_174_accuracy: 0.3160 - dense_175_accuracy: 0.3740 - dense_176_accuracy: 0.2780\n",
      "Epoch 10/10\n",
      "8/8 [==============================] - 0s 24ms/step - loss: 15.2343 - dense_167_loss: 1.3537 - dense_168_loss: 1.4696 - dense_169_loss: 1.5615 - dense_170_loss: 1.5365 - dense_171_loss: 1.6707 - dense_172_loss: 1.5719 - dense_173_loss: 1.6209 - dense_174_loss: 1.5319 - dense_175_loss: 1.3850 - dense_176_loss: 1.5325 - dense_167_accuracy: 0.4920 - dense_168_accuracy: 0.3260 - dense_169_accuracy: 0.2980 - dense_170_accuracy: 0.3100 - dense_171_accuracy: 0.2620 - dense_172_accuracy: 0.3360 - dense_173_accuracy: 0.2920 - dense_174_accuracy: 0.3080 - dense_175_accuracy: 0.3940 - dense_176_accuracy: 0.2640\n",
      "16/16 [==============================] - 1s 8ms/step\n"
     ]
    },
    {
     "name": "stderr",
     "output_type": "stream",
     "text": [
      "\r",
      " 67%|████████████████████████████████████████████████████                          | 6/9 [01:51<00:55, 18.62s/eventlog]"
     ]
    },
    {
     "name": "stdout",
     "output_type": "stream",
     "text": [
      "Epoch 1/10\n",
      "8/8 [==============================] - 13s 25ms/step - loss: 24.8933 - dense_177_loss: 2.4897 - dense_178_loss: 2.3456 - dense_179_loss: 2.5576 - dense_180_loss: 2.3689 - dense_181_loss: 2.9561 - dense_182_loss: 2.4728 - dense_183_loss: 2.5804 - dense_184_loss: 2.4128 - dense_185_loss: 2.2491 - dense_186_loss: 2.4601 - dense_177_accuracy: 0.1120 - dense_178_accuracy: 0.1320 - dense_179_accuracy: 0.1260 - dense_180_accuracy: 0.2040 - dense_181_accuracy: 0.1120 - dense_182_accuracy: 0.1480 - dense_183_accuracy: 0.1420 - dense_184_accuracy: 0.1180 - dense_185_accuracy: 0.1220 - dense_186_accuracy: 0.1540\n",
      "Epoch 2/10\n",
      "8/8 [==============================] - 0s 24ms/step - loss: 22.0958 - dense_177_loss: 2.1889 - dense_178_loss: 2.0492 - dense_179_loss: 2.3158 - dense_180_loss: 2.1248 - dense_181_loss: 2.5867 - dense_182_loss: 2.2184 - dense_183_loss: 2.2500 - dense_184_loss: 2.0768 - dense_185_loss: 2.0525 - dense_186_loss: 2.2328 - dense_177_accuracy: 0.1520 - dense_178_accuracy: 0.2300 - dense_179_accuracy: 0.2320 - dense_180_accuracy: 0.2980 - dense_181_accuracy: 0.1540 - dense_182_accuracy: 0.2300 - dense_183_accuracy: 0.1840 - dense_184_accuracy: 0.2320 - dense_185_accuracy: 0.2420 - dense_186_accuracy: 0.2220\n",
      "Epoch 3/10\n",
      "8/8 [==============================] - 0s 24ms/step - loss: 19.7400 - dense_177_loss: 1.8628 - dense_178_loss: 1.9106 - dense_179_loss: 2.0645 - dense_180_loss: 1.8976 - dense_181_loss: 2.2422 - dense_182_loss: 1.9814 - dense_183_loss: 2.0103 - dense_184_loss: 1.8232 - dense_185_loss: 1.8651 - dense_186_loss: 2.0821 - dense_177_accuracy: 0.2740 - dense_178_accuracy: 0.2380 - dense_179_accuracy: 0.2160 - dense_180_accuracy: 0.2880 - dense_181_accuracy: 0.1860 - dense_182_accuracy: 0.3240 - dense_183_accuracy: 0.2000 - dense_184_accuracy: 0.2820 - dense_185_accuracy: 0.2340 - dense_186_accuracy: 0.2140\n",
      "Epoch 4/10\n",
      "8/8 [==============================] - 0s 30ms/step - loss: 18.7210 - dense_177_loss: 1.7362 - dense_178_loss: 1.8521 - dense_179_loss: 1.9492 - dense_180_loss: 1.7937 - dense_181_loss: 2.0999 - dense_182_loss: 1.9247 - dense_183_loss: 1.8932 - dense_184_loss: 1.7488 - dense_185_loss: 1.7765 - dense_186_loss: 1.9466 - dense_177_accuracy: 0.2980 - dense_178_accuracy: 0.2260 - dense_179_accuracy: 0.2280 - dense_180_accuracy: 0.2820 - dense_181_accuracy: 0.1680 - dense_182_accuracy: 0.3180 - dense_183_accuracy: 0.2520 - dense_184_accuracy: 0.2820 - dense_185_accuracy: 0.2380 - dense_186_accuracy: 0.2320\n",
      "Epoch 5/10\n",
      "8/8 [==============================] - 0s 23ms/step - loss: 17.8923 - dense_177_loss: 1.6130 - dense_178_loss: 1.7842 - dense_179_loss: 1.8549 - dense_180_loss: 1.7148 - dense_181_loss: 1.9977 - dense_182_loss: 1.8658 - dense_183_loss: 1.8336 - dense_184_loss: 1.6933 - dense_185_loss: 1.6852 - dense_186_loss: 1.8499 - dense_177_accuracy: 0.3700 - dense_178_accuracy: 0.2320 - dense_179_accuracy: 0.2520 - dense_180_accuracy: 0.2980 - dense_181_accuracy: 0.2000 - dense_182_accuracy: 0.3180 - dense_183_accuracy: 0.2960 - dense_184_accuracy: 0.2940 - dense_185_accuracy: 0.2980 - dense_186_accuracy: 0.2720\n",
      "Epoch 6/10\n",
      "8/8 [==============================] - 0s 25ms/step - loss: 17.1437 - dense_177_loss: 1.5376 - dense_178_loss: 1.7418 - dense_179_loss: 1.7816 - dense_180_loss: 1.6714 - dense_181_loss: 1.8877 - dense_182_loss: 1.7989 - dense_183_loss: 1.7331 - dense_184_loss: 1.6473 - dense_185_loss: 1.6047 - dense_186_loss: 1.7396 - dense_177_accuracy: 0.3720 - dense_178_accuracy: 0.2520 - dense_179_accuracy: 0.2480 - dense_180_accuracy: 0.3100 - dense_181_accuracy: 0.2620 - dense_182_accuracy: 0.3060 - dense_183_accuracy: 0.2740 - dense_184_accuracy: 0.2880 - dense_185_accuracy: 0.3420 - dense_186_accuracy: 0.2800\n",
      "Epoch 7/10\n",
      "8/8 [==============================] - 0s 27ms/step - loss: 16.4393 - dense_177_loss: 1.4609 - dense_178_loss: 1.6596 - dense_179_loss: 1.7271 - dense_180_loss: 1.6360 - dense_181_loss: 1.7926 - dense_182_loss: 1.6918 - dense_183_loss: 1.6628 - dense_184_loss: 1.6191 - dense_185_loss: 1.5227 - dense_186_loss: 1.6667 - dense_177_accuracy: 0.4040 - dense_178_accuracy: 0.2940 - dense_179_accuracy: 0.2520 - dense_180_accuracy: 0.2920 - dense_181_accuracy: 0.1980 - dense_182_accuracy: 0.3140 - dense_183_accuracy: 0.2400 - dense_184_accuracy: 0.3000 - dense_185_accuracy: 0.3440 - dense_186_accuracy: 0.2620\n",
      "Epoch 8/10\n",
      "8/8 [==============================] - 0s 25ms/step - loss: 16.0406 - dense_177_loss: 1.4345 - dense_178_loss: 1.5711 - dense_179_loss: 1.6983 - dense_180_loss: 1.6011 - dense_181_loss: 1.7595 - dense_182_loss: 1.6321 - dense_183_loss: 1.6055 - dense_184_loss: 1.5941 - dense_185_loss: 1.5087 - dense_186_loss: 1.6357 - dense_177_accuracy: 0.4040 - dense_178_accuracy: 0.3120 - dense_179_accuracy: 0.2480 - dense_180_accuracy: 0.2900 - dense_181_accuracy: 0.2400 - dense_182_accuracy: 0.3360 - dense_183_accuracy: 0.3060 - dense_184_accuracy: 0.3140 - dense_185_accuracy: 0.3440 - dense_186_accuracy: 0.2720\n",
      "Epoch 9/10\n",
      "8/8 [==============================] - 0s 26ms/step - loss: 15.8829 - dense_177_loss: 1.4057 - dense_178_loss: 1.5703 - dense_179_loss: 1.6976 - dense_180_loss: 1.5895 - dense_181_loss: 1.7400 - dense_182_loss: 1.6179 - dense_183_loss: 1.5968 - dense_184_loss: 1.5716 - dense_185_loss: 1.4911 - dense_186_loss: 1.6024 - dense_177_accuracy: 0.4120 - dense_178_accuracy: 0.2840 - dense_179_accuracy: 0.2120 - dense_180_accuracy: 0.2940 - dense_181_accuracy: 0.2580 - dense_182_accuracy: 0.3460 - dense_183_accuracy: 0.3060 - dense_184_accuracy: 0.3080 - dense_185_accuracy: 0.3440 - dense_186_accuracy: 0.2800\n",
      "Epoch 10/10\n",
      "8/8 [==============================] - 0s 25ms/step - loss: 15.7395 - dense_177_loss: 1.3899 - dense_178_loss: 1.5505 - dense_179_loss: 1.6782 - dense_180_loss: 1.5816 - dense_181_loss: 1.7063 - dense_182_loss: 1.6134 - dense_183_loss: 1.5746 - dense_184_loss: 1.5775 - dense_185_loss: 1.4830 - dense_186_loss: 1.5844 - dense_177_accuracy: 0.4100 - dense_178_accuracy: 0.2720 - dense_179_accuracy: 0.2520 - dense_180_accuracy: 0.2620 - dense_181_accuracy: 0.2260 - dense_182_accuracy: 0.3180 - dense_183_accuracy: 0.2540 - dense_184_accuracy: 0.2880 - dense_185_accuracy: 0.3600 - dense_186_accuracy: 0.2860\n",
      "16/16 [==============================] - 2s 10ms/step\n"
     ]
    },
    {
     "name": "stderr",
     "output_type": "stream",
     "text": [
      "\r",
      " 78%|████████████████████████████████████████████████████████████▋                 | 7/9 [02:11<00:38, 19.04s/eventlog]"
     ]
    },
    {
     "name": "stdout",
     "output_type": "stream",
     "text": [
      "Epoch 1/10\n",
      "8/8 [==============================] - 14s 29ms/step - loss: 24.9892 - dense_187_loss: 2.5137 - dense_188_loss: 2.3765 - dense_189_loss: 2.5466 - dense_190_loss: 2.3777 - dense_191_loss: 2.9473 - dense_192_loss: 2.5155 - dense_193_loss: 2.5823 - dense_194_loss: 2.4179 - dense_195_loss: 2.2774 - dense_196_loss: 2.4345 - dense_187_accuracy: 0.0900 - dense_188_accuracy: 0.1360 - dense_189_accuracy: 0.0860 - dense_190_accuracy: 0.2220 - dense_191_accuracy: 0.0680 - dense_192_accuracy: 0.1260 - dense_193_accuracy: 0.0920 - dense_194_accuracy: 0.1500 - dense_195_accuracy: 0.1520 - dense_196_accuracy: 0.1800\n",
      "Epoch 2/10\n",
      "8/8 [==============================] - 0s 31ms/step - loss: 22.3516 - dense_187_loss: 2.2513 - dense_188_loss: 2.0947 - dense_189_loss: 2.2737 - dense_190_loss: 2.0750 - dense_191_loss: 2.6277 - dense_192_loss: 2.2308 - dense_193_loss: 2.3858 - dense_194_loss: 2.1616 - dense_195_loss: 2.0855 - dense_196_loss: 2.1655 - dense_187_accuracy: 0.1700 - dense_188_accuracy: 0.2160 - dense_189_accuracy: 0.1640 - dense_190_accuracy: 0.3020 - dense_191_accuracy: 0.1420 - dense_192_accuracy: 0.2000 - dense_193_accuracy: 0.1540 - dense_194_accuracy: 0.2240 - dense_195_accuracy: 0.2120 - dense_196_accuracy: 0.1920\n",
      "Epoch 3/10\n",
      "8/8 [==============================] - 0s 36ms/step - loss: 20.2479 - dense_187_loss: 1.9641 - dense_188_loss: 1.9283 - dense_189_loss: 2.0735 - dense_190_loss: 1.8783 - dense_191_loss: 2.3672 - dense_192_loss: 2.0242 - dense_193_loss: 2.1114 - dense_194_loss: 1.9534 - dense_195_loss: 1.9009 - dense_196_loss: 2.0466 - dense_187_accuracy: 0.2720 - dense_188_accuracy: 0.2740 - dense_189_accuracy: 0.2080 - dense_190_accuracy: 0.2760 - dense_191_accuracy: 0.1460 - dense_192_accuracy: 0.2500 - dense_193_accuracy: 0.2300 - dense_194_accuracy: 0.2560 - dense_195_accuracy: 0.2620 - dense_196_accuracy: 0.2160\n",
      "Epoch 4/10\n",
      "8/8 [==============================] - 0s 23ms/step - loss: 19.0109 - dense_187_loss: 1.8313 - dense_188_loss: 1.7821 - dense_189_loss: 1.9542 - dense_190_loss: 1.7977 - dense_191_loss: 2.1911 - dense_192_loss: 1.9195 - dense_193_loss: 1.9766 - dense_194_loss: 1.8444 - dense_195_loss: 1.7686 - dense_196_loss: 1.9452 - dense_187_accuracy: 0.3640 - dense_188_accuracy: 0.3100 - dense_189_accuracy: 0.2560 - dense_190_accuracy: 0.2700 - dense_191_accuracy: 0.2000 - dense_192_accuracy: 0.2660 - dense_193_accuracy: 0.2780 - dense_194_accuracy: 0.2960 - dense_195_accuracy: 0.2740 - dense_196_accuracy: 0.2460\n",
      "Epoch 5/10\n",
      "8/8 [==============================] - 0s 30ms/step - loss: 17.7831 - dense_187_loss: 1.6740 - dense_188_loss: 1.6913 - dense_189_loss: 1.8343 - dense_190_loss: 1.7318 - dense_191_loss: 1.9831 - dense_192_loss: 1.7951 - dense_193_loss: 1.8179 - dense_194_loss: 1.7595 - dense_195_loss: 1.6395 - dense_196_loss: 1.8566 - dense_187_accuracy: 0.3860 - dense_188_accuracy: 0.3200 - dense_189_accuracy: 0.2500 - dense_190_accuracy: 0.2980 - dense_191_accuracy: 0.2380 - dense_192_accuracy: 0.3020 - dense_193_accuracy: 0.2740 - dense_194_accuracy: 0.3280 - dense_195_accuracy: 0.3520 - dense_196_accuracy: 0.2320\n",
      "Epoch 6/10\n",
      "8/8 [==============================] - 0s 31ms/step - loss: 17.0226 - dense_187_loss: 1.5850 - dense_188_loss: 1.6487 - dense_189_loss: 1.8008 - dense_190_loss: 1.6620 - dense_191_loss: 1.8801 - dense_192_loss: 1.7091 - dense_193_loss: 1.7518 - dense_194_loss: 1.6860 - dense_195_loss: 1.5651 - dense_196_loss: 1.7340 - dense_187_accuracy: 0.3860 - dense_188_accuracy: 0.3140 - dense_189_accuracy: 0.2220 - dense_190_accuracy: 0.3180 - dense_191_accuracy: 0.2420 - dense_192_accuracy: 0.3200 - dense_193_accuracy: 0.2820 - dense_194_accuracy: 0.3420 - dense_195_accuracy: 0.3540 - dense_196_accuracy: 0.2880\n",
      "Epoch 7/10\n",
      "8/8 [==============================] - 0s 27ms/step - loss: 16.3856 - dense_187_loss: 1.5247 - dense_188_loss: 1.5913 - dense_189_loss: 1.7352 - dense_190_loss: 1.6096 - dense_191_loss: 1.7954 - dense_192_loss: 1.6496 - dense_193_loss: 1.6730 - dense_194_loss: 1.6291 - dense_195_loss: 1.5188 - dense_196_loss: 1.6590 - dense_187_accuracy: 0.3900 - dense_188_accuracy: 0.3420 - dense_189_accuracy: 0.2860 - dense_190_accuracy: 0.3400 - dense_191_accuracy: 0.2940 - dense_192_accuracy: 0.3320 - dense_193_accuracy: 0.2680 - dense_194_accuracy: 0.3440 - dense_195_accuracy: 0.3820 - dense_196_accuracy: 0.3180\n",
      "Epoch 8/10\n",
      "8/8 [==============================] - 0s 28ms/step - loss: 16.2318 - dense_187_loss: 1.5084 - dense_188_loss: 1.5733 - dense_189_loss: 1.7206 - dense_190_loss: 1.6057 - dense_191_loss: 1.7706 - dense_192_loss: 1.6383 - dense_193_loss: 1.6654 - dense_194_loss: 1.6110 - dense_195_loss: 1.5121 - dense_196_loss: 1.6264 - dense_187_accuracy: 0.3880 - dense_188_accuracy: 0.3180 - dense_189_accuracy: 0.2540 - dense_190_accuracy: 0.3360 - dense_191_accuracy: 0.2760 - dense_192_accuracy: 0.3320 - dense_193_accuracy: 0.2960 - dense_194_accuracy: 0.3220 - dense_195_accuracy: 0.3620 - dense_196_accuracy: 0.3180\n",
      "Epoch 9/10\n",
      "8/8 [==============================] - 0s 27ms/step - loss: 15.9593 - dense_187_loss: 1.4909 - dense_188_loss: 1.5445 - dense_189_loss: 1.7002 - dense_190_loss: 1.5719 - dense_191_loss: 1.7554 - dense_192_loss: 1.6127 - dense_193_loss: 1.6182 - dense_194_loss: 1.5896 - dense_195_loss: 1.4837 - dense_196_loss: 1.5921 - dense_187_accuracy: 0.3780 - dense_188_accuracy: 0.3400 - dense_189_accuracy: 0.2880 - dense_190_accuracy: 0.3320 - dense_191_accuracy: 0.2980 - dense_192_accuracy: 0.3420 - dense_193_accuracy: 0.3060 - dense_194_accuracy: 0.3620 - dense_195_accuracy: 0.3740 - dense_196_accuracy: 0.3140\n",
      "Epoch 10/10\n",
      "8/8 [==============================] - 0s 34ms/step - loss: 15.8426 - dense_187_loss: 1.4875 - dense_188_loss: 1.5356 - dense_189_loss: 1.6905 - dense_190_loss: 1.5531 - dense_191_loss: 1.7415 - dense_192_loss: 1.5932 - dense_193_loss: 1.6151 - dense_194_loss: 1.5749 - dense_195_loss: 1.4696 - dense_196_loss: 1.5816 - dense_187_accuracy: 0.3900 - dense_188_accuracy: 0.3340 - dense_189_accuracy: 0.2600 - dense_190_accuracy: 0.3180 - dense_191_accuracy: 0.2700 - dense_192_accuracy: 0.3500 - dense_193_accuracy: 0.3040 - dense_194_accuracy: 0.3360 - dense_195_accuracy: 0.3960 - dense_196_accuracy: 0.3020\n",
      "16/16 [==============================] - 1s 9ms/step\n"
     ]
    },
    {
     "name": "stderr",
     "output_type": "stream",
     "text": [
      "\r",
      " 89%|█████████████████████████████████████████████████████████████████████▎        | 8/9 [02:32<00:19, 19.73s/eventlog]"
     ]
    },
    {
     "name": "stdout",
     "output_type": "stream",
     "text": [
      "Epoch 1/10\n",
      "8/8 [==============================] - 13s 27ms/step - loss: 24.7236 - dense_197_loss: 2.4684 - dense_198_loss: 2.3423 - dense_199_loss: 2.4865 - dense_200_loss: 2.3761 - dense_201_loss: 2.9514 - dense_202_loss: 2.4382 - dense_203_loss: 2.5378 - dense_204_loss: 2.4457 - dense_205_loss: 2.2192 - dense_206_loss: 2.4581 - dense_197_accuracy: 0.1580 - dense_198_accuracy: 0.1800 - dense_199_accuracy: 0.1160 - dense_200_accuracy: 0.2320 - dense_201_accuracy: 0.1180 - dense_202_accuracy: 0.1680 - dense_203_accuracy: 0.1300 - dense_204_accuracy: 0.1120 - dense_205_accuracy: 0.1520 - dense_206_accuracy: 0.1300\n",
      "Epoch 2/10\n",
      "8/8 [==============================] - 0s 28ms/step - loss: 21.8524 - dense_197_loss: 2.1236 - dense_198_loss: 2.0981 - dense_199_loss: 2.2192 - dense_200_loss: 2.0954 - dense_201_loss: 2.6627 - dense_202_loss: 2.1296 - dense_203_loss: 2.1921 - dense_204_loss: 2.1064 - dense_205_loss: 2.0328 - dense_206_loss: 2.1926 - dense_197_accuracy: 0.2600 - dense_198_accuracy: 0.2140 - dense_199_accuracy: 0.1760 - dense_200_accuracy: 0.2520 - dense_201_accuracy: 0.1460 - dense_202_accuracy: 0.2140 - dense_203_accuracy: 0.2160 - dense_204_accuracy: 0.1920 - dense_205_accuracy: 0.2420 - dense_206_accuracy: 0.2320\n",
      "Epoch 3/10\n",
      "8/8 [==============================] - 0s 29ms/step - loss: 20.2296 - dense_197_loss: 1.9469 - dense_198_loss: 1.8867 - dense_199_loss: 2.0877 - dense_200_loss: 1.9953 - dense_201_loss: 2.3925 - dense_202_loss: 1.9967 - dense_203_loss: 2.0049 - dense_204_loss: 1.9923 - dense_205_loss: 1.8958 - dense_206_loss: 2.0309 - dense_197_accuracy: 0.3480 - dense_198_accuracy: 0.2760 - dense_199_accuracy: 0.2200 - dense_200_accuracy: 0.2200 - dense_201_accuracy: 0.1540 - dense_202_accuracy: 0.2640 - dense_203_accuracy: 0.2080 - dense_204_accuracy: 0.2060 - dense_205_accuracy: 0.2440 - dense_206_accuracy: 0.2640\n",
      "Epoch 4/10\n",
      "8/8 [==============================] - 0s 26ms/step - loss: 18.6935 - dense_197_loss: 1.7440 - dense_198_loss: 1.7661 - dense_199_loss: 1.9276 - dense_200_loss: 1.8682 - dense_201_loss: 2.2084 - dense_202_loss: 1.8531 - dense_203_loss: 1.8247 - dense_204_loss: 1.8822 - dense_205_loss: 1.7340 - dense_206_loss: 1.8851 - dense_197_accuracy: 0.3860 - dense_198_accuracy: 0.2720 - dense_199_accuracy: 0.2380 - dense_200_accuracy: 0.2080 - dense_201_accuracy: 0.1860 - dense_202_accuracy: 0.3080 - dense_203_accuracy: 0.2840 - dense_204_accuracy: 0.2480 - dense_205_accuracy: 0.3220 - dense_206_accuracy: 0.2740\n",
      "Epoch 5/10\n",
      "8/8 [==============================] - 0s 27ms/step - loss: 17.7495 - dense_197_loss: 1.6295 - dense_198_loss: 1.7004 - dense_199_loss: 1.8681 - dense_200_loss: 1.7866 - dense_201_loss: 2.0633 - dense_202_loss: 1.7633 - dense_203_loss: 1.7270 - dense_204_loss: 1.7976 - dense_205_loss: 1.6367 - dense_206_loss: 1.7771 - dense_197_accuracy: 0.4200 - dense_198_accuracy: 0.3120 - dense_199_accuracy: 0.2100 - dense_200_accuracy: 0.1860 - dense_201_accuracy: 0.1980 - dense_202_accuracy: 0.3060 - dense_203_accuracy: 0.2960 - dense_204_accuracy: 0.2040 - dense_205_accuracy: 0.3220 - dense_206_accuracy: 0.2580\n",
      "Epoch 6/10\n",
      "8/8 [==============================] - 0s 27ms/step - loss: 17.0413 - dense_197_loss: 1.5714 - dense_198_loss: 1.6583 - dense_199_loss: 1.7781 - dense_200_loss: 1.7162 - dense_201_loss: 1.9558 - dense_202_loss: 1.6794 - dense_203_loss: 1.6566 - dense_204_loss: 1.7024 - dense_205_loss: 1.5919 - dense_206_loss: 1.7313 - dense_197_accuracy: 0.4140 - dense_198_accuracy: 0.3080 - dense_199_accuracy: 0.2500 - dense_200_accuracy: 0.2580 - dense_201_accuracy: 0.1940 - dense_202_accuracy: 0.3020 - dense_203_accuracy: 0.2880 - dense_204_accuracy: 0.2820 - dense_205_accuracy: 0.3380 - dense_206_accuracy: 0.2680\n",
      "Epoch 7/10\n",
      "8/8 [==============================] - 0s 27ms/step - loss: 16.7073 - dense_197_loss: 1.5568 - dense_198_loss: 1.6285 - dense_199_loss: 1.7443 - dense_200_loss: 1.6804 - dense_201_loss: 1.9052 - dense_202_loss: 1.6266 - dense_203_loss: 1.6203 - dense_204_loss: 1.6725 - dense_205_loss: 1.5647 - dense_206_loss: 1.7081 - dense_197_accuracy: 0.4260 - dense_198_accuracy: 0.3200 - dense_199_accuracy: 0.2600 - dense_200_accuracy: 0.2800 - dense_201_accuracy: 0.2320 - dense_202_accuracy: 0.3200 - dense_203_accuracy: 0.2860 - dense_204_accuracy: 0.2680 - dense_205_accuracy: 0.3240 - dense_206_accuracy: 0.2760\n",
      "Epoch 8/10\n",
      "8/8 [==============================] - 0s 27ms/step - loss: 16.4604 - dense_197_loss: 1.5319 - dense_198_loss: 1.6115 - dense_199_loss: 1.7497 - dense_200_loss: 1.6596 - dense_201_loss: 1.8585 - dense_202_loss: 1.6023 - dense_203_loss: 1.5814 - dense_204_loss: 1.6478 - dense_205_loss: 1.5360 - dense_206_loss: 1.6815 - dense_197_accuracy: 0.4240 - dense_198_accuracy: 0.3140 - dense_199_accuracy: 0.2700 - dense_200_accuracy: 0.2840 - dense_201_accuracy: 0.2260 - dense_202_accuracy: 0.3660 - dense_203_accuracy: 0.3180 - dense_204_accuracy: 0.2460 - dense_205_accuracy: 0.3580 - dense_206_accuracy: 0.2660\n",
      "Epoch 9/10\n",
      "8/8 [==============================] - 0s 27ms/step - loss: 16.3482 - dense_197_loss: 1.5200 - dense_198_loss: 1.6059 - dense_199_loss: 1.7388 - dense_200_loss: 1.6453 - dense_201_loss: 1.8482 - dense_202_loss: 1.5981 - dense_203_loss: 1.5777 - dense_204_loss: 1.6336 - dense_205_loss: 1.5216 - dense_206_loss: 1.6589 - dense_197_accuracy: 0.4260 - dense_198_accuracy: 0.2960 - dense_199_accuracy: 0.2340 - dense_200_accuracy: 0.3100 - dense_201_accuracy: 0.2320 - dense_202_accuracy: 0.3240 - dense_203_accuracy: 0.2900 - dense_204_accuracy: 0.2760 - dense_205_accuracy: 0.3560 - dense_206_accuracy: 0.2820\n",
      "Epoch 10/10\n",
      "8/8 [==============================] - 0s 27ms/step - loss: 16.1604 - dense_197_loss: 1.5002 - dense_198_loss: 1.5887 - dense_199_loss: 1.7080 - dense_200_loss: 1.6377 - dense_201_loss: 1.8324 - dense_202_loss: 1.5667 - dense_203_loss: 1.5635 - dense_204_loss: 1.6042 - dense_205_loss: 1.5143 - dense_206_loss: 1.6447 - dense_197_accuracy: 0.4360 - dense_198_accuracy: 0.3260 - dense_199_accuracy: 0.2840 - dense_200_accuracy: 0.3000 - dense_201_accuracy: 0.2420 - dense_202_accuracy: 0.3260 - dense_203_accuracy: 0.3080 - dense_204_accuracy: 0.3060 - dense_205_accuracy: 0.3580 - dense_206_accuracy: 0.2880\n",
      "16/16 [==============================] - 1s 9ms/step\n"
     ]
    },
    {
     "name": "stderr",
     "output_type": "stream",
     "text": [
      "100%|██████████████████████████████████████████████████████████████████████████████| 9/9 [02:51<00:00, 19.08s/eventlog]\n"
     ]
    }
   ],
   "source": [
    "#LSTM\n",
    "results_lstmclust = {}\n",
    "\n",
    "for file in tqdm(os.listdir(event_log_path), unit='eventlog'):\n",
    "    if os.path.isfile(os.path.join(event_log_path, file)):\n",
    "        # load file\n",
    "        event_log = EventLog(file, case_attributes=case_attributes, event_attributes=event_attributes, true_cluster_label=true_cluster_label)\n",
    "        event_log.load(event_log_path + file, False)\n",
    "        event_log.preprocess()\n",
    "        \n",
    "        # get sequences from event log as one-hot feature vector\n",
    "        sequences = event_log.event_attributes_flat_onehot_features_2d\n",
    "\n",
    "        predictor = EmbeddingPredict(event_log)\n",
    "        predictor.build_model(embedding_dim=vector_size, gru_dim=vector_size, rnn='LSTM')\n",
    "        predictor.fit(epochs=n_epochs, batch_size=n_batch_size, verbose=True)   \n",
    "        \n",
    "        # infer the vector from the model\n",
    "        pred_model, feature_vector, embedding_vector = predictor.predict()    \n",
    "        \n",
    "        cluster_analysis = Clustering(event_log)\n",
    "        cluster_analysis.cluster(feature_vector, clustering_method, n_clusters, 'cosine')\n",
    "\n",
    "        cluster_result = cluster_analysis.evaluate()\n",
    "        evaluation = Evaluation(event_log)\n",
    "        (fitness, precision, simplicity) = evaluation.evaluate_clusters(n_clusters, cluster_analysis.pred_labels) # Heuristics Miner + 2. Metric\n",
    "        \n",
    "        results_lstmclust[file] = {\"f1_bcubed\":cluster_result[2], \"fitness\": fitness, \"precision\":precision, \"simplicity\":simplicity}"
   ]
  },
  {
   "cell_type": "code",
   "execution_count": 12,
   "metadata": {},
   "outputs": [
    {
     "name": "stdout",
     "output_type": "stream",
     "text": [
      "Statistics for Autoencoder\n",
      "       f1_bcubed   fitness  precision  simplicity\n",
      "count   9.000000  9.000000   9.000000    9.000000\n",
      "mean    0.613661  0.668241   0.481897    0.719365\n",
      "std     0.056777  0.099497   0.093429    0.057994\n",
      "min     0.548064  0.548105   0.330856    0.635058\n",
      "25%     0.558832  0.597578   0.419214    0.680444\n",
      "50%     0.630201  0.660238   0.479333    0.709412\n",
      "75%     0.650393  0.690384   0.556358    0.755833\n",
      "max     0.699588  0.867476   0.589253    0.822662\n"
     ]
    }
   ],
   "source": [
    "# Statistics\n",
    "\n",
    "results = {\"autoencoder\":results_autoencoder, \"boa\": boa_results, \"led\": led_results} \n",
    "\n",
    "statistics_autoencoder = pd.DataFrame(results_autoencoder).transpose()\n",
    "print(\"Statistics for Autoencoder\")\n",
    "print(statistics_autoencoder.describe())\n",
    "\n",
    "# Example statistics output for Autoencoder\n",
    "f1_bcubed_mean, f1_bcubed_std = statistics_autoencoder.f1_bcubed.mean(), statistics_autoencoder.f1_bcubed.std()\n",
    "fitness_mean, fitness_std = statistics_autoencoder.fitness.mean(), statistics_autoencoder.fitness.std()\n",
    "precision_mean, precision_std = statistics_autoencoder.precision.mean(), statistics_autoencoder.precision.std()\n",
    "simplicity_mean, simplicity_std = statistics_autoencoder.simplicity.mean(), statistics_autoencoder.simplicity.std()\n",
    "count = statistics_autoencoder.count()\n",
    "\n",
    "# Maybe do the same for the other ones\n",
    "\n",
    "statistics_LED = pd.DataFrame(boa_results).transpose()\n",
    "statistics_BOA = pd.DataFrame(led_results).transpose()\n",
    "statistics_Trace2Vec = pd.DataFrame(results_trace2vec).transpose()\n",
    "statistics_Case2Vec_event = pd.DataFrame(results_case2vec_event).transpose()\n",
    "statistics_Case2Vec_event_case = pd.DataFrame(results_case2vec_event_case).transpose()\n",
    "statistics_gruclust = pd.DataFrame(results_gruclust).transpose()\n",
    "statistics_lstmclust = pd.DataFrame(results_lstmclust).transpose()"
   ]
  },
  {
   "cell_type": "code",
   "execution_count": 13,
   "metadata": {
    "scrolled": true
   },
   "outputs": [
    {
     "data": {
      "image/png": "[encoded data removed]",
      "text/plain": [
       "<Figure size 1700x700 with 1 Axes>"
      ]
     },
     "metadata": {},
     "output_type": "display_data"
    }
   ],
   "source": [
    "#plot\n",
    "from matplotlib import pyplot as plt\n",
    "fig = plt.figure(figsize =(17,7))\n",
    "fig = plt.title(\"Average F1-Bcubed performance across all event logs grouped by approach\")\n",
    "results_of_algorithms = [statistics_autoencoder.f1_bcubed, statistics_LED.f1_bcubed, statistics_BOA.f1_bcubed, statistics_Trace2Vec.f1_bcubed, statistics_Case2Vec_event.f1_bcubed, statistics_Case2Vec_event_case.f1_bcubed, statistics_gruclust.f1_bcubed, statistics_lstmclust.f1_bcubed]\n",
    "\n",
    "bp = plt.boxplot(results_of_algorithms, patch_artist=True, labels=['Autoencoder', 'LED', 'BOA', 'Trace2vec', 'Case2Vec (event)', 'Case2Vec (event+case)', 'GRUClust', 'LSTMClust'])\n",
    "plt.show()\n",
    "# <<< USE TO PLOT HERE...\n",
    "\n"
   ]
  },
  {
   "cell_type": "code",
   "execution_count": null,
   "metadata": {},
   "outputs": [],
   "source": []
  }
 ],
 "metadata": {
  "kernelspec": {
   "display_name": "Python 3 (ipykernel)",
   "language": "python",
   "name": "python3"
  },
  "language_info": {
   "codemirror_mode": {
    "name": "ipython",
    "version": 3
   },
   "file_extension": ".py",
   "mimetype": "text/x-python",
   "name": "python",
   "nbconvert_exporter": "python",
   "pygments_lexer": "ipython3",
   "version": "3.7.16"
  }
 },
 "nbformat": 4,
 "nbformat_minor": 4
}
